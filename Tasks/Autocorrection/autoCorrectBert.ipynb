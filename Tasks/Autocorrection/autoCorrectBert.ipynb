{
  "nbformat": 4,
  "nbformat_minor": 0,
  "metadata": {
    "colab": {
      "name": "autoCorrect.ipynb",
      "provenance": [],
      "collapsed_sections": []
    },
    "kernelspec": {
      "name": "python3",
      "display_name": "Python 3"
    },
    "language_info": {
      "name": "python"
    },
    "accelerator": "GPU",
    "widgets": {
      "application/vnd.jupyter.widget-state+json": {
        "0e8b1b08f132470d9e5eed1721c1101b": {
          "model_module": "@jupyter-widgets/controls",
          "model_name": "HBoxModel",
          "model_module_version": "1.5.0",
          "state": {
            "_view_name": "HBoxView",
            "_dom_classes": [],
            "_model_name": "HBoxModel",
            "_view_module": "@jupyter-widgets/controls",
            "_model_module_version": "1.5.0",
            "_view_count": null,
            "_view_module_version": "1.5.0",
            "box_style": "",
            "layout": "IPY_MODEL_a615e702184e4ee58ceab6249c180a07",
            "_model_module": "@jupyter-widgets/controls",
            "children": [
              "IPY_MODEL_6a9214bc16d14ed58e1ceb298bdc5779",
              "IPY_MODEL_964bbba1b29f48bca98eec3f5d021d55",
              "IPY_MODEL_848bbd0da75746a2a735d1c1f934225b"
            ]
          }
        },
        "a615e702184e4ee58ceab6249c180a07": {
          "model_module": "@jupyter-widgets/base",
          "model_name": "LayoutModel",
          "model_module_version": "1.2.0",
          "state": {
            "_view_name": "LayoutView",
            "grid_template_rows": null,
            "right": null,
            "justify_content": null,
            "_view_module": "@jupyter-widgets/base",
            "overflow": null,
            "_model_module_version": "1.2.0",
            "_view_count": null,
            "flex_flow": null,
            "width": null,
            "min_width": null,
            "border": null,
            "align_items": null,
            "bottom": null,
            "_model_module": "@jupyter-widgets/base",
            "top": null,
            "grid_column": null,
            "overflow_y": null,
            "overflow_x": null,
            "grid_auto_flow": null,
            "grid_area": null,
            "grid_template_columns": null,
            "flex": null,
            "_model_name": "LayoutModel",
            "justify_items": null,
            "grid_row": null,
            "max_height": null,
            "align_content": null,
            "visibility": null,
            "align_self": null,
            "height": null,
            "min_height": null,
            "padding": null,
            "grid_auto_rows": null,
            "grid_gap": null,
            "max_width": null,
            "order": null,
            "_view_module_version": "1.2.0",
            "grid_template_areas": null,
            "object_position": null,
            "object_fit": null,
            "grid_auto_columns": null,
            "margin": null,
            "display": null,
            "left": null
          }
        },
        "6a9214bc16d14ed58e1ceb298bdc5779": {
          "model_module": "@jupyter-widgets/controls",
          "model_name": "HTMLModel",
          "model_module_version": "1.5.0",
          "state": {
            "_view_name": "HTMLView",
            "style": "IPY_MODEL_54967ed98e6f4c039e1c4ceefadd55a2",
            "_dom_classes": [],
            "description": "",
            "_model_name": "HTMLModel",
            "placeholder": "​",
            "_view_module": "@jupyter-widgets/controls",
            "_model_module_version": "1.5.0",
            "value": "Downloading: 100%",
            "_view_count": null,
            "_view_module_version": "1.5.0",
            "description_tooltip": null,
            "_model_module": "@jupyter-widgets/controls",
            "layout": "IPY_MODEL_7ac8162639804451b9255550dd7e9c7c"
          }
        },
        "964bbba1b29f48bca98eec3f5d021d55": {
          "model_module": "@jupyter-widgets/controls",
          "model_name": "FloatProgressModel",
          "model_module_version": "1.5.0",
          "state": {
            "_view_name": "ProgressView",
            "style": "IPY_MODEL_1abf92372ce145e497c8ccc51b15103c",
            "_dom_classes": [],
            "description": "",
            "_model_name": "FloatProgressModel",
            "bar_style": "success",
            "max": 1042301,
            "_view_module": "@jupyter-widgets/controls",
            "_model_module_version": "1.5.0",
            "value": 1042301,
            "_view_count": null,
            "_view_module_version": "1.5.0",
            "orientation": "horizontal",
            "min": 0,
            "description_tooltip": null,
            "_model_module": "@jupyter-widgets/controls",
            "layout": "IPY_MODEL_efc24bc3b1b4465e8c57bdd83f7e8596"
          }
        },
        "848bbd0da75746a2a735d1c1f934225b": {
          "model_module": "@jupyter-widgets/controls",
          "model_name": "HTMLModel",
          "model_module_version": "1.5.0",
          "state": {
            "_view_name": "HTMLView",
            "style": "IPY_MODEL_3d4bd460d6b9403a8ccbb54255c4462c",
            "_dom_classes": [],
            "description": "",
            "_model_name": "HTMLModel",
            "placeholder": "​",
            "_view_module": "@jupyter-widgets/controls",
            "_model_module_version": "1.5.0",
            "value": " 1.04M/1.04M [00:01&lt;00:00, 889kB/s]",
            "_view_count": null,
            "_view_module_version": "1.5.0",
            "description_tooltip": null,
            "_model_module": "@jupyter-widgets/controls",
            "layout": "IPY_MODEL_ab98dabc3b69478596fabe234dd90c89"
          }
        },
        "54967ed98e6f4c039e1c4ceefadd55a2": {
          "model_module": "@jupyter-widgets/controls",
          "model_name": "DescriptionStyleModel",
          "model_module_version": "1.5.0",
          "state": {
            "_view_name": "StyleView",
            "_model_name": "DescriptionStyleModel",
            "description_width": "",
            "_view_module": "@jupyter-widgets/base",
            "_model_module_version": "1.5.0",
            "_view_count": null,
            "_view_module_version": "1.2.0",
            "_model_module": "@jupyter-widgets/controls"
          }
        },
        "7ac8162639804451b9255550dd7e9c7c": {
          "model_module": "@jupyter-widgets/base",
          "model_name": "LayoutModel",
          "model_module_version": "1.2.0",
          "state": {
            "_view_name": "LayoutView",
            "grid_template_rows": null,
            "right": null,
            "justify_content": null,
            "_view_module": "@jupyter-widgets/base",
            "overflow": null,
            "_model_module_version": "1.2.0",
            "_view_count": null,
            "flex_flow": null,
            "width": null,
            "min_width": null,
            "border": null,
            "align_items": null,
            "bottom": null,
            "_model_module": "@jupyter-widgets/base",
            "top": null,
            "grid_column": null,
            "overflow_y": null,
            "overflow_x": null,
            "grid_auto_flow": null,
            "grid_area": null,
            "grid_template_columns": null,
            "flex": null,
            "_model_name": "LayoutModel",
            "justify_items": null,
            "grid_row": null,
            "max_height": null,
            "align_content": null,
            "visibility": null,
            "align_self": null,
            "height": null,
            "min_height": null,
            "padding": null,
            "grid_auto_rows": null,
            "grid_gap": null,
            "max_width": null,
            "order": null,
            "_view_module_version": "1.2.0",
            "grid_template_areas": null,
            "object_position": null,
            "object_fit": null,
            "grid_auto_columns": null,
            "margin": null,
            "display": null,
            "left": null
          }
        },
        "1abf92372ce145e497c8ccc51b15103c": {
          "model_module": "@jupyter-widgets/controls",
          "model_name": "ProgressStyleModel",
          "model_module_version": "1.5.0",
          "state": {
            "_view_name": "StyleView",
            "_model_name": "ProgressStyleModel",
            "description_width": "",
            "_view_module": "@jupyter-widgets/base",
            "_model_module_version": "1.5.0",
            "_view_count": null,
            "_view_module_version": "1.2.0",
            "bar_color": null,
            "_model_module": "@jupyter-widgets/controls"
          }
        },
        "efc24bc3b1b4465e8c57bdd83f7e8596": {
          "model_module": "@jupyter-widgets/base",
          "model_name": "LayoutModel",
          "model_module_version": "1.2.0",
          "state": {
            "_view_name": "LayoutView",
            "grid_template_rows": null,
            "right": null,
            "justify_content": null,
            "_view_module": "@jupyter-widgets/base",
            "overflow": null,
            "_model_module_version": "1.2.0",
            "_view_count": null,
            "flex_flow": null,
            "width": null,
            "min_width": null,
            "border": null,
            "align_items": null,
            "bottom": null,
            "_model_module": "@jupyter-widgets/base",
            "top": null,
            "grid_column": null,
            "overflow_y": null,
            "overflow_x": null,
            "grid_auto_flow": null,
            "grid_area": null,
            "grid_template_columns": null,
            "flex": null,
            "_model_name": "LayoutModel",
            "justify_items": null,
            "grid_row": null,
            "max_height": null,
            "align_content": null,
            "visibility": null,
            "align_self": null,
            "height": null,
            "min_height": null,
            "padding": null,
            "grid_auto_rows": null,
            "grid_gap": null,
            "max_width": null,
            "order": null,
            "_view_module_version": "1.2.0",
            "grid_template_areas": null,
            "object_position": null,
            "object_fit": null,
            "grid_auto_columns": null,
            "margin": null,
            "display": null,
            "left": null
          }
        },
        "3d4bd460d6b9403a8ccbb54255c4462c": {
          "model_module": "@jupyter-widgets/controls",
          "model_name": "DescriptionStyleModel",
          "model_module_version": "1.5.0",
          "state": {
            "_view_name": "StyleView",
            "_model_name": "DescriptionStyleModel",
            "description_width": "",
            "_view_module": "@jupyter-widgets/base",
            "_model_module_version": "1.5.0",
            "_view_count": null,
            "_view_module_version": "1.2.0",
            "_model_module": "@jupyter-widgets/controls"
          }
        },
        "ab98dabc3b69478596fabe234dd90c89": {
          "model_module": "@jupyter-widgets/base",
          "model_name": "LayoutModel",
          "model_module_version": "1.2.0",
          "state": {
            "_view_name": "LayoutView",
            "grid_template_rows": null,
            "right": null,
            "justify_content": null,
            "_view_module": "@jupyter-widgets/base",
            "overflow": null,
            "_model_module_version": "1.2.0",
            "_view_count": null,
            "flex_flow": null,
            "width": null,
            "min_width": null,
            "border": null,
            "align_items": null,
            "bottom": null,
            "_model_module": "@jupyter-widgets/base",
            "top": null,
            "grid_column": null,
            "overflow_y": null,
            "overflow_x": null,
            "grid_auto_flow": null,
            "grid_area": null,
            "grid_template_columns": null,
            "flex": null,
            "_model_name": "LayoutModel",
            "justify_items": null,
            "grid_row": null,
            "max_height": null,
            "align_content": null,
            "visibility": null,
            "align_self": null,
            "height": null,
            "min_height": null,
            "padding": null,
            "grid_auto_rows": null,
            "grid_gap": null,
            "max_width": null,
            "order": null,
            "_view_module_version": "1.2.0",
            "grid_template_areas": null,
            "object_position": null,
            "object_fit": null,
            "grid_auto_columns": null,
            "margin": null,
            "display": null,
            "left": null
          }
        },
        "e3e519eb045f4bec90046a7b2a5d3119": {
          "model_module": "@jupyter-widgets/controls",
          "model_name": "HBoxModel",
          "model_module_version": "1.5.0",
          "state": {
            "_view_name": "HBoxView",
            "_dom_classes": [],
            "_model_name": "HBoxModel",
            "_view_module": "@jupyter-widgets/controls",
            "_model_module_version": "1.5.0",
            "_view_count": null,
            "_view_module_version": "1.5.0",
            "box_style": "",
            "layout": "IPY_MODEL_4acf4068d6c54a058786a62f88fd0ee9",
            "_model_module": "@jupyter-widgets/controls",
            "children": [
              "IPY_MODEL_b4ca323bf6c94f3fa0034a297a342b29",
              "IPY_MODEL_34c77177ad4545cbb065e9b6f871f2f0",
              "IPY_MODEL_82f88e6738e64421966dd55dab563629"
            ]
          }
        },
        "4acf4068d6c54a058786a62f88fd0ee9": {
          "model_module": "@jupyter-widgets/base",
          "model_name": "LayoutModel",
          "model_module_version": "1.2.0",
          "state": {
            "_view_name": "LayoutView",
            "grid_template_rows": null,
            "right": null,
            "justify_content": null,
            "_view_module": "@jupyter-widgets/base",
            "overflow": null,
            "_model_module_version": "1.2.0",
            "_view_count": null,
            "flex_flow": null,
            "width": null,
            "min_width": null,
            "border": null,
            "align_items": null,
            "bottom": null,
            "_model_module": "@jupyter-widgets/base",
            "top": null,
            "grid_column": null,
            "overflow_y": null,
            "overflow_x": null,
            "grid_auto_flow": null,
            "grid_area": null,
            "grid_template_columns": null,
            "flex": null,
            "_model_name": "LayoutModel",
            "justify_items": null,
            "grid_row": null,
            "max_height": null,
            "align_content": null,
            "visibility": null,
            "align_self": null,
            "height": null,
            "min_height": null,
            "padding": null,
            "grid_auto_rows": null,
            "grid_gap": null,
            "max_width": null,
            "order": null,
            "_view_module_version": "1.2.0",
            "grid_template_areas": null,
            "object_position": null,
            "object_fit": null,
            "grid_auto_columns": null,
            "margin": null,
            "display": null,
            "left": null
          }
        },
        "b4ca323bf6c94f3fa0034a297a342b29": {
          "model_module": "@jupyter-widgets/controls",
          "model_name": "HTMLModel",
          "model_module_version": "1.5.0",
          "state": {
            "_view_name": "HTMLView",
            "style": "IPY_MODEL_782264fc958a4d22873f93ce7362500b",
            "_dom_classes": [],
            "description": "",
            "_model_name": "HTMLModel",
            "placeholder": "​",
            "_view_module": "@jupyter-widgets/controls",
            "_model_module_version": "1.5.0",
            "value": "Downloading: 100%",
            "_view_count": null,
            "_view_module_version": "1.5.0",
            "description_tooltip": null,
            "_model_module": "@jupyter-widgets/controls",
            "layout": "IPY_MODEL_dbeaba785ff34e65bfaf1665dca58bc9"
          }
        },
        "34c77177ad4545cbb065e9b6f871f2f0": {
          "model_module": "@jupyter-widgets/controls",
          "model_name": "FloatProgressModel",
          "model_module_version": "1.5.0",
          "state": {
            "_view_name": "ProgressView",
            "style": "IPY_MODEL_7782246a1a8047f2907f60743e6d503f",
            "_dom_classes": [],
            "description": "",
            "_model_name": "FloatProgressModel",
            "bar_style": "success",
            "max": 456318,
            "_view_module": "@jupyter-widgets/controls",
            "_model_module_version": "1.5.0",
            "value": 456318,
            "_view_count": null,
            "_view_module_version": "1.5.0",
            "orientation": "horizontal",
            "min": 0,
            "description_tooltip": null,
            "_model_module": "@jupyter-widgets/controls",
            "layout": "IPY_MODEL_411f441c070e472791dc8f7b1e26ff8d"
          }
        },
        "82f88e6738e64421966dd55dab563629": {
          "model_module": "@jupyter-widgets/controls",
          "model_name": "HTMLModel",
          "model_module_version": "1.5.0",
          "state": {
            "_view_name": "HTMLView",
            "style": "IPY_MODEL_6868918a4c754e4294064a3f91810b2f",
            "_dom_classes": [],
            "description": "",
            "_model_name": "HTMLModel",
            "placeholder": "​",
            "_view_module": "@jupyter-widgets/controls",
            "_model_module_version": "1.5.0",
            "value": " 456k/456k [00:01&lt;00:00, 482kB/s]",
            "_view_count": null,
            "_view_module_version": "1.5.0",
            "description_tooltip": null,
            "_model_module": "@jupyter-widgets/controls",
            "layout": "IPY_MODEL_54a56c5bb50d489faa3ba2bbd2887cd8"
          }
        },
        "782264fc958a4d22873f93ce7362500b": {
          "model_module": "@jupyter-widgets/controls",
          "model_name": "DescriptionStyleModel",
          "model_module_version": "1.5.0",
          "state": {
            "_view_name": "StyleView",
            "_model_name": "DescriptionStyleModel",
            "description_width": "",
            "_view_module": "@jupyter-widgets/base",
            "_model_module_version": "1.5.0",
            "_view_count": null,
            "_view_module_version": "1.2.0",
            "_model_module": "@jupyter-widgets/controls"
          }
        },
        "dbeaba785ff34e65bfaf1665dca58bc9": {
          "model_module": "@jupyter-widgets/base",
          "model_name": "LayoutModel",
          "model_module_version": "1.2.0",
          "state": {
            "_view_name": "LayoutView",
            "grid_template_rows": null,
            "right": null,
            "justify_content": null,
            "_view_module": "@jupyter-widgets/base",
            "overflow": null,
            "_model_module_version": "1.2.0",
            "_view_count": null,
            "flex_flow": null,
            "width": null,
            "min_width": null,
            "border": null,
            "align_items": null,
            "bottom": null,
            "_model_module": "@jupyter-widgets/base",
            "top": null,
            "grid_column": null,
            "overflow_y": null,
            "overflow_x": null,
            "grid_auto_flow": null,
            "grid_area": null,
            "grid_template_columns": null,
            "flex": null,
            "_model_name": "LayoutModel",
            "justify_items": null,
            "grid_row": null,
            "max_height": null,
            "align_content": null,
            "visibility": null,
            "align_self": null,
            "height": null,
            "min_height": null,
            "padding": null,
            "grid_auto_rows": null,
            "grid_gap": null,
            "max_width": null,
            "order": null,
            "_view_module_version": "1.2.0",
            "grid_template_areas": null,
            "object_position": null,
            "object_fit": null,
            "grid_auto_columns": null,
            "margin": null,
            "display": null,
            "left": null
          }
        },
        "7782246a1a8047f2907f60743e6d503f": {
          "model_module": "@jupyter-widgets/controls",
          "model_name": "ProgressStyleModel",
          "model_module_version": "1.5.0",
          "state": {
            "_view_name": "StyleView",
            "_model_name": "ProgressStyleModel",
            "description_width": "",
            "_view_module": "@jupyter-widgets/base",
            "_model_module_version": "1.5.0",
            "_view_count": null,
            "_view_module_version": "1.2.0",
            "bar_color": null,
            "_model_module": "@jupyter-widgets/controls"
          }
        },
        "411f441c070e472791dc8f7b1e26ff8d": {
          "model_module": "@jupyter-widgets/base",
          "model_name": "LayoutModel",
          "model_module_version": "1.2.0",
          "state": {
            "_view_name": "LayoutView",
            "grid_template_rows": null,
            "right": null,
            "justify_content": null,
            "_view_module": "@jupyter-widgets/base",
            "overflow": null,
            "_model_module_version": "1.2.0",
            "_view_count": null,
            "flex_flow": null,
            "width": null,
            "min_width": null,
            "border": null,
            "align_items": null,
            "bottom": null,
            "_model_module": "@jupyter-widgets/base",
            "top": null,
            "grid_column": null,
            "overflow_y": null,
            "overflow_x": null,
            "grid_auto_flow": null,
            "grid_area": null,
            "grid_template_columns": null,
            "flex": null,
            "_model_name": "LayoutModel",
            "justify_items": null,
            "grid_row": null,
            "max_height": null,
            "align_content": null,
            "visibility": null,
            "align_self": null,
            "height": null,
            "min_height": null,
            "padding": null,
            "grid_auto_rows": null,
            "grid_gap": null,
            "max_width": null,
            "order": null,
            "_view_module_version": "1.2.0",
            "grid_template_areas": null,
            "object_position": null,
            "object_fit": null,
            "grid_auto_columns": null,
            "margin": null,
            "display": null,
            "left": null
          }
        },
        "6868918a4c754e4294064a3f91810b2f": {
          "model_module": "@jupyter-widgets/controls",
          "model_name": "DescriptionStyleModel",
          "model_module_version": "1.5.0",
          "state": {
            "_view_name": "StyleView",
            "_model_name": "DescriptionStyleModel",
            "description_width": "",
            "_view_module": "@jupyter-widgets/base",
            "_model_module_version": "1.5.0",
            "_view_count": null,
            "_view_module_version": "1.2.0",
            "_model_module": "@jupyter-widgets/controls"
          }
        },
        "54a56c5bb50d489faa3ba2bbd2887cd8": {
          "model_module": "@jupyter-widgets/base",
          "model_name": "LayoutModel",
          "model_module_version": "1.2.0",
          "state": {
            "_view_name": "LayoutView",
            "grid_template_rows": null,
            "right": null,
            "justify_content": null,
            "_view_module": "@jupyter-widgets/base",
            "overflow": null,
            "_model_module_version": "1.2.0",
            "_view_count": null,
            "flex_flow": null,
            "width": null,
            "min_width": null,
            "border": null,
            "align_items": null,
            "bottom": null,
            "_model_module": "@jupyter-widgets/base",
            "top": null,
            "grid_column": null,
            "overflow_y": null,
            "overflow_x": null,
            "grid_auto_flow": null,
            "grid_area": null,
            "grid_template_columns": null,
            "flex": null,
            "_model_name": "LayoutModel",
            "justify_items": null,
            "grid_row": null,
            "max_height": null,
            "align_content": null,
            "visibility": null,
            "align_self": null,
            "height": null,
            "min_height": null,
            "padding": null,
            "grid_auto_rows": null,
            "grid_gap": null,
            "max_width": null,
            "order": null,
            "_view_module_version": "1.2.0",
            "grid_template_areas": null,
            "object_position": null,
            "object_fit": null,
            "grid_auto_columns": null,
            "margin": null,
            "display": null,
            "left": null
          }
        },
        "1b39a7d4dfec4b508598968ffed9542b": {
          "model_module": "@jupyter-widgets/controls",
          "model_name": "HBoxModel",
          "model_module_version": "1.5.0",
          "state": {
            "_view_name": "HBoxView",
            "_dom_classes": [],
            "_model_name": "HBoxModel",
            "_view_module": "@jupyter-widgets/controls",
            "_model_module_version": "1.5.0",
            "_view_count": null,
            "_view_module_version": "1.5.0",
            "box_style": "",
            "layout": "IPY_MODEL_45a84a7e78114a7f84b5163ee86ef53d",
            "_model_module": "@jupyter-widgets/controls",
            "children": [
              "IPY_MODEL_2b5c896fc3ca4520910f807e4ff84ecc",
              "IPY_MODEL_2f8d2e50b6e74e169f5bbcf17557602f",
              "IPY_MODEL_a7dcba6d6b014fb5a8dae85ec51dae5e"
            ]
          }
        },
        "45a84a7e78114a7f84b5163ee86ef53d": {
          "model_module": "@jupyter-widgets/base",
          "model_name": "LayoutModel",
          "model_module_version": "1.2.0",
          "state": {
            "_view_name": "LayoutView",
            "grid_template_rows": null,
            "right": null,
            "justify_content": null,
            "_view_module": "@jupyter-widgets/base",
            "overflow": null,
            "_model_module_version": "1.2.0",
            "_view_count": null,
            "flex_flow": null,
            "width": null,
            "min_width": null,
            "border": null,
            "align_items": null,
            "bottom": null,
            "_model_module": "@jupyter-widgets/base",
            "top": null,
            "grid_column": null,
            "overflow_y": null,
            "overflow_x": null,
            "grid_auto_flow": null,
            "grid_area": null,
            "grid_template_columns": null,
            "flex": null,
            "_model_name": "LayoutModel",
            "justify_items": null,
            "grid_row": null,
            "max_height": null,
            "align_content": null,
            "visibility": null,
            "align_self": null,
            "height": null,
            "min_height": null,
            "padding": null,
            "grid_auto_rows": null,
            "grid_gap": null,
            "max_width": null,
            "order": null,
            "_view_module_version": "1.2.0",
            "grid_template_areas": null,
            "object_position": null,
            "object_fit": null,
            "grid_auto_columns": null,
            "margin": null,
            "display": null,
            "left": null
          }
        },
        "2b5c896fc3ca4520910f807e4ff84ecc": {
          "model_module": "@jupyter-widgets/controls",
          "model_name": "HTMLModel",
          "model_module_version": "1.5.0",
          "state": {
            "_view_name": "HTMLView",
            "style": "IPY_MODEL_597c5ce11b9b473ab995fcf587005d32",
            "_dom_classes": [],
            "description": "",
            "_model_name": "HTMLModel",
            "placeholder": "​",
            "_view_module": "@jupyter-widgets/controls",
            "_model_module_version": "1.5.0",
            "value": "Downloading: 100%",
            "_view_count": null,
            "_view_module_version": "1.5.0",
            "description_tooltip": null,
            "_model_module": "@jupyter-widgets/controls",
            "layout": "IPY_MODEL_35d524a8b3fe4ea58c6d386fd5fb02c9"
          }
        },
        "2f8d2e50b6e74e169f5bbcf17557602f": {
          "model_module": "@jupyter-widgets/controls",
          "model_name": "FloatProgressModel",
          "model_module_version": "1.5.0",
          "state": {
            "_view_name": "ProgressView",
            "style": "IPY_MODEL_3a0106a1d74a48f1b013d69346012fb3",
            "_dom_classes": [],
            "description": "",
            "_model_name": "FloatProgressModel",
            "bar_style": "success",
            "max": 718,
            "_view_module": "@jupyter-widgets/controls",
            "_model_module_version": "1.5.0",
            "value": 718,
            "_view_count": null,
            "_view_module_version": "1.5.0",
            "orientation": "horizontal",
            "min": 0,
            "description_tooltip": null,
            "_model_module": "@jupyter-widgets/controls",
            "layout": "IPY_MODEL_54cff5c24ea44fecaa6c0accb9bedee3"
          }
        },
        "a7dcba6d6b014fb5a8dae85ec51dae5e": {
          "model_module": "@jupyter-widgets/controls",
          "model_name": "HTMLModel",
          "model_module_version": "1.5.0",
          "state": {
            "_view_name": "HTMLView",
            "style": "IPY_MODEL_b508720426a74fa3a7ef3cabad93526e",
            "_dom_classes": [],
            "description": "",
            "_model_name": "HTMLModel",
            "placeholder": "​",
            "_view_module": "@jupyter-widgets/controls",
            "_model_module_version": "1.5.0",
            "value": " 718/718 [00:00&lt;00:00, 20.9kB/s]",
            "_view_count": null,
            "_view_module_version": "1.5.0",
            "description_tooltip": null,
            "_model_module": "@jupyter-widgets/controls",
            "layout": "IPY_MODEL_610b764ddae6414697d893001e703b65"
          }
        },
        "597c5ce11b9b473ab995fcf587005d32": {
          "model_module": "@jupyter-widgets/controls",
          "model_name": "DescriptionStyleModel",
          "model_module_version": "1.5.0",
          "state": {
            "_view_name": "StyleView",
            "_model_name": "DescriptionStyleModel",
            "description_width": "",
            "_view_module": "@jupyter-widgets/base",
            "_model_module_version": "1.5.0",
            "_view_count": null,
            "_view_module_version": "1.2.0",
            "_model_module": "@jupyter-widgets/controls"
          }
        },
        "35d524a8b3fe4ea58c6d386fd5fb02c9": {
          "model_module": "@jupyter-widgets/base",
          "model_name": "LayoutModel",
          "model_module_version": "1.2.0",
          "state": {
            "_view_name": "LayoutView",
            "grid_template_rows": null,
            "right": null,
            "justify_content": null,
            "_view_module": "@jupyter-widgets/base",
            "overflow": null,
            "_model_module_version": "1.2.0",
            "_view_count": null,
            "flex_flow": null,
            "width": null,
            "min_width": null,
            "border": null,
            "align_items": null,
            "bottom": null,
            "_model_module": "@jupyter-widgets/base",
            "top": null,
            "grid_column": null,
            "overflow_y": null,
            "overflow_x": null,
            "grid_auto_flow": null,
            "grid_area": null,
            "grid_template_columns": null,
            "flex": null,
            "_model_name": "LayoutModel",
            "justify_items": null,
            "grid_row": null,
            "max_height": null,
            "align_content": null,
            "visibility": null,
            "align_self": null,
            "height": null,
            "min_height": null,
            "padding": null,
            "grid_auto_rows": null,
            "grid_gap": null,
            "max_width": null,
            "order": null,
            "_view_module_version": "1.2.0",
            "grid_template_areas": null,
            "object_position": null,
            "object_fit": null,
            "grid_auto_columns": null,
            "margin": null,
            "display": null,
            "left": null
          }
        },
        "3a0106a1d74a48f1b013d69346012fb3": {
          "model_module": "@jupyter-widgets/controls",
          "model_name": "ProgressStyleModel",
          "model_module_version": "1.5.0",
          "state": {
            "_view_name": "StyleView",
            "_model_name": "ProgressStyleModel",
            "description_width": "",
            "_view_module": "@jupyter-widgets/base",
            "_model_module_version": "1.5.0",
            "_view_count": null,
            "_view_module_version": "1.2.0",
            "bar_color": null,
            "_model_module": "@jupyter-widgets/controls"
          }
        },
        "54cff5c24ea44fecaa6c0accb9bedee3": {
          "model_module": "@jupyter-widgets/base",
          "model_name": "LayoutModel",
          "model_module_version": "1.2.0",
          "state": {
            "_view_name": "LayoutView",
            "grid_template_rows": null,
            "right": null,
            "justify_content": null,
            "_view_module": "@jupyter-widgets/base",
            "overflow": null,
            "_model_module_version": "1.2.0",
            "_view_count": null,
            "flex_flow": null,
            "width": null,
            "min_width": null,
            "border": null,
            "align_items": null,
            "bottom": null,
            "_model_module": "@jupyter-widgets/base",
            "top": null,
            "grid_column": null,
            "overflow_y": null,
            "overflow_x": null,
            "grid_auto_flow": null,
            "grid_area": null,
            "grid_template_columns": null,
            "flex": null,
            "_model_name": "LayoutModel",
            "justify_items": null,
            "grid_row": null,
            "max_height": null,
            "align_content": null,
            "visibility": null,
            "align_self": null,
            "height": null,
            "min_height": null,
            "padding": null,
            "grid_auto_rows": null,
            "grid_gap": null,
            "max_width": null,
            "order": null,
            "_view_module_version": "1.2.0",
            "grid_template_areas": null,
            "object_position": null,
            "object_fit": null,
            "grid_auto_columns": null,
            "margin": null,
            "display": null,
            "left": null
          }
        },
        "b508720426a74fa3a7ef3cabad93526e": {
          "model_module": "@jupyter-widgets/controls",
          "model_name": "DescriptionStyleModel",
          "model_module_version": "1.5.0",
          "state": {
            "_view_name": "StyleView",
            "_model_name": "DescriptionStyleModel",
            "description_width": "",
            "_view_module": "@jupyter-widgets/base",
            "_model_module_version": "1.5.0",
            "_view_count": null,
            "_view_module_version": "1.2.0",
            "_model_module": "@jupyter-widgets/controls"
          }
        },
        "610b764ddae6414697d893001e703b65": {
          "model_module": "@jupyter-widgets/base",
          "model_name": "LayoutModel",
          "model_module_version": "1.2.0",
          "state": {
            "_view_name": "LayoutView",
            "grid_template_rows": null,
            "right": null,
            "justify_content": null,
            "_view_module": "@jupyter-widgets/base",
            "overflow": null,
            "_model_module_version": "1.2.0",
            "_view_count": null,
            "flex_flow": null,
            "width": null,
            "min_width": null,
            "border": null,
            "align_items": null,
            "bottom": null,
            "_model_module": "@jupyter-widgets/base",
            "top": null,
            "grid_column": null,
            "overflow_y": null,
            "overflow_x": null,
            "grid_auto_flow": null,
            "grid_area": null,
            "grid_template_columns": null,
            "flex": null,
            "_model_name": "LayoutModel",
            "justify_items": null,
            "grid_row": null,
            "max_height": null,
            "align_content": null,
            "visibility": null,
            "align_self": null,
            "height": null,
            "min_height": null,
            "padding": null,
            "grid_auto_rows": null,
            "grid_gap": null,
            "max_width": null,
            "order": null,
            "_view_module_version": "1.2.0",
            "grid_template_areas": null,
            "object_position": null,
            "object_fit": null,
            "grid_auto_columns": null,
            "margin": null,
            "display": null,
            "left": null
          }
        },
        "97f439e4c23f4b2fb4420a1001dc3c2c": {
          "model_module": "@jupyter-widgets/controls",
          "model_name": "HBoxModel",
          "model_module_version": "1.5.0",
          "state": {
            "_view_name": "HBoxView",
            "_dom_classes": [],
            "_model_name": "HBoxModel",
            "_view_module": "@jupyter-widgets/controls",
            "_model_module_version": "1.5.0",
            "_view_count": null,
            "_view_module_version": "1.5.0",
            "box_style": "",
            "layout": "IPY_MODEL_44cc46fd8b2540a58dee9381c0721aa2",
            "_model_module": "@jupyter-widgets/controls",
            "children": [
              "IPY_MODEL_82c086336e5a4ff08468223f331ae0b9",
              "IPY_MODEL_e4a6ff1d9b0446d4be7a36acf333c71e",
              "IPY_MODEL_f0329d1bf05241108d223058d32ff514"
            ]
          }
        },
        "44cc46fd8b2540a58dee9381c0721aa2": {
          "model_module": "@jupyter-widgets/base",
          "model_name": "LayoutModel",
          "model_module_version": "1.2.0",
          "state": {
            "_view_name": "LayoutView",
            "grid_template_rows": null,
            "right": null,
            "justify_content": null,
            "_view_module": "@jupyter-widgets/base",
            "overflow": null,
            "_model_module_version": "1.2.0",
            "_view_count": null,
            "flex_flow": null,
            "width": null,
            "min_width": null,
            "border": null,
            "align_items": null,
            "bottom": null,
            "_model_module": "@jupyter-widgets/base",
            "top": null,
            "grid_column": null,
            "overflow_y": null,
            "overflow_x": null,
            "grid_auto_flow": null,
            "grid_area": null,
            "grid_template_columns": null,
            "flex": null,
            "_model_name": "LayoutModel",
            "justify_items": null,
            "grid_row": null,
            "max_height": null,
            "align_content": null,
            "visibility": null,
            "align_self": null,
            "height": null,
            "min_height": null,
            "padding": null,
            "grid_auto_rows": null,
            "grid_gap": null,
            "max_width": null,
            "order": null,
            "_view_module_version": "1.2.0",
            "grid_template_areas": null,
            "object_position": null,
            "object_fit": null,
            "grid_auto_columns": null,
            "margin": null,
            "display": null,
            "left": null
          }
        },
        "82c086336e5a4ff08468223f331ae0b9": {
          "model_module": "@jupyter-widgets/controls",
          "model_name": "HTMLModel",
          "model_module_version": "1.5.0",
          "state": {
            "_view_name": "HTMLView",
            "style": "IPY_MODEL_53b024b8c04c4a13a2873bdffb80d8b1",
            "_dom_classes": [],
            "description": "",
            "_model_name": "HTMLModel",
            "placeholder": "​",
            "_view_module": "@jupyter-widgets/controls",
            "_model_module_version": "1.5.0",
            "value": "Downloading: 100%",
            "_view_count": null,
            "_view_module_version": "1.5.0",
            "description_tooltip": null,
            "_model_module": "@jupyter-widgets/controls",
            "layout": "IPY_MODEL_f337e38d9053416dbc4cd637f90c2b88"
          }
        },
        "e4a6ff1d9b0446d4be7a36acf333c71e": {
          "model_module": "@jupyter-widgets/controls",
          "model_name": "FloatProgressModel",
          "model_module_version": "1.5.0",
          "state": {
            "_view_name": "ProgressView",
            "style": "IPY_MODEL_e7f35f47370041ea8f1d2146190391a1",
            "_dom_classes": [],
            "description": "",
            "_model_name": "FloatProgressModel",
            "bar_style": "success",
            "max": 1520013706,
            "_view_module": "@jupyter-widgets/controls",
            "_model_module_version": "1.5.0",
            "value": 1520013706,
            "_view_count": null,
            "_view_module_version": "1.5.0",
            "orientation": "horizontal",
            "min": 0,
            "description_tooltip": null,
            "_model_module": "@jupyter-widgets/controls",
            "layout": "IPY_MODEL_52a8dcd2fa9c4016b3ffa39f48412c38"
          }
        },
        "f0329d1bf05241108d223058d32ff514": {
          "model_module": "@jupyter-widgets/controls",
          "model_name": "HTMLModel",
          "model_module_version": "1.5.0",
          "state": {
            "_view_name": "HTMLView",
            "style": "IPY_MODEL_9f29b085adad46cfa136c8e6963720a3",
            "_dom_classes": [],
            "description": "",
            "_model_name": "HTMLModel",
            "placeholder": "​",
            "_view_module": "@jupyter-widgets/controls",
            "_model_module_version": "1.5.0",
            "value": " 1.52G/1.52G [00:32&lt;00:00, 50.9MB/s]",
            "_view_count": null,
            "_view_module_version": "1.5.0",
            "description_tooltip": null,
            "_model_module": "@jupyter-widgets/controls",
            "layout": "IPY_MODEL_65f2f77c23f243b0bc401dbd2ff7c76a"
          }
        },
        "53b024b8c04c4a13a2873bdffb80d8b1": {
          "model_module": "@jupyter-widgets/controls",
          "model_name": "DescriptionStyleModel",
          "model_module_version": "1.5.0",
          "state": {
            "_view_name": "StyleView",
            "_model_name": "DescriptionStyleModel",
            "description_width": "",
            "_view_module": "@jupyter-widgets/base",
            "_model_module_version": "1.5.0",
            "_view_count": null,
            "_view_module_version": "1.2.0",
            "_model_module": "@jupyter-widgets/controls"
          }
        },
        "f337e38d9053416dbc4cd637f90c2b88": {
          "model_module": "@jupyter-widgets/base",
          "model_name": "LayoutModel",
          "model_module_version": "1.2.0",
          "state": {
            "_view_name": "LayoutView",
            "grid_template_rows": null,
            "right": null,
            "justify_content": null,
            "_view_module": "@jupyter-widgets/base",
            "overflow": null,
            "_model_module_version": "1.2.0",
            "_view_count": null,
            "flex_flow": null,
            "width": null,
            "min_width": null,
            "border": null,
            "align_items": null,
            "bottom": null,
            "_model_module": "@jupyter-widgets/base",
            "top": null,
            "grid_column": null,
            "overflow_y": null,
            "overflow_x": null,
            "grid_auto_flow": null,
            "grid_area": null,
            "grid_template_columns": null,
            "flex": null,
            "_model_name": "LayoutModel",
            "justify_items": null,
            "grid_row": null,
            "max_height": null,
            "align_content": null,
            "visibility": null,
            "align_self": null,
            "height": null,
            "min_height": null,
            "padding": null,
            "grid_auto_rows": null,
            "grid_gap": null,
            "max_width": null,
            "order": null,
            "_view_module_version": "1.2.0",
            "grid_template_areas": null,
            "object_position": null,
            "object_fit": null,
            "grid_auto_columns": null,
            "margin": null,
            "display": null,
            "left": null
          }
        },
        "e7f35f47370041ea8f1d2146190391a1": {
          "model_module": "@jupyter-widgets/controls",
          "model_name": "ProgressStyleModel",
          "model_module_version": "1.5.0",
          "state": {
            "_view_name": "StyleView",
            "_model_name": "ProgressStyleModel",
            "description_width": "",
            "_view_module": "@jupyter-widgets/base",
            "_model_module_version": "1.5.0",
            "_view_count": null,
            "_view_module_version": "1.2.0",
            "bar_color": null,
            "_model_module": "@jupyter-widgets/controls"
          }
        },
        "52a8dcd2fa9c4016b3ffa39f48412c38": {
          "model_module": "@jupyter-widgets/base",
          "model_name": "LayoutModel",
          "model_module_version": "1.2.0",
          "state": {
            "_view_name": "LayoutView",
            "grid_template_rows": null,
            "right": null,
            "justify_content": null,
            "_view_module": "@jupyter-widgets/base",
            "overflow": null,
            "_model_module_version": "1.2.0",
            "_view_count": null,
            "flex_flow": null,
            "width": null,
            "min_width": null,
            "border": null,
            "align_items": null,
            "bottom": null,
            "_model_module": "@jupyter-widgets/base",
            "top": null,
            "grid_column": null,
            "overflow_y": null,
            "overflow_x": null,
            "grid_auto_flow": null,
            "grid_area": null,
            "grid_template_columns": null,
            "flex": null,
            "_model_name": "LayoutModel",
            "justify_items": null,
            "grid_row": null,
            "max_height": null,
            "align_content": null,
            "visibility": null,
            "align_self": null,
            "height": null,
            "min_height": null,
            "padding": null,
            "grid_auto_rows": null,
            "grid_gap": null,
            "max_width": null,
            "order": null,
            "_view_module_version": "1.2.0",
            "grid_template_areas": null,
            "object_position": null,
            "object_fit": null,
            "grid_auto_columns": null,
            "margin": null,
            "display": null,
            "left": null
          }
        },
        "9f29b085adad46cfa136c8e6963720a3": {
          "model_module": "@jupyter-widgets/controls",
          "model_name": "DescriptionStyleModel",
          "model_module_version": "1.5.0",
          "state": {
            "_view_name": "StyleView",
            "_model_name": "DescriptionStyleModel",
            "description_width": "",
            "_view_module": "@jupyter-widgets/base",
            "_model_module_version": "1.5.0",
            "_view_count": null,
            "_view_module_version": "1.2.0",
            "_model_module": "@jupyter-widgets/controls"
          }
        },
        "65f2f77c23f243b0bc401dbd2ff7c76a": {
          "model_module": "@jupyter-widgets/base",
          "model_name": "LayoutModel",
          "model_module_version": "1.2.0",
          "state": {
            "_view_name": "LayoutView",
            "grid_template_rows": null,
            "right": null,
            "justify_content": null,
            "_view_module": "@jupyter-widgets/base",
            "overflow": null,
            "_model_module_version": "1.2.0",
            "_view_count": null,
            "flex_flow": null,
            "width": null,
            "min_width": null,
            "border": null,
            "align_items": null,
            "bottom": null,
            "_model_module": "@jupyter-widgets/base",
            "top": null,
            "grid_column": null,
            "overflow_y": null,
            "overflow_x": null,
            "grid_auto_flow": null,
            "grid_area": null,
            "grid_template_columns": null,
            "flex": null,
            "_model_name": "LayoutModel",
            "justify_items": null,
            "grid_row": null,
            "max_height": null,
            "align_content": null,
            "visibility": null,
            "align_self": null,
            "height": null,
            "min_height": null,
            "padding": null,
            "grid_auto_rows": null,
            "grid_gap": null,
            "max_width": null,
            "order": null,
            "_view_module_version": "1.2.0",
            "grid_template_areas": null,
            "object_position": null,
            "object_fit": null,
            "grid_auto_columns": null,
            "margin": null,
            "display": null,
            "left": null
          }
        },
        "272f1bcaec424ef8b3e1ca294d64c5c1": {
          "model_module": "@jupyter-widgets/controls",
          "model_name": "HBoxModel",
          "model_module_version": "1.5.0",
          "state": {
            "_view_name": "HBoxView",
            "_dom_classes": [],
            "_model_name": "HBoxModel",
            "_view_module": "@jupyter-widgets/controls",
            "_model_module_version": "1.5.0",
            "_view_count": null,
            "_view_module_version": "1.5.0",
            "box_style": "",
            "layout": "IPY_MODEL_0cc84eb76f1245f6aa92056b86dcd042",
            "_model_module": "@jupyter-widgets/controls",
            "children": [
              "IPY_MODEL_991d353cfe5849188a3fc925cee174a7",
              "IPY_MODEL_b53ff0fc2ab444249d7be9948ee667ba",
              "IPY_MODEL_3fc8373ca1c64b80bacd8cc73fff3caa"
            ]
          }
        },
        "0cc84eb76f1245f6aa92056b86dcd042": {
          "model_module": "@jupyter-widgets/base",
          "model_name": "LayoutModel",
          "model_module_version": "1.2.0",
          "state": {
            "_view_name": "LayoutView",
            "grid_template_rows": null,
            "right": null,
            "justify_content": null,
            "_view_module": "@jupyter-widgets/base",
            "overflow": null,
            "_model_module_version": "1.2.0",
            "_view_count": null,
            "flex_flow": null,
            "width": null,
            "min_width": null,
            "border": null,
            "align_items": null,
            "bottom": null,
            "_model_module": "@jupyter-widgets/base",
            "top": null,
            "grid_column": null,
            "overflow_y": null,
            "overflow_x": null,
            "grid_auto_flow": null,
            "grid_area": null,
            "grid_template_columns": null,
            "flex": null,
            "_model_name": "LayoutModel",
            "justify_items": null,
            "grid_row": null,
            "max_height": null,
            "align_content": null,
            "visibility": null,
            "align_self": null,
            "height": null,
            "min_height": null,
            "padding": null,
            "grid_auto_rows": null,
            "grid_gap": null,
            "max_width": null,
            "order": null,
            "_view_module_version": "1.2.0",
            "grid_template_areas": null,
            "object_position": null,
            "object_fit": null,
            "grid_auto_columns": null,
            "margin": null,
            "display": null,
            "left": null
          }
        },
        "991d353cfe5849188a3fc925cee174a7": {
          "model_module": "@jupyter-widgets/controls",
          "model_name": "HTMLModel",
          "model_module_version": "1.5.0",
          "state": {
            "_view_name": "HTMLView",
            "style": "IPY_MODEL_b270ad6ff1f645438efe4963f0d91132",
            "_dom_classes": [],
            "description": "",
            "_model_name": "HTMLModel",
            "placeholder": "​",
            "_view_module": "@jupyter-widgets/controls",
            "_model_module_version": "1.5.0",
            "value": "Downloading: 100%",
            "_view_count": null,
            "_view_module_version": "1.5.0",
            "description_tooltip": null,
            "_model_module": "@jupyter-widgets/controls",
            "layout": "IPY_MODEL_d699dcc5fbf84857a84659437cfc8e41"
          }
        },
        "b53ff0fc2ab444249d7be9948ee667ba": {
          "model_module": "@jupyter-widgets/controls",
          "model_name": "FloatProgressModel",
          "model_module_version": "1.5.0",
          "state": {
            "_view_name": "ProgressView",
            "style": "IPY_MODEL_68b62930c80a4da1b264530e25255b3a",
            "_dom_classes": [],
            "description": "",
            "_model_name": "FloatProgressModel",
            "bar_style": "success",
            "max": 570,
            "_view_module": "@jupyter-widgets/controls",
            "_model_module_version": "1.5.0",
            "value": 570,
            "_view_count": null,
            "_view_module_version": "1.5.0",
            "orientation": "horizontal",
            "min": 0,
            "description_tooltip": null,
            "_model_module": "@jupyter-widgets/controls",
            "layout": "IPY_MODEL_f2eecb86f3af41e4beaf8ea6a5588e7a"
          }
        },
        "3fc8373ca1c64b80bacd8cc73fff3caa": {
          "model_module": "@jupyter-widgets/controls",
          "model_name": "HTMLModel",
          "model_module_version": "1.5.0",
          "state": {
            "_view_name": "HTMLView",
            "style": "IPY_MODEL_c2eb884570ea4622bceee1d31ddc3a01",
            "_dom_classes": [],
            "description": "",
            "_model_name": "HTMLModel",
            "placeholder": "​",
            "_view_module": "@jupyter-widgets/controls",
            "_model_module_version": "1.5.0",
            "value": " 570/570 [00:00&lt;00:00, 17.1kB/s]",
            "_view_count": null,
            "_view_module_version": "1.5.0",
            "description_tooltip": null,
            "_model_module": "@jupyter-widgets/controls",
            "layout": "IPY_MODEL_78346354cd674aa38b410e855331752c"
          }
        },
        "b270ad6ff1f645438efe4963f0d91132": {
          "model_module": "@jupyter-widgets/controls",
          "model_name": "DescriptionStyleModel",
          "model_module_version": "1.5.0",
          "state": {
            "_view_name": "StyleView",
            "_model_name": "DescriptionStyleModel",
            "description_width": "",
            "_view_module": "@jupyter-widgets/base",
            "_model_module_version": "1.5.0",
            "_view_count": null,
            "_view_module_version": "1.2.0",
            "_model_module": "@jupyter-widgets/controls"
          }
        },
        "d699dcc5fbf84857a84659437cfc8e41": {
          "model_module": "@jupyter-widgets/base",
          "model_name": "LayoutModel",
          "model_module_version": "1.2.0",
          "state": {
            "_view_name": "LayoutView",
            "grid_template_rows": null,
            "right": null,
            "justify_content": null,
            "_view_module": "@jupyter-widgets/base",
            "overflow": null,
            "_model_module_version": "1.2.0",
            "_view_count": null,
            "flex_flow": null,
            "width": null,
            "min_width": null,
            "border": null,
            "align_items": null,
            "bottom": null,
            "_model_module": "@jupyter-widgets/base",
            "top": null,
            "grid_column": null,
            "overflow_y": null,
            "overflow_x": null,
            "grid_auto_flow": null,
            "grid_area": null,
            "grid_template_columns": null,
            "flex": null,
            "_model_name": "LayoutModel",
            "justify_items": null,
            "grid_row": null,
            "max_height": null,
            "align_content": null,
            "visibility": null,
            "align_self": null,
            "height": null,
            "min_height": null,
            "padding": null,
            "grid_auto_rows": null,
            "grid_gap": null,
            "max_width": null,
            "order": null,
            "_view_module_version": "1.2.0",
            "grid_template_areas": null,
            "object_position": null,
            "object_fit": null,
            "grid_auto_columns": null,
            "margin": null,
            "display": null,
            "left": null
          }
        },
        "68b62930c80a4da1b264530e25255b3a": {
          "model_module": "@jupyter-widgets/controls",
          "model_name": "ProgressStyleModel",
          "model_module_version": "1.5.0",
          "state": {
            "_view_name": "StyleView",
            "_model_name": "ProgressStyleModel",
            "description_width": "",
            "_view_module": "@jupyter-widgets/base",
            "_model_module_version": "1.5.0",
            "_view_count": null,
            "_view_module_version": "1.2.0",
            "bar_color": null,
            "_model_module": "@jupyter-widgets/controls"
          }
        },
        "f2eecb86f3af41e4beaf8ea6a5588e7a": {
          "model_module": "@jupyter-widgets/base",
          "model_name": "LayoutModel",
          "model_module_version": "1.2.0",
          "state": {
            "_view_name": "LayoutView",
            "grid_template_rows": null,
            "right": null,
            "justify_content": null,
            "_view_module": "@jupyter-widgets/base",
            "overflow": null,
            "_model_module_version": "1.2.0",
            "_view_count": null,
            "flex_flow": null,
            "width": null,
            "min_width": null,
            "border": null,
            "align_items": null,
            "bottom": null,
            "_model_module": "@jupyter-widgets/base",
            "top": null,
            "grid_column": null,
            "overflow_y": null,
            "overflow_x": null,
            "grid_auto_flow": null,
            "grid_area": null,
            "grid_template_columns": null,
            "flex": null,
            "_model_name": "LayoutModel",
            "justify_items": null,
            "grid_row": null,
            "max_height": null,
            "align_content": null,
            "visibility": null,
            "align_self": null,
            "height": null,
            "min_height": null,
            "padding": null,
            "grid_auto_rows": null,
            "grid_gap": null,
            "max_width": null,
            "order": null,
            "_view_module_version": "1.2.0",
            "grid_template_areas": null,
            "object_position": null,
            "object_fit": null,
            "grid_auto_columns": null,
            "margin": null,
            "display": null,
            "left": null
          }
        },
        "c2eb884570ea4622bceee1d31ddc3a01": {
          "model_module": "@jupyter-widgets/controls",
          "model_name": "DescriptionStyleModel",
          "model_module_version": "1.5.0",
          "state": {
            "_view_name": "StyleView",
            "_model_name": "DescriptionStyleModel",
            "description_width": "",
            "_view_module": "@jupyter-widgets/base",
            "_model_module_version": "1.5.0",
            "_view_count": null,
            "_view_module_version": "1.2.0",
            "_model_module": "@jupyter-widgets/controls"
          }
        },
        "78346354cd674aa38b410e855331752c": {
          "model_module": "@jupyter-widgets/base",
          "model_name": "LayoutModel",
          "model_module_version": "1.2.0",
          "state": {
            "_view_name": "LayoutView",
            "grid_template_rows": null,
            "right": null,
            "justify_content": null,
            "_view_module": "@jupyter-widgets/base",
            "overflow": null,
            "_model_module_version": "1.2.0",
            "_view_count": null,
            "flex_flow": null,
            "width": null,
            "min_width": null,
            "border": null,
            "align_items": null,
            "bottom": null,
            "_model_module": "@jupyter-widgets/base",
            "top": null,
            "grid_column": null,
            "overflow_y": null,
            "overflow_x": null,
            "grid_auto_flow": null,
            "grid_area": null,
            "grid_template_columns": null,
            "flex": null,
            "_model_name": "LayoutModel",
            "justify_items": null,
            "grid_row": null,
            "max_height": null,
            "align_content": null,
            "visibility": null,
            "align_self": null,
            "height": null,
            "min_height": null,
            "padding": null,
            "grid_auto_rows": null,
            "grid_gap": null,
            "max_width": null,
            "order": null,
            "_view_module_version": "1.2.0",
            "grid_template_areas": null,
            "object_position": null,
            "object_fit": null,
            "grid_auto_columns": null,
            "margin": null,
            "display": null,
            "left": null
          }
        },
        "c02907c656d149cebb6a0377fc0e1c8e": {
          "model_module": "@jupyter-widgets/controls",
          "model_name": "HBoxModel",
          "model_module_version": "1.5.0",
          "state": {
            "_view_name": "HBoxView",
            "_dom_classes": [],
            "_model_name": "HBoxModel",
            "_view_module": "@jupyter-widgets/controls",
            "_model_module_version": "1.5.0",
            "_view_count": null,
            "_view_module_version": "1.5.0",
            "box_style": "",
            "layout": "IPY_MODEL_8a2ff819617b41f58d0a77547309e7eb",
            "_model_module": "@jupyter-widgets/controls",
            "children": [
              "IPY_MODEL_7b88142b4c3647d4aec7ca7a3b9717f6",
              "IPY_MODEL_1413057803f84862b75f30557059964d",
              "IPY_MODEL_aae24535700247fbbee8f798be0b77d1"
            ]
          }
        },
        "8a2ff819617b41f58d0a77547309e7eb": {
          "model_module": "@jupyter-widgets/base",
          "model_name": "LayoutModel",
          "model_module_version": "1.2.0",
          "state": {
            "_view_name": "LayoutView",
            "grid_template_rows": null,
            "right": null,
            "justify_content": null,
            "_view_module": "@jupyter-widgets/base",
            "overflow": null,
            "_model_module_version": "1.2.0",
            "_view_count": null,
            "flex_flow": null,
            "width": null,
            "min_width": null,
            "border": null,
            "align_items": null,
            "bottom": null,
            "_model_module": "@jupyter-widgets/base",
            "top": null,
            "grid_column": null,
            "overflow_y": null,
            "overflow_x": null,
            "grid_auto_flow": null,
            "grid_area": null,
            "grid_template_columns": null,
            "flex": null,
            "_model_name": "LayoutModel",
            "justify_items": null,
            "grid_row": null,
            "max_height": null,
            "align_content": null,
            "visibility": null,
            "align_self": null,
            "height": null,
            "min_height": null,
            "padding": null,
            "grid_auto_rows": null,
            "grid_gap": null,
            "max_width": null,
            "order": null,
            "_view_module_version": "1.2.0",
            "grid_template_areas": null,
            "object_position": null,
            "object_fit": null,
            "grid_auto_columns": null,
            "margin": null,
            "display": null,
            "left": null
          }
        },
        "7b88142b4c3647d4aec7ca7a3b9717f6": {
          "model_module": "@jupyter-widgets/controls",
          "model_name": "HTMLModel",
          "model_module_version": "1.5.0",
          "state": {
            "_view_name": "HTMLView",
            "style": "IPY_MODEL_7fc949fbf3124f85be1d0bb9857a8ad8",
            "_dom_classes": [],
            "description": "",
            "_model_name": "HTMLModel",
            "placeholder": "​",
            "_view_module": "@jupyter-widgets/controls",
            "_model_module_version": "1.5.0",
            "value": "Downloading: 100%",
            "_view_count": null,
            "_view_module_version": "1.5.0",
            "description_tooltip": null,
            "_model_module": "@jupyter-widgets/controls",
            "layout": "IPY_MODEL_00120a9524944a58be88f25600f3796b"
          }
        },
        "1413057803f84862b75f30557059964d": {
          "model_module": "@jupyter-widgets/controls",
          "model_name": "FloatProgressModel",
          "model_module_version": "1.5.0",
          "state": {
            "_view_name": "ProgressView",
            "style": "IPY_MODEL_791a6e9e27c34e45ac041d6410ec7c39",
            "_dom_classes": [],
            "description": "",
            "_model_name": "FloatProgressModel",
            "bar_style": "success",
            "max": 435779157,
            "_view_module": "@jupyter-widgets/controls",
            "_model_module_version": "1.5.0",
            "value": 435779157,
            "_view_count": null,
            "_view_module_version": "1.5.0",
            "orientation": "horizontal",
            "min": 0,
            "description_tooltip": null,
            "_model_module": "@jupyter-widgets/controls",
            "layout": "IPY_MODEL_108a8588176d4b93a54876718c578948"
          }
        },
        "aae24535700247fbbee8f798be0b77d1": {
          "model_module": "@jupyter-widgets/controls",
          "model_name": "HTMLModel",
          "model_module_version": "1.5.0",
          "state": {
            "_view_name": "HTMLView",
            "style": "IPY_MODEL_92d69c84f3ed4c358b9671fa110c7dcd",
            "_dom_classes": [],
            "description": "",
            "_model_name": "HTMLModel",
            "placeholder": "​",
            "_view_module": "@jupyter-widgets/controls",
            "_model_module_version": "1.5.0",
            "value": " 436M/436M [00:08&lt;00:00, 56.5MB/s]",
            "_view_count": null,
            "_view_module_version": "1.5.0",
            "description_tooltip": null,
            "_model_module": "@jupyter-widgets/controls",
            "layout": "IPY_MODEL_df74ba31ad284e9a80c599d70cea7632"
          }
        },
        "7fc949fbf3124f85be1d0bb9857a8ad8": {
          "model_module": "@jupyter-widgets/controls",
          "model_name": "DescriptionStyleModel",
          "model_module_version": "1.5.0",
          "state": {
            "_view_name": "StyleView",
            "_model_name": "DescriptionStyleModel",
            "description_width": "",
            "_view_module": "@jupyter-widgets/base",
            "_model_module_version": "1.5.0",
            "_view_count": null,
            "_view_module_version": "1.2.0",
            "_model_module": "@jupyter-widgets/controls"
          }
        },
        "00120a9524944a58be88f25600f3796b": {
          "model_module": "@jupyter-widgets/base",
          "model_name": "LayoutModel",
          "model_module_version": "1.2.0",
          "state": {
            "_view_name": "LayoutView",
            "grid_template_rows": null,
            "right": null,
            "justify_content": null,
            "_view_module": "@jupyter-widgets/base",
            "overflow": null,
            "_model_module_version": "1.2.0",
            "_view_count": null,
            "flex_flow": null,
            "width": null,
            "min_width": null,
            "border": null,
            "align_items": null,
            "bottom": null,
            "_model_module": "@jupyter-widgets/base",
            "top": null,
            "grid_column": null,
            "overflow_y": null,
            "overflow_x": null,
            "grid_auto_flow": null,
            "grid_area": null,
            "grid_template_columns": null,
            "flex": null,
            "_model_name": "LayoutModel",
            "justify_items": null,
            "grid_row": null,
            "max_height": null,
            "align_content": null,
            "visibility": null,
            "align_self": null,
            "height": null,
            "min_height": null,
            "padding": null,
            "grid_auto_rows": null,
            "grid_gap": null,
            "max_width": null,
            "order": null,
            "_view_module_version": "1.2.0",
            "grid_template_areas": null,
            "object_position": null,
            "object_fit": null,
            "grid_auto_columns": null,
            "margin": null,
            "display": null,
            "left": null
          }
        },
        "791a6e9e27c34e45ac041d6410ec7c39": {
          "model_module": "@jupyter-widgets/controls",
          "model_name": "ProgressStyleModel",
          "model_module_version": "1.5.0",
          "state": {
            "_view_name": "StyleView",
            "_model_name": "ProgressStyleModel",
            "description_width": "",
            "_view_module": "@jupyter-widgets/base",
            "_model_module_version": "1.5.0",
            "_view_count": null,
            "_view_module_version": "1.2.0",
            "bar_color": null,
            "_model_module": "@jupyter-widgets/controls"
          }
        },
        "108a8588176d4b93a54876718c578948": {
          "model_module": "@jupyter-widgets/base",
          "model_name": "LayoutModel",
          "model_module_version": "1.2.0",
          "state": {
            "_view_name": "LayoutView",
            "grid_template_rows": null,
            "right": null,
            "justify_content": null,
            "_view_module": "@jupyter-widgets/base",
            "overflow": null,
            "_model_module_version": "1.2.0",
            "_view_count": null,
            "flex_flow": null,
            "width": null,
            "min_width": null,
            "border": null,
            "align_items": null,
            "bottom": null,
            "_model_module": "@jupyter-widgets/base",
            "top": null,
            "grid_column": null,
            "overflow_y": null,
            "overflow_x": null,
            "grid_auto_flow": null,
            "grid_area": null,
            "grid_template_columns": null,
            "flex": null,
            "_model_name": "LayoutModel",
            "justify_items": null,
            "grid_row": null,
            "max_height": null,
            "align_content": null,
            "visibility": null,
            "align_self": null,
            "height": null,
            "min_height": null,
            "padding": null,
            "grid_auto_rows": null,
            "grid_gap": null,
            "max_width": null,
            "order": null,
            "_view_module_version": "1.2.0",
            "grid_template_areas": null,
            "object_position": null,
            "object_fit": null,
            "grid_auto_columns": null,
            "margin": null,
            "display": null,
            "left": null
          }
        },
        "92d69c84f3ed4c358b9671fa110c7dcd": {
          "model_module": "@jupyter-widgets/controls",
          "model_name": "DescriptionStyleModel",
          "model_module_version": "1.5.0",
          "state": {
            "_view_name": "StyleView",
            "_model_name": "DescriptionStyleModel",
            "description_width": "",
            "_view_module": "@jupyter-widgets/base",
            "_model_module_version": "1.5.0",
            "_view_count": null,
            "_view_module_version": "1.2.0",
            "_model_module": "@jupyter-widgets/controls"
          }
        },
        "df74ba31ad284e9a80c599d70cea7632": {
          "model_module": "@jupyter-widgets/base",
          "model_name": "LayoutModel",
          "model_module_version": "1.2.0",
          "state": {
            "_view_name": "LayoutView",
            "grid_template_rows": null,
            "right": null,
            "justify_content": null,
            "_view_module": "@jupyter-widgets/base",
            "overflow": null,
            "_model_module_version": "1.2.0",
            "_view_count": null,
            "flex_flow": null,
            "width": null,
            "min_width": null,
            "border": null,
            "align_items": null,
            "bottom": null,
            "_model_module": "@jupyter-widgets/base",
            "top": null,
            "grid_column": null,
            "overflow_y": null,
            "overflow_x": null,
            "grid_auto_flow": null,
            "grid_area": null,
            "grid_template_columns": null,
            "flex": null,
            "_model_name": "LayoutModel",
            "justify_items": null,
            "grid_row": null,
            "max_height": null,
            "align_content": null,
            "visibility": null,
            "align_self": null,
            "height": null,
            "min_height": null,
            "padding": null,
            "grid_auto_rows": null,
            "grid_gap": null,
            "max_width": null,
            "order": null,
            "_view_module_version": "1.2.0",
            "grid_template_areas": null,
            "object_position": null,
            "object_fit": null,
            "grid_auto_columns": null,
            "margin": null,
            "display": null,
            "left": null
          }
        },
        "b45d6df6e839498abb402b1ef6f4e4bb": {
          "model_module": "@jupyter-widgets/controls",
          "model_name": "HBoxModel",
          "model_module_version": "1.5.0",
          "state": {
            "_view_name": "HBoxView",
            "_dom_classes": [],
            "_model_name": "HBoxModel",
            "_view_module": "@jupyter-widgets/controls",
            "_model_module_version": "1.5.0",
            "_view_count": null,
            "_view_module_version": "1.5.0",
            "box_style": "",
            "layout": "IPY_MODEL_79cc07af24eb402ea9805dc9be8e6073",
            "_model_module": "@jupyter-widgets/controls",
            "children": [
              "IPY_MODEL_7f9120e785e34625887742ff9e436341",
              "IPY_MODEL_0a8d2d83223a47328155d5dcea703ba4",
              "IPY_MODEL_bcdbc243fa6e423fa24f50e7293aa40b"
            ]
          }
        },
        "79cc07af24eb402ea9805dc9be8e6073": {
          "model_module": "@jupyter-widgets/base",
          "model_name": "LayoutModel",
          "model_module_version": "1.2.0",
          "state": {
            "_view_name": "LayoutView",
            "grid_template_rows": null,
            "right": null,
            "justify_content": null,
            "_view_module": "@jupyter-widgets/base",
            "overflow": null,
            "_model_module_version": "1.2.0",
            "_view_count": null,
            "flex_flow": null,
            "width": null,
            "min_width": null,
            "border": null,
            "align_items": null,
            "bottom": null,
            "_model_module": "@jupyter-widgets/base",
            "top": null,
            "grid_column": null,
            "overflow_y": null,
            "overflow_x": null,
            "grid_auto_flow": null,
            "grid_area": null,
            "grid_template_columns": null,
            "flex": null,
            "_model_name": "LayoutModel",
            "justify_items": null,
            "grid_row": null,
            "max_height": null,
            "align_content": null,
            "visibility": null,
            "align_self": null,
            "height": null,
            "min_height": null,
            "padding": null,
            "grid_auto_rows": null,
            "grid_gap": null,
            "max_width": null,
            "order": null,
            "_view_module_version": "1.2.0",
            "grid_template_areas": null,
            "object_position": null,
            "object_fit": null,
            "grid_auto_columns": null,
            "margin": null,
            "display": null,
            "left": null
          }
        },
        "7f9120e785e34625887742ff9e436341": {
          "model_module": "@jupyter-widgets/controls",
          "model_name": "HTMLModel",
          "model_module_version": "1.5.0",
          "state": {
            "_view_name": "HTMLView",
            "style": "IPY_MODEL_99e55b4aa6b9433d8d65410904706838",
            "_dom_classes": [],
            "description": "",
            "_model_name": "HTMLModel",
            "placeholder": "​",
            "_view_module": "@jupyter-widgets/controls",
            "_model_module_version": "1.5.0",
            "value": "Downloading: 100%",
            "_view_count": null,
            "_view_module_version": "1.5.0",
            "description_tooltip": null,
            "_model_module": "@jupyter-widgets/controls",
            "layout": "IPY_MODEL_8a39a10c09d845ccaf8a1906c16dc2fe"
          }
        },
        "0a8d2d83223a47328155d5dcea703ba4": {
          "model_module": "@jupyter-widgets/controls",
          "model_name": "FloatProgressModel",
          "model_module_version": "1.5.0",
          "state": {
            "_view_name": "ProgressView",
            "style": "IPY_MODEL_31530f7da6c4469c8bf30e579f744218",
            "_dom_classes": [],
            "description": "",
            "_model_name": "FloatProgressModel",
            "bar_style": "success",
            "max": 213450,
            "_view_module": "@jupyter-widgets/controls",
            "_model_module_version": "1.5.0",
            "value": 213450,
            "_view_count": null,
            "_view_module_version": "1.5.0",
            "orientation": "horizontal",
            "min": 0,
            "description_tooltip": null,
            "_model_module": "@jupyter-widgets/controls",
            "layout": "IPY_MODEL_7219b34d355c4e38906acde55f0c1114"
          }
        },
        "bcdbc243fa6e423fa24f50e7293aa40b": {
          "model_module": "@jupyter-widgets/controls",
          "model_name": "HTMLModel",
          "model_module_version": "1.5.0",
          "state": {
            "_view_name": "HTMLView",
            "style": "IPY_MODEL_e577e1d8f3654c789866b619e76b63f1",
            "_dom_classes": [],
            "description": "",
            "_model_name": "HTMLModel",
            "placeholder": "​",
            "_view_module": "@jupyter-widgets/controls",
            "_model_module_version": "1.5.0",
            "value": " 213k/213k [00:00&lt;00:00, 286kB/s]",
            "_view_count": null,
            "_view_module_version": "1.5.0",
            "description_tooltip": null,
            "_model_module": "@jupyter-widgets/controls",
            "layout": "IPY_MODEL_6224aa416fad44e5a6d894500286eeef"
          }
        },
        "99e55b4aa6b9433d8d65410904706838": {
          "model_module": "@jupyter-widgets/controls",
          "model_name": "DescriptionStyleModel",
          "model_module_version": "1.5.0",
          "state": {
            "_view_name": "StyleView",
            "_model_name": "DescriptionStyleModel",
            "description_width": "",
            "_view_module": "@jupyter-widgets/base",
            "_model_module_version": "1.5.0",
            "_view_count": null,
            "_view_module_version": "1.2.0",
            "_model_module": "@jupyter-widgets/controls"
          }
        },
        "8a39a10c09d845ccaf8a1906c16dc2fe": {
          "model_module": "@jupyter-widgets/base",
          "model_name": "LayoutModel",
          "model_module_version": "1.2.0",
          "state": {
            "_view_name": "LayoutView",
            "grid_template_rows": null,
            "right": null,
            "justify_content": null,
            "_view_module": "@jupyter-widgets/base",
            "overflow": null,
            "_model_module_version": "1.2.0",
            "_view_count": null,
            "flex_flow": null,
            "width": null,
            "min_width": null,
            "border": null,
            "align_items": null,
            "bottom": null,
            "_model_module": "@jupyter-widgets/base",
            "top": null,
            "grid_column": null,
            "overflow_y": null,
            "overflow_x": null,
            "grid_auto_flow": null,
            "grid_area": null,
            "grid_template_columns": null,
            "flex": null,
            "_model_name": "LayoutModel",
            "justify_items": null,
            "grid_row": null,
            "max_height": null,
            "align_content": null,
            "visibility": null,
            "align_self": null,
            "height": null,
            "min_height": null,
            "padding": null,
            "grid_auto_rows": null,
            "grid_gap": null,
            "max_width": null,
            "order": null,
            "_view_module_version": "1.2.0",
            "grid_template_areas": null,
            "object_position": null,
            "object_fit": null,
            "grid_auto_columns": null,
            "margin": null,
            "display": null,
            "left": null
          }
        },
        "31530f7da6c4469c8bf30e579f744218": {
          "model_module": "@jupyter-widgets/controls",
          "model_name": "ProgressStyleModel",
          "model_module_version": "1.5.0",
          "state": {
            "_view_name": "StyleView",
            "_model_name": "ProgressStyleModel",
            "description_width": "",
            "_view_module": "@jupyter-widgets/base",
            "_model_module_version": "1.5.0",
            "_view_count": null,
            "_view_module_version": "1.2.0",
            "bar_color": null,
            "_model_module": "@jupyter-widgets/controls"
          }
        },
        "7219b34d355c4e38906acde55f0c1114": {
          "model_module": "@jupyter-widgets/base",
          "model_name": "LayoutModel",
          "model_module_version": "1.2.0",
          "state": {
            "_view_name": "LayoutView",
            "grid_template_rows": null,
            "right": null,
            "justify_content": null,
            "_view_module": "@jupyter-widgets/base",
            "overflow": null,
            "_model_module_version": "1.2.0",
            "_view_count": null,
            "flex_flow": null,
            "width": null,
            "min_width": null,
            "border": null,
            "align_items": null,
            "bottom": null,
            "_model_module": "@jupyter-widgets/base",
            "top": null,
            "grid_column": null,
            "overflow_y": null,
            "overflow_x": null,
            "grid_auto_flow": null,
            "grid_area": null,
            "grid_template_columns": null,
            "flex": null,
            "_model_name": "LayoutModel",
            "justify_items": null,
            "grid_row": null,
            "max_height": null,
            "align_content": null,
            "visibility": null,
            "align_self": null,
            "height": null,
            "min_height": null,
            "padding": null,
            "grid_auto_rows": null,
            "grid_gap": null,
            "max_width": null,
            "order": null,
            "_view_module_version": "1.2.0",
            "grid_template_areas": null,
            "object_position": null,
            "object_fit": null,
            "grid_auto_columns": null,
            "margin": null,
            "display": null,
            "left": null
          }
        },
        "e577e1d8f3654c789866b619e76b63f1": {
          "model_module": "@jupyter-widgets/controls",
          "model_name": "DescriptionStyleModel",
          "model_module_version": "1.5.0",
          "state": {
            "_view_name": "StyleView",
            "_model_name": "DescriptionStyleModel",
            "description_width": "",
            "_view_module": "@jupyter-widgets/base",
            "_model_module_version": "1.5.0",
            "_view_count": null,
            "_view_module_version": "1.2.0",
            "_model_module": "@jupyter-widgets/controls"
          }
        },
        "6224aa416fad44e5a6d894500286eeef": {
          "model_module": "@jupyter-widgets/base",
          "model_name": "LayoutModel",
          "model_module_version": "1.2.0",
          "state": {
            "_view_name": "LayoutView",
            "grid_template_rows": null,
            "right": null,
            "justify_content": null,
            "_view_module": "@jupyter-widgets/base",
            "overflow": null,
            "_model_module_version": "1.2.0",
            "_view_count": null,
            "flex_flow": null,
            "width": null,
            "min_width": null,
            "border": null,
            "align_items": null,
            "bottom": null,
            "_model_module": "@jupyter-widgets/base",
            "top": null,
            "grid_column": null,
            "overflow_y": null,
            "overflow_x": null,
            "grid_auto_flow": null,
            "grid_area": null,
            "grid_template_columns": null,
            "flex": null,
            "_model_name": "LayoutModel",
            "justify_items": null,
            "grid_row": null,
            "max_height": null,
            "align_content": null,
            "visibility": null,
            "align_self": null,
            "height": null,
            "min_height": null,
            "padding": null,
            "grid_auto_rows": null,
            "grid_gap": null,
            "max_width": null,
            "order": null,
            "_view_module_version": "1.2.0",
            "grid_template_areas": null,
            "object_position": null,
            "object_fit": null,
            "grid_auto_columns": null,
            "margin": null,
            "display": null,
            "left": null
          }
        }
      }
    }
  },
  "cells": [
    {
      "cell_type": "markdown",
      "source": [
        "# Installing neuspell repo and packages"
      ],
      "metadata": {
        "id": "zzYsSW6zYpHZ"
      }
    },
    {
      "cell_type": "code",
      "execution_count": null,
      "metadata": {
        "colab": {
          "base_uri": "https://localhost:8080/"
        },
        "id": "K7tS0QyFYCO2",
        "outputId": "ea261a19-a9b5-4a93-8c71-cbfc199be18e"
      },
      "outputs": [
        {
          "output_type": "stream",
          "name": "stdout",
          "text": [
            "Cloning into 'neuspell'...\n",
            "remote: Enumerating objects: 689, done.\u001b[K\n",
            "remote: Counting objects: 100% (492/492), done.\u001b[K\n",
            "remote: Compressing objects: 100% (313/313), done.\u001b[K\n",
            "remote: Total 689 (delta 304), reused 325 (delta 161), pack-reused 197\u001b[K\n",
            "Receiving objects: 100% (689/689), 74.44 MiB | 17.69 MiB/s, done.\n",
            "Resolving deltas: 100% (330/330), done.\n",
            "/content/neuspell\n",
            "Obtaining file:///content/neuspell\n",
            "Collecting transformers\n",
            "  Downloading transformers-4.17.0-py3-none-any.whl (3.8 MB)\n",
            "\u001b[K     |████████████████████████████████| 3.8 MB 29.7 MB/s \n",
            "\u001b[?25hRequirement already satisfied: tqdm in /usr/local/lib/python3.7/dist-packages (from neuspell==1.0.0) (4.63.0)\n",
            "Requirement already satisfied: torch>=1.6.0 in /usr/local/lib/python3.7/dist-packages (from neuspell==1.0.0) (1.10.0+cu111)\n",
            "Requirement already satisfied: numpy in /usr/local/lib/python3.7/dist-packages (from neuspell==1.0.0) (1.21.5)\n",
            "Collecting jsonlines\n",
            "  Downloading jsonlines-3.0.0-py3-none-any.whl (8.5 kB)\n",
            "Collecting sentencepiece\n",
            "  Downloading sentencepiece-0.1.96-cp37-cp37m-manylinux_2_17_x86_64.manylinux2014_x86_64.whl (1.2 MB)\n",
            "\u001b[K     |████████████████████████████████| 1.2 MB 63.5 MB/s \n",
            "\u001b[?25hCollecting pytorch_pretrained_bert\n",
            "  Downloading pytorch_pretrained_bert-0.6.2-py3-none-any.whl (123 kB)\n",
            "\u001b[K     |████████████████████████████████| 123 kB 79.4 MB/s \n",
            "\u001b[?25hRequirement already satisfied: typing-extensions in /usr/local/lib/python3.7/dist-packages (from torch>=1.6.0->neuspell==1.0.0) (3.10.0.2)\n",
            "Requirement already satisfied: attrs>=19.2.0 in /usr/local/lib/python3.7/dist-packages (from jsonlines->neuspell==1.0.0) (21.4.0)\n",
            "Requirement already satisfied: regex in /usr/local/lib/python3.7/dist-packages (from pytorch_pretrained_bert->neuspell==1.0.0) (2019.12.20)\n",
            "Collecting boto3\n",
            "  Downloading boto3-1.21.13-py3-none-any.whl (132 kB)\n",
            "\u001b[K     |████████████████████████████████| 132 kB 69.5 MB/s \n",
            "\u001b[?25hRequirement already satisfied: requests in /usr/local/lib/python3.7/dist-packages (from pytorch_pretrained_bert->neuspell==1.0.0) (2.23.0)\n",
            "Collecting jmespath<1.0.0,>=0.7.1\n",
            "  Downloading jmespath-0.10.0-py2.py3-none-any.whl (24 kB)\n",
            "Collecting botocore<1.25.0,>=1.24.13\n",
            "  Downloading botocore-1.24.13-py3-none-any.whl (8.6 MB)\n",
            "\u001b[K     |████████████████████████████████| 8.6 MB 59.0 MB/s \n",
            "\u001b[?25hCollecting s3transfer<0.6.0,>=0.5.0\n",
            "  Downloading s3transfer-0.5.2-py3-none-any.whl (79 kB)\n",
            "\u001b[K     |████████████████████████████████| 79 kB 11.1 MB/s \n",
            "\u001b[?25hRequirement already satisfied: python-dateutil<3.0.0,>=2.1 in /usr/local/lib/python3.7/dist-packages (from botocore<1.25.0,>=1.24.13->boto3->pytorch_pretrained_bert->neuspell==1.0.0) (2.8.2)\n",
            "Collecting urllib3<1.27,>=1.25.4\n",
            "  Downloading urllib3-1.26.8-py2.py3-none-any.whl (138 kB)\n",
            "\u001b[K     |████████████████████████████████| 138 kB 55.1 MB/s \n",
            "\u001b[?25hRequirement already satisfied: six>=1.5 in /usr/local/lib/python3.7/dist-packages (from python-dateutil<3.0.0,>=2.1->botocore<1.25.0,>=1.24.13->boto3->pytorch_pretrained_bert->neuspell==1.0.0) (1.15.0)\n",
            "Requirement already satisfied: certifi>=2017.4.17 in /usr/local/lib/python3.7/dist-packages (from requests->pytorch_pretrained_bert->neuspell==1.0.0) (2021.10.8)\n",
            "Requirement already satisfied: chardet<4,>=3.0.2 in /usr/local/lib/python3.7/dist-packages (from requests->pytorch_pretrained_bert->neuspell==1.0.0) (3.0.4)\n",
            "Requirement already satisfied: idna<3,>=2.5 in /usr/local/lib/python3.7/dist-packages (from requests->pytorch_pretrained_bert->neuspell==1.0.0) (2.10)\n",
            "  Downloading urllib3-1.25.11-py2.py3-none-any.whl (127 kB)\n",
            "\u001b[K     |████████████████████████████████| 127 kB 68.0 MB/s \n",
            "\u001b[?25hCollecting pyyaml>=5.1\n",
            "  Downloading PyYAML-6.0-cp37-cp37m-manylinux_2_5_x86_64.manylinux1_x86_64.manylinux_2_12_x86_64.manylinux2010_x86_64.whl (596 kB)\n",
            "\u001b[K     |████████████████████████████████| 596 kB 57.9 MB/s \n",
            "\u001b[?25hCollecting tokenizers!=0.11.3,>=0.11.1\n",
            "  Downloading tokenizers-0.11.6-cp37-cp37m-manylinux_2_12_x86_64.manylinux2010_x86_64.whl (6.5 MB)\n",
            "\u001b[K     |████████████████████████████████| 6.5 MB 79.3 MB/s \n",
            "\u001b[?25hCollecting sacremoses\n",
            "  Downloading sacremoses-0.0.47-py2.py3-none-any.whl (895 kB)\n",
            "\u001b[K     |████████████████████████████████| 895 kB 47.4 MB/s \n",
            "\u001b[?25hCollecting huggingface-hub<1.0,>=0.1.0\n",
            "  Downloading huggingface_hub-0.4.0-py3-none-any.whl (67 kB)\n",
            "\u001b[K     |████████████████████████████████| 67 kB 6.7 MB/s \n",
            "\u001b[?25hRequirement already satisfied: filelock in /usr/local/lib/python3.7/dist-packages (from transformers->neuspell==1.0.0) (3.6.0)\n",
            "Requirement already satisfied: packaging>=20.0 in /usr/local/lib/python3.7/dist-packages (from transformers->neuspell==1.0.0) (21.3)\n",
            "Requirement already satisfied: importlib-metadata in /usr/local/lib/python3.7/dist-packages (from transformers->neuspell==1.0.0) (4.11.2)\n",
            "Requirement already satisfied: pyparsing!=3.0.5,>=2.0.2 in /usr/local/lib/python3.7/dist-packages (from packaging>=20.0->transformers->neuspell==1.0.0) (3.0.7)\n",
            "Requirement already satisfied: zipp>=0.5 in /usr/local/lib/python3.7/dist-packages (from importlib-metadata->transformers->neuspell==1.0.0) (3.7.0)\n",
            "Requirement already satisfied: joblib in /usr/local/lib/python3.7/dist-packages (from sacremoses->transformers->neuspell==1.0.0) (1.1.0)\n",
            "Requirement already satisfied: click in /usr/local/lib/python3.7/dist-packages (from sacremoses->transformers->neuspell==1.0.0) (7.1.2)\n",
            "Installing collected packages: urllib3, jmespath, botocore, s3transfer, pyyaml, tokenizers, sacremoses, huggingface-hub, boto3, transformers, sentencepiece, pytorch-pretrained-bert, jsonlines, neuspell\n",
            "  Attempting uninstall: urllib3\n",
            "    Found existing installation: urllib3 1.24.3\n",
            "    Uninstalling urllib3-1.24.3:\n",
            "      Successfully uninstalled urllib3-1.24.3\n",
            "  Attempting uninstall: pyyaml\n",
            "    Found existing installation: PyYAML 3.13\n",
            "    Uninstalling PyYAML-3.13:\n",
            "      Successfully uninstalled PyYAML-3.13\n",
            "  Running setup.py develop for neuspell\n",
            "\u001b[31mERROR: pip's dependency resolver does not currently take into account all the packages that are installed. This behaviour is the source of the following dependency conflicts.\n",
            "datascience 0.10.6 requires folium==0.2.1, but you have folium 0.8.3 which is incompatible.\u001b[0m\n",
            "Successfully installed boto3-1.21.13 botocore-1.24.13 huggingface-hub-0.4.0 jmespath-0.10.0 jsonlines-3.0.0 neuspell-1.0.0 pytorch-pretrained-bert-0.6.2 pyyaml-6.0 s3transfer-0.5.2 sacremoses-0.0.47 sentencepiece-0.1.96 tokenizers-0.11.6 transformers-4.17.0 urllib3-1.25.11\n"
          ]
        }
      ],
      "source": [
        "#Installing repo \n",
        "!git clone https://github.com/neuspell/neuspell; \n",
        "%cd neuspell\n",
        "!pip install -e ."
      ]
    },
    {
      "cell_type": "code",
      "source": [
        "#installing requirements\n",
        "!pip install -r /content/neuspell/extras-requirements.txt"
      ],
      "metadata": {
        "colab": {
          "base_uri": "https://localhost:8080/"
        },
        "id": "FfKrQQHqYIR7",
        "outputId": "876d62d5-aca1-449d-c0c6-55890808c48b"
      },
      "execution_count": null,
      "outputs": [
        {
          "output_type": "stream",
          "name": "stdout",
          "text": [
            "Obtaining file:///content/neuspell (from -r /content/neuspell/extras-requirements.txt (line 1))\n",
            "Requirement already satisfied: transformers in /usr/local/lib/python3.7/dist-packages (from neuspell==1.0.0->-r /content/neuspell/extras-requirements.txt (line 1)) (4.17.0)\n",
            "Requirement already satisfied: tqdm in /usr/local/lib/python3.7/dist-packages (from neuspell==1.0.0->-r /content/neuspell/extras-requirements.txt (line 1)) (4.63.0)\n",
            "Requirement already satisfied: torch>=1.6.0 in /usr/local/lib/python3.7/dist-packages (from neuspell==1.0.0->-r /content/neuspell/extras-requirements.txt (line 1)) (1.10.0+cu111)\n",
            "Requirement already satisfied: numpy in /usr/local/lib/python3.7/dist-packages (from neuspell==1.0.0->-r /content/neuspell/extras-requirements.txt (line 1)) (1.21.5)\n",
            "Requirement already satisfied: jsonlines in /usr/local/lib/python3.7/dist-packages (from neuspell==1.0.0->-r /content/neuspell/extras-requirements.txt (line 1)) (3.0.0)\n",
            "Requirement already satisfied: sentencepiece in /usr/local/lib/python3.7/dist-packages (from neuspell==1.0.0->-r /content/neuspell/extras-requirements.txt (line 1)) (0.1.96)\n",
            "Requirement already satisfied: pytorch_pretrained_bert in /usr/local/lib/python3.7/dist-packages (from neuspell==1.0.0->-r /content/neuspell/extras-requirements.txt (line 1)) (0.6.2)\n",
            "Collecting allennlp==1.5.0\n",
            "  Downloading allennlp-1.5.0-py3-none-any.whl (517 kB)\n",
            "\u001b[K     |████████████████████████████████| 517 kB 34.7 MB/s \n",
            "\u001b[?25hRequirement already satisfied: spacy in /usr/local/lib/python3.7/dist-packages (from neuspell==1.0.0->-r /content/neuspell/extras-requirements.txt (line 1)) (2.2.4)\n",
            "Requirement already satisfied: requests>=2.18 in /usr/local/lib/python3.7/dist-packages (from allennlp==1.5.0->neuspell==1.0.0->-r /content/neuspell/extras-requirements.txt (line 1)) (2.23.0)\n",
            "Collecting transformers\n",
            "  Downloading transformers-4.2.2-py3-none-any.whl (1.8 MB)\n",
            "\u001b[K     |████████████████████████████████| 1.8 MB 52.6 MB/s \n",
            "\u001b[?25hCollecting filelock<3.1,>=3.0\n",
            "  Downloading filelock-3.0.12-py3-none-any.whl (7.6 kB)\n",
            "Collecting torch>=1.6.0\n",
            "  Downloading torch-1.7.1-cp37-cp37m-manylinux1_x86_64.whl (776.8 MB)\n",
            "\u001b[K     |████████████████████████████████| 776.8 MB 16 kB/s \n",
            "\u001b[?25hCollecting overrides==3.1.0\n",
            "  Downloading overrides-3.1.0.tar.gz (11 kB)\n",
            "Collecting jsonpickle\n",
            "  Downloading jsonpickle-2.1.0-py2.py3-none-any.whl (38 kB)\n",
            "Requirement already satisfied: scikit-learn in /usr/local/lib/python3.7/dist-packages (from allennlp==1.5.0->neuspell==1.0.0->-r /content/neuspell/extras-requirements.txt (line 1)) (1.0.2)\n",
            "Requirement already satisfied: h5py in /usr/local/lib/python3.7/dist-packages (from allennlp==1.5.0->neuspell==1.0.0->-r /content/neuspell/extras-requirements.txt (line 1)) (3.1.0)\n",
            "Requirement already satisfied: pytest in /usr/local/lib/python3.7/dist-packages (from allennlp==1.5.0->neuspell==1.0.0->-r /content/neuspell/extras-requirements.txt (line 1)) (3.6.4)\n",
            "Requirement already satisfied: nltk in /usr/local/lib/python3.7/dist-packages (from allennlp==1.5.0->neuspell==1.0.0->-r /content/neuspell/extras-requirements.txt (line 1)) (3.2.5)\n",
            "Collecting tensorboardX>=1.2\n",
            "  Downloading tensorboardX-2.5-py2.py3-none-any.whl (125 kB)\n",
            "\u001b[K     |████████████████████████████████| 125 kB 74.7 MB/s \n",
            "\u001b[?25hRequirement already satisfied: scipy in /usr/local/lib/python3.7/dist-packages (from allennlp==1.5.0->neuspell==1.0.0->-r /content/neuspell/extras-requirements.txt (line 1)) (1.4.1)\n",
            "Collecting jsonnet>=0.10.0\n",
            "  Downloading jsonnet-0.18.0.tar.gz (592 kB)\n",
            "\u001b[K     |████████████████████████████████| 592 kB 53.1 MB/s \n",
            "\u001b[?25hRequirement already satisfied: boto3<2.0,>=1.14 in /usr/local/lib/python3.7/dist-packages (from allennlp==1.5.0->neuspell==1.0.0->-r /content/neuspell/extras-requirements.txt (line 1)) (1.21.13)\n",
            "Requirement already satisfied: s3transfer<0.6.0,>=0.5.0 in /usr/local/lib/python3.7/dist-packages (from boto3<2.0,>=1.14->allennlp==1.5.0->neuspell==1.0.0->-r /content/neuspell/extras-requirements.txt (line 1)) (0.5.2)\n",
            "Requirement already satisfied: jmespath<1.0.0,>=0.7.1 in /usr/local/lib/python3.7/dist-packages (from boto3<2.0,>=1.14->allennlp==1.5.0->neuspell==1.0.0->-r /content/neuspell/extras-requirements.txt (line 1)) (0.10.0)\n",
            "Requirement already satisfied: botocore<1.25.0,>=1.24.13 in /usr/local/lib/python3.7/dist-packages (from boto3<2.0,>=1.14->allennlp==1.5.0->neuspell==1.0.0->-r /content/neuspell/extras-requirements.txt (line 1)) (1.24.13)\n",
            "Requirement already satisfied: urllib3<1.27,>=1.25.4 in /usr/local/lib/python3.7/dist-packages (from botocore<1.25.0,>=1.24.13->boto3<2.0,>=1.14->allennlp==1.5.0->neuspell==1.0.0->-r /content/neuspell/extras-requirements.txt (line 1)) (1.25.11)\n",
            "Requirement already satisfied: python-dateutil<3.0.0,>=2.1 in /usr/local/lib/python3.7/dist-packages (from botocore<1.25.0,>=1.24.13->boto3<2.0,>=1.14->allennlp==1.5.0->neuspell==1.0.0->-r /content/neuspell/extras-requirements.txt (line 1)) (2.8.2)\n",
            "Requirement already satisfied: six>=1.5 in /usr/local/lib/python3.7/dist-packages (from python-dateutil<3.0.0,>=2.1->botocore<1.25.0,>=1.24.13->boto3<2.0,>=1.14->allennlp==1.5.0->neuspell==1.0.0->-r /content/neuspell/extras-requirements.txt (line 1)) (1.15.0)\n",
            "Requirement already satisfied: idna<3,>=2.5 in /usr/local/lib/python3.7/dist-packages (from requests>=2.18->allennlp==1.5.0->neuspell==1.0.0->-r /content/neuspell/extras-requirements.txt (line 1)) (2.10)\n",
            "Requirement already satisfied: chardet<4,>=3.0.2 in /usr/local/lib/python3.7/dist-packages (from requests>=2.18->allennlp==1.5.0->neuspell==1.0.0->-r /content/neuspell/extras-requirements.txt (line 1)) (3.0.4)\n",
            "Requirement already satisfied: certifi>=2017.4.17 in /usr/local/lib/python3.7/dist-packages (from requests>=2.18->allennlp==1.5.0->neuspell==1.0.0->-r /content/neuspell/extras-requirements.txt (line 1)) (2021.10.8)\n",
            "Requirement already satisfied: blis<0.5.0,>=0.4.0 in /usr/local/lib/python3.7/dist-packages (from spacy->neuspell==1.0.0->-r /content/neuspell/extras-requirements.txt (line 1)) (0.4.1)\n",
            "Requirement already satisfied: catalogue<1.1.0,>=0.0.7 in /usr/local/lib/python3.7/dist-packages (from spacy->neuspell==1.0.0->-r /content/neuspell/extras-requirements.txt (line 1)) (1.0.0)\n",
            "Requirement already satisfied: setuptools in /usr/local/lib/python3.7/dist-packages (from spacy->neuspell==1.0.0->-r /content/neuspell/extras-requirements.txt (line 1)) (57.4.0)\n",
            "Requirement already satisfied: murmurhash<1.1.0,>=0.28.0 in /usr/local/lib/python3.7/dist-packages (from spacy->neuspell==1.0.0->-r /content/neuspell/extras-requirements.txt (line 1)) (1.0.6)\n",
            "Requirement already satisfied: wasabi<1.1.0,>=0.4.0 in /usr/local/lib/python3.7/dist-packages (from spacy->neuspell==1.0.0->-r /content/neuspell/extras-requirements.txt (line 1)) (0.9.0)\n",
            "Requirement already satisfied: preshed<3.1.0,>=3.0.2 in /usr/local/lib/python3.7/dist-packages (from spacy->neuspell==1.0.0->-r /content/neuspell/extras-requirements.txt (line 1)) (3.0.6)\n",
            "Requirement already satisfied: cymem<2.1.0,>=2.0.2 in /usr/local/lib/python3.7/dist-packages (from spacy->neuspell==1.0.0->-r /content/neuspell/extras-requirements.txt (line 1)) (2.0.6)\n",
            "Requirement already satisfied: plac<1.2.0,>=0.9.6 in /usr/local/lib/python3.7/dist-packages (from spacy->neuspell==1.0.0->-r /content/neuspell/extras-requirements.txt (line 1)) (1.1.3)\n",
            "Requirement already satisfied: srsly<1.1.0,>=1.0.2 in /usr/local/lib/python3.7/dist-packages (from spacy->neuspell==1.0.0->-r /content/neuspell/extras-requirements.txt (line 1)) (1.0.5)\n",
            "Requirement already satisfied: thinc==7.4.0 in /usr/local/lib/python3.7/dist-packages (from spacy->neuspell==1.0.0->-r /content/neuspell/extras-requirements.txt (line 1)) (7.4.0)\n",
            "Requirement already satisfied: importlib-metadata>=0.20 in /usr/local/lib/python3.7/dist-packages (from catalogue<1.1.0,>=0.0.7->spacy->neuspell==1.0.0->-r /content/neuspell/extras-requirements.txt (line 1)) (4.11.2)\n",
            "Requirement already satisfied: typing-extensions>=3.6.4 in /usr/local/lib/python3.7/dist-packages (from importlib-metadata>=0.20->catalogue<1.1.0,>=0.0.7->spacy->neuspell==1.0.0->-r /content/neuspell/extras-requirements.txt (line 1)) (3.10.0.2)\n",
            "Requirement already satisfied: zipp>=0.5 in /usr/local/lib/python3.7/dist-packages (from importlib-metadata>=0.20->catalogue<1.1.0,>=0.0.7->spacy->neuspell==1.0.0->-r /content/neuspell/extras-requirements.txt (line 1)) (3.7.0)\n",
            "Requirement already satisfied: protobuf>=3.8.0 in /usr/local/lib/python3.7/dist-packages (from tensorboardX>=1.2->allennlp==1.5.0->neuspell==1.0.0->-r /content/neuspell/extras-requirements.txt (line 1)) (3.17.3)\n",
            "Collecting tokenizers==0.9.4\n",
            "  Downloading tokenizers-0.9.4-cp37-cp37m-manylinux2010_x86_64.whl (2.9 MB)\n",
            "\u001b[K     |████████████████████████████████| 2.9 MB 50.4 MB/s \n",
            "\u001b[?25hRequirement already satisfied: regex!=2019.12.17 in /usr/local/lib/python3.7/dist-packages (from transformers->neuspell==1.0.0->-r /content/neuspell/extras-requirements.txt (line 1)) (2019.12.20)\n",
            "Requirement already satisfied: sacremoses in /usr/local/lib/python3.7/dist-packages (from transformers->neuspell==1.0.0->-r /content/neuspell/extras-requirements.txt (line 1)) (0.0.47)\n",
            "Requirement already satisfied: packaging in /usr/local/lib/python3.7/dist-packages (from transformers->neuspell==1.0.0->-r /content/neuspell/extras-requirements.txt (line 1)) (21.3)\n",
            "Requirement already satisfied: cached-property in /usr/local/lib/python3.7/dist-packages (from h5py->allennlp==1.5.0->neuspell==1.0.0->-r /content/neuspell/extras-requirements.txt (line 1)) (1.5.2)\n",
            "Requirement already satisfied: attrs>=19.2.0 in /usr/local/lib/python3.7/dist-packages (from jsonlines->neuspell==1.0.0->-r /content/neuspell/extras-requirements.txt (line 1)) (21.4.0)\n",
            "Requirement already satisfied: pyparsing!=3.0.5,>=2.0.2 in /usr/local/lib/python3.7/dist-packages (from packaging->transformers->neuspell==1.0.0->-r /content/neuspell/extras-requirements.txt (line 1)) (3.0.7)\n",
            "Requirement already satisfied: py>=1.5.0 in /usr/local/lib/python3.7/dist-packages (from pytest->allennlp==1.5.0->neuspell==1.0.0->-r /content/neuspell/extras-requirements.txt (line 1)) (1.11.0)\n",
            "Requirement already satisfied: atomicwrites>=1.0 in /usr/local/lib/python3.7/dist-packages (from pytest->allennlp==1.5.0->neuspell==1.0.0->-r /content/neuspell/extras-requirements.txt (line 1)) (1.4.0)\n",
            "Requirement already satisfied: more-itertools>=4.0.0 in /usr/local/lib/python3.7/dist-packages (from pytest->allennlp==1.5.0->neuspell==1.0.0->-r /content/neuspell/extras-requirements.txt (line 1)) (8.12.0)\n",
            "Requirement already satisfied: pluggy<0.8,>=0.5 in /usr/local/lib/python3.7/dist-packages (from pytest->allennlp==1.5.0->neuspell==1.0.0->-r /content/neuspell/extras-requirements.txt (line 1)) (0.7.1)\n",
            "Requirement already satisfied: click in /usr/local/lib/python3.7/dist-packages (from sacremoses->transformers->neuspell==1.0.0->-r /content/neuspell/extras-requirements.txt (line 1)) (7.1.2)\n",
            "Requirement already satisfied: joblib in /usr/local/lib/python3.7/dist-packages (from sacremoses->transformers->neuspell==1.0.0->-r /content/neuspell/extras-requirements.txt (line 1)) (1.1.0)\n",
            "Requirement already satisfied: threadpoolctl>=2.0.0 in /usr/local/lib/python3.7/dist-packages (from scikit-learn->allennlp==1.5.0->neuspell==1.0.0->-r /content/neuspell/extras-requirements.txt (line 1)) (3.1.0)\n",
            "Building wheels for collected packages: overrides, jsonnet\n",
            "  Building wheel for overrides (setup.py) ... \u001b[?25l\u001b[?25hdone\n",
            "  Created wheel for overrides: filename=overrides-3.1.0-py3-none-any.whl size=10187 sha256=d997925d166f69606af080c2e599eff9246e9a19843ea6f07f2014037c386c58\n",
            "  Stored in directory: /root/.cache/pip/wheels/3a/0d/38/01a9bc6e20dcfaf0a6a7b552d03137558ba1c38aea47644682\n",
            "  Building wheel for jsonnet (setup.py) ... \u001b[?25l\u001b[?25hdone\n",
            "  Created wheel for jsonnet: filename=jsonnet-0.18.0-cp37-cp37m-linux_x86_64.whl size=3994554 sha256=6c2cb7bdf5d1de489371b8005ce5eadda1a19fe27eaf9d45fdca1443200658d3\n",
            "  Stored in directory: /root/.cache/pip/wheels/a9/63/f9/a653f9c21575e6ff271ee6a49939aa002005174cea6c35919d\n",
            "Successfully built overrides jsonnet\n",
            "Installing collected packages: torch, tokenizers, filelock, transformers, tensorboardX, overrides, jsonpickle, jsonnet, neuspell, allennlp\n",
            "  Attempting uninstall: torch\n",
            "    Found existing installation: torch 1.10.0+cu111\n",
            "    Uninstalling torch-1.10.0+cu111:\n",
            "      Successfully uninstalled torch-1.10.0+cu111\n",
            "  Attempting uninstall: tokenizers\n",
            "    Found existing installation: tokenizers 0.11.6\n",
            "    Uninstalling tokenizers-0.11.6:\n",
            "      Successfully uninstalled tokenizers-0.11.6\n",
            "  Attempting uninstall: filelock\n",
            "    Found existing installation: filelock 3.6.0\n",
            "    Uninstalling filelock-3.6.0:\n",
            "      Successfully uninstalled filelock-3.6.0\n",
            "  Attempting uninstall: transformers\n",
            "    Found existing installation: transformers 4.17.0\n",
            "    Uninstalling transformers-4.17.0:\n",
            "      Successfully uninstalled transformers-4.17.0\n",
            "  Attempting uninstall: neuspell\n",
            "    Found existing installation: neuspell 1.0.0\n",
            "    Can't uninstall 'neuspell'. No files were found to uninstall.\n",
            "  Running setup.py develop for neuspell\n",
            "\u001b[31mERROR: pip's dependency resolver does not currently take into account all the packages that are installed. This behaviour is the source of the following dependency conflicts.\n",
            "torchvision 0.11.1+cu111 requires torch==1.10.0, but you have torch 1.7.1 which is incompatible.\n",
            "torchtext 0.11.0 requires torch==1.10.0, but you have torch 1.7.1 which is incompatible.\n",
            "torchaudio 0.10.0+cu111 requires torch==1.10.0, but you have torch 1.7.1 which is incompatible.\u001b[0m\n",
            "Successfully installed allennlp-1.5.0 filelock-3.0.12 jsonnet-0.18.0 jsonpickle-2.1.0 neuspell-1.0.0 overrides-3.1.0 tensorboardX-2.5 tokenizers-0.9.4 torch-1.7.1 transformers-4.2.2\n"
          ]
        }
      ]
    },
    {
      "cell_type": "code",
      "source": [
        "#Installing SpaCy language\n",
        "!python -m spacy download en_core_web_sm"
      ],
      "metadata": {
        "colab": {
          "base_uri": "https://localhost:8080/"
        },
        "id": "L0t4tctzYLmF",
        "outputId": "92000cd1-5868-4d86-a68d-801f40a0cef3"
      },
      "execution_count": null,
      "outputs": [
        {
          "output_type": "stream",
          "name": "stdout",
          "text": [
            "Collecting en_core_web_sm==2.2.5\n",
            "  Downloading https://github.com/explosion/spacy-models/releases/download/en_core_web_sm-2.2.5/en_core_web_sm-2.2.5.tar.gz (12.0 MB)\n",
            "\u001b[K     |████████████████████████████████| 12.0 MB 445 kB/s \n",
            "\u001b[?25hRequirement already satisfied: spacy>=2.2.2 in /usr/local/lib/python3.7/dist-packages (from en_core_web_sm==2.2.5) (2.2.4)\n",
            "Requirement already satisfied: blis<0.5.0,>=0.4.0 in /usr/local/lib/python3.7/dist-packages (from spacy>=2.2.2->en_core_web_sm==2.2.5) (0.4.1)\n",
            "Requirement already satisfied: thinc==7.4.0 in /usr/local/lib/python3.7/dist-packages (from spacy>=2.2.2->en_core_web_sm==2.2.5) (7.4.0)\n",
            "Requirement already satisfied: wasabi<1.1.0,>=0.4.0 in /usr/local/lib/python3.7/dist-packages (from spacy>=2.2.2->en_core_web_sm==2.2.5) (0.9.0)\n",
            "Requirement already satisfied: requests<3.0.0,>=2.13.0 in /usr/local/lib/python3.7/dist-packages (from spacy>=2.2.2->en_core_web_sm==2.2.5) (2.23.0)\n",
            "Requirement already satisfied: preshed<3.1.0,>=3.0.2 in /usr/local/lib/python3.7/dist-packages (from spacy>=2.2.2->en_core_web_sm==2.2.5) (3.0.6)\n",
            "Requirement already satisfied: catalogue<1.1.0,>=0.0.7 in /usr/local/lib/python3.7/dist-packages (from spacy>=2.2.2->en_core_web_sm==2.2.5) (1.0.0)\n",
            "Requirement already satisfied: numpy>=1.15.0 in /usr/local/lib/python3.7/dist-packages (from spacy>=2.2.2->en_core_web_sm==2.2.5) (1.21.5)\n",
            "Requirement already satisfied: setuptools in /usr/local/lib/python3.7/dist-packages (from spacy>=2.2.2->en_core_web_sm==2.2.5) (57.4.0)\n",
            "Requirement already satisfied: srsly<1.1.0,>=1.0.2 in /usr/local/lib/python3.7/dist-packages (from spacy>=2.2.2->en_core_web_sm==2.2.5) (1.0.5)\n",
            "Requirement already satisfied: tqdm<5.0.0,>=4.38.0 in /usr/local/lib/python3.7/dist-packages (from spacy>=2.2.2->en_core_web_sm==2.2.5) (4.63.0)\n",
            "Requirement already satisfied: cymem<2.1.0,>=2.0.2 in /usr/local/lib/python3.7/dist-packages (from spacy>=2.2.2->en_core_web_sm==2.2.5) (2.0.6)\n",
            "Requirement already satisfied: plac<1.2.0,>=0.9.6 in /usr/local/lib/python3.7/dist-packages (from spacy>=2.2.2->en_core_web_sm==2.2.5) (1.1.3)\n",
            "Requirement already satisfied: murmurhash<1.1.0,>=0.28.0 in /usr/local/lib/python3.7/dist-packages (from spacy>=2.2.2->en_core_web_sm==2.2.5) (1.0.6)\n",
            "Requirement already satisfied: importlib-metadata>=0.20 in /usr/local/lib/python3.7/dist-packages (from catalogue<1.1.0,>=0.0.7->spacy>=2.2.2->en_core_web_sm==2.2.5) (4.11.2)\n",
            "Requirement already satisfied: typing-extensions>=3.6.4 in /usr/local/lib/python3.7/dist-packages (from importlib-metadata>=0.20->catalogue<1.1.0,>=0.0.7->spacy>=2.2.2->en_core_web_sm==2.2.5) (3.10.0.2)\n",
            "Requirement already satisfied: zipp>=0.5 in /usr/local/lib/python3.7/dist-packages (from importlib-metadata>=0.20->catalogue<1.1.0,>=0.0.7->spacy>=2.2.2->en_core_web_sm==2.2.5) (3.7.0)\n",
            "Requirement already satisfied: urllib3!=1.25.0,!=1.25.1,<1.26,>=1.21.1 in /usr/local/lib/python3.7/dist-packages (from requests<3.0.0,>=2.13.0->spacy>=2.2.2->en_core_web_sm==2.2.5) (1.25.11)\n",
            "Requirement already satisfied: certifi>=2017.4.17 in /usr/local/lib/python3.7/dist-packages (from requests<3.0.0,>=2.13.0->spacy>=2.2.2->en_core_web_sm==2.2.5) (2021.10.8)\n",
            "Requirement already satisfied: idna<3,>=2.5 in /usr/local/lib/python3.7/dist-packages (from requests<3.0.0,>=2.13.0->spacy>=2.2.2->en_core_web_sm==2.2.5) (2.10)\n",
            "Requirement already satisfied: chardet<4,>=3.0.2 in /usr/local/lib/python3.7/dist-packages (from requests<3.0.0,>=2.13.0->spacy>=2.2.2->en_core_web_sm==2.2.5) (3.0.4)\n",
            "\u001b[38;5;2m✔ Download and installation successful\u001b[0m\n",
            "You can now load the model via spacy.load('en_core_web_sm')\n"
          ]
        }
      ]
    },
    {
      "cell_type": "code",
      "source": [
        "#upgrading gdown\n",
        "!pip install --upgrade --no-cache-dir gdown"
      ],
      "metadata": {
        "colab": {
          "base_uri": "https://localhost:8080/"
        },
        "id": "P3ze7kW4fwqi",
        "outputId": "6fa0561d-63e8-4f0e-ef26-65c3f794c821"
      },
      "execution_count": null,
      "outputs": [
        {
          "output_type": "stream",
          "name": "stdout",
          "text": [
            "Requirement already satisfied: gdown in /usr/local/lib/python3.7/dist-packages (4.2.2)\n",
            "Collecting gdown\n",
            "  Downloading gdown-4.4.0.tar.gz (14 kB)\n",
            "  Installing build dependencies ... \u001b[?25l\u001b[?25hdone\n",
            "  Getting requirements to build wheel ... \u001b[?25l\u001b[?25hdone\n",
            "    Preparing wheel metadata ... \u001b[?25l\u001b[?25hdone\n",
            "Requirement already satisfied: beautifulsoup4 in /usr/local/lib/python3.7/dist-packages (from gdown) (4.6.3)\n",
            "Requirement already satisfied: requests[socks] in /usr/local/lib/python3.7/dist-packages (from gdown) (2.23.0)\n",
            "Requirement already satisfied: tqdm in /usr/local/lib/python3.7/dist-packages (from gdown) (4.63.0)\n",
            "Requirement already satisfied: filelock in /usr/local/lib/python3.7/dist-packages (from gdown) (3.0.12)\n",
            "Requirement already satisfied: six in /usr/local/lib/python3.7/dist-packages (from gdown) (1.15.0)\n",
            "Requirement already satisfied: idna<3,>=2.5 in /usr/local/lib/python3.7/dist-packages (from requests[socks]->gdown) (2.10)\n",
            "Requirement already satisfied: certifi>=2017.4.17 in /usr/local/lib/python3.7/dist-packages (from requests[socks]->gdown) (2021.10.8)\n",
            "Requirement already satisfied: chardet<4,>=3.0.2 in /usr/local/lib/python3.7/dist-packages (from requests[socks]->gdown) (3.0.4)\n",
            "Requirement already satisfied: urllib3!=1.25.0,!=1.25.1,<1.26,>=1.21.1 in /usr/local/lib/python3.7/dist-packages (from requests[socks]->gdown) (1.25.11)\n",
            "Requirement already satisfied: PySocks!=1.5.7,>=1.5.6 in /usr/local/lib/python3.7/dist-packages (from requests[socks]->gdown) (1.7.1)\n",
            "Building wheels for collected packages: gdown\n",
            "  Building wheel for gdown (PEP 517) ... \u001b[?25l\u001b[?25hdone\n",
            "  Created wheel for gdown: filename=gdown-4.4.0-py3-none-any.whl size=14774 sha256=ee24ed6b2bf983a557ec75f2cd805ccdb97c734f8ab6424795e5d83f215fdfcb\n",
            "  Stored in directory: /tmp/pip-ephem-wheel-cache-ylcf3pzs/wheels/fb/c3/0e/c4d8ff8bfcb0461afff199471449f642179b74968c15b7a69c\n",
            "Successfully built gdown\n",
            "Installing collected packages: gdown\n",
            "  Attempting uninstall: gdown\n",
            "    Found existing installation: gdown 4.2.2\n",
            "    Uninstalling gdown-4.2.2:\n",
            "      Successfully uninstalled gdown-4.2.2\n",
            "Successfully installed gdown-4.4.0\n"
          ]
        }
      ]
    },
    {
      "cell_type": "code",
      "source": [
        "#Downlaoding model to checkpoint files\n",
        "!gdown --folder --id 1q-ftXn_a0woLIQbFWS5-4Y7SE_KB9szt -O /content/neuspell/data/checkpoints/subwordbert-probwordnoise"
      ],
      "metadata": {
        "colab": {
          "base_uri": "https://localhost:8080/"
        },
        "id": "ZxOhSq_wfVuI",
        "outputId": "a6d3fd1e-a756-4801-8af2-a6ae2bac396f"
      },
      "execution_count": null,
      "outputs": [
        {
          "output_type": "stream",
          "name": "stdout",
          "text": [
            "/usr/local/lib/python3.7/dist-packages/gdown/cli.py:131: FutureWarning: Option `--id` was deprecated in version 4.3.1 and will be removed in 5.0. You don't need to pass it anymore to use a file ID.\n",
            "  category=FutureWarning,\n",
            "Retrieving folder list\n",
            "Processing file 13FnCUPAG-P0-rFIRNewHYXZzwp4HBIjr model.pth.tar\n",
            "Processing file 1e23On5jwjYd8vCYt8kzxm_xgn8OoB-qn progress_retrain_from_epoch8.txt\n",
            "Processing file 1LZFXvSHUFRrtG1TW14rl4Y8Y1yCTCugD progress_retrain_from_epoch12.txt\n",
            "Processing file 1aTvTxtchNRfrwcnyXcSWURvC1V-7_IY9 progress.txt\n",
            "Processing file 12wPZCl04-00-6YhsX7EE1cEGYZtgGUvk pytorch_model.bin\n",
            "Processing file 11Bo86aI0MxAU1MHpF-eYfAHg3HqiT9me vocab.pkl\n",
            "Retrieving folder list completed\n",
            "Building directory structure\n",
            "Building directory structure completed\n",
            "Downloading...\n",
            "From: https://drive.google.com/uc?id=13FnCUPAG-P0-rFIRNewHYXZzwp4HBIjr\n",
            "To: /content/neuspell/data/checkpoints/subwordbert-probwordnoise/model.pth.tar\n",
            "100% 2.22G/2.22G [00:29<00:00, 75.7MB/s]\n",
            "Downloading...\n",
            "From: https://drive.google.com/uc?id=1e23On5jwjYd8vCYt8kzxm_xgn8OoB-qn\n",
            "To: /content/neuspell/data/checkpoints/subwordbert-probwordnoise/progress_retrain_from_epoch8.txt\n",
            "100% 21.4k/21.4k [00:00<00:00, 43.1MB/s]\n",
            "Downloading...\n",
            "From: https://drive.google.com/uc?id=1LZFXvSHUFRrtG1TW14rl4Y8Y1yCTCugD\n",
            "To: /content/neuspell/data/checkpoints/subwordbert-probwordnoise/progress_retrain_from_epoch12.txt\n",
            "100% 274/274 [00:00<00:00, 568kB/s]\n",
            "Downloading...\n",
            "From: https://drive.google.com/uc?id=1aTvTxtchNRfrwcnyXcSWURvC1V-7_IY9\n",
            "To: /content/neuspell/data/checkpoints/subwordbert-probwordnoise/progress.txt\n",
            "100% 32.7k/32.7k [00:00<00:00, 47.6MB/s]\n",
            "Downloading...\n",
            "From: https://drive.google.com/uc?id=12wPZCl04-00-6YhsX7EE1cEGYZtgGUvk\n",
            "To: /content/neuspell/data/checkpoints/subwordbert-probwordnoise/pytorch_model.bin\n",
            "100% 741M/741M [00:09<00:00, 78.5MB/s]\n",
            "Downloading...\n",
            "From: https://drive.google.com/uc?id=11Bo86aI0MxAU1MHpF-eYfAHg3HqiT9me\n",
            "To: /content/neuspell/data/checkpoints/subwordbert-probwordnoise/vocab.pkl\n",
            "100% 3.22M/3.22M [00:00<00:00, 84.0MB/s]\n",
            "Download completed\n"
          ]
        }
      ]
    },
    {
      "cell_type": "markdown",
      "source": [
        "# using a pretrained model (bert) on spell correction for inference"
      ],
      "metadata": {
        "id": "hIOEYprshKtQ"
      }
    },
    {
      "cell_type": "code",
      "source": [
        "#Inference \n",
        "import neuspell\n",
        "from neuspell import available_checkers, BertChecker\n",
        "\n",
        "\"\"\" see available checkers \"\"\"\n",
        "print(f\"available checkers: {neuspell.available_checkers()}\")\n",
        "\n",
        "#we downloaded subwordbert-probnoise\n",
        "\"\"\" select spell checkers & load \"\"\"\n",
        "checker = BertChecker()\n",
        "checker.from_pretrained(\"subwordbert-probwordnoise\")\n",
        "\n"
      ],
      "metadata": {
        "colab": {
          "base_uri": "https://localhost:8080/",
          "height": 384,
          "referenced_widgets": [
            "0e8b1b08f132470d9e5eed1721c1101b",
            "a615e702184e4ee58ceab6249c180a07",
            "6a9214bc16d14ed58e1ceb298bdc5779",
            "964bbba1b29f48bca98eec3f5d021d55",
            "848bbd0da75746a2a735d1c1f934225b",
            "54967ed98e6f4c039e1c4ceefadd55a2",
            "7ac8162639804451b9255550dd7e9c7c",
            "1abf92372ce145e497c8ccc51b15103c",
            "efc24bc3b1b4465e8c57bdd83f7e8596",
            "3d4bd460d6b9403a8ccbb54255c4462c",
            "ab98dabc3b69478596fabe234dd90c89",
            "e3e519eb045f4bec90046a7b2a5d3119",
            "4acf4068d6c54a058786a62f88fd0ee9",
            "b4ca323bf6c94f3fa0034a297a342b29",
            "34c77177ad4545cbb065e9b6f871f2f0",
            "82f88e6738e64421966dd55dab563629",
            "782264fc958a4d22873f93ce7362500b",
            "dbeaba785ff34e65bfaf1665dca58bc9",
            "7782246a1a8047f2907f60743e6d503f",
            "411f441c070e472791dc8f7b1e26ff8d",
            "6868918a4c754e4294064a3f91810b2f",
            "54a56c5bb50d489faa3ba2bbd2887cd8",
            "1b39a7d4dfec4b508598968ffed9542b",
            "45a84a7e78114a7f84b5163ee86ef53d",
            "2b5c896fc3ca4520910f807e4ff84ecc",
            "2f8d2e50b6e74e169f5bbcf17557602f",
            "a7dcba6d6b014fb5a8dae85ec51dae5e",
            "597c5ce11b9b473ab995fcf587005d32",
            "35d524a8b3fe4ea58c6d386fd5fb02c9",
            "3a0106a1d74a48f1b013d69346012fb3",
            "54cff5c24ea44fecaa6c0accb9bedee3",
            "b508720426a74fa3a7ef3cabad93526e",
            "610b764ddae6414697d893001e703b65",
            "97f439e4c23f4b2fb4420a1001dc3c2c",
            "44cc46fd8b2540a58dee9381c0721aa2",
            "82c086336e5a4ff08468223f331ae0b9",
            "e4a6ff1d9b0446d4be7a36acf333c71e",
            "f0329d1bf05241108d223058d32ff514",
            "53b024b8c04c4a13a2873bdffb80d8b1",
            "f337e38d9053416dbc4cd637f90c2b88",
            "e7f35f47370041ea8f1d2146190391a1",
            "52a8dcd2fa9c4016b3ffa39f48412c38",
            "9f29b085adad46cfa136c8e6963720a3",
            "65f2f77c23f243b0bc401dbd2ff7c76a",
            "272f1bcaec424ef8b3e1ca294d64c5c1",
            "0cc84eb76f1245f6aa92056b86dcd042",
            "991d353cfe5849188a3fc925cee174a7",
            "b53ff0fc2ab444249d7be9948ee667ba",
            "3fc8373ca1c64b80bacd8cc73fff3caa",
            "b270ad6ff1f645438efe4963f0d91132",
            "d699dcc5fbf84857a84659437cfc8e41",
            "68b62930c80a4da1b264530e25255b3a",
            "f2eecb86f3af41e4beaf8ea6a5588e7a",
            "c2eb884570ea4622bceee1d31ddc3a01",
            "78346354cd674aa38b410e855331752c",
            "c02907c656d149cebb6a0377fc0e1c8e",
            "8a2ff819617b41f58d0a77547309e7eb",
            "7b88142b4c3647d4aec7ca7a3b9717f6",
            "1413057803f84862b75f30557059964d",
            "aae24535700247fbbee8f798be0b77d1",
            "7fc949fbf3124f85be1d0bb9857a8ad8",
            "00120a9524944a58be88f25600f3796b",
            "791a6e9e27c34e45ac041d6410ec7c39",
            "108a8588176d4b93a54876718c578948",
            "92d69c84f3ed4c358b9671fa110c7dcd",
            "df74ba31ad284e9a80c599d70cea7632",
            "b45d6df6e839498abb402b1ef6f4e4bb",
            "79cc07af24eb402ea9805dc9be8e6073",
            "7f9120e785e34625887742ff9e436341",
            "0a8d2d83223a47328155d5dcea703ba4",
            "bcdbc243fa6e423fa24f50e7293aa40b",
            "99e55b4aa6b9433d8d65410904706838",
            "8a39a10c09d845ccaf8a1906c16dc2fe",
            "31530f7da6c4469c8bf30e579f744218",
            "7219b34d355c4e38906acde55f0c1114",
            "e577e1d8f3654c789866b619e76b63f1",
            "6224aa416fad44e5a6d894500286eeef"
          ]
        },
        "id": "j1bc8niFYzhG",
        "outputId": "9766cbc8-3abd-47ee-d640-05bdbc6bd05f"
      },
      "execution_count": null,
      "outputs": [
        {
          "output_type": "stream",
          "name": "stdout",
          "text": [
            "data folder is set to `/content/neuspell/neuspell/../data` script\n"
          ]
        },
        {
          "output_type": "display_data",
          "data": {
            "application/vnd.jupyter.widget-view+json": {
              "model_id": "0e8b1b08f132470d9e5eed1721c1101b",
              "version_minor": 0,
              "version_major": 2
            },
            "text/plain": [
              "Downloading:   0%|          | 0.00/1.04M [00:00<?, ?B/s]"
            ]
          },
          "metadata": {}
        },
        {
          "output_type": "display_data",
          "data": {
            "application/vnd.jupyter.widget-view+json": {
              "model_id": "e3e519eb045f4bec90046a7b2a5d3119",
              "version_minor": 0,
              "version_major": 2
            },
            "text/plain": [
              "Downloading:   0%|          | 0.00/456k [00:00<?, ?B/s]"
            ]
          },
          "metadata": {}
        },
        {
          "output_type": "display_data",
          "data": {
            "application/vnd.jupyter.widget-view+json": {
              "model_id": "1b39a7d4dfec4b508598968ffed9542b",
              "version_minor": 0,
              "version_major": 2
            },
            "text/plain": [
              "Downloading:   0%|          | 0.00/718 [00:00<?, ?B/s]"
            ]
          },
          "metadata": {}
        },
        {
          "output_type": "display_data",
          "data": {
            "application/vnd.jupyter.widget-view+json": {
              "model_id": "97f439e4c23f4b2fb4420a1001dc3c2c",
              "version_minor": 0,
              "version_major": 2
            },
            "text/plain": [
              "Downloading:   0%|          | 0.00/1.52G [00:00<?, ?B/s]"
            ]
          },
          "metadata": {}
        },
        {
          "output_type": "stream",
          "name": "stdout",
          "text": [
            "available checkers: ['BertsclstmChecker', 'CnnlstmChecker', 'ElmosclstmChecker', 'NestedlstmChecker', 'SclstmChecker', 'SclstmbertChecker', 'SclstmelmoChecker', 'BertChecker']\n",
            "loading vocab from path:/content/neuspell/neuspell/../data/checkpoints/subwordbert-probwordnoise/vocab.pkl\n",
            "initializing model\n"
          ]
        },
        {
          "output_type": "display_data",
          "data": {
            "application/vnd.jupyter.widget-view+json": {
              "model_id": "272f1bcaec424ef8b3e1ca294d64c5c1",
              "version_minor": 0,
              "version_major": 2
            },
            "text/plain": [
              "Downloading:   0%|          | 0.00/570 [00:00<?, ?B/s]"
            ]
          },
          "metadata": {}
        },
        {
          "output_type": "display_data",
          "data": {
            "application/vnd.jupyter.widget-view+json": {
              "model_id": "c02907c656d149cebb6a0377fc0e1c8e",
              "version_minor": 0,
              "version_major": 2
            },
            "text/plain": [
              "Downloading:   0%|          | 0.00/436M [00:00<?, ?B/s]"
            ]
          },
          "metadata": {}
        },
        {
          "output_type": "stream",
          "name": "stdout",
          "text": [
            "Number of parameters in the model: 185211810\n",
            "Loading model params from checkpoint dir: /content/neuspell/neuspell/../data/checkpoints/subwordbert-probwordnoise\n"
          ]
        },
        {
          "output_type": "display_data",
          "data": {
            "application/vnd.jupyter.widget-view+json": {
              "model_id": "b45d6df6e839498abb402b1ef6f4e4bb",
              "version_minor": 0,
              "version_major": 2
            },
            "text/plain": [
              "Downloading:   0%|          | 0.00/213k [00:00<?, ?B/s]"
            ]
          },
          "metadata": {}
        },
        {
          "output_type": "execute_result",
          "data": {
            "application/vnd.google.colaboratory.intrinsic+json": {
              "type": "string"
            },
            "text/plain": [
              "\"I ' m trying to use this spellcorrector for the first time\""
            ]
          },
          "metadata": {},
          "execution_count": 6
        }
      ]
    },
    {
      "cell_type": "code",
      "source": [
        "#Using the model for spell correcting\n",
        "checker.correct(\"I'm tryying to use this spellcorrector for the frrst tim\")"
      ],
      "metadata": {
        "colab": {
          "base_uri": "https://localhost:8080/",
          "height": 35
        },
        "id": "E8Hef0csCD5s",
        "outputId": "53154cd5-fef0-4165-9b1b-916dc915cc27"
      },
      "execution_count": null,
      "outputs": [
        {
          "output_type": "execute_result",
          "data": {
            "application/vnd.google.colaboratory.intrinsic+json": {
              "type": "string"
            },
            "text/plain": [
              "\"I ' m trying to use this spellcorrector for the first time\""
            ]
          },
          "metadata": {},
          "execution_count": 7
        }
      ]
    },
    {
      "cell_type": "code",
      "source": [
        "checker = BertChecker()\n",
        "checker.from_pretrained()\n",
        "checker.evaluate(clean_file='test.bea20k', corrupt_file='test.bea20k.noise', data_dir='/content/neuspell/data/traintest')"
      ],
      "metadata": {
        "colab": {
          "base_uri": "https://localhost:8080/"
        },
        "id": "nfoh0ni3Bdgk",
        "outputId": "78733100-0a50-41af-c3e4-0eb6f7a40ab8"
      },
      "execution_count": null,
      "outputs": [
        {
          "output_type": "stream",
          "name": "stdout",
          "text": [
            "loading vocab from path:/content/neuspell/neuspell/../data/checkpoints/subwordbert-probwordnoise/vocab.pkl\n",
            "initializing model\n",
            "Number of parameters in the model: 185211810\n",
            "Loading model params from checkpoint dir: /content/neuspell/neuspell/../data/checkpoints/subwordbert-probwordnoise\n",
            "/content/neuspell/data/traintest test.bea20k test.bea20k.noise\n"
          ]
        },
        {
          "output_type": "stream",
          "name": "stderr",
          "text": [
            "22087it [00:00, 413601.00it/s]\n",
            "22087it [00:00, 1649477.28it/s]"
          ]
        },
        {
          "output_type": "stream",
          "name": "stdout",
          "text": [
            "loaded tuples of (corr,incorr) examples from /content/neuspell/data/traintest\n",
            "###############################################\n",
            "data size: 22087\n"
          ]
        },
        {
          "output_type": "stream",
          "name": "stderr",
          "text": [
            "\n",
            "1381it [03:25,  6.72it/s]"
          ]
        },
        {
          "output_type": "stream",
          "name": "stdout",
          "text": [
            "\n",
            "Epoch None valid_loss: 0.26577909992089604\n",
            "total inference time for this data is: 205.726935 secs\n",
            "###############################################\n",
            "\n",
            "\n",
            "total token count: 414616\n",
            "_corr2corr:381964, _corr2incorr:7678, _incorr2corr:19862, _incorr2incorr:5112\n",
            "accuracy is 0.9691521793659675\n",
            "word correction rate is 0.7953071194041803\n",
            "###############################################\n"
          ]
        },
        {
          "output_type": "stream",
          "name": "stderr",
          "text": [
            "\n"
          ]
        }
      ]
    },
    {
      "cell_type": "code",
      "source": [
        ""
      ],
      "metadata": {
        "id": "MWop3pxaldub"
      },
      "execution_count": null,
      "outputs": []
    },
    {
      "cell_type": "markdown",
      "source": [
        "# data preparation for funing tuning"
      ],
      "metadata": {
        "id": "MnoX5LvH0q5L"
      }
    },
    {
      "cell_type": "code",
      "source": [
        "#downloading the data to check the data format\n",
        "%cd /content/neuspell/data/traintest\n",
        "!python download_datafiles.py \n"
      ],
      "metadata": {
        "colab": {
          "base_uri": "https://localhost:8080/"
        },
        "id": "H7JhK8rHZAje",
        "outputId": "c9e04ec4-ef27-4309-a910-c081296573ec"
      },
      "execution_count": null,
      "outputs": [
        {
          "output_type": "stream",
          "name": "stdout",
          "text": [
            "/content/neuspell/data/traintest\n",
            "./wo_context created\n"
          ]
        }
      ]
    },
    {
      "cell_type": "markdown",
      "source": [
        "We found that the data is made of 2 text file one for correct and anther for corrupt, we will get our data from kaggle to finetune the model.\n",
        "https://www.kaggle.com/bittlingmayer/spelling"
      ],
      "metadata": {
        "id": "9dCg5lr83vVj"
      }
    },
    {
      "cell_type": "code",
      "source": [
        "#down my custom data which I got from kaggle \n",
        "!gdown --id 1kKSefvVMK39yG9StoAUVNUPs1QCLRXHc -O /content/neuspell/data.txt"
      ],
      "metadata": {
        "colab": {
          "base_uri": "https://localhost:8080/"
        },
        "id": "Czyc2ApIlL5T",
        "outputId": "ce87a478-6481-46d1-cd0a-71356843b372"
      },
      "execution_count": null,
      "outputs": [
        {
          "output_type": "stream",
          "name": "stdout",
          "text": [
            "/usr/local/lib/python3.7/dist-packages/gdown/cli.py:131: FutureWarning: Option `--id` was deprecated in version 4.3.1 and will be removed in 5.0. You don't need to pass it anymore to use a file ID.\n",
            "  category=FutureWarning,\n",
            "Downloading...\n",
            "From: https://drive.google.com/uc?id=1kKSefvVMK39yG9StoAUVNUPs1QCLRXHc\n",
            "To: /content/neuspell/data.txt\n",
            "100% 375k/375k [00:00<00:00, 133MB/s]\n"
          ]
        }
      ]
    },
    {
      "cell_type": "code",
      "source": [
        "#read the data as a CSV\n",
        "import pandas as pd \n",
        "\n",
        "df = pd.read_csv(\"/content/neuspell/data.txt\", sep=\":\", header=None)"
      ],
      "metadata": {
        "id": "wsKDMIaCqsAI"
      },
      "execution_count": null,
      "outputs": []
    },
    {
      "cell_type": "code",
      "source": [
        "# forming the second column as a list\n",
        "for idx, row in df.iterrows():\n",
        "  row[1] = row[1].strip()\n",
        "  row[1] = row[1].split(\" \")"
      ],
      "metadata": {
        "id": "egyryK19ryfs"
      },
      "execution_count": null,
      "outputs": []
    },
    {
      "cell_type": "code",
      "source": [
        "#exploding the lists to rows \n",
        "df = df.explode(1, ignore_index=True)"
      ],
      "metadata": {
        "id": "QS1i_aO3syBl"
      },
      "execution_count": null,
      "outputs": []
    },
    {
      "cell_type": "code",
      "source": [
        "# Making out own Dir\n",
        "import os\n",
        "try :\n",
        "  os.mkdir(\"/content/neuspell/data/customTrain\")\n",
        "except: \n",
        "  pass"
      ],
      "metadata": {
        "id": "FlBozSaGwYPq"
      },
      "execution_count": null,
      "outputs": []
    },
    {
      "cell_type": "code",
      "source": [
        "#spliting the datafram to Correct and corrput\n",
        "df_clean = df[0]\n",
        "df_corr = df[1]"
      ],
      "metadata": {
        "id": "hCgdc-KexA-S"
      },
      "execution_count": null,
      "outputs": []
    },
    {
      "cell_type": "code",
      "source": [
        "type(df_corr)"
      ],
      "metadata": {
        "colab": {
          "base_uri": "https://localhost:8080/"
        },
        "id": "Tro2rNUWyraK",
        "outputId": "0533cbc4-ec45-41d5-ec7c-08230e2d60b5"
      },
      "execution_count": null,
      "outputs": [
        {
          "output_type": "execute_result",
          "data": {
            "text/plain": [
              "pandas.core.series.Series"
            ]
          },
          "metadata": {},
          "execution_count": 16
        }
      ]
    },
    {
      "cell_type": "code",
      "source": [
        "#saving the data to txt file\n",
        "df_clean.to_csv(r'/content/neuspell/data/customTrain/clean.txt', header=None, index=None, sep=',', mode='w')\n",
        "df_corr.to_csv(r'/content/neuspell/data/customTrain/corrupt.txt', header=None, index=None, sep=',', mode='w')"
      ],
      "metadata": {
        "id": "87LJbqfsvcn8"
      },
      "execution_count": null,
      "outputs": []
    },
    {
      "cell_type": "markdown",
      "source": [
        "# Training the data using neuspell"
      ],
      "metadata": {
        "id": "x4Kpry5y1kwb"
      }
    },
    {
      "cell_type": "code",
      "source": [
        "#Here we finetuned our model on custom dataset\n",
        "from neuspell import BertChecker\n",
        "\n",
        "checker = BertChecker(device=\"cuda\")\n",
        "checker.from_pretrained()\n",
        "checker.finetune(clean_file=\"clean.txt\", corrupt_file=\"corrupt.txt\", data_dir=\"/content/neuspell/data/customTrain\")"
      ],
      "metadata": {
        "colab": {
          "base_uri": "https://localhost:8080/"
        },
        "id": "g86URmLL1rHN",
        "outputId": "ea0bfdc2-a440-4a1d-f649-1d51388eba77"
      },
      "execution_count": null,
      "outputs": [
        {
          "output_type": "stream",
          "name": "stdout",
          "text": [
            "loading vocab from path:/content/neuspell/neuspell/../data/checkpoints/subwordbert-probwordnoise/vocab.pkl\n",
            "initializing model\n",
            "Number of parameters in the model: 185211810\n",
            "Loading model params from checkpoint dir: /content/neuspell/neuspell/../data/checkpoints/subwordbert-probwordnoise\n"
          ]
        },
        {
          "output_type": "stream",
          "name": "stderr",
          "text": [
            "36133it [00:00, 1310250.86it/s]\n",
            "36133it [00:00, 1195079.30it/s]\n"
          ]
        },
        {
          "output_type": "stream",
          "name": "stdout",
          "text": [
            "loaded tuples of (corr,incorr) examples from /content/neuspell/data/customTrain\n",
            "len of train and test data:  28907 7226\n",
            "CHECKPOINT_PATH: /content/neuspell/neuspell/../data/checkpoints/subwordbert-probwordnoise/new_models/bert-base-cased\n",
            "Training model params\n",
            "In epoch: 0\n",
            "train_data size: 28907\n",
            "Percent: [>                             ] 0% || batch_time: 0.2521 || batch_loss: 3.7497 || avg_batch_loss: 3.7263 || batch_acc: 0.6875 || avg_batch_acc: 0.6875 "
          ]
        },
        {
          "output_type": "stream",
          "name": "stderr",
          "text": [
            "/usr/local/lib/python3.7/dist-packages/pytorch_pretrained_bert/optimization.py:275: UserWarning: This overload of add_ is deprecated:\n",
            "\tadd_(Number alpha, Tensor other)\n",
            "Consider using one of the following signatures instead:\n",
            "\tadd_(Tensor other, *, Number alpha) (Triggered internally at  /pytorch/torch/csrc/utils/python_arg_parser.cpp:882.)\n",
            "  next_m.mul_(beta1).add_(1 - beta1, grad)\n"
          ]
        },
        {
          "output_type": "stream",
          "name": "stdout",
          "text": [
            "Percent: [----------------------------->] 100% || batch_time: 0.2126 || batch_loss: 1.5683 || avg_batch_loss: 1.5566 || batch_acc: 0.6875 || avg_batch_acc: 0.6875 \n",
            "Epoch 0 train_loss: 1.5565638367538137\n",
            "valid_data size: 7226\n",
            "Percent: [----------------------------->] 100% || batch_time: 0.0285 || batch_loss: 1.4401 || avg_batch_loss: 1.1570 || batch_acc: 0.6538 || avg_batch_acc: 0.7591 \n",
            "Epoch 0 valid_loss: 1.1569963636915241\n",
            "validation accuracy improved from -1.0000 to 171.5457\n",
            "Model saved at /content/neuspell/neuspell/../data/checkpoints/subwordbert-probwordnoise/new_models/bert-base-cased/pytorch_model.bin in epoch 0\n",
            "In epoch: 1\n",
            "train_data size: 28907\n",
            "Percent: [----------------------------->] 100% || batch_time: 0.2114 || batch_loss: 0.3962 || avg_batch_loss: 0.4752 || batch_acc: 1.0000 || avg_batch_acc: 1.0000 \n",
            "Epoch 1 train_loss: 0.47519551897094203\n",
            "valid_data size: 7226\n",
            "Percent: [----------------------------->] 100% || batch_time: 0.0274 || batch_loss: 1.5854 || avg_batch_loss: 1.1795 || batch_acc: 0.6154 || avg_batch_acc: 0.7676 \n",
            "Epoch 1 valid_loss: 1.1795121749154234\n",
            "validation accuracy improved from 171.5457 to 173.4792\n",
            "Model saved at /content/neuspell/neuspell/../data/checkpoints/subwordbert-probwordnoise/new_models/bert-base-cased/pytorch_model.bin in epoch 1\n",
            "In epoch: 2\n",
            "train_data size: 28907\n",
            "Percent: [>                             ] 0% || batch_time: 0.0595 || batch_loss: 0.4467 || avg_batch_loss: 0.2269 || batch_acc: 1.0000 || avg_batch_acc: 1.0000 "
          ]
        },
        {
          "output_type": "stream",
          "name": "stderr",
          "text": [
            "Training beyond specified 't_total'. Learning rate multiplier set to 0.0. Please set 't_total' of WarmupLinearSchedule correctly.\n"
          ]
        },
        {
          "output_type": "stream",
          "name": "stdout",
          "text": [
            "Percent: [>                             ] 0% || batch_time: 0.0468 || batch_loss: 0.6000 || avg_batch_loss: 0.2929 || batch_acc: 1.0000 || avg_batch_acc: 1.0000 "
          ]
        },
        {
          "output_type": "stream",
          "name": "stderr",
          "text": [
            "Training beyond specified 't_total'. Learning rate multiplier set to 0.0. Please set 't_total' of WarmupLinearSchedule correctly.\n"
          ]
        },
        {
          "output_type": "stream",
          "name": "stdout",
          "text": [
            "Percent: [>                             ] 1% || batch_time: 0.0524 || batch_loss: 0.1100 || avg_batch_loss: 0.2394 || batch_acc: 1.0000 || avg_batch_acc: 1.0000 "
          ]
        },
        {
          "output_type": "stream",
          "name": "stderr",
          "text": [
            "Training beyond specified 't_total'. Learning rate multiplier set to 0.0. Please set 't_total' of WarmupLinearSchedule correctly.\n"
          ]
        },
        {
          "output_type": "stream",
          "name": "stdout",
          "text": [
            "Percent: [>                             ] 1% || batch_time: 0.0461 || batch_loss: 0.2032 || avg_batch_loss: 0.2869 || batch_acc: 1.0000 || avg_batch_acc: 1.0000 "
          ]
        },
        {
          "output_type": "stream",
          "name": "stderr",
          "text": [
            "Training beyond specified 't_total'. Learning rate multiplier set to 0.0. Please set 't_total' of WarmupLinearSchedule correctly.\n"
          ]
        },
        {
          "output_type": "stream",
          "name": "stdout",
          "text": [
            "Percent: [>                             ] 1% || batch_time: 0.0489 || batch_loss: 0.2789 || avg_batch_loss: 0.2892 || batch_acc: 1.0000 || avg_batch_acc: 1.0000 "
          ]
        },
        {
          "output_type": "stream",
          "name": "stderr",
          "text": [
            "Training beyond specified 't_total'. Learning rate multiplier set to 0.0. Please set 't_total' of WarmupLinearSchedule correctly.\n"
          ]
        },
        {
          "output_type": "stream",
          "name": "stdout",
          "text": [
            "Percent: [>                             ] 1% || batch_time: 0.0447 || batch_loss: 0.7577 || avg_batch_loss: 0.3176 || batch_acc: 1.0000 || avg_batch_acc: 1.0000 "
          ]
        },
        {
          "output_type": "stream",
          "name": "stderr",
          "text": [
            "Training beyond specified 't_total'. Learning rate multiplier set to 0.0. Please set 't_total' of WarmupLinearSchedule correctly.\n"
          ]
        },
        {
          "output_type": "stream",
          "name": "stdout",
          "text": [
            "Percent: [>                             ] 1% || batch_time: 0.0443 || batch_loss: 0.0318 || avg_batch_loss: 0.3379 || batch_acc: 1.0000 || avg_batch_acc: 1.0000 "
          ]
        },
        {
          "output_type": "stream",
          "name": "stderr",
          "text": [
            "Training beyond specified 't_total'. Learning rate multiplier set to 0.0. Please set 't_total' of WarmupLinearSchedule correctly.\n"
          ]
        },
        {
          "output_type": "stream",
          "name": "stdout",
          "text": [
            "Percent: [>                             ] 2% || batch_time: 0.0451 || batch_loss: 0.7142 || avg_batch_loss: 0.3373 || batch_acc: 1.0000 || avg_batch_acc: 1.0000 "
          ]
        },
        {
          "output_type": "stream",
          "name": "stderr",
          "text": [
            "Training beyond specified 't_total'. Learning rate multiplier set to 0.0. Please set 't_total' of WarmupLinearSchedule correctly.\n"
          ]
        },
        {
          "output_type": "stream",
          "name": "stdout",
          "text": [
            "Percent: [>                             ] 2% || batch_time: 0.0441 || batch_loss: 0.1170 || avg_batch_loss: 0.3328 || batch_acc: 1.0000 || avg_batch_acc: 1.0000 "
          ]
        },
        {
          "output_type": "stream",
          "name": "stderr",
          "text": [
            "Training beyond specified 't_total'. Learning rate multiplier set to 0.0. Please set 't_total' of WarmupLinearSchedule correctly.\n"
          ]
        },
        {
          "output_type": "stream",
          "name": "stdout",
          "text": [
            "Percent: [>                             ] 2% || batch_time: 0.0448 || batch_loss: 0.1207 || avg_batch_loss: 0.3198 || batch_acc: 1.0000 || avg_batch_acc: 1.0000 "
          ]
        },
        {
          "output_type": "stream",
          "name": "stderr",
          "text": [
            "Training beyond specified 't_total'. Learning rate multiplier set to 0.0. Please set 't_total' of WarmupLinearSchedule correctly.\n"
          ]
        },
        {
          "output_type": "stream",
          "name": "stdout",
          "text": [
            "Percent: [>                             ] 2% || batch_time: 0.0446 || batch_loss: 0.2021 || avg_batch_loss: 0.3279 || batch_acc: 1.0000 || avg_batch_acc: 1.0000 "
          ]
        },
        {
          "output_type": "stream",
          "name": "stderr",
          "text": [
            "Training beyond specified 't_total'. Learning rate multiplier set to 0.0. Please set 't_total' of WarmupLinearSchedule correctly.\n"
          ]
        },
        {
          "output_type": "stream",
          "name": "stdout",
          "text": [
            "Percent: [>                             ] 3% || batch_time: 0.0467 || batch_loss: 0.3429 || avg_batch_loss: 0.3098 || batch_acc: 1.0000 || avg_batch_acc: 1.0000 "
          ]
        },
        {
          "output_type": "stream",
          "name": "stderr",
          "text": [
            "Training beyond specified 't_total'. Learning rate multiplier set to 0.0. Please set 't_total' of WarmupLinearSchedule correctly.\n"
          ]
        },
        {
          "output_type": "stream",
          "name": "stdout",
          "text": [
            "Percent: [>                             ] 3% || batch_time: 0.0474 || batch_loss: 0.5387 || avg_batch_loss: 0.3046 || batch_acc: 1.0000 || avg_batch_acc: 1.0000 "
          ]
        },
        {
          "output_type": "stream",
          "name": "stderr",
          "text": [
            "Training beyond specified 't_total'. Learning rate multiplier set to 0.0. Please set 't_total' of WarmupLinearSchedule correctly.\n"
          ]
        },
        {
          "output_type": "stream",
          "name": "stdout",
          "text": [
            "Percent: [>                             ] 3% || batch_time: 0.0551 || batch_loss: 0.0916 || avg_batch_loss: 0.2919 || batch_acc: 1.0000 || avg_batch_acc: 1.0000 "
          ]
        },
        {
          "output_type": "stream",
          "name": "stderr",
          "text": [
            "Training beyond specified 't_total'. Learning rate multiplier set to 0.0. Please set 't_total' of WarmupLinearSchedule correctly.\n"
          ]
        },
        {
          "output_type": "stream",
          "name": "stdout",
          "text": [
            "Percent: [>                             ] 3% || batch_time: 0.0477 || batch_loss: 0.1951 || avg_batch_loss: 0.2911 || batch_acc: 1.0000 || avg_batch_acc: 1.0000 "
          ]
        },
        {
          "output_type": "stream",
          "name": "stderr",
          "text": [
            "Training beyond specified 't_total'. Learning rate multiplier set to 0.0. Please set 't_total' of WarmupLinearSchedule correctly.\n"
          ]
        },
        {
          "output_type": "stream",
          "name": "stdout",
          "text": [
            "Percent: [>                             ] 3% || batch_time: 0.0452 || batch_loss: 0.1965 || avg_batch_loss: 0.2954 || batch_acc: 1.0000 || avg_batch_acc: 1.0000 "
          ]
        },
        {
          "output_type": "stream",
          "name": "stderr",
          "text": [
            "Training beyond specified 't_total'. Learning rate multiplier set to 0.0. Please set 't_total' of WarmupLinearSchedule correctly.\n"
          ]
        },
        {
          "output_type": "stream",
          "name": "stdout",
          "text": [
            "Percent: [>                             ] 4% || batch_time: 0.0424 || batch_loss: 0.0435 || avg_batch_loss: 0.2841 || batch_acc: 1.0000 || avg_batch_acc: 1.0000 "
          ]
        },
        {
          "output_type": "stream",
          "name": "stderr",
          "text": [
            "Training beyond specified 't_total'. Learning rate multiplier set to 0.0. Please set 't_total' of WarmupLinearSchedule correctly.\n"
          ]
        },
        {
          "output_type": "stream",
          "name": "stdout",
          "text": [
            "Percent: [>                             ] 4% || batch_time: 0.0517 || batch_loss: 0.1240 || avg_batch_loss: 0.2844 || batch_acc: 1.0000 || avg_batch_acc: 1.0000 "
          ]
        },
        {
          "output_type": "stream",
          "name": "stderr",
          "text": [
            "Training beyond specified 't_total'. Learning rate multiplier set to 0.0. Please set 't_total' of WarmupLinearSchedule correctly.\n"
          ]
        },
        {
          "output_type": "stream",
          "name": "stdout",
          "text": [
            "Percent: [>                             ] 4% || batch_time: 0.0468 || batch_loss: 0.0063 || avg_batch_loss: 0.2744 || batch_acc: 1.0000 || avg_batch_acc: 1.0000 "
          ]
        },
        {
          "output_type": "stream",
          "name": "stderr",
          "text": [
            "Training beyond specified 't_total'. Learning rate multiplier set to 0.0. Please set 't_total' of WarmupLinearSchedule correctly.\n"
          ]
        },
        {
          "output_type": "stream",
          "name": "stdout",
          "text": [
            "Percent: [>                             ] 4% || batch_time: 0.0441 || batch_loss: 0.1514 || avg_batch_loss: 0.2907 || batch_acc: 1.0000 || avg_batch_acc: 1.0000 "
          ]
        },
        {
          "output_type": "stream",
          "name": "stderr",
          "text": [
            "Training beyond specified 't_total'. Learning rate multiplier set to 0.0. Please set 't_total' of WarmupLinearSchedule correctly.\n"
          ]
        },
        {
          "output_type": "stream",
          "name": "stdout",
          "text": [
            "Percent: [>                             ] 5% || batch_time: 0.0492 || batch_loss: 0.0536 || avg_batch_loss: 0.2910 || batch_acc: 1.0000 || avg_batch_acc: 1.0000 "
          ]
        },
        {
          "output_type": "stream",
          "name": "stderr",
          "text": [
            "Training beyond specified 't_total'. Learning rate multiplier set to 0.0. Please set 't_total' of WarmupLinearSchedule correctly.\n"
          ]
        },
        {
          "output_type": "stream",
          "name": "stdout",
          "text": [
            "Percent: [>                             ] 5% || batch_time: 0.0487 || batch_loss: 0.4298 || avg_batch_loss: 0.2875 || batch_acc: 1.0000 || avg_batch_acc: 1.0000 "
          ]
        },
        {
          "output_type": "stream",
          "name": "stderr",
          "text": [
            "Training beyond specified 't_total'. Learning rate multiplier set to 0.0. Please set 't_total' of WarmupLinearSchedule correctly.\n"
          ]
        },
        {
          "output_type": "stream",
          "name": "stdout",
          "text": [
            "Percent: [->                            ] 5% || batch_time: 0.0493 || batch_loss: 0.0195 || avg_batch_loss: 0.2835 || batch_acc: 1.0000 || avg_batch_acc: 1.0000 "
          ]
        },
        {
          "output_type": "stream",
          "name": "stderr",
          "text": [
            "Training beyond specified 't_total'. Learning rate multiplier set to 0.0. Please set 't_total' of WarmupLinearSchedule correctly.\n"
          ]
        },
        {
          "output_type": "stream",
          "name": "stdout",
          "text": [
            "Percent: [->                            ] 5% || batch_time: 0.0447 || batch_loss: 0.0428 || avg_batch_loss: 0.2861 || batch_acc: 1.0000 || avg_batch_acc: 1.0000 "
          ]
        },
        {
          "output_type": "stream",
          "name": "stderr",
          "text": [
            "Training beyond specified 't_total'. Learning rate multiplier set to 0.0. Please set 't_total' of WarmupLinearSchedule correctly.\n"
          ]
        },
        {
          "output_type": "stream",
          "name": "stdout",
          "text": [
            "Percent: [->                            ] 5% || batch_time: 0.0468 || batch_loss: 0.1424 || avg_batch_loss: 0.2812 || batch_acc: 1.0000 || avg_batch_acc: 1.0000 "
          ]
        },
        {
          "output_type": "stream",
          "name": "stderr",
          "text": [
            "Training beyond specified 't_total'. Learning rate multiplier set to 0.0. Please set 't_total' of WarmupLinearSchedule correctly.\n"
          ]
        },
        {
          "output_type": "stream",
          "name": "stdout",
          "text": [
            "Percent: [->                            ] 6% || batch_time: 0.0486 || batch_loss: 0.1820 || avg_batch_loss: 0.2767 || batch_acc: 1.0000 || avg_batch_acc: 1.0000 "
          ]
        },
        {
          "output_type": "stream",
          "name": "stderr",
          "text": [
            "Training beyond specified 't_total'. Learning rate multiplier set to 0.0. Please set 't_total' of WarmupLinearSchedule correctly.\n"
          ]
        },
        {
          "output_type": "stream",
          "name": "stdout",
          "text": [
            "Percent: [->                            ] 6% || batch_time: 0.0491 || batch_loss: 0.1280 || avg_batch_loss: 0.2815 || batch_acc: 1.0000 || avg_batch_acc: 1.0000 "
          ]
        },
        {
          "output_type": "stream",
          "name": "stderr",
          "text": [
            "Training beyond specified 't_total'. Learning rate multiplier set to 0.0. Please set 't_total' of WarmupLinearSchedule correctly.\n"
          ]
        },
        {
          "output_type": "stream",
          "name": "stdout",
          "text": [
            "Percent: [->                            ] 6% || batch_time: 0.0480 || batch_loss: 0.1141 || avg_batch_loss: 0.2752 || batch_acc: 1.0000 || avg_batch_acc: 1.0000 "
          ]
        },
        {
          "output_type": "stream",
          "name": "stderr",
          "text": [
            "Training beyond specified 't_total'. Learning rate multiplier set to 0.0. Please set 't_total' of WarmupLinearSchedule correctly.\n"
          ]
        },
        {
          "output_type": "stream",
          "name": "stdout",
          "text": [
            "Percent: [->                            ] 6% || batch_time: 0.0452 || batch_loss: 0.1071 || avg_batch_loss: 0.2737 || batch_acc: 1.0000 || avg_batch_acc: 1.0000 "
          ]
        },
        {
          "output_type": "stream",
          "name": "stderr",
          "text": [
            "Training beyond specified 't_total'. Learning rate multiplier set to 0.0. Please set 't_total' of WarmupLinearSchedule correctly.\n"
          ]
        },
        {
          "output_type": "stream",
          "name": "stdout",
          "text": [
            "Percent: [->                            ] 7% || batch_time: 0.0479 || batch_loss: 0.6060 || avg_batch_loss: 0.2770 || batch_acc: 1.0000 || avg_batch_acc: 1.0000 "
          ]
        },
        {
          "output_type": "stream",
          "name": "stderr",
          "text": [
            "Training beyond specified 't_total'. Learning rate multiplier set to 0.0. Please set 't_total' of WarmupLinearSchedule correctly.\n"
          ]
        },
        {
          "output_type": "stream",
          "name": "stdout",
          "text": [
            "Percent: [->                            ] 7% || batch_time: 0.0479 || batch_loss: 0.3045 || avg_batch_loss: 0.2733 || batch_acc: 1.0000 || avg_batch_acc: 1.0000 "
          ]
        },
        {
          "output_type": "stream",
          "name": "stderr",
          "text": [
            "Training beyond specified 't_total'. Learning rate multiplier set to 0.0. Please set 't_total' of WarmupLinearSchedule correctly.\n"
          ]
        },
        {
          "output_type": "stream",
          "name": "stdout",
          "text": [
            "Percent: [->                            ] 7% || batch_time: 0.0489 || batch_loss: 0.2529 || avg_batch_loss: 0.2773 || batch_acc: 1.0000 || avg_batch_acc: 1.0000 "
          ]
        },
        {
          "output_type": "stream",
          "name": "stderr",
          "text": [
            "Training beyond specified 't_total'. Learning rate multiplier set to 0.0. Please set 't_total' of WarmupLinearSchedule correctly.\n"
          ]
        },
        {
          "output_type": "stream",
          "name": "stdout",
          "text": [
            "Percent: [->                            ] 7% || batch_time: 0.0459 || batch_loss: 0.2865 || avg_batch_loss: 0.2793 || batch_acc: 1.0000 || avg_batch_acc: 1.0000 "
          ]
        },
        {
          "output_type": "stream",
          "name": "stderr",
          "text": [
            "Training beyond specified 't_total'. Learning rate multiplier set to 0.0. Please set 't_total' of WarmupLinearSchedule correctly.\n"
          ]
        },
        {
          "output_type": "stream",
          "name": "stdout",
          "text": [
            "Percent: [->                            ] 7% || batch_time: 0.0449 || batch_loss: 0.3777 || avg_batch_loss: 0.2842 || batch_acc: 1.0000 || avg_batch_acc: 1.0000 "
          ]
        },
        {
          "output_type": "stream",
          "name": "stderr",
          "text": [
            "Training beyond specified 't_total'. Learning rate multiplier set to 0.0. Please set 't_total' of WarmupLinearSchedule correctly.\n"
          ]
        },
        {
          "output_type": "stream",
          "name": "stdout",
          "text": [
            "Percent: [->                            ] 8% || batch_time: 0.0485 || batch_loss: 0.1348 || avg_batch_loss: 0.2875 || batch_acc: 1.0000 || avg_batch_acc: 1.0000 "
          ]
        },
        {
          "output_type": "stream",
          "name": "stderr",
          "text": [
            "Training beyond specified 't_total'. Learning rate multiplier set to 0.0. Please set 't_total' of WarmupLinearSchedule correctly.\n"
          ]
        },
        {
          "output_type": "stream",
          "name": "stdout",
          "text": [
            "Percent: [->                            ] 8% || batch_time: 0.0488 || batch_loss: 0.5138 || avg_batch_loss: 0.2915 || batch_acc: 1.0000 || avg_batch_acc: 1.0000 "
          ]
        },
        {
          "output_type": "stream",
          "name": "stderr",
          "text": [
            "Training beyond specified 't_total'. Learning rate multiplier set to 0.0. Please set 't_total' of WarmupLinearSchedule correctly.\n"
          ]
        },
        {
          "output_type": "stream",
          "name": "stdout",
          "text": [
            "Percent: [->                            ] 8% || batch_time: 0.0505 || batch_loss: 0.0292 || avg_batch_loss: 0.2913 || batch_acc: 1.0000 || avg_batch_acc: 1.0000 "
          ]
        },
        {
          "output_type": "stream",
          "name": "stderr",
          "text": [
            "Training beyond specified 't_total'. Learning rate multiplier set to 0.0. Please set 't_total' of WarmupLinearSchedule correctly.\n"
          ]
        },
        {
          "output_type": "stream",
          "name": "stdout",
          "text": [
            "Percent: [-->                           ] 8% || batch_time: 0.0455 || batch_loss: 0.4306 || avg_batch_loss: 0.2879 || batch_acc: 1.0000 || avg_batch_acc: 1.0000 "
          ]
        },
        {
          "output_type": "stream",
          "name": "stderr",
          "text": [
            "Training beyond specified 't_total'. Learning rate multiplier set to 0.0. Please set 't_total' of WarmupLinearSchedule correctly.\n"
          ]
        },
        {
          "output_type": "stream",
          "name": "stdout",
          "text": [
            "Percent: [-->                           ] 9% || batch_time: 0.0478 || batch_loss: 0.3193 || avg_batch_loss: 0.2895 || batch_acc: 1.0000 || avg_batch_acc: 1.0000 "
          ]
        },
        {
          "output_type": "stream",
          "name": "stderr",
          "text": [
            "Training beyond specified 't_total'. Learning rate multiplier set to 0.0. Please set 't_total' of WarmupLinearSchedule correctly.\n"
          ]
        },
        {
          "output_type": "stream",
          "name": "stdout",
          "text": [
            "Percent: [-->                           ] 9% || batch_time: 0.0453 || batch_loss: 0.2119 || avg_batch_loss: 0.2892 || batch_acc: 1.0000 || avg_batch_acc: 1.0000 "
          ]
        },
        {
          "output_type": "stream",
          "name": "stderr",
          "text": [
            "Training beyond specified 't_total'. Learning rate multiplier set to 0.0. Please set 't_total' of WarmupLinearSchedule correctly.\n"
          ]
        },
        {
          "output_type": "stream",
          "name": "stdout",
          "text": [
            "Percent: [-->                           ] 9% || batch_time: 0.0441 || batch_loss: 0.1498 || avg_batch_loss: 0.2910 || batch_acc: 1.0000 || avg_batch_acc: 1.0000 "
          ]
        },
        {
          "output_type": "stream",
          "name": "stderr",
          "text": [
            "Training beyond specified 't_total'. Learning rate multiplier set to 0.0. Please set 't_total' of WarmupLinearSchedule correctly.\n"
          ]
        },
        {
          "output_type": "stream",
          "name": "stdout",
          "text": [
            "Percent: [-->                           ] 9% || batch_time: 0.0476 || batch_loss: 0.0897 || avg_batch_loss: 0.2918 || batch_acc: 1.0000 || avg_batch_acc: 1.0000 "
          ]
        },
        {
          "output_type": "stream",
          "name": "stderr",
          "text": [
            "Training beyond specified 't_total'. Learning rate multiplier set to 0.0. Please set 't_total' of WarmupLinearSchedule correctly.\n"
          ]
        },
        {
          "output_type": "stream",
          "name": "stdout",
          "text": [
            "Percent: [-->                           ] 9% || batch_time: 0.0454 || batch_loss: 0.2147 || avg_batch_loss: 0.2889 || batch_acc: 1.0000 || avg_batch_acc: 1.0000 "
          ]
        },
        {
          "output_type": "stream",
          "name": "stderr",
          "text": [
            "Training beyond specified 't_total'. Learning rate multiplier set to 0.0. Please set 't_total' of WarmupLinearSchedule correctly.\n"
          ]
        },
        {
          "output_type": "stream",
          "name": "stdout",
          "text": [
            "Percent: [-->                           ] 10% || batch_time: 0.0483 || batch_loss: 0.3562 || avg_batch_loss: 0.2905 || batch_acc: 1.0000 || avg_batch_acc: 1.0000 "
          ]
        },
        {
          "output_type": "stream",
          "name": "stderr",
          "text": [
            "Training beyond specified 't_total'. Learning rate multiplier set to 0.0. Please set 't_total' of WarmupLinearSchedule correctly.\n"
          ]
        },
        {
          "output_type": "stream",
          "name": "stdout",
          "text": [
            "Percent: [-->                           ] 10% || batch_time: 0.0478 || batch_loss: 0.0183 || avg_batch_loss: 0.2915 || batch_acc: 1.0000 || avg_batch_acc: 1.0000 "
          ]
        },
        {
          "output_type": "stream",
          "name": "stderr",
          "text": [
            "Training beyond specified 't_total'. Learning rate multiplier set to 0.0. Please set 't_total' of WarmupLinearSchedule correctly.\n"
          ]
        },
        {
          "output_type": "stream",
          "name": "stdout",
          "text": [
            "Percent: [-->                           ] 10% || batch_time: 0.0440 || batch_loss: 0.4358 || avg_batch_loss: 0.2955 || batch_acc: 1.0000 || avg_batch_acc: 1.0000 "
          ]
        },
        {
          "output_type": "stream",
          "name": "stderr",
          "text": [
            "Training beyond specified 't_total'. Learning rate multiplier set to 0.0. Please set 't_total' of WarmupLinearSchedule correctly.\n"
          ]
        },
        {
          "output_type": "stream",
          "name": "stdout",
          "text": [
            "Percent: [-->                           ] 10% || batch_time: 0.0460 || batch_loss: 0.0344 || avg_batch_loss: 0.2905 || batch_acc: 1.0000 || avg_batch_acc: 1.0000 "
          ]
        },
        {
          "output_type": "stream",
          "name": "stderr",
          "text": [
            "Training beyond specified 't_total'. Learning rate multiplier set to 0.0. Please set 't_total' of WarmupLinearSchedule correctly.\n"
          ]
        },
        {
          "output_type": "stream",
          "name": "stdout",
          "text": [
            "Percent: [-->                           ] 11% || batch_time: 0.0485 || batch_loss: 0.4970 || avg_batch_loss: 0.2902 || batch_acc: 1.0000 || avg_batch_acc: 1.0000 "
          ]
        },
        {
          "output_type": "stream",
          "name": "stderr",
          "text": [
            "Training beyond specified 't_total'. Learning rate multiplier set to 0.0. Please set 't_total' of WarmupLinearSchedule correctly.\n"
          ]
        },
        {
          "output_type": "stream",
          "name": "stdout",
          "text": [
            "Percent: [-->                           ] 11% || batch_time: 0.0502 || batch_loss: 0.0552 || avg_batch_loss: 0.2916 || batch_acc: 1.0000 || avg_batch_acc: 1.0000 "
          ]
        },
        {
          "output_type": "stream",
          "name": "stderr",
          "text": [
            "Training beyond specified 't_total'. Learning rate multiplier set to 0.0. Please set 't_total' of WarmupLinearSchedule correctly.\n"
          ]
        },
        {
          "output_type": "stream",
          "name": "stdout",
          "text": [
            "Percent: [-->                           ] 11% || batch_time: 0.0504 || batch_loss: 0.1085 || avg_batch_loss: 0.2917 || batch_acc: 1.0000 || avg_batch_acc: 1.0000 "
          ]
        },
        {
          "output_type": "stream",
          "name": "stderr",
          "text": [
            "Training beyond specified 't_total'. Learning rate multiplier set to 0.0. Please set 't_total' of WarmupLinearSchedule correctly.\n"
          ]
        },
        {
          "output_type": "stream",
          "name": "stdout",
          "text": [
            "Percent: [-->                           ] 11% || batch_time: 0.0458 || batch_loss: 0.0316 || avg_batch_loss: 0.2913 || batch_acc: 1.0000 || avg_batch_acc: 1.0000 "
          ]
        },
        {
          "output_type": "stream",
          "name": "stderr",
          "text": [
            "Training beyond specified 't_total'. Learning rate multiplier set to 0.0. Please set 't_total' of WarmupLinearSchedule correctly.\n"
          ]
        },
        {
          "output_type": "stream",
          "name": "stdout",
          "text": [
            "Percent: [-->                           ] 11% || batch_time: 0.0479 || batch_loss: 0.3540 || avg_batch_loss: 0.2887 || batch_acc: 1.0000 || avg_batch_acc: 1.0000 "
          ]
        },
        {
          "output_type": "stream",
          "name": "stderr",
          "text": [
            "Training beyond specified 't_total'. Learning rate multiplier set to 0.0. Please set 't_total' of WarmupLinearSchedule correctly.\n"
          ]
        },
        {
          "output_type": "stream",
          "name": "stdout",
          "text": [
            "Percent: [--->                          ] 12% || batch_time: 0.0479 || batch_loss: 0.0635 || avg_batch_loss: 0.2879 || batch_acc: 1.0000 || avg_batch_acc: 1.0000 "
          ]
        },
        {
          "output_type": "stream",
          "name": "stderr",
          "text": [
            "Training beyond specified 't_total'. Learning rate multiplier set to 0.0. Please set 't_total' of WarmupLinearSchedule correctly.\n"
          ]
        },
        {
          "output_type": "stream",
          "name": "stdout",
          "text": [
            "Percent: [--->                          ] 12% || batch_time: 0.0502 || batch_loss: 0.4401 || avg_batch_loss: 0.2915 || batch_acc: 1.0000 || avg_batch_acc: 1.0000 "
          ]
        },
        {
          "output_type": "stream",
          "name": "stderr",
          "text": [
            "Training beyond specified 't_total'. Learning rate multiplier set to 0.0. Please set 't_total' of WarmupLinearSchedule correctly.\n"
          ]
        },
        {
          "output_type": "stream",
          "name": "stdout",
          "text": [
            "Percent: [--->                          ] 12% || batch_time: 0.0455 || batch_loss: 0.9710 || avg_batch_loss: 0.2943 || batch_acc: 1.0000 || avg_batch_acc: 1.0000 "
          ]
        },
        {
          "output_type": "stream",
          "name": "stderr",
          "text": [
            "Training beyond specified 't_total'. Learning rate multiplier set to 0.0. Please set 't_total' of WarmupLinearSchedule correctly.\n"
          ]
        },
        {
          "output_type": "stream",
          "name": "stdout",
          "text": [
            "Percent: [--->                          ] 12% || batch_time: 0.0483 || batch_loss: 0.3967 || avg_batch_loss: 0.2953 || batch_acc: 1.0000 || avg_batch_acc: 1.0000 "
          ]
        },
        {
          "output_type": "stream",
          "name": "stderr",
          "text": [
            "Training beyond specified 't_total'. Learning rate multiplier set to 0.0. Please set 't_total' of WarmupLinearSchedule correctly.\n"
          ]
        },
        {
          "output_type": "stream",
          "name": "stdout",
          "text": [
            "Percent: [--->                          ] 13% || batch_time: 0.0508 || batch_loss: 0.0694 || avg_batch_loss: 0.2945 || batch_acc: 1.0000 || avg_batch_acc: 1.0000 "
          ]
        },
        {
          "output_type": "stream",
          "name": "stderr",
          "text": [
            "Training beyond specified 't_total'. Learning rate multiplier set to 0.0. Please set 't_total' of WarmupLinearSchedule correctly.\n"
          ]
        },
        {
          "output_type": "stream",
          "name": "stdout",
          "text": [
            "Percent: [--->                          ] 13% || batch_time: 0.0492 || batch_loss: 0.3651 || avg_batch_loss: 0.2919 || batch_acc: 1.0000 || avg_batch_acc: 1.0000 "
          ]
        },
        {
          "output_type": "stream",
          "name": "stderr",
          "text": [
            "Training beyond specified 't_total'. Learning rate multiplier set to 0.0. Please set 't_total' of WarmupLinearSchedule correctly.\n"
          ]
        },
        {
          "output_type": "stream",
          "name": "stdout",
          "text": [
            "Percent: [--->                          ] 13% || batch_time: 0.0504 || batch_loss: 0.1827 || avg_batch_loss: 0.2915 || batch_acc: 1.0000 || avg_batch_acc: 1.0000 "
          ]
        },
        {
          "output_type": "stream",
          "name": "stderr",
          "text": [
            "Training beyond specified 't_total'. Learning rate multiplier set to 0.0. Please set 't_total' of WarmupLinearSchedule correctly.\n"
          ]
        },
        {
          "output_type": "stream",
          "name": "stdout",
          "text": [
            "Percent: [--->                          ] 13% || batch_time: 0.0495 || batch_loss: 0.3277 || avg_batch_loss: 0.2899 || batch_acc: 1.0000 || avg_batch_acc: 1.0000 "
          ]
        },
        {
          "output_type": "stream",
          "name": "stderr",
          "text": [
            "Training beyond specified 't_total'. Learning rate multiplier set to 0.0. Please set 't_total' of WarmupLinearSchedule correctly.\n"
          ]
        },
        {
          "output_type": "stream",
          "name": "stdout",
          "text": [
            "Percent: [--->                          ] 13% || batch_time: 0.0493 || batch_loss: 0.2333 || avg_batch_loss: 0.2905 || batch_acc: 1.0000 || avg_batch_acc: 1.0000 "
          ]
        },
        {
          "output_type": "stream",
          "name": "stderr",
          "text": [
            "Training beyond specified 't_total'. Learning rate multiplier set to 0.0. Please set 't_total' of WarmupLinearSchedule correctly.\n"
          ]
        },
        {
          "output_type": "stream",
          "name": "stdout",
          "text": [
            "Percent: [--->                          ] 14% || batch_time: 0.0461 || batch_loss: 0.1318 || avg_batch_loss: 0.2936 || batch_acc: 1.0000 || avg_batch_acc: 1.0000 "
          ]
        },
        {
          "output_type": "stream",
          "name": "stderr",
          "text": [
            "Training beyond specified 't_total'. Learning rate multiplier set to 0.0. Please set 't_total' of WarmupLinearSchedule correctly.\n"
          ]
        },
        {
          "output_type": "stream",
          "name": "stdout",
          "text": [
            "Percent: [--->                          ] 14% || batch_time: 0.0461 || batch_loss: 0.5419 || avg_batch_loss: 0.2934 || batch_acc: 1.0000 || avg_batch_acc: 1.0000 "
          ]
        },
        {
          "output_type": "stream",
          "name": "stderr",
          "text": [
            "Training beyond specified 't_total'. Learning rate multiplier set to 0.0. Please set 't_total' of WarmupLinearSchedule correctly.\n"
          ]
        },
        {
          "output_type": "stream",
          "name": "stdout",
          "text": [
            "Percent: [--->                          ] 14% || batch_time: 0.0442 || batch_loss: 0.2658 || avg_batch_loss: 0.2936 || batch_acc: 1.0000 || avg_batch_acc: 1.0000 "
          ]
        },
        {
          "output_type": "stream",
          "name": "stderr",
          "text": [
            "Training beyond specified 't_total'. Learning rate multiplier set to 0.0. Please set 't_total' of WarmupLinearSchedule correctly.\n"
          ]
        },
        {
          "output_type": "stream",
          "name": "stdout",
          "text": [
            "Percent: [--->                          ] 14% || batch_time: 0.0505 || batch_loss: 0.3107 || avg_batch_loss: 0.2927 || batch_acc: 1.0000 || avg_batch_acc: 1.0000 "
          ]
        },
        {
          "output_type": "stream",
          "name": "stderr",
          "text": [
            "Training beyond specified 't_total'. Learning rate multiplier set to 0.0. Please set 't_total' of WarmupLinearSchedule correctly.\n"
          ]
        },
        {
          "output_type": "stream",
          "name": "stdout",
          "text": [
            "Percent: [--->                          ] 15% || batch_time: 0.0411 || batch_loss: 0.1595 || avg_batch_loss: 0.2918 || batch_acc: 1.0000 || avg_batch_acc: 1.0000 "
          ]
        },
        {
          "output_type": "stream",
          "name": "stderr",
          "text": [
            "Training beyond specified 't_total'. Learning rate multiplier set to 0.0. Please set 't_total' of WarmupLinearSchedule correctly.\n"
          ]
        },
        {
          "output_type": "stream",
          "name": "stdout",
          "text": [
            "Percent: [--->                          ] 15% || batch_time: 0.0457 || batch_loss: 0.8497 || avg_batch_loss: 0.2929 || batch_acc: 1.0000 || avg_batch_acc: 1.0000 "
          ]
        },
        {
          "output_type": "stream",
          "name": "stderr",
          "text": [
            "Training beyond specified 't_total'. Learning rate multiplier set to 0.0. Please set 't_total' of WarmupLinearSchedule correctly.\n"
          ]
        },
        {
          "output_type": "stream",
          "name": "stdout",
          "text": [
            "Percent: [--->                          ] 15% || batch_time: 0.0462 || batch_loss: 0.6938 || avg_batch_loss: 0.2915 || batch_acc: 1.0000 || avg_batch_acc: 1.0000 "
          ]
        },
        {
          "output_type": "stream",
          "name": "stderr",
          "text": [
            "Training beyond specified 't_total'. Learning rate multiplier set to 0.0. Please set 't_total' of WarmupLinearSchedule correctly.\n"
          ]
        },
        {
          "output_type": "stream",
          "name": "stdout",
          "text": [
            "Percent: [---->                         ] 15% || batch_time: 0.0456 || batch_loss: 0.4314 || avg_batch_loss: 0.2917 || batch_acc: 1.0000 || avg_batch_acc: 1.0000 "
          ]
        },
        {
          "output_type": "stream",
          "name": "stderr",
          "text": [
            "Training beyond specified 't_total'. Learning rate multiplier set to 0.0. Please set 't_total' of WarmupLinearSchedule correctly.\n"
          ]
        },
        {
          "output_type": "stream",
          "name": "stdout",
          "text": [
            "Percent: [---->                         ] 15% || batch_time: 0.0492 || batch_loss: 0.0335 || avg_batch_loss: 0.2896 || batch_acc: 1.0000 || avg_batch_acc: 1.0000 "
          ]
        },
        {
          "output_type": "stream",
          "name": "stderr",
          "text": [
            "Training beyond specified 't_total'. Learning rate multiplier set to 0.0. Please set 't_total' of WarmupLinearSchedule correctly.\n"
          ]
        },
        {
          "output_type": "stream",
          "name": "stdout",
          "text": [
            "Percent: [---->                         ] 16% || batch_time: 0.0499 || batch_loss: 0.2738 || avg_batch_loss: 0.2891 || batch_acc: 1.0000 || avg_batch_acc: 1.0000 "
          ]
        },
        {
          "output_type": "stream",
          "name": "stderr",
          "text": [
            "Training beyond specified 't_total'. Learning rate multiplier set to 0.0. Please set 't_total' of WarmupLinearSchedule correctly.\n"
          ]
        },
        {
          "output_type": "stream",
          "name": "stdout",
          "text": [
            "Percent: [---->                         ] 16% || batch_time: 0.0490 || batch_loss: 1.3386 || avg_batch_loss: 0.2935 || batch_acc: 1.0000 || avg_batch_acc: 1.0000 "
          ]
        },
        {
          "output_type": "stream",
          "name": "stderr",
          "text": [
            "Training beyond specified 't_total'. Learning rate multiplier set to 0.0. Please set 't_total' of WarmupLinearSchedule correctly.\n"
          ]
        },
        {
          "output_type": "stream",
          "name": "stdout",
          "text": [
            "Percent: [---->                         ] 16% || batch_time: 0.0471 || batch_loss: 0.0958 || avg_batch_loss: 0.2948 || batch_acc: 1.0000 || avg_batch_acc: 1.0000 "
          ]
        },
        {
          "output_type": "stream",
          "name": "stderr",
          "text": [
            "Training beyond specified 't_total'. Learning rate multiplier set to 0.0. Please set 't_total' of WarmupLinearSchedule correctly.\n"
          ]
        },
        {
          "output_type": "stream",
          "name": "stdout",
          "text": [
            "Percent: [---->                         ] 16% || batch_time: 0.0462 || batch_loss: 0.3932 || avg_batch_loss: 0.2952 || batch_acc: 1.0000 || avg_batch_acc: 1.0000 "
          ]
        },
        {
          "output_type": "stream",
          "name": "stderr",
          "text": [
            "Training beyond specified 't_total'. Learning rate multiplier set to 0.0. Please set 't_total' of WarmupLinearSchedule correctly.\n"
          ]
        },
        {
          "output_type": "stream",
          "name": "stdout",
          "text": [
            "Percent: [---->                         ] 17% || batch_time: 0.0464 || batch_loss: 0.5724 || avg_batch_loss: 0.2947 || batch_acc: 1.0000 || avg_batch_acc: 1.0000 "
          ]
        },
        {
          "output_type": "stream",
          "name": "stderr",
          "text": [
            "Training beyond specified 't_total'. Learning rate multiplier set to 0.0. Please set 't_total' of WarmupLinearSchedule correctly.\n"
          ]
        },
        {
          "output_type": "stream",
          "name": "stdout",
          "text": [
            "Percent: [---->                         ] 17% || batch_time: 0.0490 || batch_loss: 0.2867 || avg_batch_loss: 0.2943 || batch_acc: 1.0000 || avg_batch_acc: 1.0000 "
          ]
        },
        {
          "output_type": "stream",
          "name": "stderr",
          "text": [
            "Training beyond specified 't_total'. Learning rate multiplier set to 0.0. Please set 't_total' of WarmupLinearSchedule correctly.\n"
          ]
        },
        {
          "output_type": "stream",
          "name": "stdout",
          "text": [
            "Percent: [---->                         ] 17% || batch_time: 0.0471 || batch_loss: 0.0659 || avg_batch_loss: 0.2929 || batch_acc: 1.0000 || avg_batch_acc: 1.0000 "
          ]
        },
        {
          "output_type": "stream",
          "name": "stderr",
          "text": [
            "Training beyond specified 't_total'. Learning rate multiplier set to 0.0. Please set 't_total' of WarmupLinearSchedule correctly.\n"
          ]
        },
        {
          "output_type": "stream",
          "name": "stdout",
          "text": [
            "Percent: [---->                         ] 17% || batch_time: 0.0525 || batch_loss: 0.1012 || avg_batch_loss: 0.2918 || batch_acc: 1.0000 || avg_batch_acc: 1.0000 "
          ]
        },
        {
          "output_type": "stream",
          "name": "stderr",
          "text": [
            "Training beyond specified 't_total'. Learning rate multiplier set to 0.0. Please set 't_total' of WarmupLinearSchedule correctly.\n"
          ]
        },
        {
          "output_type": "stream",
          "name": "stdout",
          "text": [
            "Percent: [---->                         ] 17% || batch_time: 0.0547 || batch_loss: 0.1461 || avg_batch_loss: 0.2907 || batch_acc: 1.0000 || avg_batch_acc: 1.0000 "
          ]
        },
        {
          "output_type": "stream",
          "name": "stderr",
          "text": [
            "Training beyond specified 't_total'. Learning rate multiplier set to 0.0. Please set 't_total' of WarmupLinearSchedule correctly.\n"
          ]
        },
        {
          "output_type": "stream",
          "name": "stdout",
          "text": [
            "Percent: [---->                         ] 18% || batch_time: 0.0488 || batch_loss: 0.3576 || avg_batch_loss: 0.2952 || batch_acc: 1.0000 || avg_batch_acc: 1.0000 "
          ]
        },
        {
          "output_type": "stream",
          "name": "stderr",
          "text": [
            "Training beyond specified 't_total'. Learning rate multiplier set to 0.0. Please set 't_total' of WarmupLinearSchedule correctly.\n"
          ]
        },
        {
          "output_type": "stream",
          "name": "stdout",
          "text": [
            "Percent: [---->                         ] 18% || batch_time: 0.0463 || batch_loss: 0.2742 || avg_batch_loss: 0.2943 || batch_acc: 1.0000 || avg_batch_acc: 1.0000 "
          ]
        },
        {
          "output_type": "stream",
          "name": "stderr",
          "text": [
            "Training beyond specified 't_total'. Learning rate multiplier set to 0.0. Please set 't_total' of WarmupLinearSchedule correctly.\n"
          ]
        },
        {
          "output_type": "stream",
          "name": "stdout",
          "text": [
            "Percent: [---->                         ] 18% || batch_time: 0.0543 || batch_loss: 0.1175 || avg_batch_loss: 0.2915 || batch_acc: 1.0000 || avg_batch_acc: 1.0000 "
          ]
        },
        {
          "output_type": "stream",
          "name": "stderr",
          "text": [
            "Training beyond specified 't_total'. Learning rate multiplier set to 0.0. Please set 't_total' of WarmupLinearSchedule correctly.\n"
          ]
        },
        {
          "output_type": "stream",
          "name": "stdout",
          "text": [
            "Percent: [---->                         ] 18% || batch_time: 0.0496 || batch_loss: 0.1734 || avg_batch_loss: 0.2905 || batch_acc: 1.0000 || avg_batch_acc: 1.0000 "
          ]
        },
        {
          "output_type": "stream",
          "name": "stderr",
          "text": [
            "Training beyond specified 't_total'. Learning rate multiplier set to 0.0. Please set 't_total' of WarmupLinearSchedule correctly.\n"
          ]
        },
        {
          "output_type": "stream",
          "name": "stdout",
          "text": [
            "Percent: [----->                        ] 19% || batch_time: 0.0493 || batch_loss: 0.3073 || avg_batch_loss: 0.2884 || batch_acc: 1.0000 || avg_batch_acc: 1.0000 "
          ]
        },
        {
          "output_type": "stream",
          "name": "stderr",
          "text": [
            "Training beyond specified 't_total'. Learning rate multiplier set to 0.0. Please set 't_total' of WarmupLinearSchedule correctly.\n"
          ]
        },
        {
          "output_type": "stream",
          "name": "stdout",
          "text": [
            "Percent: [----->                        ] 19% || batch_time: 0.0637 || batch_loss: 0.5603 || avg_batch_loss: 0.2892 || batch_acc: 1.0000 || avg_batch_acc: 1.0000 "
          ]
        },
        {
          "output_type": "stream",
          "name": "stderr",
          "text": [
            "Training beyond specified 't_total'. Learning rate multiplier set to 0.0. Please set 't_total' of WarmupLinearSchedule correctly.\n"
          ]
        },
        {
          "output_type": "stream",
          "name": "stdout",
          "text": [
            "Percent: [----->                        ] 19% || batch_time: 0.0537 || batch_loss: 0.3840 || avg_batch_loss: 0.2882 || batch_acc: 1.0000 || avg_batch_acc: 1.0000 "
          ]
        },
        {
          "output_type": "stream",
          "name": "stderr",
          "text": [
            "Training beyond specified 't_total'. Learning rate multiplier set to 0.0. Please set 't_total' of WarmupLinearSchedule correctly.\n"
          ]
        },
        {
          "output_type": "stream",
          "name": "stdout",
          "text": [
            "Percent: [----->                        ] 19% || batch_time: 0.0541 || batch_loss: 0.0958 || avg_batch_loss: 0.2864 || batch_acc: 1.0000 || avg_batch_acc: 1.0000 "
          ]
        },
        {
          "output_type": "stream",
          "name": "stderr",
          "text": [
            "Training beyond specified 't_total'. Learning rate multiplier set to 0.0. Please set 't_total' of WarmupLinearSchedule correctly.\n"
          ]
        },
        {
          "output_type": "stream",
          "name": "stdout",
          "text": [
            "Percent: [----->                        ] 19% || batch_time: 0.0514 || batch_loss: 0.3023 || avg_batch_loss: 0.2870 || batch_acc: 1.0000 || avg_batch_acc: 1.0000 "
          ]
        },
        {
          "output_type": "stream",
          "name": "stderr",
          "text": [
            "Training beyond specified 't_total'. Learning rate multiplier set to 0.0. Please set 't_total' of WarmupLinearSchedule correctly.\n"
          ]
        },
        {
          "output_type": "stream",
          "name": "stdout",
          "text": [
            "Percent: [----->                        ] 20% || batch_time: 0.0465 || batch_loss: 0.1477 || avg_batch_loss: 0.2872 || batch_acc: 1.0000 || avg_batch_acc: 1.0000 "
          ]
        },
        {
          "output_type": "stream",
          "name": "stderr",
          "text": [
            "Training beyond specified 't_total'. Learning rate multiplier set to 0.0. Please set 't_total' of WarmupLinearSchedule correctly.\n"
          ]
        },
        {
          "output_type": "stream",
          "name": "stdout",
          "text": [
            "Percent: [----->                        ] 20% || batch_time: 0.0619 || batch_loss: 0.0585 || avg_batch_loss: 0.2886 || batch_acc: 1.0000 || avg_batch_acc: 1.0000 "
          ]
        },
        {
          "output_type": "stream",
          "name": "stderr",
          "text": [
            "Training beyond specified 't_total'. Learning rate multiplier set to 0.0. Please set 't_total' of WarmupLinearSchedule correctly.\n"
          ]
        },
        {
          "output_type": "stream",
          "name": "stdout",
          "text": [
            "Percent: [----->                        ] 20% || batch_time: 0.0494 || batch_loss: 0.1454 || avg_batch_loss: 0.2880 || batch_acc: 1.0000 || avg_batch_acc: 1.0000 "
          ]
        },
        {
          "output_type": "stream",
          "name": "stderr",
          "text": [
            "Training beyond specified 't_total'. Learning rate multiplier set to 0.0. Please set 't_total' of WarmupLinearSchedule correctly.\n"
          ]
        },
        {
          "output_type": "stream",
          "name": "stdout",
          "text": [
            "Percent: [----->                        ] 20% || batch_time: 0.0452 || batch_loss: 0.1998 || avg_batch_loss: 0.2870 || batch_acc: 1.0000 || avg_batch_acc: 1.0000 "
          ]
        },
        {
          "output_type": "stream",
          "name": "stderr",
          "text": [
            "Training beyond specified 't_total'. Learning rate multiplier set to 0.0. Please set 't_total' of WarmupLinearSchedule correctly.\n"
          ]
        },
        {
          "output_type": "stream",
          "name": "stdout",
          "text": [
            "Percent: [----->                        ] 21% || batch_time: 0.0533 || batch_loss: 0.2592 || avg_batch_loss: 0.2865 || batch_acc: 1.0000 || avg_batch_acc: 1.0000 "
          ]
        },
        {
          "output_type": "stream",
          "name": "stderr",
          "text": [
            "Training beyond specified 't_total'. Learning rate multiplier set to 0.0. Please set 't_total' of WarmupLinearSchedule correctly.\n"
          ]
        },
        {
          "output_type": "stream",
          "name": "stdout",
          "text": [
            "Percent: [----->                        ] 21% || batch_time: 0.0468 || batch_loss: 0.1030 || avg_batch_loss: 0.2858 || batch_acc: 1.0000 || avg_batch_acc: 1.0000 "
          ]
        },
        {
          "output_type": "stream",
          "name": "stderr",
          "text": [
            "Training beyond specified 't_total'. Learning rate multiplier set to 0.0. Please set 't_total' of WarmupLinearSchedule correctly.\n"
          ]
        },
        {
          "output_type": "stream",
          "name": "stdout",
          "text": [
            "Percent: [----->                        ] 21% || batch_time: 0.0492 || batch_loss: 0.4005 || avg_batch_loss: 0.2870 || batch_acc: 1.0000 || avg_batch_acc: 1.0000 "
          ]
        },
        {
          "output_type": "stream",
          "name": "stderr",
          "text": [
            "Training beyond specified 't_total'. Learning rate multiplier set to 0.0. Please set 't_total' of WarmupLinearSchedule correctly.\n"
          ]
        },
        {
          "output_type": "stream",
          "name": "stdout",
          "text": [
            "Percent: [----->                        ] 21% || batch_time: 0.0550 || batch_loss: 0.0150 || avg_batch_loss: 0.2860 || batch_acc: 1.0000 || avg_batch_acc: 1.0000 "
          ]
        },
        {
          "output_type": "stream",
          "name": "stderr",
          "text": [
            "Training beyond specified 't_total'. Learning rate multiplier set to 0.0. Please set 't_total' of WarmupLinearSchedule correctly.\n"
          ]
        },
        {
          "output_type": "stream",
          "name": "stdout",
          "text": [
            "Percent: [----->                        ] 21% || batch_time: 0.0488 || batch_loss: 0.4353 || avg_batch_loss: 0.2861 || batch_acc: 1.0000 || avg_batch_acc: 1.0000 "
          ]
        },
        {
          "output_type": "stream",
          "name": "stderr",
          "text": [
            "Training beyond specified 't_total'. Learning rate multiplier set to 0.0. Please set 't_total' of WarmupLinearSchedule correctly.\n"
          ]
        },
        {
          "output_type": "stream",
          "name": "stdout",
          "text": [
            "Percent: [----->                        ] 22% || batch_time: 0.0467 || batch_loss: 0.5075 || avg_batch_loss: 0.2861 || batch_acc: 1.0000 || avg_batch_acc: 1.0000 "
          ]
        },
        {
          "output_type": "stream",
          "name": "stderr",
          "text": [
            "Training beyond specified 't_total'. Learning rate multiplier set to 0.0. Please set 't_total' of WarmupLinearSchedule correctly.\n"
          ]
        },
        {
          "output_type": "stream",
          "name": "stdout",
          "text": [
            "Percent: [------>                       ] 22% || batch_time: 0.0458 || batch_loss: 0.0831 || avg_batch_loss: 0.2846 || batch_acc: 1.0000 || avg_batch_acc: 1.0000 "
          ]
        },
        {
          "output_type": "stream",
          "name": "stderr",
          "text": [
            "Training beyond specified 't_total'. Learning rate multiplier set to 0.0. Please set 't_total' of WarmupLinearSchedule correctly.\n"
          ]
        },
        {
          "output_type": "stream",
          "name": "stdout",
          "text": [
            "Percent: [------>                       ] 22% || batch_time: 0.0458 || batch_loss: 0.0887 || avg_batch_loss: 0.2872 || batch_acc: 1.0000 || avg_batch_acc: 1.0000 "
          ]
        },
        {
          "output_type": "stream",
          "name": "stderr",
          "text": [
            "Training beyond specified 't_total'. Learning rate multiplier set to 0.0. Please set 't_total' of WarmupLinearSchedule correctly.\n"
          ]
        },
        {
          "output_type": "stream",
          "name": "stdout",
          "text": [
            "Percent: [------>                       ] 22% || batch_time: 0.0492 || batch_loss: 0.5548 || avg_batch_loss: 0.2888 || batch_acc: 1.0000 || avg_batch_acc: 1.0000 "
          ]
        },
        {
          "output_type": "stream",
          "name": "stderr",
          "text": [
            "Training beyond specified 't_total'. Learning rate multiplier set to 0.0. Please set 't_total' of WarmupLinearSchedule correctly.\n"
          ]
        },
        {
          "output_type": "stream",
          "name": "stdout",
          "text": [
            "Percent: [------>                       ] 23% || batch_time: 0.0429 || batch_loss: 0.0612 || avg_batch_loss: 0.2864 || batch_acc: 1.0000 || avg_batch_acc: 1.0000 "
          ]
        },
        {
          "output_type": "stream",
          "name": "stderr",
          "text": [
            "Training beyond specified 't_total'. Learning rate multiplier set to 0.0. Please set 't_total' of WarmupLinearSchedule correctly.\n"
          ]
        },
        {
          "output_type": "stream",
          "name": "stdout",
          "text": [
            "Percent: [------>                       ] 23% || batch_time: 0.0485 || batch_loss: 0.0286 || avg_batch_loss: 0.2853 || batch_acc: 1.0000 || avg_batch_acc: 1.0000 "
          ]
        },
        {
          "output_type": "stream",
          "name": "stderr",
          "text": [
            "Training beyond specified 't_total'. Learning rate multiplier set to 0.0. Please set 't_total' of WarmupLinearSchedule correctly.\n"
          ]
        },
        {
          "output_type": "stream",
          "name": "stdout",
          "text": [
            "Percent: [------>                       ] 23% || batch_time: 0.0556 || batch_loss: 0.2228 || avg_batch_loss: 0.2838 || batch_acc: 1.0000 || avg_batch_acc: 1.0000 "
          ]
        },
        {
          "output_type": "stream",
          "name": "stderr",
          "text": [
            "Training beyond specified 't_total'. Learning rate multiplier set to 0.0. Please set 't_total' of WarmupLinearSchedule correctly.\n"
          ]
        },
        {
          "output_type": "stream",
          "name": "stdout",
          "text": [
            "Percent: [------>                       ] 23% || batch_time: 0.0488 || batch_loss: 0.3517 || avg_batch_loss: 0.2838 || batch_acc: 1.0000 || avg_batch_acc: 1.0000 "
          ]
        },
        {
          "output_type": "stream",
          "name": "stderr",
          "text": [
            "Training beyond specified 't_total'. Learning rate multiplier set to 0.0. Please set 't_total' of WarmupLinearSchedule correctly.\n"
          ]
        },
        {
          "output_type": "stream",
          "name": "stdout",
          "text": [
            "Percent: [------>                       ] 23% || batch_time: 0.0480 || batch_loss: 0.1639 || avg_batch_loss: 0.2819 || batch_acc: 1.0000 || avg_batch_acc: 1.0000 "
          ]
        },
        {
          "output_type": "stream",
          "name": "stderr",
          "text": [
            "Training beyond specified 't_total'. Learning rate multiplier set to 0.0. Please set 't_total' of WarmupLinearSchedule correctly.\n"
          ]
        },
        {
          "output_type": "stream",
          "name": "stdout",
          "text": [
            "Percent: [------>                       ] 24% || batch_time: 0.0445 || batch_loss: 0.3054 || avg_batch_loss: 0.2818 || batch_acc: 1.0000 || avg_batch_acc: 1.0000 "
          ]
        },
        {
          "output_type": "stream",
          "name": "stderr",
          "text": [
            "Training beyond specified 't_total'. Learning rate multiplier set to 0.0. Please set 't_total' of WarmupLinearSchedule correctly.\n"
          ]
        },
        {
          "output_type": "stream",
          "name": "stdout",
          "text": [
            "Percent: [------>                       ] 24% || batch_time: 0.0460 || batch_loss: 0.2785 || avg_batch_loss: 0.2813 || batch_acc: 1.0000 || avg_batch_acc: 1.0000 "
          ]
        },
        {
          "output_type": "stream",
          "name": "stderr",
          "text": [
            "Training beyond specified 't_total'. Learning rate multiplier set to 0.0. Please set 't_total' of WarmupLinearSchedule correctly.\n"
          ]
        },
        {
          "output_type": "stream",
          "name": "stdout",
          "text": [
            "Percent: [------>                       ] 24% || batch_time: 0.0439 || batch_loss: 0.1870 || avg_batch_loss: 0.2792 || batch_acc: 1.0000 || avg_batch_acc: 1.0000 "
          ]
        },
        {
          "output_type": "stream",
          "name": "stderr",
          "text": [
            "Training beyond specified 't_total'. Learning rate multiplier set to 0.0. Please set 't_total' of WarmupLinearSchedule correctly.\n"
          ]
        },
        {
          "output_type": "stream",
          "name": "stdout",
          "text": [
            "Percent: [------>                       ] 24% || batch_time: 0.0561 || batch_loss: 0.2447 || avg_batch_loss: 0.2791 || batch_acc: 1.0000 || avg_batch_acc: 1.0000 "
          ]
        },
        {
          "output_type": "stream",
          "name": "stderr",
          "text": [
            "Training beyond specified 't_total'. Learning rate multiplier set to 0.0. Please set 't_total' of WarmupLinearSchedule correctly.\n"
          ]
        },
        {
          "output_type": "stream",
          "name": "stdout",
          "text": [
            "Percent: [------>                       ] 25% || batch_time: 0.0470 || batch_loss: 0.0278 || avg_batch_loss: 0.2792 || batch_acc: 1.0000 || avg_batch_acc: 1.0000 "
          ]
        },
        {
          "output_type": "stream",
          "name": "stderr",
          "text": [
            "Training beyond specified 't_total'. Learning rate multiplier set to 0.0. Please set 't_total' of WarmupLinearSchedule correctly.\n"
          ]
        },
        {
          "output_type": "stream",
          "name": "stdout",
          "text": [
            "Percent: [------>                       ] 25% || batch_time: 0.0481 || batch_loss: 0.0172 || avg_batch_loss: 0.2787 || batch_acc: 1.0000 || avg_batch_acc: 1.0000 "
          ]
        },
        {
          "output_type": "stream",
          "name": "stderr",
          "text": [
            "Training beyond specified 't_total'. Learning rate multiplier set to 0.0. Please set 't_total' of WarmupLinearSchedule correctly.\n"
          ]
        },
        {
          "output_type": "stream",
          "name": "stdout",
          "text": [
            "Percent: [------>                       ] 25% || batch_time: 0.0466 || batch_loss: 0.6291 || avg_batch_loss: 0.2794 || batch_acc: 1.0000 || avg_batch_acc: 1.0000 "
          ]
        },
        {
          "output_type": "stream",
          "name": "stderr",
          "text": [
            "Training beyond specified 't_total'. Learning rate multiplier set to 0.0. Please set 't_total' of WarmupLinearSchedule correctly.\n"
          ]
        },
        {
          "output_type": "stream",
          "name": "stdout",
          "text": [
            "Percent: [------->                      ] 25% || batch_time: 0.0467 || batch_loss: 0.3378 || avg_batch_loss: 0.2793 || batch_acc: 1.0000 || avg_batch_acc: 1.0000 "
          ]
        },
        {
          "output_type": "stream",
          "name": "stderr",
          "text": [
            "Training beyond specified 't_total'. Learning rate multiplier set to 0.0. Please set 't_total' of WarmupLinearSchedule correctly.\n"
          ]
        },
        {
          "output_type": "stream",
          "name": "stdout",
          "text": [
            "Percent: [------->                      ] 25% || batch_time: 0.0529 || batch_loss: 1.0926 || avg_batch_loss: 0.2810 || batch_acc: 1.0000 || avg_batch_acc: 1.0000 "
          ]
        },
        {
          "output_type": "stream",
          "name": "stderr",
          "text": [
            "Training beyond specified 't_total'. Learning rate multiplier set to 0.0. Please set 't_total' of WarmupLinearSchedule correctly.\n"
          ]
        },
        {
          "output_type": "stream",
          "name": "stdout",
          "text": [
            "Percent: [------->                      ] 26% || batch_time: 0.0493 || batch_loss: 0.4115 || avg_batch_loss: 0.2819 || batch_acc: 1.0000 || avg_batch_acc: 1.0000 "
          ]
        },
        {
          "output_type": "stream",
          "name": "stderr",
          "text": [
            "Training beyond specified 't_total'. Learning rate multiplier set to 0.0. Please set 't_total' of WarmupLinearSchedule correctly.\n"
          ]
        },
        {
          "output_type": "stream",
          "name": "stdout",
          "text": [
            "Percent: [------->                      ] 26% || batch_time: 0.0456 || batch_loss: 0.1896 || avg_batch_loss: 0.2818 || batch_acc: 1.0000 || avg_batch_acc: 1.0000 "
          ]
        },
        {
          "output_type": "stream",
          "name": "stderr",
          "text": [
            "Training beyond specified 't_total'. Learning rate multiplier set to 0.0. Please set 't_total' of WarmupLinearSchedule correctly.\n"
          ]
        },
        {
          "output_type": "stream",
          "name": "stdout",
          "text": [
            "Percent: [------->                      ] 26% || batch_time: 0.0505 || batch_loss: 0.4360 || avg_batch_loss: 0.2823 || batch_acc: 1.0000 || avg_batch_acc: 1.0000 "
          ]
        },
        {
          "output_type": "stream",
          "name": "stderr",
          "text": [
            "Training beyond specified 't_total'. Learning rate multiplier set to 0.0. Please set 't_total' of WarmupLinearSchedule correctly.\n"
          ]
        },
        {
          "output_type": "stream",
          "name": "stdout",
          "text": [
            "Percent: [------->                      ] 26% || batch_time: 0.0468 || batch_loss: 0.0448 || avg_batch_loss: 0.2809 || batch_acc: 1.0000 || avg_batch_acc: 1.0000 "
          ]
        },
        {
          "output_type": "stream",
          "name": "stderr",
          "text": [
            "Training beyond specified 't_total'. Learning rate multiplier set to 0.0. Please set 't_total' of WarmupLinearSchedule correctly.\n"
          ]
        },
        {
          "output_type": "stream",
          "name": "stdout",
          "text": [
            "Percent: [------->                      ] 27% || batch_time: 0.0463 || batch_loss: 0.8017 || avg_batch_loss: 0.2811 || batch_acc: 1.0000 || avg_batch_acc: 1.0000 "
          ]
        },
        {
          "output_type": "stream",
          "name": "stderr",
          "text": [
            "Training beyond specified 't_total'. Learning rate multiplier set to 0.0. Please set 't_total' of WarmupLinearSchedule correctly.\n"
          ]
        },
        {
          "output_type": "stream",
          "name": "stdout",
          "text": [
            "Percent: [------->                      ] 27% || batch_time: 0.0441 || batch_loss: 0.1971 || avg_batch_loss: 0.2802 || batch_acc: 1.0000 || avg_batch_acc: 1.0000 "
          ]
        },
        {
          "output_type": "stream",
          "name": "stderr",
          "text": [
            "Training beyond specified 't_total'. Learning rate multiplier set to 0.0. Please set 't_total' of WarmupLinearSchedule correctly.\n"
          ]
        },
        {
          "output_type": "stream",
          "name": "stdout",
          "text": [
            "Percent: [------->                      ] 27% || batch_time: 0.0476 || batch_loss: 0.0121 || avg_batch_loss: 0.2798 || batch_acc: 1.0000 || avg_batch_acc: 1.0000 "
          ]
        },
        {
          "output_type": "stream",
          "name": "stderr",
          "text": [
            "Training beyond specified 't_total'. Learning rate multiplier set to 0.0. Please set 't_total' of WarmupLinearSchedule correctly.\n"
          ]
        },
        {
          "output_type": "stream",
          "name": "stdout",
          "text": [
            "Percent: [------->                      ] 27% || batch_time: 0.0456 || batch_loss: 0.3505 || avg_batch_loss: 0.2802 || batch_acc: 1.0000 || avg_batch_acc: 1.0000 "
          ]
        },
        {
          "output_type": "stream",
          "name": "stderr",
          "text": [
            "Training beyond specified 't_total'. Learning rate multiplier set to 0.0. Please set 't_total' of WarmupLinearSchedule correctly.\n"
          ]
        },
        {
          "output_type": "stream",
          "name": "stdout",
          "text": [
            "Percent: [------->                      ] 27% || batch_time: 0.0479 || batch_loss: 0.0518 || avg_batch_loss: 0.2788 || batch_acc: 1.0000 || avg_batch_acc: 1.0000 "
          ]
        },
        {
          "output_type": "stream",
          "name": "stderr",
          "text": [
            "Training beyond specified 't_total'. Learning rate multiplier set to 0.0. Please set 't_total' of WarmupLinearSchedule correctly.\n"
          ]
        },
        {
          "output_type": "stream",
          "name": "stdout",
          "text": [
            "Percent: [------->                      ] 28% || batch_time: 0.0466 || batch_loss: 0.1741 || avg_batch_loss: 0.2788 || batch_acc: 1.0000 || avg_batch_acc: 1.0000 "
          ]
        },
        {
          "output_type": "stream",
          "name": "stderr",
          "text": [
            "Training beyond specified 't_total'. Learning rate multiplier set to 0.0. Please set 't_total' of WarmupLinearSchedule correctly.\n"
          ]
        },
        {
          "output_type": "stream",
          "name": "stdout",
          "text": [
            "Percent: [------->                      ] 28% || batch_time: 0.0511 || batch_loss: 0.3570 || avg_batch_loss: 0.2796 || batch_acc: 1.0000 || avg_batch_acc: 1.0000 "
          ]
        },
        {
          "output_type": "stream",
          "name": "stderr",
          "text": [
            "Training beyond specified 't_total'. Learning rate multiplier set to 0.0. Please set 't_total' of WarmupLinearSchedule correctly.\n"
          ]
        },
        {
          "output_type": "stream",
          "name": "stdout",
          "text": [
            "Percent: [------->                      ] 28% || batch_time: 0.0562 || batch_loss: 0.1457 || avg_batch_loss: 0.2797 || batch_acc: 1.0000 || avg_batch_acc: 1.0000 "
          ]
        },
        {
          "output_type": "stream",
          "name": "stderr",
          "text": [
            "Training beyond specified 't_total'. Learning rate multiplier set to 0.0. Please set 't_total' of WarmupLinearSchedule correctly.\n"
          ]
        },
        {
          "output_type": "stream",
          "name": "stdout",
          "text": [
            "Percent: [------->                      ] 28% || batch_time: 0.0468 || batch_loss: 0.4614 || avg_batch_loss: 0.2798 || batch_acc: 1.0000 || avg_batch_acc: 1.0000 "
          ]
        },
        {
          "output_type": "stream",
          "name": "stderr",
          "text": [
            "Training beyond specified 't_total'. Learning rate multiplier set to 0.0. Please set 't_total' of WarmupLinearSchedule correctly.\n"
          ]
        },
        {
          "output_type": "stream",
          "name": "stdout",
          "text": [
            "Percent: [-------->                     ] 29% || batch_time: 0.0500 || batch_loss: 0.5190 || avg_batch_loss: 0.2800 || batch_acc: 1.0000 || avg_batch_acc: 1.0000 "
          ]
        },
        {
          "output_type": "stream",
          "name": "stderr",
          "text": [
            "Training beyond specified 't_total'. Learning rate multiplier set to 0.0. Please set 't_total' of WarmupLinearSchedule correctly.\n"
          ]
        },
        {
          "output_type": "stream",
          "name": "stdout",
          "text": [
            "Percent: [-------->                     ] 29% || batch_time: 0.0484 || batch_loss: 0.7929 || avg_batch_loss: 0.2810 || batch_acc: 1.0000 || avg_batch_acc: 1.0000 "
          ]
        },
        {
          "output_type": "stream",
          "name": "stderr",
          "text": [
            "Training beyond specified 't_total'. Learning rate multiplier set to 0.0. Please set 't_total' of WarmupLinearSchedule correctly.\n"
          ]
        },
        {
          "output_type": "stream",
          "name": "stdout",
          "text": [
            "Percent: [-------->                     ] 29% || batch_time: 0.0544 || batch_loss: 0.1905 || avg_batch_loss: 0.2805 || batch_acc: 1.0000 || avg_batch_acc: 1.0000 "
          ]
        },
        {
          "output_type": "stream",
          "name": "stderr",
          "text": [
            "Training beyond specified 't_total'. Learning rate multiplier set to 0.0. Please set 't_total' of WarmupLinearSchedule correctly.\n"
          ]
        },
        {
          "output_type": "stream",
          "name": "stdout",
          "text": [
            "Percent: [-------->                     ] 29% || batch_time: 0.0491 || batch_loss: 0.4820 || avg_batch_loss: 0.2810 || batch_acc: 1.0000 || avg_batch_acc: 1.0000 "
          ]
        },
        {
          "output_type": "stream",
          "name": "stderr",
          "text": [
            "Training beyond specified 't_total'. Learning rate multiplier set to 0.0. Please set 't_total' of WarmupLinearSchedule correctly.\n"
          ]
        },
        {
          "output_type": "stream",
          "name": "stdout",
          "text": [
            "Percent: [-------->                     ] 29% || batch_time: 0.0439 || batch_loss: 0.2251 || avg_batch_loss: 0.2810 || batch_acc: 1.0000 || avg_batch_acc: 1.0000 "
          ]
        },
        {
          "output_type": "stream",
          "name": "stderr",
          "text": [
            "Training beyond specified 't_total'. Learning rate multiplier set to 0.0. Please set 't_total' of WarmupLinearSchedule correctly.\n"
          ]
        },
        {
          "output_type": "stream",
          "name": "stdout",
          "text": [
            "Percent: [-------->                     ] 30% || batch_time: 0.0491 || batch_loss: 0.0313 || avg_batch_loss: 0.2809 || batch_acc: 1.0000 || avg_batch_acc: 1.0000 "
          ]
        },
        {
          "output_type": "stream",
          "name": "stderr",
          "text": [
            "Training beyond specified 't_total'. Learning rate multiplier set to 0.0. Please set 't_total' of WarmupLinearSchedule correctly.\n"
          ]
        },
        {
          "output_type": "stream",
          "name": "stdout",
          "text": [
            "Percent: [-------->                     ] 30% || batch_time: 0.0455 || batch_loss: 0.0220 || avg_batch_loss: 0.2801 || batch_acc: 1.0000 || avg_batch_acc: 1.0000 "
          ]
        },
        {
          "output_type": "stream",
          "name": "stderr",
          "text": [
            "Training beyond specified 't_total'. Learning rate multiplier set to 0.0. Please set 't_total' of WarmupLinearSchedule correctly.\n"
          ]
        },
        {
          "output_type": "stream",
          "name": "stdout",
          "text": [
            "Percent: [-------->                     ] 30% || batch_time: 0.0452 || batch_loss: 0.3365 || avg_batch_loss: 0.2795 || batch_acc: 1.0000 || avg_batch_acc: 1.0000 "
          ]
        },
        {
          "output_type": "stream",
          "name": "stderr",
          "text": [
            "Training beyond specified 't_total'. Learning rate multiplier set to 0.0. Please set 't_total' of WarmupLinearSchedule correctly.\n"
          ]
        },
        {
          "output_type": "stream",
          "name": "stdout",
          "text": [
            "Percent: [-------->                     ] 30% || batch_time: 0.0432 || batch_loss: 0.1038 || avg_batch_loss: 0.2791 || batch_acc: 1.0000 || avg_batch_acc: 1.0000 "
          ]
        },
        {
          "output_type": "stream",
          "name": "stderr",
          "text": [
            "Training beyond specified 't_total'. Learning rate multiplier set to 0.0. Please set 't_total' of WarmupLinearSchedule correctly.\n"
          ]
        },
        {
          "output_type": "stream",
          "name": "stdout",
          "text": [
            "Percent: [-------->                     ] 30% || batch_time: 0.0497 || batch_loss: 0.2136 || avg_batch_loss: 0.2783 || batch_acc: 1.0000 || avg_batch_acc: 1.0000 "
          ]
        },
        {
          "output_type": "stream",
          "name": "stderr",
          "text": [
            "Training beyond specified 't_total'. Learning rate multiplier set to 0.0. Please set 't_total' of WarmupLinearSchedule correctly.\n"
          ]
        },
        {
          "output_type": "stream",
          "name": "stdout",
          "text": [
            "Percent: [-------->                     ] 31% || batch_time: 0.0439 || batch_loss: 0.3762 || avg_batch_loss: 0.2780 || batch_acc: 1.0000 || avg_batch_acc: 1.0000 "
          ]
        },
        {
          "output_type": "stream",
          "name": "stderr",
          "text": [
            "Training beyond specified 't_total'. Learning rate multiplier set to 0.0. Please set 't_total' of WarmupLinearSchedule correctly.\n"
          ]
        },
        {
          "output_type": "stream",
          "name": "stdout",
          "text": [
            "Percent: [-------->                     ] 31% || batch_time: 0.0480 || batch_loss: 0.1476 || avg_batch_loss: 0.2767 || batch_acc: 1.0000 || avg_batch_acc: 1.0000 "
          ]
        },
        {
          "output_type": "stream",
          "name": "stderr",
          "text": [
            "Training beyond specified 't_total'. Learning rate multiplier set to 0.0. Please set 't_total' of WarmupLinearSchedule correctly.\n"
          ]
        },
        {
          "output_type": "stream",
          "name": "stdout",
          "text": [
            "Percent: [-------->                     ] 31% || batch_time: 0.0479 || batch_loss: 0.1861 || avg_batch_loss: 0.2765 || batch_acc: 1.0000 || avg_batch_acc: 1.0000 "
          ]
        },
        {
          "output_type": "stream",
          "name": "stderr",
          "text": [
            "Training beyond specified 't_total'. Learning rate multiplier set to 0.0. Please set 't_total' of WarmupLinearSchedule correctly.\n"
          ]
        },
        {
          "output_type": "stream",
          "name": "stdout",
          "text": [
            "Percent: [-------->                     ] 31% || batch_time: 0.0516 || batch_loss: 0.9470 || avg_batch_loss: 0.2777 || batch_acc: 1.0000 || avg_batch_acc: 1.0000 "
          ]
        },
        {
          "output_type": "stream",
          "name": "stderr",
          "text": [
            "Training beyond specified 't_total'. Learning rate multiplier set to 0.0. Please set 't_total' of WarmupLinearSchedule correctly.\n"
          ]
        },
        {
          "output_type": "stream",
          "name": "stdout",
          "text": [
            "Percent: [-------->                     ] 32% || batch_time: 0.0452 || batch_loss: 0.1277 || avg_batch_loss: 0.2773 || batch_acc: 1.0000 || avg_batch_acc: 1.0000 "
          ]
        },
        {
          "output_type": "stream",
          "name": "stderr",
          "text": [
            "Training beyond specified 't_total'. Learning rate multiplier set to 0.0. Please set 't_total' of WarmupLinearSchedule correctly.\n"
          ]
        },
        {
          "output_type": "stream",
          "name": "stdout",
          "text": [
            "Percent: [--------->                    ] 32% || batch_time: 0.0475 || batch_loss: 0.0062 || avg_batch_loss: 0.2767 || batch_acc: 1.0000 || avg_batch_acc: 1.0000 "
          ]
        },
        {
          "output_type": "stream",
          "name": "stderr",
          "text": [
            "Training beyond specified 't_total'. Learning rate multiplier set to 0.0. Please set 't_total' of WarmupLinearSchedule correctly.\n"
          ]
        },
        {
          "output_type": "stream",
          "name": "stdout",
          "text": [
            "Percent: [--------->                    ] 32% || batch_time: 0.0493 || batch_loss: 0.1249 || avg_batch_loss: 0.2760 || batch_acc: 1.0000 || avg_batch_acc: 1.0000 "
          ]
        },
        {
          "output_type": "stream",
          "name": "stderr",
          "text": [
            "Training beyond specified 't_total'. Learning rate multiplier set to 0.0. Please set 't_total' of WarmupLinearSchedule correctly.\n"
          ]
        },
        {
          "output_type": "stream",
          "name": "stdout",
          "text": [
            "Percent: [--------->                    ] 32% || batch_time: 0.0471 || batch_loss: 0.1163 || avg_batch_loss: 0.2760 || batch_acc: 1.0000 || avg_batch_acc: 1.0000 "
          ]
        },
        {
          "output_type": "stream",
          "name": "stderr",
          "text": [
            "Training beyond specified 't_total'. Learning rate multiplier set to 0.0. Please set 't_total' of WarmupLinearSchedule correctly.\n"
          ]
        },
        {
          "output_type": "stream",
          "name": "stdout",
          "text": [
            "Percent: [--------->                    ] 32% || batch_time: 0.0500 || batch_loss: 0.1155 || avg_batch_loss: 0.2761 || batch_acc: 1.0000 || avg_batch_acc: 1.0000 "
          ]
        },
        {
          "output_type": "stream",
          "name": "stderr",
          "text": [
            "Training beyond specified 't_total'. Learning rate multiplier set to 0.0. Please set 't_total' of WarmupLinearSchedule correctly.\n"
          ]
        },
        {
          "output_type": "stream",
          "name": "stdout",
          "text": [
            "Percent: [--------->                    ] 33% || batch_time: 0.0509 || batch_loss: 0.2497 || avg_batch_loss: 0.2759 || batch_acc: 1.0000 || avg_batch_acc: 1.0000 "
          ]
        },
        {
          "output_type": "stream",
          "name": "stderr",
          "text": [
            "Training beyond specified 't_total'. Learning rate multiplier set to 0.0. Please set 't_total' of WarmupLinearSchedule correctly.\n"
          ]
        },
        {
          "output_type": "stream",
          "name": "stdout",
          "text": [
            "Percent: [--------->                    ] 33% || batch_time: 0.0475 || batch_loss: 0.2491 || avg_batch_loss: 0.2758 || batch_acc: 1.0000 || avg_batch_acc: 1.0000 "
          ]
        },
        {
          "output_type": "stream",
          "name": "stderr",
          "text": [
            "Training beyond specified 't_total'. Learning rate multiplier set to 0.0. Please set 't_total' of WarmupLinearSchedule correctly.\n"
          ]
        },
        {
          "output_type": "stream",
          "name": "stdout",
          "text": [
            "Percent: [--------->                    ] 33% || batch_time: 0.0464 || batch_loss: 0.3756 || avg_batch_loss: 0.2765 || batch_acc: 1.0000 || avg_batch_acc: 1.0000 "
          ]
        },
        {
          "output_type": "stream",
          "name": "stderr",
          "text": [
            "Training beyond specified 't_total'. Learning rate multiplier set to 0.0. Please set 't_total' of WarmupLinearSchedule correctly.\n"
          ]
        },
        {
          "output_type": "stream",
          "name": "stdout",
          "text": [
            "Percent: [--------->                    ] 33% || batch_time: 0.0471 || batch_loss: 0.3461 || avg_batch_loss: 0.2774 || batch_acc: 1.0000 || avg_batch_acc: 1.0000 "
          ]
        },
        {
          "output_type": "stream",
          "name": "stderr",
          "text": [
            "Training beyond specified 't_total'. Learning rate multiplier set to 0.0. Please set 't_total' of WarmupLinearSchedule correctly.\n"
          ]
        },
        {
          "output_type": "stream",
          "name": "stdout",
          "text": [
            "Percent: [--------->                    ] 34% || batch_time: 0.0457 || batch_loss: 0.3735 || avg_batch_loss: 0.2768 || batch_acc: 1.0000 || avg_batch_acc: 1.0000 "
          ]
        },
        {
          "output_type": "stream",
          "name": "stderr",
          "text": [
            "Training beyond specified 't_total'. Learning rate multiplier set to 0.0. Please set 't_total' of WarmupLinearSchedule correctly.\n"
          ]
        },
        {
          "output_type": "stream",
          "name": "stdout",
          "text": [
            "Percent: [--------->                    ] 34% || batch_time: 0.0470 || batch_loss: 0.4865 || avg_batch_loss: 0.2760 || batch_acc: 1.0000 || avg_batch_acc: 1.0000 "
          ]
        },
        {
          "output_type": "stream",
          "name": "stderr",
          "text": [
            "Training beyond specified 't_total'. Learning rate multiplier set to 0.0. Please set 't_total' of WarmupLinearSchedule correctly.\n"
          ]
        },
        {
          "output_type": "stream",
          "name": "stdout",
          "text": [
            "Percent: [--------->                    ] 34% || batch_time: 0.0458 || batch_loss: 0.1625 || avg_batch_loss: 0.2756 || batch_acc: 1.0000 || avg_batch_acc: 1.0000 "
          ]
        },
        {
          "output_type": "stream",
          "name": "stderr",
          "text": [
            "Training beyond specified 't_total'. Learning rate multiplier set to 0.0. Please set 't_total' of WarmupLinearSchedule correctly.\n"
          ]
        },
        {
          "output_type": "stream",
          "name": "stdout",
          "text": [
            "Percent: [--------->                    ] 34% || batch_time: 0.0476 || batch_loss: 0.0191 || avg_batch_loss: 0.2745 || batch_acc: 1.0000 || avg_batch_acc: 1.0000 "
          ]
        },
        {
          "output_type": "stream",
          "name": "stderr",
          "text": [
            "Training beyond specified 't_total'. Learning rate multiplier set to 0.0. Please set 't_total' of WarmupLinearSchedule correctly.\n"
          ]
        },
        {
          "output_type": "stream",
          "name": "stdout",
          "text": [
            "Percent: [--------->                    ] 34% || batch_time: 0.0488 || batch_loss: 0.2153 || avg_batch_loss: 0.2756 || batch_acc: 1.0000 || avg_batch_acc: 1.0000 "
          ]
        },
        {
          "output_type": "stream",
          "name": "stderr",
          "text": [
            "Training beyond specified 't_total'. Learning rate multiplier set to 0.0. Please set 't_total' of WarmupLinearSchedule correctly.\n"
          ]
        },
        {
          "output_type": "stream",
          "name": "stdout",
          "text": [
            "Percent: [--------->                    ] 35% || batch_time: 0.0475 || batch_loss: 0.6046 || avg_batch_loss: 0.2778 || batch_acc: 1.0000 || avg_batch_acc: 1.0000 "
          ]
        },
        {
          "output_type": "stream",
          "name": "stderr",
          "text": [
            "Training beyond specified 't_total'. Learning rate multiplier set to 0.0. Please set 't_total' of WarmupLinearSchedule correctly.\n"
          ]
        },
        {
          "output_type": "stream",
          "name": "stdout",
          "text": [
            "Percent: [--------->                    ] 35% || batch_time: 0.0539 || batch_loss: 0.5353 || avg_batch_loss: 0.2785 || batch_acc: 1.0000 || avg_batch_acc: 1.0000 "
          ]
        },
        {
          "output_type": "stream",
          "name": "stderr",
          "text": [
            "Training beyond specified 't_total'. Learning rate multiplier set to 0.0. Please set 't_total' of WarmupLinearSchedule correctly.\n"
          ]
        },
        {
          "output_type": "stream",
          "name": "stdout",
          "text": [
            "Percent: [---------->                   ] 35% || batch_time: 0.0452 || batch_loss: 0.2253 || avg_batch_loss: 0.2786 || batch_acc: 1.0000 || avg_batch_acc: 1.0000 "
          ]
        },
        {
          "output_type": "stream",
          "name": "stderr",
          "text": [
            "Training beyond specified 't_total'. Learning rate multiplier set to 0.0. Please set 't_total' of WarmupLinearSchedule correctly.\n"
          ]
        },
        {
          "output_type": "stream",
          "name": "stdout",
          "text": [
            "Percent: [---------->                   ] 35% || batch_time: 0.0491 || batch_loss: 0.2698 || avg_batch_loss: 0.2778 || batch_acc: 1.0000 || avg_batch_acc: 1.0000 "
          ]
        },
        {
          "output_type": "stream",
          "name": "stderr",
          "text": [
            "Training beyond specified 't_total'. Learning rate multiplier set to 0.0. Please set 't_total' of WarmupLinearSchedule correctly.\n"
          ]
        },
        {
          "output_type": "stream",
          "name": "stdout",
          "text": [
            "Percent: [---------->                   ] 36% || batch_time: 0.0519 || batch_loss: 0.5578 || avg_batch_loss: 0.2777 || batch_acc: 1.0000 || avg_batch_acc: 1.0000 "
          ]
        },
        {
          "output_type": "stream",
          "name": "stderr",
          "text": [
            "Training beyond specified 't_total'. Learning rate multiplier set to 0.0. Please set 't_total' of WarmupLinearSchedule correctly.\n"
          ]
        },
        {
          "output_type": "stream",
          "name": "stdout",
          "text": [
            "Percent: [---------->                   ] 36% || batch_time: 0.0473 || batch_loss: 0.1972 || avg_batch_loss: 0.2792 || batch_acc: 1.0000 || avg_batch_acc: 1.0000 "
          ]
        },
        {
          "output_type": "stream",
          "name": "stderr",
          "text": [
            "Training beyond specified 't_total'. Learning rate multiplier set to 0.0. Please set 't_total' of WarmupLinearSchedule correctly.\n"
          ]
        },
        {
          "output_type": "stream",
          "name": "stdout",
          "text": [
            "Percent: [---------->                   ] 36% || batch_time: 0.0470 || batch_loss: 0.5197 || avg_batch_loss: 0.2795 || batch_acc: 1.0000 || avg_batch_acc: 1.0000 "
          ]
        },
        {
          "output_type": "stream",
          "name": "stderr",
          "text": [
            "Training beyond specified 't_total'. Learning rate multiplier set to 0.0. Please set 't_total' of WarmupLinearSchedule correctly.\n"
          ]
        },
        {
          "output_type": "stream",
          "name": "stdout",
          "text": [
            "Percent: [---------->                   ] 36% || batch_time: 0.0453 || batch_loss: 0.2159 || avg_batch_loss: 0.2788 || batch_acc: 1.0000 || avg_batch_acc: 1.0000 "
          ]
        },
        {
          "output_type": "stream",
          "name": "stderr",
          "text": [
            "Training beyond specified 't_total'. Learning rate multiplier set to 0.0. Please set 't_total' of WarmupLinearSchedule correctly.\n"
          ]
        },
        {
          "output_type": "stream",
          "name": "stdout",
          "text": [
            "Percent: [---------->                   ] 36% || batch_time: 0.0561 || batch_loss: 0.0707 || avg_batch_loss: 0.2781 || batch_acc: 1.0000 || avg_batch_acc: 1.0000 "
          ]
        },
        {
          "output_type": "stream",
          "name": "stderr",
          "text": [
            "Training beyond specified 't_total'. Learning rate multiplier set to 0.0. Please set 't_total' of WarmupLinearSchedule correctly.\n"
          ]
        },
        {
          "output_type": "stream",
          "name": "stdout",
          "text": [
            "Percent: [---------->                   ] 37% || batch_time: 0.0491 || batch_loss: 0.0871 || avg_batch_loss: 0.2773 || batch_acc: 1.0000 || avg_batch_acc: 1.0000 "
          ]
        },
        {
          "output_type": "stream",
          "name": "stderr",
          "text": [
            "Training beyond specified 't_total'. Learning rate multiplier set to 0.0. Please set 't_total' of WarmupLinearSchedule correctly.\n"
          ]
        },
        {
          "output_type": "stream",
          "name": "stdout",
          "text": [
            "Percent: [---------->                   ] 37% || batch_time: 0.0476 || batch_loss: 0.0547 || avg_batch_loss: 0.2766 || batch_acc: 1.0000 || avg_batch_acc: 1.0000 "
          ]
        },
        {
          "output_type": "stream",
          "name": "stderr",
          "text": [
            "Training beyond specified 't_total'. Learning rate multiplier set to 0.0. Please set 't_total' of WarmupLinearSchedule correctly.\n"
          ]
        },
        {
          "output_type": "stream",
          "name": "stdout",
          "text": [
            "Percent: [---------->                   ] 37% || batch_time: 0.0475 || batch_loss: 0.1153 || avg_batch_loss: 0.2765 || batch_acc: 1.0000 || avg_batch_acc: 1.0000 "
          ]
        },
        {
          "output_type": "stream",
          "name": "stderr",
          "text": [
            "Training beyond specified 't_total'. Learning rate multiplier set to 0.0. Please set 't_total' of WarmupLinearSchedule correctly.\n"
          ]
        },
        {
          "output_type": "stream",
          "name": "stdout",
          "text": [
            "Percent: [---------->                   ] 37% || batch_time: 0.0444 || batch_loss: 0.3002 || avg_batch_loss: 0.2766 || batch_acc: 1.0000 || avg_batch_acc: 1.0000 "
          ]
        },
        {
          "output_type": "stream",
          "name": "stderr",
          "text": [
            "Training beyond specified 't_total'. Learning rate multiplier set to 0.0. Please set 't_total' of WarmupLinearSchedule correctly.\n"
          ]
        },
        {
          "output_type": "stream",
          "name": "stdout",
          "text": [
            "Percent: [---------->                   ] 38% || batch_time: 0.0531 || batch_loss: 0.1648 || avg_batch_loss: 0.2765 || batch_acc: 1.0000 || avg_batch_acc: 1.0000 "
          ]
        },
        {
          "output_type": "stream",
          "name": "stderr",
          "text": [
            "Training beyond specified 't_total'. Learning rate multiplier set to 0.0. Please set 't_total' of WarmupLinearSchedule correctly.\n"
          ]
        },
        {
          "output_type": "stream",
          "name": "stdout",
          "text": [
            "Percent: [---------->                   ] 38% || batch_time: 0.0509 || batch_loss: 0.0152 || avg_batch_loss: 0.2755 || batch_acc: 1.0000 || avg_batch_acc: 1.0000 "
          ]
        },
        {
          "output_type": "stream",
          "name": "stderr",
          "text": [
            "Training beyond specified 't_total'. Learning rate multiplier set to 0.0. Please set 't_total' of WarmupLinearSchedule correctly.\n"
          ]
        },
        {
          "output_type": "stream",
          "name": "stdout",
          "text": [
            "Percent: [---------->                   ] 38% || batch_time: 0.0547 || batch_loss: 1.1440 || avg_batch_loss: 0.2781 || batch_acc: 1.0000 || avg_batch_acc: 1.0000 "
          ]
        },
        {
          "output_type": "stream",
          "name": "stderr",
          "text": [
            "Training beyond specified 't_total'. Learning rate multiplier set to 0.0. Please set 't_total' of WarmupLinearSchedule correctly.\n"
          ]
        },
        {
          "output_type": "stream",
          "name": "stdout",
          "text": [
            "Percent: [---------->                   ] 38% || batch_time: 0.0437 || batch_loss: 0.4873 || avg_batch_loss: 0.2791 || batch_acc: 1.0000 || avg_batch_acc: 1.0000 "
          ]
        },
        {
          "output_type": "stream",
          "name": "stderr",
          "text": [
            "Training beyond specified 't_total'. Learning rate multiplier set to 0.0. Please set 't_total' of WarmupLinearSchedule correctly.\n"
          ]
        },
        {
          "output_type": "stream",
          "name": "stdout",
          "text": [
            "Percent: [----------->                  ] 38% || batch_time: 0.0572 || batch_loss: 0.5718 || avg_batch_loss: 0.2793 || batch_acc: 1.0000 || avg_batch_acc: 1.0000 "
          ]
        },
        {
          "output_type": "stream",
          "name": "stderr",
          "text": [
            "Training beyond specified 't_total'. Learning rate multiplier set to 0.0. Please set 't_total' of WarmupLinearSchedule correctly.\n"
          ]
        },
        {
          "output_type": "stream",
          "name": "stdout",
          "text": [
            "Percent: [----------->                  ] 39% || batch_time: 0.0488 || batch_loss: 0.7595 || avg_batch_loss: 0.2799 || batch_acc: 1.0000 || avg_batch_acc: 1.0000 "
          ]
        },
        {
          "output_type": "stream",
          "name": "stderr",
          "text": [
            "Training beyond specified 't_total'. Learning rate multiplier set to 0.0. Please set 't_total' of WarmupLinearSchedule correctly.\n"
          ]
        },
        {
          "output_type": "stream",
          "name": "stdout",
          "text": [
            "Percent: [----------->                  ] 39% || batch_time: 0.0471 || batch_loss: 0.2545 || avg_batch_loss: 0.2801 || batch_acc: 1.0000 || avg_batch_acc: 1.0000 "
          ]
        },
        {
          "output_type": "stream",
          "name": "stderr",
          "text": [
            "Training beyond specified 't_total'. Learning rate multiplier set to 0.0. Please set 't_total' of WarmupLinearSchedule correctly.\n"
          ]
        },
        {
          "output_type": "stream",
          "name": "stdout",
          "text": [
            "Percent: [----------->                  ] 39% || batch_time: 0.0528 || batch_loss: 0.0475 || avg_batch_loss: 0.2788 || batch_acc: 1.0000 || avg_batch_acc: 1.0000 "
          ]
        },
        {
          "output_type": "stream",
          "name": "stderr",
          "text": [
            "Training beyond specified 't_total'. Learning rate multiplier set to 0.0. Please set 't_total' of WarmupLinearSchedule correctly.\n"
          ]
        },
        {
          "output_type": "stream",
          "name": "stdout",
          "text": [
            "Percent: [----------->                  ] 39% || batch_time: 0.0477 || batch_loss: 0.0912 || avg_batch_loss: 0.2780 || batch_acc: 1.0000 || avg_batch_acc: 1.0000 "
          ]
        },
        {
          "output_type": "stream",
          "name": "stderr",
          "text": [
            "Training beyond specified 't_total'. Learning rate multiplier set to 0.0. Please set 't_total' of WarmupLinearSchedule correctly.\n"
          ]
        },
        {
          "output_type": "stream",
          "name": "stdout",
          "text": [
            "Percent: [----------->                  ] 40% || batch_time: 0.0589 || batch_loss: 0.0091 || avg_batch_loss: 0.2778 || batch_acc: 1.0000 || avg_batch_acc: 1.0000 "
          ]
        },
        {
          "output_type": "stream",
          "name": "stderr",
          "text": [
            "Training beyond specified 't_total'. Learning rate multiplier set to 0.0. Please set 't_total' of WarmupLinearSchedule correctly.\n"
          ]
        },
        {
          "output_type": "stream",
          "name": "stdout",
          "text": [
            "Percent: [----------->                  ] 40% || batch_time: 0.0486 || batch_loss: 0.0522 || avg_batch_loss: 0.2772 || batch_acc: 1.0000 || avg_batch_acc: 1.0000 "
          ]
        },
        {
          "output_type": "stream",
          "name": "stderr",
          "text": [
            "Training beyond specified 't_total'. Learning rate multiplier set to 0.0. Please set 't_total' of WarmupLinearSchedule correctly.\n"
          ]
        },
        {
          "output_type": "stream",
          "name": "stdout",
          "text": [
            "Percent: [----------->                  ] 40% || batch_time: 0.0460 || batch_loss: 0.0111 || avg_batch_loss: 0.2785 || batch_acc: 1.0000 || avg_batch_acc: 1.0000 "
          ]
        },
        {
          "output_type": "stream",
          "name": "stderr",
          "text": [
            "Training beyond specified 't_total'. Learning rate multiplier set to 0.0. Please set 't_total' of WarmupLinearSchedule correctly.\n"
          ]
        },
        {
          "output_type": "stream",
          "name": "stdout",
          "text": [
            "Percent: [----------->                  ] 40% || batch_time: 0.0466 || batch_loss: 0.0154 || avg_batch_loss: 0.2794 || batch_acc: 1.0000 || avg_batch_acc: 1.0000 "
          ]
        },
        {
          "output_type": "stream",
          "name": "stderr",
          "text": [
            "Training beyond specified 't_total'. Learning rate multiplier set to 0.0. Please set 't_total' of WarmupLinearSchedule correctly.\n"
          ]
        },
        {
          "output_type": "stream",
          "name": "stdout",
          "text": [
            "Percent: [----------->                  ] 40% || batch_time: 0.0467 || batch_loss: 0.3678 || avg_batch_loss: 0.2787 || batch_acc: 1.0000 || avg_batch_acc: 1.0000 "
          ]
        },
        {
          "output_type": "stream",
          "name": "stderr",
          "text": [
            "Training beyond specified 't_total'. Learning rate multiplier set to 0.0. Please set 't_total' of WarmupLinearSchedule correctly.\n"
          ]
        },
        {
          "output_type": "stream",
          "name": "stdout",
          "text": [
            "Percent: [----------->                  ] 41% || batch_time: 0.0428 || batch_loss: 0.8552 || avg_batch_loss: 0.2800 || batch_acc: 1.0000 || avg_batch_acc: 1.0000 "
          ]
        },
        {
          "output_type": "stream",
          "name": "stderr",
          "text": [
            "Training beyond specified 't_total'. Learning rate multiplier set to 0.0. Please set 't_total' of WarmupLinearSchedule correctly.\n"
          ]
        },
        {
          "output_type": "stream",
          "name": "stdout",
          "text": [
            "Percent: [----------->                  ] 41% || batch_time: 0.0450 || batch_loss: 0.1133 || avg_batch_loss: 0.2809 || batch_acc: 1.0000 || avg_batch_acc: 1.0000 "
          ]
        },
        {
          "output_type": "stream",
          "name": "stderr",
          "text": [
            "Training beyond specified 't_total'. Learning rate multiplier set to 0.0. Please set 't_total' of WarmupLinearSchedule correctly.\n"
          ]
        },
        {
          "output_type": "stream",
          "name": "stdout",
          "text": [
            "Percent: [----------->                  ] 41% || batch_time: 0.0512 || batch_loss: 0.2536 || avg_batch_loss: 0.2799 || batch_acc: 1.0000 || avg_batch_acc: 1.0000 "
          ]
        },
        {
          "output_type": "stream",
          "name": "stderr",
          "text": [
            "Training beyond specified 't_total'. Learning rate multiplier set to 0.0. Please set 't_total' of WarmupLinearSchedule correctly.\n"
          ]
        },
        {
          "output_type": "stream",
          "name": "stdout",
          "text": [
            "Percent: [----------->                  ] 41% || batch_time: 0.0482 || batch_loss: 0.1228 || avg_batch_loss: 0.2791 || batch_acc: 1.0000 || avg_batch_acc: 1.0000 "
          ]
        },
        {
          "output_type": "stream",
          "name": "stderr",
          "text": [
            "Training beyond specified 't_total'. Learning rate multiplier set to 0.0. Please set 't_total' of WarmupLinearSchedule correctly.\n"
          ]
        },
        {
          "output_type": "stream",
          "name": "stdout",
          "text": [
            "Percent: [----------->                  ] 42% || batch_time: 0.0445 || batch_loss: 0.0594 || avg_batch_loss: 0.2788 || batch_acc: 1.0000 || avg_batch_acc: 1.0000 "
          ]
        },
        {
          "output_type": "stream",
          "name": "stderr",
          "text": [
            "Training beyond specified 't_total'. Learning rate multiplier set to 0.0. Please set 't_total' of WarmupLinearSchedule correctly.\n"
          ]
        },
        {
          "output_type": "stream",
          "name": "stdout",
          "text": [
            "Percent: [------------>                 ] 42% || batch_time: 0.0460 || batch_loss: 0.0332 || avg_batch_loss: 0.2778 || batch_acc: 1.0000 || avg_batch_acc: 1.0000 "
          ]
        },
        {
          "output_type": "stream",
          "name": "stderr",
          "text": [
            "Training beyond specified 't_total'. Learning rate multiplier set to 0.0. Please set 't_total' of WarmupLinearSchedule correctly.\n"
          ]
        },
        {
          "output_type": "stream",
          "name": "stdout",
          "text": [
            "Percent: [------------>                 ] 42% || batch_time: 0.0496 || batch_loss: 0.3030 || avg_batch_loss: 0.2772 || batch_acc: 1.0000 || avg_batch_acc: 1.0000 "
          ]
        },
        {
          "output_type": "stream",
          "name": "stderr",
          "text": [
            "Training beyond specified 't_total'. Learning rate multiplier set to 0.0. Please set 't_total' of WarmupLinearSchedule correctly.\n"
          ]
        },
        {
          "output_type": "stream",
          "name": "stdout",
          "text": [
            "Percent: [------------>                 ] 42% || batch_time: 0.0480 || batch_loss: 0.1794 || avg_batch_loss: 0.2776 || batch_acc: 1.0000 || avg_batch_acc: 1.0000 "
          ]
        },
        {
          "output_type": "stream",
          "name": "stderr",
          "text": [
            "Training beyond specified 't_total'. Learning rate multiplier set to 0.0. Please set 't_total' of WarmupLinearSchedule correctly.\n"
          ]
        },
        {
          "output_type": "stream",
          "name": "stdout",
          "text": [
            "Percent: [------------>                 ] 42% || batch_time: 0.0506 || batch_loss: 0.2555 || avg_batch_loss: 0.2770 || batch_acc: 1.0000 || avg_batch_acc: 1.0000 "
          ]
        },
        {
          "output_type": "stream",
          "name": "stderr",
          "text": [
            "Training beyond specified 't_total'. Learning rate multiplier set to 0.0. Please set 't_total' of WarmupLinearSchedule correctly.\n"
          ]
        },
        {
          "output_type": "stream",
          "name": "stdout",
          "text": [
            "Percent: [------------>                 ] 43% || batch_time: 0.0518 || batch_loss: 0.4695 || avg_batch_loss: 0.2773 || batch_acc: 1.0000 || avg_batch_acc: 1.0000 "
          ]
        },
        {
          "output_type": "stream",
          "name": "stderr",
          "text": [
            "Training beyond specified 't_total'. Learning rate multiplier set to 0.0. Please set 't_total' of WarmupLinearSchedule correctly.\n"
          ]
        },
        {
          "output_type": "stream",
          "name": "stdout",
          "text": [
            "Percent: [------------>                 ] 43% || batch_time: 0.0490 || batch_loss: 0.4205 || avg_batch_loss: 0.2772 || batch_acc: 1.0000 || avg_batch_acc: 1.0000 "
          ]
        },
        {
          "output_type": "stream",
          "name": "stderr",
          "text": [
            "Training beyond specified 't_total'. Learning rate multiplier set to 0.0. Please set 't_total' of WarmupLinearSchedule correctly.\n"
          ]
        },
        {
          "output_type": "stream",
          "name": "stdout",
          "text": [
            "Percent: [------------>                 ] 43% || batch_time: 0.0480 || batch_loss: 0.1514 || avg_batch_loss: 0.2777 || batch_acc: 1.0000 || avg_batch_acc: 1.0000 "
          ]
        },
        {
          "output_type": "stream",
          "name": "stderr",
          "text": [
            "Training beyond specified 't_total'. Learning rate multiplier set to 0.0. Please set 't_total' of WarmupLinearSchedule correctly.\n"
          ]
        },
        {
          "output_type": "stream",
          "name": "stdout",
          "text": [
            "Percent: [------------>                 ] 43% || batch_time: 0.0508 || batch_loss: 0.4307 || avg_batch_loss: 0.2777 || batch_acc: 1.0000 || avg_batch_acc: 1.0000 "
          ]
        },
        {
          "output_type": "stream",
          "name": "stderr",
          "text": [
            "Training beyond specified 't_total'. Learning rate multiplier set to 0.0. Please set 't_total' of WarmupLinearSchedule correctly.\n"
          ]
        },
        {
          "output_type": "stream",
          "name": "stdout",
          "text": [
            "Percent: [------------>                 ] 44% || batch_time: 0.0459 || batch_loss: 0.0611 || avg_batch_loss: 0.2788 || batch_acc: 1.0000 || avg_batch_acc: 1.0000 "
          ]
        },
        {
          "output_type": "stream",
          "name": "stderr",
          "text": [
            "Training beyond specified 't_total'. Learning rate multiplier set to 0.0. Please set 't_total' of WarmupLinearSchedule correctly.\n"
          ]
        },
        {
          "output_type": "stream",
          "name": "stdout",
          "text": [
            "Percent: [------------>                 ] 44% || batch_time: 0.0531 || batch_loss: 0.1124 || avg_batch_loss: 0.2785 || batch_acc: 1.0000 || avg_batch_acc: 1.0000 "
          ]
        },
        {
          "output_type": "stream",
          "name": "stderr",
          "text": [
            "Training beyond specified 't_total'. Learning rate multiplier set to 0.0. Please set 't_total' of WarmupLinearSchedule correctly.\n"
          ]
        },
        {
          "output_type": "stream",
          "name": "stdout",
          "text": [
            "Percent: [------------>                 ] 44% || batch_time: 0.0495 || batch_loss: 0.1656 || avg_batch_loss: 0.2781 || batch_acc: 1.0000 || avg_batch_acc: 1.0000 "
          ]
        },
        {
          "output_type": "stream",
          "name": "stderr",
          "text": [
            "Training beyond specified 't_total'. Learning rate multiplier set to 0.0. Please set 't_total' of WarmupLinearSchedule correctly.\n"
          ]
        },
        {
          "output_type": "stream",
          "name": "stdout",
          "text": [
            "Percent: [------------>                 ] 44% || batch_time: 0.0471 || batch_loss: 0.3384 || avg_batch_loss: 0.2779 || batch_acc: 1.0000 || avg_batch_acc: 1.0000 "
          ]
        },
        {
          "output_type": "stream",
          "name": "stderr",
          "text": [
            "Training beyond specified 't_total'. Learning rate multiplier set to 0.0. Please set 't_total' of WarmupLinearSchedule correctly.\n"
          ]
        },
        {
          "output_type": "stream",
          "name": "stdout",
          "text": [
            "Percent: [------------>                 ] 44% || batch_time: 0.0454 || batch_loss: 0.4541 || avg_batch_loss: 0.2779 || batch_acc: 1.0000 || avg_batch_acc: 1.0000 "
          ]
        },
        {
          "output_type": "stream",
          "name": "stderr",
          "text": [
            "Training beyond specified 't_total'. Learning rate multiplier set to 0.0. Please set 't_total' of WarmupLinearSchedule correctly.\n"
          ]
        },
        {
          "output_type": "stream",
          "name": "stdout",
          "text": [
            "Percent: [------------>                 ] 45% || batch_time: 0.0473 || batch_loss: 0.4387 || avg_batch_loss: 0.2780 || batch_acc: 1.0000 || avg_batch_acc: 1.0000 "
          ]
        },
        {
          "output_type": "stream",
          "name": "stderr",
          "text": [
            "Training beyond specified 't_total'. Learning rate multiplier set to 0.0. Please set 't_total' of WarmupLinearSchedule correctly.\n"
          ]
        },
        {
          "output_type": "stream",
          "name": "stdout",
          "text": [
            "Percent: [------------>                 ] 45% || batch_time: 0.0540 || batch_loss: 0.2354 || avg_batch_loss: 0.2782 || batch_acc: 1.0000 || avg_batch_acc: 1.0000 "
          ]
        },
        {
          "output_type": "stream",
          "name": "stderr",
          "text": [
            "Training beyond specified 't_total'. Learning rate multiplier set to 0.0. Please set 't_total' of WarmupLinearSchedule correctly.\n"
          ]
        },
        {
          "output_type": "stream",
          "name": "stdout",
          "text": [
            "Percent: [------------->                ] 45% || batch_time: 0.0469 || batch_loss: 0.3136 || avg_batch_loss: 0.2779 || batch_acc: 1.0000 || avg_batch_acc: 1.0000 "
          ]
        },
        {
          "output_type": "stream",
          "name": "stderr",
          "text": [
            "Training beyond specified 't_total'. Learning rate multiplier set to 0.0. Please set 't_total' of WarmupLinearSchedule correctly.\n"
          ]
        },
        {
          "output_type": "stream",
          "name": "stdout",
          "text": [
            "Percent: [------------->                ] 45% || batch_time: 0.0490 || batch_loss: 0.3174 || avg_batch_loss: 0.2773 || batch_acc: 1.0000 || avg_batch_acc: 1.0000 "
          ]
        },
        {
          "output_type": "stream",
          "name": "stderr",
          "text": [
            "Training beyond specified 't_total'. Learning rate multiplier set to 0.0. Please set 't_total' of WarmupLinearSchedule correctly.\n"
          ]
        },
        {
          "output_type": "stream",
          "name": "stdout",
          "text": [
            "Percent: [------------->                ] 46% || batch_time: 0.0461 || batch_loss: 0.0559 || avg_batch_loss: 0.2763 || batch_acc: 1.0000 || avg_batch_acc: 1.0000 "
          ]
        },
        {
          "output_type": "stream",
          "name": "stderr",
          "text": [
            "Training beyond specified 't_total'. Learning rate multiplier set to 0.0. Please set 't_total' of WarmupLinearSchedule correctly.\n"
          ]
        },
        {
          "output_type": "stream",
          "name": "stdout",
          "text": [
            "Percent: [------------->                ] 46% || batch_time: 0.0514 || batch_loss: 0.0651 || avg_batch_loss: 0.2767 || batch_acc: 1.0000 || avg_batch_acc: 1.0000 "
          ]
        },
        {
          "output_type": "stream",
          "name": "stderr",
          "text": [
            "Training beyond specified 't_total'. Learning rate multiplier set to 0.0. Please set 't_total' of WarmupLinearSchedule correctly.\n"
          ]
        },
        {
          "output_type": "stream",
          "name": "stdout",
          "text": [
            "Percent: [------------->                ] 46% || batch_time: 0.0501 || batch_loss: 0.0775 || avg_batch_loss: 0.2767 || batch_acc: 1.0000 || avg_batch_acc: 1.0000 "
          ]
        },
        {
          "output_type": "stream",
          "name": "stderr",
          "text": [
            "Training beyond specified 't_total'. Learning rate multiplier set to 0.0. Please set 't_total' of WarmupLinearSchedule correctly.\n"
          ]
        },
        {
          "output_type": "stream",
          "name": "stdout",
          "text": [
            "Percent: [------------->                ] 46% || batch_time: 0.0512 || batch_loss: 0.5265 || avg_batch_loss: 0.2781 || batch_acc: 1.0000 || avg_batch_acc: 1.0000 "
          ]
        },
        {
          "output_type": "stream",
          "name": "stderr",
          "text": [
            "Training beyond specified 't_total'. Learning rate multiplier set to 0.0. Please set 't_total' of WarmupLinearSchedule correctly.\n"
          ]
        },
        {
          "output_type": "stream",
          "name": "stdout",
          "text": [
            "Percent: [------------->                ] 46% || batch_time: 0.0491 || batch_loss: 0.5225 || avg_batch_loss: 0.2778 || batch_acc: 1.0000 || avg_batch_acc: 1.0000 "
          ]
        },
        {
          "output_type": "stream",
          "name": "stderr",
          "text": [
            "Training beyond specified 't_total'. Learning rate multiplier set to 0.0. Please set 't_total' of WarmupLinearSchedule correctly.\n"
          ]
        },
        {
          "output_type": "stream",
          "name": "stdout",
          "text": [
            "Percent: [------------->                ] 47% || batch_time: 0.0464 || batch_loss: 0.0075 || avg_batch_loss: 0.2782 || batch_acc: 1.0000 || avg_batch_acc: 1.0000 "
          ]
        },
        {
          "output_type": "stream",
          "name": "stderr",
          "text": [
            "Training beyond specified 't_total'. Learning rate multiplier set to 0.0. Please set 't_total' of WarmupLinearSchedule correctly.\n"
          ]
        },
        {
          "output_type": "stream",
          "name": "stdout",
          "text": [
            "Percent: [------------->                ] 47% || batch_time: 0.0483 || batch_loss: 0.0104 || avg_batch_loss: 0.2780 || batch_acc: 1.0000 || avg_batch_acc: 1.0000 "
          ]
        },
        {
          "output_type": "stream",
          "name": "stderr",
          "text": [
            "Training beyond specified 't_total'. Learning rate multiplier set to 0.0. Please set 't_total' of WarmupLinearSchedule correctly.\n"
          ]
        },
        {
          "output_type": "stream",
          "name": "stdout",
          "text": [
            "Percent: [------------->                ] 47% || batch_time: 0.0493 || batch_loss: 0.2944 || avg_batch_loss: 0.2779 || batch_acc: 1.0000 || avg_batch_acc: 1.0000 "
          ]
        },
        {
          "output_type": "stream",
          "name": "stderr",
          "text": [
            "Training beyond specified 't_total'. Learning rate multiplier set to 0.0. Please set 't_total' of WarmupLinearSchedule correctly.\n"
          ]
        },
        {
          "output_type": "stream",
          "name": "stdout",
          "text": [
            "Percent: [------------->                ] 47% || batch_time: 0.0483 || batch_loss: 0.1908 || avg_batch_loss: 0.2787 || batch_acc: 1.0000 || avg_batch_acc: 1.0000 "
          ]
        },
        {
          "output_type": "stream",
          "name": "stderr",
          "text": [
            "Training beyond specified 't_total'. Learning rate multiplier set to 0.0. Please set 't_total' of WarmupLinearSchedule correctly.\n"
          ]
        },
        {
          "output_type": "stream",
          "name": "stdout",
          "text": [
            "Percent: [------------->                ] 48% || batch_time: 0.0522 || batch_loss: 0.7827 || avg_batch_loss: 0.2788 || batch_acc: 1.0000 || avg_batch_acc: 1.0000 "
          ]
        },
        {
          "output_type": "stream",
          "name": "stderr",
          "text": [
            "Training beyond specified 't_total'. Learning rate multiplier set to 0.0. Please set 't_total' of WarmupLinearSchedule correctly.\n"
          ]
        },
        {
          "output_type": "stream",
          "name": "stdout",
          "text": [
            "Percent: [------------->                ] 48% || batch_time: 0.0495 || batch_loss: 0.1991 || avg_batch_loss: 0.2792 || batch_acc: 1.0000 || avg_batch_acc: 1.0000 "
          ]
        },
        {
          "output_type": "stream",
          "name": "stderr",
          "text": [
            "Training beyond specified 't_total'. Learning rate multiplier set to 0.0. Please set 't_total' of WarmupLinearSchedule correctly.\n"
          ]
        },
        {
          "output_type": "stream",
          "name": "stdout",
          "text": [
            "Percent: [------------->                ] 48% || batch_time: 0.0458 || batch_loss: 0.2028 || avg_batch_loss: 0.2803 || batch_acc: 1.0000 || avg_batch_acc: 1.0000 "
          ]
        },
        {
          "output_type": "stream",
          "name": "stderr",
          "text": [
            "Training beyond specified 't_total'. Learning rate multiplier set to 0.0. Please set 't_total' of WarmupLinearSchedule correctly.\n"
          ]
        },
        {
          "output_type": "stream",
          "name": "stdout",
          "text": [
            "Percent: [------------->                ] 48% || batch_time: 0.0490 || batch_loss: 0.0250 || avg_batch_loss: 0.2803 || batch_acc: 1.0000 || avg_batch_acc: 1.0000 "
          ]
        },
        {
          "output_type": "stream",
          "name": "stderr",
          "text": [
            "Training beyond specified 't_total'. Learning rate multiplier set to 0.0. Please set 't_total' of WarmupLinearSchedule correctly.\n"
          ]
        },
        {
          "output_type": "stream",
          "name": "stdout",
          "text": [
            "Percent: [-------------->               ] 48% || batch_time: 0.0533 || batch_loss: 0.3358 || avg_batch_loss: 0.2809 || batch_acc: 1.0000 || avg_batch_acc: 1.0000 "
          ]
        },
        {
          "output_type": "stream",
          "name": "stderr",
          "text": [
            "Training beyond specified 't_total'. Learning rate multiplier set to 0.0. Please set 't_total' of WarmupLinearSchedule correctly.\n"
          ]
        },
        {
          "output_type": "stream",
          "name": "stdout",
          "text": [
            "Percent: [-------------->               ] 49% || batch_time: 0.0486 || batch_loss: 0.0055 || avg_batch_loss: 0.2807 || batch_acc: 1.0000 || avg_batch_acc: 1.0000 "
          ]
        },
        {
          "output_type": "stream",
          "name": "stderr",
          "text": [
            "Training beyond specified 't_total'. Learning rate multiplier set to 0.0. Please set 't_total' of WarmupLinearSchedule correctly.\n"
          ]
        },
        {
          "output_type": "stream",
          "name": "stdout",
          "text": [
            "Percent: [-------------->               ] 49% || batch_time: 0.0495 || batch_loss: 0.0185 || avg_batch_loss: 0.2797 || batch_acc: 1.0000 || avg_batch_acc: 1.0000 "
          ]
        },
        {
          "output_type": "stream",
          "name": "stderr",
          "text": [
            "Training beyond specified 't_total'. Learning rate multiplier set to 0.0. Please set 't_total' of WarmupLinearSchedule correctly.\n"
          ]
        },
        {
          "output_type": "stream",
          "name": "stdout",
          "text": [
            "Percent: [-------------->               ] 49% || batch_time: 0.0475 || batch_loss: 0.4182 || avg_batch_loss: 0.2806 || batch_acc: 1.0000 || avg_batch_acc: 1.0000 "
          ]
        },
        {
          "output_type": "stream",
          "name": "stderr",
          "text": [
            "Training beyond specified 't_total'. Learning rate multiplier set to 0.0. Please set 't_total' of WarmupLinearSchedule correctly.\n"
          ]
        },
        {
          "output_type": "stream",
          "name": "stdout",
          "text": [
            "Percent: [-------------->               ] 49% || batch_time: 0.0509 || batch_loss: 0.0314 || avg_batch_loss: 0.2808 || batch_acc: 1.0000 || avg_batch_acc: 1.0000 "
          ]
        },
        {
          "output_type": "stream",
          "name": "stderr",
          "text": [
            "Training beyond specified 't_total'. Learning rate multiplier set to 0.0. Please set 't_total' of WarmupLinearSchedule correctly.\n"
          ]
        },
        {
          "output_type": "stream",
          "name": "stdout",
          "text": [
            "Percent: [-------------->               ] 50% || batch_time: 0.0526 || batch_loss: 0.7922 || avg_batch_loss: 0.2816 || batch_acc: 1.0000 || avg_batch_acc: 1.0000 "
          ]
        },
        {
          "output_type": "stream",
          "name": "stderr",
          "text": [
            "Training beyond specified 't_total'. Learning rate multiplier set to 0.0. Please set 't_total' of WarmupLinearSchedule correctly.\n"
          ]
        },
        {
          "output_type": "stream",
          "name": "stdout",
          "text": [
            "Percent: [-------------->               ] 50% || batch_time: 0.0469 || batch_loss: 0.3095 || avg_batch_loss: 0.2812 || batch_acc: 1.0000 || avg_batch_acc: 1.0000 "
          ]
        },
        {
          "output_type": "stream",
          "name": "stderr",
          "text": [
            "Training beyond specified 't_total'. Learning rate multiplier set to 0.0. Please set 't_total' of WarmupLinearSchedule correctly.\n"
          ]
        },
        {
          "output_type": "stream",
          "name": "stdout",
          "text": [
            "Percent: [-------------->               ] 50% || batch_time: 0.0471 || batch_loss: 0.2842 || avg_batch_loss: 0.2805 || batch_acc: 1.0000 || avg_batch_acc: 1.0000 "
          ]
        },
        {
          "output_type": "stream",
          "name": "stderr",
          "text": [
            "Training beyond specified 't_total'. Learning rate multiplier set to 0.0. Please set 't_total' of WarmupLinearSchedule correctly.\n"
          ]
        },
        {
          "output_type": "stream",
          "name": "stdout",
          "text": [
            "Percent: [-------------->               ] 50% || batch_time: 0.0473 || batch_loss: 0.1437 || avg_batch_loss: 0.2806 || batch_acc: 1.0000 || avg_batch_acc: 1.0000 "
          ]
        },
        {
          "output_type": "stream",
          "name": "stderr",
          "text": [
            "Training beyond specified 't_total'. Learning rate multiplier set to 0.0. Please set 't_total' of WarmupLinearSchedule correctly.\n"
          ]
        },
        {
          "output_type": "stream",
          "name": "stdout",
          "text": [
            "Percent: [-------------->               ] 50% || batch_time: 0.0437 || batch_loss: 0.3151 || avg_batch_loss: 0.2802 || batch_acc: 1.0000 || avg_batch_acc: 1.0000 "
          ]
        },
        {
          "output_type": "stream",
          "name": "stderr",
          "text": [
            "Training beyond specified 't_total'. Learning rate multiplier set to 0.0. Please set 't_total' of WarmupLinearSchedule correctly.\n"
          ]
        },
        {
          "output_type": "stream",
          "name": "stdout",
          "text": [
            "Percent: [-------------->               ] 51% || batch_time: 0.0469 || batch_loss: 0.6847 || avg_batch_loss: 0.2806 || batch_acc: 1.0000 || avg_batch_acc: 1.0000 "
          ]
        },
        {
          "output_type": "stream",
          "name": "stderr",
          "text": [
            "Training beyond specified 't_total'. Learning rate multiplier set to 0.0. Please set 't_total' of WarmupLinearSchedule correctly.\n"
          ]
        },
        {
          "output_type": "stream",
          "name": "stdout",
          "text": [
            "Percent: [-------------->               ] 51% || batch_time: 0.0486 || batch_loss: 1.3447 || avg_batch_loss: 0.2824 || batch_acc: 1.0000 || avg_batch_acc: 1.0000 "
          ]
        },
        {
          "output_type": "stream",
          "name": "stderr",
          "text": [
            "Training beyond specified 't_total'. Learning rate multiplier set to 0.0. Please set 't_total' of WarmupLinearSchedule correctly.\n"
          ]
        },
        {
          "output_type": "stream",
          "name": "stdout",
          "text": [
            "Percent: [-------------->               ] 51% || batch_time: 0.0471 || batch_loss: 0.0815 || avg_batch_loss: 0.2815 || batch_acc: 1.0000 || avg_batch_acc: 1.0000 "
          ]
        },
        {
          "output_type": "stream",
          "name": "stderr",
          "text": [
            "Training beyond specified 't_total'. Learning rate multiplier set to 0.0. Please set 't_total' of WarmupLinearSchedule correctly.\n"
          ]
        },
        {
          "output_type": "stream",
          "name": "stdout",
          "text": [
            "Percent: [-------------->               ] 51% || batch_time: 0.0481 || batch_loss: 0.4644 || avg_batch_loss: 0.2813 || batch_acc: 1.0000 || avg_batch_acc: 1.0000 "
          ]
        },
        {
          "output_type": "stream",
          "name": "stderr",
          "text": [
            "Training beyond specified 't_total'. Learning rate multiplier set to 0.0. Please set 't_total' of WarmupLinearSchedule correctly.\n"
          ]
        },
        {
          "output_type": "stream",
          "name": "stdout",
          "text": [
            "Percent: [-------------->               ] 52% || batch_time: 0.0473 || batch_loss: 0.2362 || avg_batch_loss: 0.2814 || batch_acc: 1.0000 || avg_batch_acc: 1.0000 "
          ]
        },
        {
          "output_type": "stream",
          "name": "stderr",
          "text": [
            "Training beyond specified 't_total'. Learning rate multiplier set to 0.0. Please set 't_total' of WarmupLinearSchedule correctly.\n"
          ]
        },
        {
          "output_type": "stream",
          "name": "stdout",
          "text": [
            "Percent: [--------------->              ] 52% || batch_time: 0.0518 || batch_loss: 0.0702 || avg_batch_loss: 0.2806 || batch_acc: 1.0000 || avg_batch_acc: 1.0000 "
          ]
        },
        {
          "output_type": "stream",
          "name": "stderr",
          "text": [
            "Training beyond specified 't_total'. Learning rate multiplier set to 0.0. Please set 't_total' of WarmupLinearSchedule correctly.\n"
          ]
        },
        {
          "output_type": "stream",
          "name": "stdout",
          "text": [
            "Percent: [--------------->              ] 52% || batch_time: 0.0502 || batch_loss: 0.2724 || avg_batch_loss: 0.2808 || batch_acc: 1.0000 || avg_batch_acc: 1.0000 "
          ]
        },
        {
          "output_type": "stream",
          "name": "stderr",
          "text": [
            "Training beyond specified 't_total'. Learning rate multiplier set to 0.0. Please set 't_total' of WarmupLinearSchedule correctly.\n"
          ]
        },
        {
          "output_type": "stream",
          "name": "stdout",
          "text": [
            "Percent: [--------------->              ] 52% || batch_time: 0.0478 || batch_loss: 0.0531 || avg_batch_loss: 0.2801 || batch_acc: 1.0000 || avg_batch_acc: 1.0000 "
          ]
        },
        {
          "output_type": "stream",
          "name": "stderr",
          "text": [
            "Training beyond specified 't_total'. Learning rate multiplier set to 0.0. Please set 't_total' of WarmupLinearSchedule correctly.\n"
          ]
        },
        {
          "output_type": "stream",
          "name": "stdout",
          "text": [
            "Percent: [--------------->              ] 52% || batch_time: 0.0484 || batch_loss: 0.0861 || avg_batch_loss: 0.2808 || batch_acc: 1.0000 || avg_batch_acc: 1.0000 "
          ]
        },
        {
          "output_type": "stream",
          "name": "stderr",
          "text": [
            "Training beyond specified 't_total'. Learning rate multiplier set to 0.0. Please set 't_total' of WarmupLinearSchedule correctly.\n"
          ]
        },
        {
          "output_type": "stream",
          "name": "stdout",
          "text": [
            "Percent: [--------------->              ] 53% || batch_time: 0.0525 || batch_loss: 0.2946 || avg_batch_loss: 0.2812 || batch_acc: 1.0000 || avg_batch_acc: 1.0000 "
          ]
        },
        {
          "output_type": "stream",
          "name": "stderr",
          "text": [
            "Training beyond specified 't_total'. Learning rate multiplier set to 0.0. Please set 't_total' of WarmupLinearSchedule correctly.\n"
          ]
        },
        {
          "output_type": "stream",
          "name": "stdout",
          "text": [
            "Percent: [--------------->              ] 53% || batch_time: 0.0525 || batch_loss: 0.1021 || avg_batch_loss: 0.2813 || batch_acc: 1.0000 || avg_batch_acc: 1.0000 "
          ]
        },
        {
          "output_type": "stream",
          "name": "stderr",
          "text": [
            "Training beyond specified 't_total'. Learning rate multiplier set to 0.0. Please set 't_total' of WarmupLinearSchedule correctly.\n"
          ]
        },
        {
          "output_type": "stream",
          "name": "stdout",
          "text": [
            "Percent: [--------------->              ] 53% || batch_time: 0.0699 || batch_loss: 0.0026 || avg_batch_loss: 0.2809 || batch_acc: 1.0000 || avg_batch_acc: 1.0000 "
          ]
        },
        {
          "output_type": "stream",
          "name": "stderr",
          "text": [
            "Training beyond specified 't_total'. Learning rate multiplier set to 0.0. Please set 't_total' of WarmupLinearSchedule correctly.\n"
          ]
        },
        {
          "output_type": "stream",
          "name": "stdout",
          "text": [
            "Percent: [--------------->              ] 53% || batch_time: 0.0510 || batch_loss: 0.7996 || avg_batch_loss: 0.2810 || batch_acc: 1.0000 || avg_batch_acc: 1.0000 "
          ]
        },
        {
          "output_type": "stream",
          "name": "stderr",
          "text": [
            "Training beyond specified 't_total'. Learning rate multiplier set to 0.0. Please set 't_total' of WarmupLinearSchedule correctly.\n"
          ]
        },
        {
          "output_type": "stream",
          "name": "stdout",
          "text": [
            "Percent: [--------------->              ] 54% || batch_time: 0.0527 || batch_loss: 0.1124 || avg_batch_loss: 0.2809 || batch_acc: 1.0000 || avg_batch_acc: 1.0000 "
          ]
        },
        {
          "output_type": "stream",
          "name": "stderr",
          "text": [
            "Training beyond specified 't_total'. Learning rate multiplier set to 0.0. Please set 't_total' of WarmupLinearSchedule correctly.\n"
          ]
        },
        {
          "output_type": "stream",
          "name": "stdout",
          "text": [
            "Percent: [--------------->              ] 54% || batch_time: 0.0494 || batch_loss: 0.1671 || avg_batch_loss: 0.2806 || batch_acc: 1.0000 || avg_batch_acc: 1.0000 "
          ]
        },
        {
          "output_type": "stream",
          "name": "stderr",
          "text": [
            "Training beyond specified 't_total'. Learning rate multiplier set to 0.0. Please set 't_total' of WarmupLinearSchedule correctly.\n"
          ]
        },
        {
          "output_type": "stream",
          "name": "stdout",
          "text": [
            "Percent: [--------------->              ] 54% || batch_time: 0.0451 || batch_loss: 0.1230 || avg_batch_loss: 0.2804 || batch_acc: 1.0000 || avg_batch_acc: 1.0000 "
          ]
        },
        {
          "output_type": "stream",
          "name": "stderr",
          "text": [
            "Training beyond specified 't_total'. Learning rate multiplier set to 0.0. Please set 't_total' of WarmupLinearSchedule correctly.\n"
          ]
        },
        {
          "output_type": "stream",
          "name": "stdout",
          "text": [
            "Percent: [--------------->              ] 54% || batch_time: 0.0468 || batch_loss: 0.2658 || avg_batch_loss: 0.2799 || batch_acc: 1.0000 || avg_batch_acc: 1.0000 "
          ]
        },
        {
          "output_type": "stream",
          "name": "stderr",
          "text": [
            "Training beyond specified 't_total'. Learning rate multiplier set to 0.0. Please set 't_total' of WarmupLinearSchedule correctly.\n"
          ]
        },
        {
          "output_type": "stream",
          "name": "stdout",
          "text": [
            "Percent: [--------------->              ] 54% || batch_time: 0.0458 || batch_loss: 0.2112 || avg_batch_loss: 0.2802 || batch_acc: 1.0000 || avg_batch_acc: 1.0000 "
          ]
        },
        {
          "output_type": "stream",
          "name": "stderr",
          "text": [
            "Training beyond specified 't_total'. Learning rate multiplier set to 0.0. Please set 't_total' of WarmupLinearSchedule correctly.\n"
          ]
        },
        {
          "output_type": "stream",
          "name": "stdout",
          "text": [
            "Percent: [--------------->              ] 55% || batch_time: 0.0495 || batch_loss: 0.5877 || avg_batch_loss: 0.2806 || batch_acc: 1.0000 || avg_batch_acc: 1.0000 "
          ]
        },
        {
          "output_type": "stream",
          "name": "stderr",
          "text": [
            "Training beyond specified 't_total'. Learning rate multiplier set to 0.0. Please set 't_total' of WarmupLinearSchedule correctly.\n"
          ]
        },
        {
          "output_type": "stream",
          "name": "stdout",
          "text": [
            "Percent: [--------------->              ] 55% || batch_time: 0.0549 || batch_loss: 0.5970 || avg_batch_loss: 0.2814 || batch_acc: 1.0000 || avg_batch_acc: 1.0000 "
          ]
        },
        {
          "output_type": "stream",
          "name": "stderr",
          "text": [
            "Training beyond specified 't_total'. Learning rate multiplier set to 0.0. Please set 't_total' of WarmupLinearSchedule correctly.\n"
          ]
        },
        {
          "output_type": "stream",
          "name": "stdout",
          "text": [
            "Percent: [---------------->             ] 55% || batch_time: 0.0486 || batch_loss: 0.1291 || avg_batch_loss: 0.2810 || batch_acc: 1.0000 || avg_batch_acc: 1.0000 "
          ]
        },
        {
          "output_type": "stream",
          "name": "stderr",
          "text": [
            "Training beyond specified 't_total'. Learning rate multiplier set to 0.0. Please set 't_total' of WarmupLinearSchedule correctly.\n"
          ]
        },
        {
          "output_type": "stream",
          "name": "stdout",
          "text": [
            "Percent: [---------------->             ] 55% || batch_time: 0.0494 || batch_loss: 0.2465 || avg_batch_loss: 0.2808 || batch_acc: 1.0000 || avg_batch_acc: 1.0000 "
          ]
        },
        {
          "output_type": "stream",
          "name": "stderr",
          "text": [
            "Training beyond specified 't_total'. Learning rate multiplier set to 0.0. Please set 't_total' of WarmupLinearSchedule correctly.\n"
          ]
        },
        {
          "output_type": "stream",
          "name": "stdout",
          "text": [
            "Percent: [---------------->             ] 56% || batch_time: 0.0501 || batch_loss: 0.7748 || avg_batch_loss: 0.2809 || batch_acc: 1.0000 || avg_batch_acc: 1.0000 "
          ]
        },
        {
          "output_type": "stream",
          "name": "stderr",
          "text": [
            "Training beyond specified 't_total'. Learning rate multiplier set to 0.0. Please set 't_total' of WarmupLinearSchedule correctly.\n"
          ]
        },
        {
          "output_type": "stream",
          "name": "stdout",
          "text": [
            "Percent: [---------------->             ] 56% || batch_time: 0.0506 || batch_loss: 0.0274 || avg_batch_loss: 0.2814 || batch_acc: 1.0000 || avg_batch_acc: 1.0000 "
          ]
        },
        {
          "output_type": "stream",
          "name": "stderr",
          "text": [
            "Training beyond specified 't_total'. Learning rate multiplier set to 0.0. Please set 't_total' of WarmupLinearSchedule correctly.\n"
          ]
        },
        {
          "output_type": "stream",
          "name": "stdout",
          "text": [
            "Percent: [---------------->             ] 56% || batch_time: 0.0482 || batch_loss: 0.2925 || avg_batch_loss: 0.2811 || batch_acc: 1.0000 || avg_batch_acc: 1.0000 "
          ]
        },
        {
          "output_type": "stream",
          "name": "stderr",
          "text": [
            "Training beyond specified 't_total'. Learning rate multiplier set to 0.0. Please set 't_total' of WarmupLinearSchedule correctly.\n"
          ]
        },
        {
          "output_type": "stream",
          "name": "stdout",
          "text": [
            "Percent: [---------------->             ] 56% || batch_time: 0.0555 || batch_loss: 0.4159 || avg_batch_loss: 0.2807 || batch_acc: 1.0000 || avg_batch_acc: 1.0000 "
          ]
        },
        {
          "output_type": "stream",
          "name": "stderr",
          "text": [
            "Training beyond specified 't_total'. Learning rate multiplier set to 0.0. Please set 't_total' of WarmupLinearSchedule correctly.\n"
          ]
        },
        {
          "output_type": "stream",
          "name": "stdout",
          "text": [
            "Percent: [---------------->             ] 56% || batch_time: 0.0470 || batch_loss: 0.0691 || avg_batch_loss: 0.2803 || batch_acc: 1.0000 || avg_batch_acc: 1.0000 "
          ]
        },
        {
          "output_type": "stream",
          "name": "stderr",
          "text": [
            "Training beyond specified 't_total'. Learning rate multiplier set to 0.0. Please set 't_total' of WarmupLinearSchedule correctly.\n"
          ]
        },
        {
          "output_type": "stream",
          "name": "stdout",
          "text": [
            "Percent: [---------------->             ] 57% || batch_time: 0.0546 || batch_loss: 0.4492 || avg_batch_loss: 0.2800 || batch_acc: 1.0000 || avg_batch_acc: 1.0000 "
          ]
        },
        {
          "output_type": "stream",
          "name": "stderr",
          "text": [
            "Training beyond specified 't_total'. Learning rate multiplier set to 0.0. Please set 't_total' of WarmupLinearSchedule correctly.\n"
          ]
        },
        {
          "output_type": "stream",
          "name": "stdout",
          "text": [
            "Percent: [---------------->             ] 57% || batch_time: 0.0478 || batch_loss: 0.3923 || avg_batch_loss: 0.2799 || batch_acc: 1.0000 || avg_batch_acc: 1.0000 "
          ]
        },
        {
          "output_type": "stream",
          "name": "stderr",
          "text": [
            "Training beyond specified 't_total'. Learning rate multiplier set to 0.0. Please set 't_total' of WarmupLinearSchedule correctly.\n"
          ]
        },
        {
          "output_type": "stream",
          "name": "stdout",
          "text": [
            "Percent: [---------------->             ] 57% || batch_time: 0.0515 || batch_loss: 0.0563 || avg_batch_loss: 0.2799 || batch_acc: 1.0000 || avg_batch_acc: 1.0000 "
          ]
        },
        {
          "output_type": "stream",
          "name": "stderr",
          "text": [
            "Training beyond specified 't_total'. Learning rate multiplier set to 0.0. Please set 't_total' of WarmupLinearSchedule correctly.\n"
          ]
        },
        {
          "output_type": "stream",
          "name": "stdout",
          "text": [
            "Percent: [---------------->             ] 57% || batch_time: 0.0503 || batch_loss: 0.5406 || avg_batch_loss: 0.2798 || batch_acc: 1.0000 || avg_batch_acc: 1.0000 "
          ]
        },
        {
          "output_type": "stream",
          "name": "stderr",
          "text": [
            "Training beyond specified 't_total'. Learning rate multiplier set to 0.0. Please set 't_total' of WarmupLinearSchedule correctly.\n"
          ]
        },
        {
          "output_type": "stream",
          "name": "stdout",
          "text": [
            "Percent: [---------------->             ] 57% || batch_time: 0.0510 || batch_loss: 0.8850 || avg_batch_loss: 0.2807 || batch_acc: 1.0000 || avg_batch_acc: 1.0000 "
          ]
        },
        {
          "output_type": "stream",
          "name": "stderr",
          "text": [
            "Training beyond specified 't_total'. Learning rate multiplier set to 0.0. Please set 't_total' of WarmupLinearSchedule correctly.\n"
          ]
        },
        {
          "output_type": "stream",
          "name": "stdout",
          "text": [
            "Percent: [---------------->             ] 58% || batch_time: 0.0535 || batch_loss: 0.1783 || avg_batch_loss: 0.2801 || batch_acc: 1.0000 || avg_batch_acc: 1.0000 "
          ]
        },
        {
          "output_type": "stream",
          "name": "stderr",
          "text": [
            "Training beyond specified 't_total'. Learning rate multiplier set to 0.0. Please set 't_total' of WarmupLinearSchedule correctly.\n"
          ]
        },
        {
          "output_type": "stream",
          "name": "stdout",
          "text": [
            "Percent: [---------------->             ] 58% || batch_time: 0.0469 || batch_loss: 0.3833 || avg_batch_loss: 0.2799 || batch_acc: 1.0000 || avg_batch_acc: 1.0000 "
          ]
        },
        {
          "output_type": "stream",
          "name": "stderr",
          "text": [
            "Training beyond specified 't_total'. Learning rate multiplier set to 0.0. Please set 't_total' of WarmupLinearSchedule correctly.\n"
          ]
        },
        {
          "output_type": "stream",
          "name": "stdout",
          "text": [
            "Percent: [---------------->             ] 58% || batch_time: 0.0549 || batch_loss: 0.4584 || avg_batch_loss: 0.2794 || batch_acc: 1.0000 || avg_batch_acc: 1.0000 "
          ]
        },
        {
          "output_type": "stream",
          "name": "stderr",
          "text": [
            "Training beyond specified 't_total'. Learning rate multiplier set to 0.0. Please set 't_total' of WarmupLinearSchedule correctly.\n"
          ]
        },
        {
          "output_type": "stream",
          "name": "stdout",
          "text": [
            "Percent: [----------------->            ] 58% || batch_time: 0.0492 || batch_loss: 0.1052 || avg_batch_loss: 0.2801 || batch_acc: 1.0000 || avg_batch_acc: 1.0000 "
          ]
        },
        {
          "output_type": "stream",
          "name": "stderr",
          "text": [
            "Training beyond specified 't_total'. Learning rate multiplier set to 0.0. Please set 't_total' of WarmupLinearSchedule correctly.\n"
          ]
        },
        {
          "output_type": "stream",
          "name": "stdout",
          "text": [
            "Percent: [----------------->            ] 59% || batch_time: 0.0521 || batch_loss: 0.1418 || avg_batch_loss: 0.2803 || batch_acc: 1.0000 || avg_batch_acc: 1.0000 "
          ]
        },
        {
          "output_type": "stream",
          "name": "stderr",
          "text": [
            "Training beyond specified 't_total'. Learning rate multiplier set to 0.0. Please set 't_total' of WarmupLinearSchedule correctly.\n"
          ]
        },
        {
          "output_type": "stream",
          "name": "stdout",
          "text": [
            "Percent: [----------------->            ] 59% || batch_time: 0.0468 || batch_loss: 0.3288 || avg_batch_loss: 0.2806 || batch_acc: 1.0000 || avg_batch_acc: 1.0000 "
          ]
        },
        {
          "output_type": "stream",
          "name": "stderr",
          "text": [
            "Training beyond specified 't_total'. Learning rate multiplier set to 0.0. Please set 't_total' of WarmupLinearSchedule correctly.\n"
          ]
        },
        {
          "output_type": "stream",
          "name": "stdout",
          "text": [
            "Percent: [----------------->            ] 59% || batch_time: 0.0495 || batch_loss: 0.0250 || avg_batch_loss: 0.2810 || batch_acc: 1.0000 || avg_batch_acc: 1.0000 "
          ]
        },
        {
          "output_type": "stream",
          "name": "stderr",
          "text": [
            "Training beyond specified 't_total'. Learning rate multiplier set to 0.0. Please set 't_total' of WarmupLinearSchedule correctly.\n"
          ]
        },
        {
          "output_type": "stream",
          "name": "stdout",
          "text": [
            "Percent: [----------------->            ] 59% || batch_time: 0.0500 || batch_loss: 0.4055 || avg_batch_loss: 0.2808 || batch_acc: 1.0000 || avg_batch_acc: 1.0000 "
          ]
        },
        {
          "output_type": "stream",
          "name": "stderr",
          "text": [
            "Training beyond specified 't_total'. Learning rate multiplier set to 0.0. Please set 't_total' of WarmupLinearSchedule correctly.\n"
          ]
        },
        {
          "output_type": "stream",
          "name": "stdout",
          "text": [
            "Percent: [----------------->            ] 59% || batch_time: 0.0469 || batch_loss: 0.4712 || avg_batch_loss: 0.2805 || batch_acc: 1.0000 || avg_batch_acc: 1.0000 "
          ]
        },
        {
          "output_type": "stream",
          "name": "stderr",
          "text": [
            "Training beyond specified 't_total'. Learning rate multiplier set to 0.0. Please set 't_total' of WarmupLinearSchedule correctly.\n"
          ]
        },
        {
          "output_type": "stream",
          "name": "stdout",
          "text": [
            "Percent: [----------------->            ] 60% || batch_time: 0.0490 || batch_loss: 0.7929 || avg_batch_loss: 0.2809 || batch_acc: 1.0000 || avg_batch_acc: 1.0000 "
          ]
        },
        {
          "output_type": "stream",
          "name": "stderr",
          "text": [
            "Training beyond specified 't_total'. Learning rate multiplier set to 0.0. Please set 't_total' of WarmupLinearSchedule correctly.\n"
          ]
        },
        {
          "output_type": "stream",
          "name": "stdout",
          "text": [
            "Percent: [----------------->            ] 60% || batch_time: 0.0532 || batch_loss: 0.4893 || avg_batch_loss: 0.2808 || batch_acc: 1.0000 || avg_batch_acc: 1.0000 "
          ]
        },
        {
          "output_type": "stream",
          "name": "stderr",
          "text": [
            "Training beyond specified 't_total'. Learning rate multiplier set to 0.0. Please set 't_total' of WarmupLinearSchedule correctly.\n"
          ]
        },
        {
          "output_type": "stream",
          "name": "stdout",
          "text": [
            "Percent: [----------------->            ] 60% || batch_time: 0.0495 || batch_loss: 0.4062 || avg_batch_loss: 0.2806 || batch_acc: 1.0000 || avg_batch_acc: 1.0000 "
          ]
        },
        {
          "output_type": "stream",
          "name": "stderr",
          "text": [
            "Training beyond specified 't_total'. Learning rate multiplier set to 0.0. Please set 't_total' of WarmupLinearSchedule correctly.\n"
          ]
        },
        {
          "output_type": "stream",
          "name": "stdout",
          "text": [
            "Percent: [----------------->            ] 60% || batch_time: 0.0499 || batch_loss: 0.2652 || avg_batch_loss: 0.2804 || batch_acc: 1.0000 || avg_batch_acc: 1.0000 "
          ]
        },
        {
          "output_type": "stream",
          "name": "stderr",
          "text": [
            "Training beyond specified 't_total'. Learning rate multiplier set to 0.0. Please set 't_total' of WarmupLinearSchedule correctly.\n"
          ]
        },
        {
          "output_type": "stream",
          "name": "stdout",
          "text": [
            "Percent: [----------------->            ] 61% || batch_time: 0.0468 || batch_loss: 0.6452 || avg_batch_loss: 0.2809 || batch_acc: 1.0000 || avg_batch_acc: 1.0000 "
          ]
        },
        {
          "output_type": "stream",
          "name": "stderr",
          "text": [
            "Training beyond specified 't_total'. Learning rate multiplier set to 0.0. Please set 't_total' of WarmupLinearSchedule correctly.\n"
          ]
        },
        {
          "output_type": "stream",
          "name": "stdout",
          "text": [
            "Percent: [----------------->            ] 61% || batch_time: 0.0535 || batch_loss: 0.7167 || avg_batch_loss: 0.2811 || batch_acc: 1.0000 || avg_batch_acc: 1.0000 "
          ]
        },
        {
          "output_type": "stream",
          "name": "stderr",
          "text": [
            "Training beyond specified 't_total'. Learning rate multiplier set to 0.0. Please set 't_total' of WarmupLinearSchedule correctly.\n"
          ]
        },
        {
          "output_type": "stream",
          "name": "stdout",
          "text": [
            "Percent: [----------------->            ] 61% || batch_time: 0.0475 || batch_loss: 0.2798 || avg_batch_loss: 0.2813 || batch_acc: 1.0000 || avg_batch_acc: 1.0000 "
          ]
        },
        {
          "output_type": "stream",
          "name": "stderr",
          "text": [
            "Training beyond specified 't_total'. Learning rate multiplier set to 0.0. Please set 't_total' of WarmupLinearSchedule correctly.\n"
          ]
        },
        {
          "output_type": "stream",
          "name": "stdout",
          "text": [
            "Percent: [----------------->            ] 61% || batch_time: 0.0458 || batch_loss: 0.0093 || avg_batch_loss: 0.2810 || batch_acc: 1.0000 || avg_batch_acc: 1.0000 "
          ]
        },
        {
          "output_type": "stream",
          "name": "stderr",
          "text": [
            "Training beyond specified 't_total'. Learning rate multiplier set to 0.0. Please set 't_total' of WarmupLinearSchedule correctly.\n"
          ]
        },
        {
          "output_type": "stream",
          "name": "stdout",
          "text": [
            "Percent: [----------------->            ] 61% || batch_time: 0.0555 || batch_loss: 0.6024 || avg_batch_loss: 0.2814 || batch_acc: 1.0000 || avg_batch_acc: 1.0000 "
          ]
        },
        {
          "output_type": "stream",
          "name": "stderr",
          "text": [
            "Training beyond specified 't_total'. Learning rate multiplier set to 0.0. Please set 't_total' of WarmupLinearSchedule correctly.\n"
          ]
        },
        {
          "output_type": "stream",
          "name": "stdout",
          "text": [
            "Percent: [------------------>           ] 62% || batch_time: 0.0478 || batch_loss: 0.5282 || avg_batch_loss: 0.2811 || batch_acc: 1.0000 || avg_batch_acc: 1.0000 "
          ]
        },
        {
          "output_type": "stream",
          "name": "stderr",
          "text": [
            "Training beyond specified 't_total'. Learning rate multiplier set to 0.0. Please set 't_total' of WarmupLinearSchedule correctly.\n"
          ]
        },
        {
          "output_type": "stream",
          "name": "stdout",
          "text": [
            "Percent: [------------------>           ] 62% || batch_time: 0.0512 || batch_loss: 0.3156 || avg_batch_loss: 0.2811 || batch_acc: 1.0000 || avg_batch_acc: 1.0000 "
          ]
        },
        {
          "output_type": "stream",
          "name": "stderr",
          "text": [
            "Training beyond specified 't_total'. Learning rate multiplier set to 0.0. Please set 't_total' of WarmupLinearSchedule correctly.\n"
          ]
        },
        {
          "output_type": "stream",
          "name": "stdout",
          "text": [
            "Percent: [------------------>           ] 62% || batch_time: 0.0563 || batch_loss: 0.0619 || avg_batch_loss: 0.2809 || batch_acc: 1.0000 || avg_batch_acc: 1.0000 "
          ]
        },
        {
          "output_type": "stream",
          "name": "stderr",
          "text": [
            "Training beyond specified 't_total'. Learning rate multiplier set to 0.0. Please set 't_total' of WarmupLinearSchedule correctly.\n"
          ]
        },
        {
          "output_type": "stream",
          "name": "stdout",
          "text": [
            "Percent: [------------------>           ] 62% || batch_time: 0.0473 || batch_loss: 0.0790 || avg_batch_loss: 0.2807 || batch_acc: 1.0000 || avg_batch_acc: 1.0000 "
          ]
        },
        {
          "output_type": "stream",
          "name": "stderr",
          "text": [
            "Training beyond specified 't_total'. Learning rate multiplier set to 0.0. Please set 't_total' of WarmupLinearSchedule correctly.\n"
          ]
        },
        {
          "output_type": "stream",
          "name": "stdout",
          "text": [
            "Percent: [------------------>           ] 63% || batch_time: 0.0495 || batch_loss: 0.6196 || avg_batch_loss: 0.2810 || batch_acc: 1.0000 || avg_batch_acc: 1.0000 "
          ]
        },
        {
          "output_type": "stream",
          "name": "stderr",
          "text": [
            "Training beyond specified 't_total'. Learning rate multiplier set to 0.0. Please set 't_total' of WarmupLinearSchedule correctly.\n"
          ]
        },
        {
          "output_type": "stream",
          "name": "stdout",
          "text": [
            "Percent: [------------------>           ] 63% || batch_time: 0.0465 || batch_loss: 0.1625 || avg_batch_loss: 0.2808 || batch_acc: 1.0000 || avg_batch_acc: 1.0000 "
          ]
        },
        {
          "output_type": "stream",
          "name": "stderr",
          "text": [
            "Training beyond specified 't_total'. Learning rate multiplier set to 0.0. Please set 't_total' of WarmupLinearSchedule correctly.\n"
          ]
        },
        {
          "output_type": "stream",
          "name": "stdout",
          "text": [
            "Percent: [------------------>           ] 63% || batch_time: 0.0443 || batch_loss: 0.0070 || avg_batch_loss: 0.2813 || batch_acc: 1.0000 || avg_batch_acc: 1.0000 "
          ]
        },
        {
          "output_type": "stream",
          "name": "stderr",
          "text": [
            "Training beyond specified 't_total'. Learning rate multiplier set to 0.0. Please set 't_total' of WarmupLinearSchedule correctly.\n"
          ]
        },
        {
          "output_type": "stream",
          "name": "stdout",
          "text": [
            "Percent: [------------------>           ] 63% || batch_time: 0.0522 || batch_loss: 0.0031 || avg_batch_loss: 0.2807 || batch_acc: 1.0000 || avg_batch_acc: 1.0000 "
          ]
        },
        {
          "output_type": "stream",
          "name": "stderr",
          "text": [
            "Training beyond specified 't_total'. Learning rate multiplier set to 0.0. Please set 't_total' of WarmupLinearSchedule correctly.\n"
          ]
        },
        {
          "output_type": "stream",
          "name": "stdout",
          "text": [
            "Percent: [------------------>           ] 63% || batch_time: 0.0496 || batch_loss: 0.7487 || avg_batch_loss: 0.2810 || batch_acc: 1.0000 || avg_batch_acc: 1.0000 "
          ]
        },
        {
          "output_type": "stream",
          "name": "stderr",
          "text": [
            "Training beyond specified 't_total'. Learning rate multiplier set to 0.0. Please set 't_total' of WarmupLinearSchedule correctly.\n"
          ]
        },
        {
          "output_type": "stream",
          "name": "stdout",
          "text": [
            "Percent: [------------------>           ] 64% || batch_time: 0.0496 || batch_loss: 0.2507 || avg_batch_loss: 0.2810 || batch_acc: 1.0000 || avg_batch_acc: 1.0000 "
          ]
        },
        {
          "output_type": "stream",
          "name": "stderr",
          "text": [
            "Training beyond specified 't_total'. Learning rate multiplier set to 0.0. Please set 't_total' of WarmupLinearSchedule correctly.\n"
          ]
        },
        {
          "output_type": "stream",
          "name": "stdout",
          "text": [
            "Percent: [------------------>           ] 64% || batch_time: 0.0517 || batch_loss: 0.1915 || avg_batch_loss: 0.2809 || batch_acc: 1.0000 || avg_batch_acc: 1.0000 "
          ]
        },
        {
          "output_type": "stream",
          "name": "stderr",
          "text": [
            "Training beyond specified 't_total'. Learning rate multiplier set to 0.0. Please set 't_total' of WarmupLinearSchedule correctly.\n"
          ]
        },
        {
          "output_type": "stream",
          "name": "stdout",
          "text": [
            "Percent: [------------------>           ] 64% || batch_time: 0.0488 || batch_loss: 0.2410 || avg_batch_loss: 0.2805 || batch_acc: 1.0000 || avg_batch_acc: 1.0000 "
          ]
        },
        {
          "output_type": "stream",
          "name": "stderr",
          "text": [
            "Training beyond specified 't_total'. Learning rate multiplier set to 0.0. Please set 't_total' of WarmupLinearSchedule correctly.\n"
          ]
        },
        {
          "output_type": "stream",
          "name": "stdout",
          "text": [
            "Percent: [------------------>           ] 64% || batch_time: 0.0490 || batch_loss: 0.0789 || avg_batch_loss: 0.2802 || batch_acc: 1.0000 || avg_batch_acc: 1.0000 "
          ]
        },
        {
          "output_type": "stream",
          "name": "stderr",
          "text": [
            "Training beyond specified 't_total'. Learning rate multiplier set to 0.0. Please set 't_total' of WarmupLinearSchedule correctly.\n"
          ]
        },
        {
          "output_type": "stream",
          "name": "stdout",
          "text": [
            "Percent: [------------------>           ] 65% || batch_time: 0.0488 || batch_loss: 0.2390 || avg_batch_loss: 0.2799 || batch_acc: 1.0000 || avg_batch_acc: 1.0000 "
          ]
        },
        {
          "output_type": "stream",
          "name": "stderr",
          "text": [
            "Training beyond specified 't_total'. Learning rate multiplier set to 0.0. Please set 't_total' of WarmupLinearSchedule correctly.\n"
          ]
        },
        {
          "output_type": "stream",
          "name": "stdout",
          "text": [
            "Percent: [------------------>           ] 65% || batch_time: 0.0463 || batch_loss: 0.0115 || avg_batch_loss: 0.2795 || batch_acc: 1.0000 || avg_batch_acc: 1.0000 "
          ]
        },
        {
          "output_type": "stream",
          "name": "stderr",
          "text": [
            "Training beyond specified 't_total'. Learning rate multiplier set to 0.0. Please set 't_total' of WarmupLinearSchedule correctly.\n"
          ]
        },
        {
          "output_type": "stream",
          "name": "stdout",
          "text": [
            "Percent: [------------------->          ] 65% || batch_time: 0.0535 || batch_loss: 0.4496 || avg_batch_loss: 0.2794 || batch_acc: 1.0000 || avg_batch_acc: 1.0000 "
          ]
        },
        {
          "output_type": "stream",
          "name": "stderr",
          "text": [
            "Training beyond specified 't_total'. Learning rate multiplier set to 0.0. Please set 't_total' of WarmupLinearSchedule correctly.\n"
          ]
        },
        {
          "output_type": "stream",
          "name": "stdout",
          "text": [
            "Percent: [------------------->          ] 65% || batch_time: 0.0645 || batch_loss: 0.3562 || avg_batch_loss: 0.2790 || batch_acc: 1.0000 || avg_batch_acc: 1.0000 "
          ]
        },
        {
          "output_type": "stream",
          "name": "stderr",
          "text": [
            "Training beyond specified 't_total'. Learning rate multiplier set to 0.0. Please set 't_total' of WarmupLinearSchedule correctly.\n"
          ]
        },
        {
          "output_type": "stream",
          "name": "stdout",
          "text": [
            "Percent: [------------------->          ] 65% || batch_time: 0.0615 || batch_loss: 0.2014 || avg_batch_loss: 0.2786 || batch_acc: 1.0000 || avg_batch_acc: 1.0000 "
          ]
        },
        {
          "output_type": "stream",
          "name": "stderr",
          "text": [
            "Training beyond specified 't_total'. Learning rate multiplier set to 0.0. Please set 't_total' of WarmupLinearSchedule correctly.\n"
          ]
        },
        {
          "output_type": "stream",
          "name": "stdout",
          "text": [
            "Percent: [------------------->          ] 66% || batch_time: 0.0501 || batch_loss: 0.0287 || avg_batch_loss: 0.2780 || batch_acc: 1.0000 || avg_batch_acc: 1.0000 "
          ]
        },
        {
          "output_type": "stream",
          "name": "stderr",
          "text": [
            "Training beyond specified 't_total'. Learning rate multiplier set to 0.0. Please set 't_total' of WarmupLinearSchedule correctly.\n"
          ]
        },
        {
          "output_type": "stream",
          "name": "stdout",
          "text": [
            "Percent: [------------------->          ] 66% || batch_time: 0.0583 || batch_loss: 0.2070 || avg_batch_loss: 0.2777 || batch_acc: 1.0000 || avg_batch_acc: 1.0000 "
          ]
        },
        {
          "output_type": "stream",
          "name": "stderr",
          "text": [
            "Training beyond specified 't_total'. Learning rate multiplier set to 0.0. Please set 't_total' of WarmupLinearSchedule correctly.\n"
          ]
        },
        {
          "output_type": "stream",
          "name": "stdout",
          "text": [
            "Percent: [------------------->          ] 66% || batch_time: 0.0472 || batch_loss: 0.5308 || avg_batch_loss: 0.2783 || batch_acc: 1.0000 || avg_batch_acc: 1.0000 "
          ]
        },
        {
          "output_type": "stream",
          "name": "stderr",
          "text": [
            "Training beyond specified 't_total'. Learning rate multiplier set to 0.0. Please set 't_total' of WarmupLinearSchedule correctly.\n"
          ]
        },
        {
          "output_type": "stream",
          "name": "stdout",
          "text": [
            "Percent: [------------------->          ] 66% || batch_time: 0.0463 || batch_loss: 0.1777 || avg_batch_loss: 0.2780 || batch_acc: 1.0000 || avg_batch_acc: 1.0000 "
          ]
        },
        {
          "output_type": "stream",
          "name": "stderr",
          "text": [
            "Training beyond specified 't_total'. Learning rate multiplier set to 0.0. Please set 't_total' of WarmupLinearSchedule correctly.\n"
          ]
        },
        {
          "output_type": "stream",
          "name": "stdout",
          "text": [
            "Percent: [------------------->          ] 67% || batch_time: 0.0534 || batch_loss: 0.1297 || avg_batch_loss: 0.2775 || batch_acc: 1.0000 || avg_batch_acc: 1.0000 "
          ]
        },
        {
          "output_type": "stream",
          "name": "stderr",
          "text": [
            "Training beyond specified 't_total'. Learning rate multiplier set to 0.0. Please set 't_total' of WarmupLinearSchedule correctly.\n"
          ]
        },
        {
          "output_type": "stream",
          "name": "stdout",
          "text": [
            "Percent: [------------------->          ] 67% || batch_time: 0.0484 || batch_loss: 0.0354 || avg_batch_loss: 0.2768 || batch_acc: 1.0000 || avg_batch_acc: 1.0000 "
          ]
        },
        {
          "output_type": "stream",
          "name": "stderr",
          "text": [
            "Training beyond specified 't_total'. Learning rate multiplier set to 0.0. Please set 't_total' of WarmupLinearSchedule correctly.\n"
          ]
        },
        {
          "output_type": "stream",
          "name": "stdout",
          "text": [
            "Percent: [------------------->          ] 67% || batch_time: 0.0465 || batch_loss: 0.6767 || avg_batch_loss: 0.2770 || batch_acc: 1.0000 || avg_batch_acc: 1.0000 "
          ]
        },
        {
          "output_type": "stream",
          "name": "stderr",
          "text": [
            "Training beyond specified 't_total'. Learning rate multiplier set to 0.0. Please set 't_total' of WarmupLinearSchedule correctly.\n"
          ]
        },
        {
          "output_type": "stream",
          "name": "stdout",
          "text": [
            "Percent: [------------------->          ] 67% || batch_time: 0.0461 || batch_loss: 0.3535 || avg_batch_loss: 0.2772 || batch_acc: 1.0000 || avg_batch_acc: 1.0000 "
          ]
        },
        {
          "output_type": "stream",
          "name": "stderr",
          "text": [
            "Training beyond specified 't_total'. Learning rate multiplier set to 0.0. Please set 't_total' of WarmupLinearSchedule correctly.\n"
          ]
        },
        {
          "output_type": "stream",
          "name": "stdout",
          "text": [
            "Percent: [------------------->          ] 67% || batch_time: 0.0481 || batch_loss: 0.3841 || avg_batch_loss: 0.2777 || batch_acc: 1.0000 || avg_batch_acc: 1.0000 "
          ]
        },
        {
          "output_type": "stream",
          "name": "stderr",
          "text": [
            "Training beyond specified 't_total'. Learning rate multiplier set to 0.0. Please set 't_total' of WarmupLinearSchedule correctly.\n"
          ]
        },
        {
          "output_type": "stream",
          "name": "stdout",
          "text": [
            "Percent: [------------------->          ] 68% || batch_time: 0.0491 || batch_loss: 0.4749 || avg_batch_loss: 0.2776 || batch_acc: 1.0000 || avg_batch_acc: 1.0000 "
          ]
        },
        {
          "output_type": "stream",
          "name": "stderr",
          "text": [
            "Training beyond specified 't_total'. Learning rate multiplier set to 0.0. Please set 't_total' of WarmupLinearSchedule correctly.\n"
          ]
        },
        {
          "output_type": "stream",
          "name": "stdout",
          "text": [
            "Percent: [------------------->          ] 68% || batch_time: 0.0506 || batch_loss: 0.1565 || avg_batch_loss: 0.2772 || batch_acc: 1.0000 || avg_batch_acc: 1.0000 "
          ]
        },
        {
          "output_type": "stream",
          "name": "stderr",
          "text": [
            "Training beyond specified 't_total'. Learning rate multiplier set to 0.0. Please set 't_total' of WarmupLinearSchedule correctly.\n"
          ]
        },
        {
          "output_type": "stream",
          "name": "stdout",
          "text": [
            "Percent: [------------------->          ] 68% || batch_time: 0.0514 || batch_loss: 0.2573 || avg_batch_loss: 0.2770 || batch_acc: 1.0000 || avg_batch_acc: 1.0000 "
          ]
        },
        {
          "output_type": "stream",
          "name": "stderr",
          "text": [
            "Training beyond specified 't_total'. Learning rate multiplier set to 0.0. Please set 't_total' of WarmupLinearSchedule correctly.\n"
          ]
        },
        {
          "output_type": "stream",
          "name": "stdout",
          "text": [
            "Percent: [-------------------->         ] 68% || batch_time: 0.0512 || batch_loss: 0.1441 || avg_batch_loss: 0.2766 || batch_acc: 1.0000 || avg_batch_acc: 1.0000 "
          ]
        },
        {
          "output_type": "stream",
          "name": "stderr",
          "text": [
            "Training beyond specified 't_total'. Learning rate multiplier set to 0.0. Please set 't_total' of WarmupLinearSchedule correctly.\n"
          ]
        },
        {
          "output_type": "stream",
          "name": "stdout",
          "text": [
            "Percent: [-------------------->         ] 69% || batch_time: 0.0494 || batch_loss: 0.3803 || avg_batch_loss: 0.2763 || batch_acc: 1.0000 || avg_batch_acc: 1.0000 "
          ]
        },
        {
          "output_type": "stream",
          "name": "stderr",
          "text": [
            "Training beyond specified 't_total'. Learning rate multiplier set to 0.0. Please set 't_total' of WarmupLinearSchedule correctly.\n"
          ]
        },
        {
          "output_type": "stream",
          "name": "stdout",
          "text": [
            "Percent: [-------------------->         ] 69% || batch_time: 0.0498 || batch_loss: 0.1217 || avg_batch_loss: 0.2760 || batch_acc: 1.0000 || avg_batch_acc: 1.0000 "
          ]
        },
        {
          "output_type": "stream",
          "name": "stderr",
          "text": [
            "Training beyond specified 't_total'. Learning rate multiplier set to 0.0. Please set 't_total' of WarmupLinearSchedule correctly.\n"
          ]
        },
        {
          "output_type": "stream",
          "name": "stdout",
          "text": [
            "Percent: [-------------------->         ] 69% || batch_time: 0.0518 || batch_loss: 0.0630 || avg_batch_loss: 0.2760 || batch_acc: 1.0000 || avg_batch_acc: 1.0000 "
          ]
        },
        {
          "output_type": "stream",
          "name": "stderr",
          "text": [
            "Training beyond specified 't_total'. Learning rate multiplier set to 0.0. Please set 't_total' of WarmupLinearSchedule correctly.\n"
          ]
        },
        {
          "output_type": "stream",
          "name": "stdout",
          "text": [
            "Percent: [-------------------->         ] 69% || batch_time: 0.0528 || batch_loss: 0.0054 || avg_batch_loss: 0.2755 || batch_acc: 1.0000 || avg_batch_acc: 1.0000 "
          ]
        },
        {
          "output_type": "stream",
          "name": "stderr",
          "text": [
            "Training beyond specified 't_total'. Learning rate multiplier set to 0.0. Please set 't_total' of WarmupLinearSchedule correctly.\n"
          ]
        },
        {
          "output_type": "stream",
          "name": "stdout",
          "text": [
            "Percent: [-------------------->         ] 69% || batch_time: 0.0436 || batch_loss: 0.5648 || avg_batch_loss: 0.2759 || batch_acc: 1.0000 || avg_batch_acc: 1.0000 "
          ]
        },
        {
          "output_type": "stream",
          "name": "stderr",
          "text": [
            "Training beyond specified 't_total'. Learning rate multiplier set to 0.0. Please set 't_total' of WarmupLinearSchedule correctly.\n"
          ]
        },
        {
          "output_type": "stream",
          "name": "stdout",
          "text": [
            "Percent: [-------------------->         ] 70% || batch_time: 0.0492 || batch_loss: 0.3003 || avg_batch_loss: 0.2762 || batch_acc: 1.0000 || avg_batch_acc: 1.0000 "
          ]
        },
        {
          "output_type": "stream",
          "name": "stderr",
          "text": [
            "Training beyond specified 't_total'. Learning rate multiplier set to 0.0. Please set 't_total' of WarmupLinearSchedule correctly.\n"
          ]
        },
        {
          "output_type": "stream",
          "name": "stdout",
          "text": [
            "Percent: [-------------------->         ] 70% || batch_time: 0.0545 || batch_loss: 0.3356 || avg_batch_loss: 0.2759 || batch_acc: 1.0000 || avg_batch_acc: 1.0000 "
          ]
        },
        {
          "output_type": "stream",
          "name": "stderr",
          "text": [
            "Training beyond specified 't_total'. Learning rate multiplier set to 0.0. Please set 't_total' of WarmupLinearSchedule correctly.\n"
          ]
        },
        {
          "output_type": "stream",
          "name": "stdout",
          "text": [
            "Percent: [-------------------->         ] 70% || batch_time: 0.0492 || batch_loss: 0.2949 || avg_batch_loss: 0.2757 || batch_acc: 1.0000 || avg_batch_acc: 1.0000 "
          ]
        },
        {
          "output_type": "stream",
          "name": "stderr",
          "text": [
            "Training beyond specified 't_total'. Learning rate multiplier set to 0.0. Please set 't_total' of WarmupLinearSchedule correctly.\n"
          ]
        },
        {
          "output_type": "stream",
          "name": "stdout",
          "text": [
            "Percent: [-------------------->         ] 70% || batch_time: 0.0478 || batch_loss: 0.4106 || avg_batch_loss: 0.2757 || batch_acc: 1.0000 || avg_batch_acc: 1.0000 "
          ]
        },
        {
          "output_type": "stream",
          "name": "stderr",
          "text": [
            "Training beyond specified 't_total'. Learning rate multiplier set to 0.0. Please set 't_total' of WarmupLinearSchedule correctly.\n"
          ]
        },
        {
          "output_type": "stream",
          "name": "stdout",
          "text": [
            "Percent: [-------------------->         ] 71% || batch_time: 0.0510 || batch_loss: 0.2737 || avg_batch_loss: 0.2755 || batch_acc: 1.0000 || avg_batch_acc: 1.0000 "
          ]
        },
        {
          "output_type": "stream",
          "name": "stderr",
          "text": [
            "Training beyond specified 't_total'. Learning rate multiplier set to 0.0. Please set 't_total' of WarmupLinearSchedule correctly.\n"
          ]
        },
        {
          "output_type": "stream",
          "name": "stdout",
          "text": [
            "Percent: [-------------------->         ] 71% || batch_time: 0.0522 || batch_loss: 0.3126 || avg_batch_loss: 0.2756 || batch_acc: 1.0000 || avg_batch_acc: 1.0000 "
          ]
        },
        {
          "output_type": "stream",
          "name": "stderr",
          "text": [
            "Training beyond specified 't_total'. Learning rate multiplier set to 0.0. Please set 't_total' of WarmupLinearSchedule correctly.\n"
          ]
        },
        {
          "output_type": "stream",
          "name": "stdout",
          "text": [
            "Percent: [-------------------->         ] 71% || batch_time: 0.0496 || batch_loss: 0.0781 || avg_batch_loss: 0.2751 || batch_acc: 1.0000 || avg_batch_acc: 1.0000 "
          ]
        },
        {
          "output_type": "stream",
          "name": "stderr",
          "text": [
            "Training beyond specified 't_total'. Learning rate multiplier set to 0.0. Please set 't_total' of WarmupLinearSchedule correctly.\n"
          ]
        },
        {
          "output_type": "stream",
          "name": "stdout",
          "text": [
            "Percent: [-------------------->         ] 71% || batch_time: 0.0466 || batch_loss: 0.0701 || avg_batch_loss: 0.2750 || batch_acc: 1.0000 || avg_batch_acc: 1.0000 "
          ]
        },
        {
          "output_type": "stream",
          "name": "stderr",
          "text": [
            "Training beyond specified 't_total'. Learning rate multiplier set to 0.0. Please set 't_total' of WarmupLinearSchedule correctly.\n"
          ]
        },
        {
          "output_type": "stream",
          "name": "stdout",
          "text": [
            "Percent: [-------------------->         ] 71% || batch_time: 0.0509 || batch_loss: 0.3318 || avg_batch_loss: 0.2752 || batch_acc: 1.0000 || avg_batch_acc: 1.0000 "
          ]
        },
        {
          "output_type": "stream",
          "name": "stderr",
          "text": [
            "Training beyond specified 't_total'. Learning rate multiplier set to 0.0. Please set 't_total' of WarmupLinearSchedule correctly.\n"
          ]
        },
        {
          "output_type": "stream",
          "name": "stdout",
          "text": [
            "Percent: [-------------------->         ] 72% || batch_time: 0.0502 || batch_loss: 0.1915 || avg_batch_loss: 0.2749 || batch_acc: 1.0000 || avg_batch_acc: 1.0000 "
          ]
        },
        {
          "output_type": "stream",
          "name": "stderr",
          "text": [
            "Training beyond specified 't_total'. Learning rate multiplier set to 0.0. Please set 't_total' of WarmupLinearSchedule correctly.\n"
          ]
        },
        {
          "output_type": "stream",
          "name": "stdout",
          "text": [
            "Percent: [--------------------->        ] 72% || batch_time: 0.0485 || batch_loss: 0.4064 || avg_batch_loss: 0.2751 || batch_acc: 1.0000 || avg_batch_acc: 1.0000 "
          ]
        },
        {
          "output_type": "stream",
          "name": "stderr",
          "text": [
            "Training beyond specified 't_total'. Learning rate multiplier set to 0.0. Please set 't_total' of WarmupLinearSchedule correctly.\n"
          ]
        },
        {
          "output_type": "stream",
          "name": "stdout",
          "text": [
            "Percent: [--------------------->        ] 72% || batch_time: 0.0493 || batch_loss: 0.2099 || avg_batch_loss: 0.2748 || batch_acc: 1.0000 || avg_batch_acc: 1.0000 "
          ]
        },
        {
          "output_type": "stream",
          "name": "stderr",
          "text": [
            "Training beyond specified 't_total'. Learning rate multiplier set to 0.0. Please set 't_total' of WarmupLinearSchedule correctly.\n"
          ]
        },
        {
          "output_type": "stream",
          "name": "stdout",
          "text": [
            "Percent: [--------------------->        ] 72% || batch_time: 0.0543 || batch_loss: 0.7517 || avg_batch_loss: 0.2749 || batch_acc: 1.0000 || avg_batch_acc: 1.0000 "
          ]
        },
        {
          "output_type": "stream",
          "name": "stderr",
          "text": [
            "Training beyond specified 't_total'. Learning rate multiplier set to 0.0. Please set 't_total' of WarmupLinearSchedule correctly.\n"
          ]
        },
        {
          "output_type": "stream",
          "name": "stdout",
          "text": [
            "Percent: [--------------------->        ] 73% || batch_time: 0.0476 || batch_loss: 0.4811 || avg_batch_loss: 0.2753 || batch_acc: 1.0000 || avg_batch_acc: 1.0000 "
          ]
        },
        {
          "output_type": "stream",
          "name": "stderr",
          "text": [
            "Training beyond specified 't_total'. Learning rate multiplier set to 0.0. Please set 't_total' of WarmupLinearSchedule correctly.\n"
          ]
        },
        {
          "output_type": "stream",
          "name": "stdout",
          "text": [
            "Percent: [--------------------->        ] 73% || batch_time: 0.0539 || batch_loss: 0.2088 || avg_batch_loss: 0.2753 || batch_acc: 1.0000 || avg_batch_acc: 1.0000 "
          ]
        },
        {
          "output_type": "stream",
          "name": "stderr",
          "text": [
            "Training beyond specified 't_total'. Learning rate multiplier set to 0.0. Please set 't_total' of WarmupLinearSchedule correctly.\n"
          ]
        },
        {
          "output_type": "stream",
          "name": "stdout",
          "text": [
            "Percent: [--------------------->        ] 73% || batch_time: 0.0491 || batch_loss: 0.1391 || avg_batch_loss: 0.2753 || batch_acc: 1.0000 || avg_batch_acc: 1.0000 "
          ]
        },
        {
          "output_type": "stream",
          "name": "stderr",
          "text": [
            "Training beyond specified 't_total'. Learning rate multiplier set to 0.0. Please set 't_total' of WarmupLinearSchedule correctly.\n"
          ]
        },
        {
          "output_type": "stream",
          "name": "stdout",
          "text": [
            "Percent: [--------------------->        ] 73% || batch_time: 0.0537 || batch_loss: 0.0752 || avg_batch_loss: 0.2751 || batch_acc: 1.0000 || avg_batch_acc: 1.0000 "
          ]
        },
        {
          "output_type": "stream",
          "name": "stderr",
          "text": [
            "Training beyond specified 't_total'. Learning rate multiplier set to 0.0. Please set 't_total' of WarmupLinearSchedule correctly.\n"
          ]
        },
        {
          "output_type": "stream",
          "name": "stdout",
          "text": [
            "Percent: [--------------------->        ] 73% || batch_time: 0.0489 || batch_loss: 0.5296 || avg_batch_loss: 0.2753 || batch_acc: 1.0000 || avg_batch_acc: 1.0000 "
          ]
        },
        {
          "output_type": "stream",
          "name": "stderr",
          "text": [
            "Training beyond specified 't_total'. Learning rate multiplier set to 0.0. Please set 't_total' of WarmupLinearSchedule correctly.\n"
          ]
        },
        {
          "output_type": "stream",
          "name": "stdout",
          "text": [
            "Percent: [--------------------->        ] 74% || batch_time: 0.0445 || batch_loss: 0.0379 || avg_batch_loss: 0.2751 || batch_acc: 1.0000 || avg_batch_acc: 1.0000 "
          ]
        },
        {
          "output_type": "stream",
          "name": "stderr",
          "text": [
            "Training beyond specified 't_total'. Learning rate multiplier set to 0.0. Please set 't_total' of WarmupLinearSchedule correctly.\n"
          ]
        },
        {
          "output_type": "stream",
          "name": "stdout",
          "text": [
            "Percent: [--------------------->        ] 74% || batch_time: 0.0474 || batch_loss: 0.1802 || avg_batch_loss: 0.2750 || batch_acc: 1.0000 || avg_batch_acc: 1.0000 "
          ]
        },
        {
          "output_type": "stream",
          "name": "stderr",
          "text": [
            "Training beyond specified 't_total'. Learning rate multiplier set to 0.0. Please set 't_total' of WarmupLinearSchedule correctly.\n"
          ]
        },
        {
          "output_type": "stream",
          "name": "stdout",
          "text": [
            "Percent: [--------------------->        ] 74% || batch_time: 0.0515 || batch_loss: 0.1131 || avg_batch_loss: 0.2751 || batch_acc: 1.0000 || avg_batch_acc: 1.0000 "
          ]
        },
        {
          "output_type": "stream",
          "name": "stderr",
          "text": [
            "Training beyond specified 't_total'. Learning rate multiplier set to 0.0. Please set 't_total' of WarmupLinearSchedule correctly.\n"
          ]
        },
        {
          "output_type": "stream",
          "name": "stdout",
          "text": [
            "Percent: [--------------------->        ] 74% || batch_time: 0.0571 || batch_loss: 0.0394 || avg_batch_loss: 0.2748 || batch_acc: 1.0000 || avg_batch_acc: 1.0000 "
          ]
        },
        {
          "output_type": "stream",
          "name": "stderr",
          "text": [
            "Training beyond specified 't_total'. Learning rate multiplier set to 0.0. Please set 't_total' of WarmupLinearSchedule correctly.\n"
          ]
        },
        {
          "output_type": "stream",
          "name": "stdout",
          "text": [
            "Percent: [--------------------->        ] 75% || batch_time: 0.0533 || batch_loss: 0.1426 || avg_batch_loss: 0.2749 || batch_acc: 1.0000 || avg_batch_acc: 1.0000 "
          ]
        },
        {
          "output_type": "stream",
          "name": "stderr",
          "text": [
            "Training beyond specified 't_total'. Learning rate multiplier set to 0.0. Please set 't_total' of WarmupLinearSchedule correctly.\n"
          ]
        },
        {
          "output_type": "stream",
          "name": "stdout",
          "text": [
            "Percent: [--------------------->        ] 75% || batch_time: 0.0496 || batch_loss: 0.2200 || avg_batch_loss: 0.2749 || batch_acc: 1.0000 || avg_batch_acc: 1.0000 "
          ]
        },
        {
          "output_type": "stream",
          "name": "stderr",
          "text": [
            "Training beyond specified 't_total'. Learning rate multiplier set to 0.0. Please set 't_total' of WarmupLinearSchedule correctly.\n"
          ]
        },
        {
          "output_type": "stream",
          "name": "stdout",
          "text": [
            "Percent: [--------------------->        ] 75% || batch_time: 0.0528 || batch_loss: 0.1559 || avg_batch_loss: 0.2745 || batch_acc: 1.0000 || avg_batch_acc: 1.0000 "
          ]
        },
        {
          "output_type": "stream",
          "name": "stderr",
          "text": [
            "Training beyond specified 't_total'. Learning rate multiplier set to 0.0. Please set 't_total' of WarmupLinearSchedule correctly.\n"
          ]
        },
        {
          "output_type": "stream",
          "name": "stdout",
          "text": [
            "Percent: [---------------------->       ] 75% || batch_time: 0.0533 || batch_loss: 0.2743 || avg_batch_loss: 0.2744 || batch_acc: 1.0000 || avg_batch_acc: 1.0000 "
          ]
        },
        {
          "output_type": "stream",
          "name": "stderr",
          "text": [
            "Training beyond specified 't_total'. Learning rate multiplier set to 0.0. Please set 't_total' of WarmupLinearSchedule correctly.\n"
          ]
        },
        {
          "output_type": "stream",
          "name": "stdout",
          "text": [
            "Percent: [---------------------->       ] 75% || batch_time: 0.0477 || batch_loss: 0.2763 || avg_batch_loss: 0.2748 || batch_acc: 1.0000 || avg_batch_acc: 1.0000 "
          ]
        },
        {
          "output_type": "stream",
          "name": "stderr",
          "text": [
            "Training beyond specified 't_total'. Learning rate multiplier set to 0.0. Please set 't_total' of WarmupLinearSchedule correctly.\n"
          ]
        },
        {
          "output_type": "stream",
          "name": "stdout",
          "text": [
            "Percent: [---------------------->       ] 76% || batch_time: 0.0508 || batch_loss: 0.4319 || avg_batch_loss: 0.2745 || batch_acc: 1.0000 || avg_batch_acc: 1.0000 "
          ]
        },
        {
          "output_type": "stream",
          "name": "stderr",
          "text": [
            "Training beyond specified 't_total'. Learning rate multiplier set to 0.0. Please set 't_total' of WarmupLinearSchedule correctly.\n"
          ]
        },
        {
          "output_type": "stream",
          "name": "stdout",
          "text": [
            "Percent: [---------------------->       ] 76% || batch_time: 0.0444 || batch_loss: 0.4730 || avg_batch_loss: 0.2744 || batch_acc: 1.0000 || avg_batch_acc: 1.0000 "
          ]
        },
        {
          "output_type": "stream",
          "name": "stderr",
          "text": [
            "Training beyond specified 't_total'. Learning rate multiplier set to 0.0. Please set 't_total' of WarmupLinearSchedule correctly.\n"
          ]
        },
        {
          "output_type": "stream",
          "name": "stdout",
          "text": [
            "Percent: [---------------------->       ] 76% || batch_time: 0.0489 || batch_loss: 0.0752 || avg_batch_loss: 0.2742 || batch_acc: 1.0000 || avg_batch_acc: 1.0000 "
          ]
        },
        {
          "output_type": "stream",
          "name": "stderr",
          "text": [
            "Training beyond specified 't_total'. Learning rate multiplier set to 0.0. Please set 't_total' of WarmupLinearSchedule correctly.\n"
          ]
        },
        {
          "output_type": "stream",
          "name": "stdout",
          "text": [
            "Percent: [---------------------->       ] 76% || batch_time: 0.0593 || batch_loss: 0.1006 || avg_batch_loss: 0.2740 || batch_acc: 1.0000 || avg_batch_acc: 1.0000 "
          ]
        },
        {
          "output_type": "stream",
          "name": "stderr",
          "text": [
            "Training beyond specified 't_total'. Learning rate multiplier set to 0.0. Please set 't_total' of WarmupLinearSchedule correctly.\n"
          ]
        },
        {
          "output_type": "stream",
          "name": "stdout",
          "text": [
            "Percent: [---------------------->       ] 77% || batch_time: 0.0502 || batch_loss: 0.3568 || avg_batch_loss: 0.2741 || batch_acc: 1.0000 || avg_batch_acc: 1.0000 "
          ]
        },
        {
          "output_type": "stream",
          "name": "stderr",
          "text": [
            "Training beyond specified 't_total'. Learning rate multiplier set to 0.0. Please set 't_total' of WarmupLinearSchedule correctly.\n"
          ]
        },
        {
          "output_type": "stream",
          "name": "stdout",
          "text": [
            "Percent: [---------------------->       ] 77% || batch_time: 0.0502 || batch_loss: 0.0264 || avg_batch_loss: 0.2737 || batch_acc: 1.0000 || avg_batch_acc: 1.0000 "
          ]
        },
        {
          "output_type": "stream",
          "name": "stderr",
          "text": [
            "Training beyond specified 't_total'. Learning rate multiplier set to 0.0. Please set 't_total' of WarmupLinearSchedule correctly.\n"
          ]
        },
        {
          "output_type": "stream",
          "name": "stdout",
          "text": [
            "Percent: [---------------------->       ] 77% || batch_time: 0.0453 || batch_loss: 0.1718 || avg_batch_loss: 0.2747 || batch_acc: 1.0000 || avg_batch_acc: 1.0000 "
          ]
        },
        {
          "output_type": "stream",
          "name": "stderr",
          "text": [
            "Training beyond specified 't_total'. Learning rate multiplier set to 0.0. Please set 't_total' of WarmupLinearSchedule correctly.\n"
          ]
        },
        {
          "output_type": "stream",
          "name": "stdout",
          "text": [
            "Percent: [---------------------->       ] 77% || batch_time: 0.0488 || batch_loss: 0.1081 || avg_batch_loss: 0.2744 || batch_acc: 1.0000 || avg_batch_acc: 1.0000 "
          ]
        },
        {
          "output_type": "stream",
          "name": "stderr",
          "text": [
            "Training beyond specified 't_total'. Learning rate multiplier set to 0.0. Please set 't_total' of WarmupLinearSchedule correctly.\n"
          ]
        },
        {
          "output_type": "stream",
          "name": "stdout",
          "text": [
            "Percent: [---------------------->       ] 77% || batch_time: 0.0514 || batch_loss: 0.2398 || avg_batch_loss: 0.2745 || batch_acc: 1.0000 || avg_batch_acc: 1.0000 "
          ]
        },
        {
          "output_type": "stream",
          "name": "stderr",
          "text": [
            "Training beyond specified 't_total'. Learning rate multiplier set to 0.0. Please set 't_total' of WarmupLinearSchedule correctly.\n"
          ]
        },
        {
          "output_type": "stream",
          "name": "stdout",
          "text": [
            "Percent: [---------------------->       ] 78% || batch_time: 0.0527 || batch_loss: 0.0978 || avg_batch_loss: 0.2744 || batch_acc: 1.0000 || avg_batch_acc: 1.0000 "
          ]
        },
        {
          "output_type": "stream",
          "name": "stderr",
          "text": [
            "Training beyond specified 't_total'. Learning rate multiplier set to 0.0. Please set 't_total' of WarmupLinearSchedule correctly.\n"
          ]
        },
        {
          "output_type": "stream",
          "name": "stdout",
          "text": [
            "Percent: [---------------------->       ] 78% || batch_time: 0.0465 || batch_loss: 0.2541 || avg_batch_loss: 0.2745 || batch_acc: 1.0000 || avg_batch_acc: 1.0000 "
          ]
        },
        {
          "output_type": "stream",
          "name": "stderr",
          "text": [
            "Training beyond specified 't_total'. Learning rate multiplier set to 0.0. Please set 't_total' of WarmupLinearSchedule correctly.\n"
          ]
        },
        {
          "output_type": "stream",
          "name": "stdout",
          "text": [
            "Percent: [---------------------->       ] 78% || batch_time: 0.0539 || batch_loss: 0.4368 || avg_batch_loss: 0.2749 || batch_acc: 1.0000 || avg_batch_acc: 1.0000 "
          ]
        },
        {
          "output_type": "stream",
          "name": "stderr",
          "text": [
            "Training beyond specified 't_total'. Learning rate multiplier set to 0.0. Please set 't_total' of WarmupLinearSchedule correctly.\n"
          ]
        },
        {
          "output_type": "stream",
          "name": "stdout",
          "text": [
            "Percent: [---------------------->       ] 78% || batch_time: 0.0492 || batch_loss: 0.1952 || avg_batch_loss: 0.2752 || batch_acc: 1.0000 || avg_batch_acc: 1.0000 "
          ]
        },
        {
          "output_type": "stream",
          "name": "stderr",
          "text": [
            "Training beyond specified 't_total'. Learning rate multiplier set to 0.0. Please set 't_total' of WarmupLinearSchedule correctly.\n"
          ]
        },
        {
          "output_type": "stream",
          "name": "stdout",
          "text": [
            "Percent: [----------------------->      ] 79% || batch_time: 0.0456 || batch_loss: 0.0128 || avg_batch_loss: 0.2747 || batch_acc: 1.0000 || avg_batch_acc: 1.0000 "
          ]
        },
        {
          "output_type": "stream",
          "name": "stderr",
          "text": [
            "Training beyond specified 't_total'. Learning rate multiplier set to 0.0. Please set 't_total' of WarmupLinearSchedule correctly.\n"
          ]
        },
        {
          "output_type": "stream",
          "name": "stdout",
          "text": [
            "Percent: [----------------------->      ] 79% || batch_time: 0.0484 || batch_loss: 0.4621 || avg_batch_loss: 0.2751 || batch_acc: 1.0000 || avg_batch_acc: 1.0000 "
          ]
        },
        {
          "output_type": "stream",
          "name": "stderr",
          "text": [
            "Training beyond specified 't_total'. Learning rate multiplier set to 0.0. Please set 't_total' of WarmupLinearSchedule correctly.\n"
          ]
        },
        {
          "output_type": "stream",
          "name": "stdout",
          "text": [
            "Percent: [----------------------->      ] 79% || batch_time: 0.0494 || batch_loss: 0.0719 || avg_batch_loss: 0.2750 || batch_acc: 1.0000 || avg_batch_acc: 1.0000 "
          ]
        },
        {
          "output_type": "stream",
          "name": "stderr",
          "text": [
            "Training beyond specified 't_total'. Learning rate multiplier set to 0.0. Please set 't_total' of WarmupLinearSchedule correctly.\n"
          ]
        },
        {
          "output_type": "stream",
          "name": "stdout",
          "text": [
            "Percent: [----------------------->      ] 79% || batch_time: 0.0514 || batch_loss: 0.2074 || avg_batch_loss: 0.2747 || batch_acc: 1.0000 || avg_batch_acc: 1.0000 "
          ]
        },
        {
          "output_type": "stream",
          "name": "stderr",
          "text": [
            "Training beyond specified 't_total'. Learning rate multiplier set to 0.0. Please set 't_total' of WarmupLinearSchedule correctly.\n"
          ]
        },
        {
          "output_type": "stream",
          "name": "stdout",
          "text": [
            "Percent: [----------------------->      ] 79% || batch_time: 0.0563 || batch_loss: 0.3926 || avg_batch_loss: 0.2752 || batch_acc: 1.0000 || avg_batch_acc: 1.0000 "
          ]
        },
        {
          "output_type": "stream",
          "name": "stderr",
          "text": [
            "Training beyond specified 't_total'. Learning rate multiplier set to 0.0. Please set 't_total' of WarmupLinearSchedule correctly.\n"
          ]
        },
        {
          "output_type": "stream",
          "name": "stdout",
          "text": [
            "Percent: [----------------------->      ] 80% || batch_time: 0.0554 || batch_loss: 0.0070 || avg_batch_loss: 0.2753 || batch_acc: 1.0000 || avg_batch_acc: 1.0000 "
          ]
        },
        {
          "output_type": "stream",
          "name": "stderr",
          "text": [
            "Training beyond specified 't_total'. Learning rate multiplier set to 0.0. Please set 't_total' of WarmupLinearSchedule correctly.\n"
          ]
        },
        {
          "output_type": "stream",
          "name": "stdout",
          "text": [
            "Percent: [----------------------->      ] 80% || batch_time: 0.0507 || batch_loss: 0.1390 || avg_batch_loss: 0.2750 || batch_acc: 1.0000 || avg_batch_acc: 1.0000 "
          ]
        },
        {
          "output_type": "stream",
          "name": "stderr",
          "text": [
            "Training beyond specified 't_total'. Learning rate multiplier set to 0.0. Please set 't_total' of WarmupLinearSchedule correctly.\n"
          ]
        },
        {
          "output_type": "stream",
          "name": "stdout",
          "text": [
            "Percent: [----------------------->      ] 80% || batch_time: 0.0481 || batch_loss: 0.1777 || avg_batch_loss: 0.2748 || batch_acc: 1.0000 || avg_batch_acc: 1.0000 "
          ]
        },
        {
          "output_type": "stream",
          "name": "stderr",
          "text": [
            "Training beyond specified 't_total'. Learning rate multiplier set to 0.0. Please set 't_total' of WarmupLinearSchedule correctly.\n"
          ]
        },
        {
          "output_type": "stream",
          "name": "stdout",
          "text": [
            "Percent: [----------------------->      ] 80% || batch_time: 0.0469 || batch_loss: 0.5505 || avg_batch_loss: 0.2751 || batch_acc: 1.0000 || avg_batch_acc: 1.0000 "
          ]
        },
        {
          "output_type": "stream",
          "name": "stderr",
          "text": [
            "Training beyond specified 't_total'. Learning rate multiplier set to 0.0. Please set 't_total' of WarmupLinearSchedule correctly.\n"
          ]
        },
        {
          "output_type": "stream",
          "name": "stdout",
          "text": [
            "Percent: [----------------------->      ] 81% || batch_time: 0.0569 || batch_loss: 0.2322 || avg_batch_loss: 0.2746 || batch_acc: 1.0000 || avg_batch_acc: 1.0000 "
          ]
        },
        {
          "output_type": "stream",
          "name": "stderr",
          "text": [
            "Training beyond specified 't_total'. Learning rate multiplier set to 0.0. Please set 't_total' of WarmupLinearSchedule correctly.\n"
          ]
        },
        {
          "output_type": "stream",
          "name": "stdout",
          "text": [
            "Percent: [----------------------->      ] 81% || batch_time: 0.0523 || batch_loss: 0.1889 || avg_batch_loss: 0.2747 || batch_acc: 1.0000 || avg_batch_acc: 1.0000 "
          ]
        },
        {
          "output_type": "stream",
          "name": "stderr",
          "text": [
            "Training beyond specified 't_total'. Learning rate multiplier set to 0.0. Please set 't_total' of WarmupLinearSchedule correctly.\n"
          ]
        },
        {
          "output_type": "stream",
          "name": "stdout",
          "text": [
            "Percent: [----------------------->      ] 81% || batch_time: 0.0498 || batch_loss: 0.3824 || avg_batch_loss: 0.2747 || batch_acc: 1.0000 || avg_batch_acc: 1.0000 "
          ]
        },
        {
          "output_type": "stream",
          "name": "stderr",
          "text": [
            "Training beyond specified 't_total'. Learning rate multiplier set to 0.0. Please set 't_total' of WarmupLinearSchedule correctly.\n"
          ]
        },
        {
          "output_type": "stream",
          "name": "stdout",
          "text": [
            "Percent: [----------------------->      ] 81% || batch_time: 0.0594 || batch_loss: 0.0138 || avg_batch_loss: 0.2746 || batch_acc: 1.0000 || avg_batch_acc: 1.0000 "
          ]
        },
        {
          "output_type": "stream",
          "name": "stderr",
          "text": [
            "Training beyond specified 't_total'. Learning rate multiplier set to 0.0. Please set 't_total' of WarmupLinearSchedule correctly.\n"
          ]
        },
        {
          "output_type": "stream",
          "name": "stdout",
          "text": [
            "Percent: [----------------------->      ] 81% || batch_time: 0.0460 || batch_loss: 0.6701 || avg_batch_loss: 0.2747 || batch_acc: 1.0000 || avg_batch_acc: 1.0000 "
          ]
        },
        {
          "output_type": "stream",
          "name": "stderr",
          "text": [
            "Training beyond specified 't_total'. Learning rate multiplier set to 0.0. Please set 't_total' of WarmupLinearSchedule correctly.\n"
          ]
        },
        {
          "output_type": "stream",
          "name": "stdout",
          "text": [
            "Percent: [----------------------->      ] 82% || batch_time: 0.0463 || batch_loss: 0.0960 || avg_batch_loss: 0.2743 || batch_acc: 1.0000 || avg_batch_acc: 1.0000 "
          ]
        },
        {
          "output_type": "stream",
          "name": "stderr",
          "text": [
            "Training beyond specified 't_total'. Learning rate multiplier set to 0.0. Please set 't_total' of WarmupLinearSchedule correctly.\n"
          ]
        },
        {
          "output_type": "stream",
          "name": "stdout",
          "text": [
            "Percent: [------------------------>     ] 82% || batch_time: 0.0555 || batch_loss: 0.1398 || avg_batch_loss: 0.2742 || batch_acc: 1.0000 || avg_batch_acc: 1.0000 "
          ]
        },
        {
          "output_type": "stream",
          "name": "stderr",
          "text": [
            "Training beyond specified 't_total'. Learning rate multiplier set to 0.0. Please set 't_total' of WarmupLinearSchedule correctly.\n"
          ]
        },
        {
          "output_type": "stream",
          "name": "stdout",
          "text": [
            "Percent: [------------------------>     ] 82% || batch_time: 0.0523 || batch_loss: 0.8539 || avg_batch_loss: 0.2743 || batch_acc: 1.0000 || avg_batch_acc: 1.0000 "
          ]
        },
        {
          "output_type": "stream",
          "name": "stderr",
          "text": [
            "Training beyond specified 't_total'. Learning rate multiplier set to 0.0. Please set 't_total' of WarmupLinearSchedule correctly.\n"
          ]
        },
        {
          "output_type": "stream",
          "name": "stdout",
          "text": [
            "Percent: [------------------------>     ] 82% || batch_time: 0.0555 || batch_loss: 0.1190 || avg_batch_loss: 0.2741 || batch_acc: 1.0000 || avg_batch_acc: 1.0000 "
          ]
        },
        {
          "output_type": "stream",
          "name": "stderr",
          "text": [
            "Training beyond specified 't_total'. Learning rate multiplier set to 0.0. Please set 't_total' of WarmupLinearSchedule correctly.\n"
          ]
        },
        {
          "output_type": "stream",
          "name": "stdout",
          "text": [
            "Percent: [------------------------>     ] 83% || batch_time: 0.0503 || batch_loss: 0.2285 || avg_batch_loss: 0.2738 || batch_acc: 1.0000 || avg_batch_acc: 1.0000 "
          ]
        },
        {
          "output_type": "stream",
          "name": "stderr",
          "text": [
            "Training beyond specified 't_total'. Learning rate multiplier set to 0.0. Please set 't_total' of WarmupLinearSchedule correctly.\n"
          ]
        },
        {
          "output_type": "stream",
          "name": "stdout",
          "text": [
            "Percent: [------------------------>     ] 83% || batch_time: 0.0554 || batch_loss: 0.0201 || avg_batch_loss: 0.2732 || batch_acc: 1.0000 || avg_batch_acc: 1.0000 "
          ]
        },
        {
          "output_type": "stream",
          "name": "stderr",
          "text": [
            "Training beyond specified 't_total'. Learning rate multiplier set to 0.0. Please set 't_total' of WarmupLinearSchedule correctly.\n"
          ]
        },
        {
          "output_type": "stream",
          "name": "stdout",
          "text": [
            "Percent: [------------------------>     ] 83% || batch_time: 0.0536 || batch_loss: 0.1502 || avg_batch_loss: 0.2733 || batch_acc: 1.0000 || avg_batch_acc: 1.0000 "
          ]
        },
        {
          "output_type": "stream",
          "name": "stderr",
          "text": [
            "Training beyond specified 't_total'. Learning rate multiplier set to 0.0. Please set 't_total' of WarmupLinearSchedule correctly.\n"
          ]
        },
        {
          "output_type": "stream",
          "name": "stdout",
          "text": [
            "Percent: [------------------------>     ] 83% || batch_time: 0.0506 || batch_loss: 0.4082 || avg_batch_loss: 0.2735 || batch_acc: 1.0000 || avg_batch_acc: 1.0000 "
          ]
        },
        {
          "output_type": "stream",
          "name": "stderr",
          "text": [
            "Training beyond specified 't_total'. Learning rate multiplier set to 0.0. Please set 't_total' of WarmupLinearSchedule correctly.\n"
          ]
        },
        {
          "output_type": "stream",
          "name": "stdout",
          "text": [
            "Percent: [------------------------>     ] 83% || batch_time: 0.0533 || batch_loss: 0.8009 || avg_batch_loss: 0.2739 || batch_acc: 1.0000 || avg_batch_acc: 1.0000 "
          ]
        },
        {
          "output_type": "stream",
          "name": "stderr",
          "text": [
            "Training beyond specified 't_total'. Learning rate multiplier set to 0.0. Please set 't_total' of WarmupLinearSchedule correctly.\n"
          ]
        },
        {
          "output_type": "stream",
          "name": "stdout",
          "text": [
            "Percent: [------------------------>     ] 84% || batch_time: 0.0577 || batch_loss: 0.1466 || avg_batch_loss: 0.2738 || batch_acc: 1.0000 || avg_batch_acc: 1.0000 "
          ]
        },
        {
          "output_type": "stream",
          "name": "stderr",
          "text": [
            "Training beyond specified 't_total'. Learning rate multiplier set to 0.0. Please set 't_total' of WarmupLinearSchedule correctly.\n"
          ]
        },
        {
          "output_type": "stream",
          "name": "stdout",
          "text": [
            "Percent: [------------------------>     ] 84% || batch_time: 0.0493 || batch_loss: 0.0244 || avg_batch_loss: 0.2735 || batch_acc: 1.0000 || avg_batch_acc: 1.0000 "
          ]
        },
        {
          "output_type": "stream",
          "name": "stderr",
          "text": [
            "Training beyond specified 't_total'. Learning rate multiplier set to 0.0. Please set 't_total' of WarmupLinearSchedule correctly.\n"
          ]
        },
        {
          "output_type": "stream",
          "name": "stdout",
          "text": [
            "Percent: [------------------------>     ] 84% || batch_time: 0.0519 || batch_loss: 0.3633 || avg_batch_loss: 0.2735 || batch_acc: 1.0000 || avg_batch_acc: 1.0000 "
          ]
        },
        {
          "output_type": "stream",
          "name": "stderr",
          "text": [
            "Training beyond specified 't_total'. Learning rate multiplier set to 0.0. Please set 't_total' of WarmupLinearSchedule correctly.\n"
          ]
        },
        {
          "output_type": "stream",
          "name": "stdout",
          "text": [
            "Percent: [------------------------>     ] 84% || batch_time: 0.0511 || batch_loss: 0.7871 || avg_batch_loss: 0.2741 || batch_acc: 1.0000 || avg_batch_acc: 1.0000 "
          ]
        },
        {
          "output_type": "stream",
          "name": "stderr",
          "text": [
            "Training beyond specified 't_total'. Learning rate multiplier set to 0.0. Please set 't_total' of WarmupLinearSchedule correctly.\n"
          ]
        },
        {
          "output_type": "stream",
          "name": "stdout",
          "text": [
            "Percent: [------------------------>     ] 85% || batch_time: 0.0469 || batch_loss: 0.2973 || avg_batch_loss: 0.2742 || batch_acc: 1.0000 || avg_batch_acc: 1.0000 "
          ]
        },
        {
          "output_type": "stream",
          "name": "stderr",
          "text": [
            "Training beyond specified 't_total'. Learning rate multiplier set to 0.0. Please set 't_total' of WarmupLinearSchedule correctly.\n"
          ]
        },
        {
          "output_type": "stream",
          "name": "stdout",
          "text": [
            "Percent: [------------------------>     ] 85% || batch_time: 0.0526 || batch_loss: 0.0762 || avg_batch_loss: 0.2741 || batch_acc: 1.0000 || avg_batch_acc: 1.0000 "
          ]
        },
        {
          "output_type": "stream",
          "name": "stderr",
          "text": [
            "Training beyond specified 't_total'. Learning rate multiplier set to 0.0. Please set 't_total' of WarmupLinearSchedule correctly.\n"
          ]
        },
        {
          "output_type": "stream",
          "name": "stdout",
          "text": [
            "Percent: [------------------------>     ] 85% || batch_time: 0.0519 || batch_loss: 0.1705 || avg_batch_loss: 0.2737 || batch_acc: 1.0000 || avg_batch_acc: 1.0000 "
          ]
        },
        {
          "output_type": "stream",
          "name": "stderr",
          "text": [
            "Training beyond specified 't_total'. Learning rate multiplier set to 0.0. Please set 't_total' of WarmupLinearSchedule correctly.\n"
          ]
        },
        {
          "output_type": "stream",
          "name": "stdout",
          "text": [
            "Percent: [------------------------->    ] 85% || batch_time: 0.0530 || batch_loss: 0.2549 || avg_batch_loss: 0.2733 || batch_acc: 1.0000 || avg_batch_acc: 1.0000 "
          ]
        },
        {
          "output_type": "stream",
          "name": "stderr",
          "text": [
            "Training beyond specified 't_total'. Learning rate multiplier set to 0.0. Please set 't_total' of WarmupLinearSchedule correctly.\n"
          ]
        },
        {
          "output_type": "stream",
          "name": "stdout",
          "text": [
            "Percent: [------------------------->    ] 85% || batch_time: 0.0497 || batch_loss: 0.0096 || avg_batch_loss: 0.2731 || batch_acc: 1.0000 || avg_batch_acc: 1.0000 "
          ]
        },
        {
          "output_type": "stream",
          "name": "stderr",
          "text": [
            "Training beyond specified 't_total'. Learning rate multiplier set to 0.0. Please set 't_total' of WarmupLinearSchedule correctly.\n"
          ]
        },
        {
          "output_type": "stream",
          "name": "stdout",
          "text": [
            "Percent: [------------------------->    ] 86% || batch_time: 0.0526 || batch_loss: 0.0505 || avg_batch_loss: 0.2727 || batch_acc: 1.0000 || avg_batch_acc: 1.0000 "
          ]
        },
        {
          "output_type": "stream",
          "name": "stderr",
          "text": [
            "Training beyond specified 't_total'. Learning rate multiplier set to 0.0. Please set 't_total' of WarmupLinearSchedule correctly.\n"
          ]
        },
        {
          "output_type": "stream",
          "name": "stdout",
          "text": [
            "Percent: [------------------------->    ] 86% || batch_time: 0.0528 || batch_loss: 0.3615 || avg_batch_loss: 0.2724 || batch_acc: 1.0000 || avg_batch_acc: 1.0000 "
          ]
        },
        {
          "output_type": "stream",
          "name": "stderr",
          "text": [
            "Training beyond specified 't_total'. Learning rate multiplier set to 0.0. Please set 't_total' of WarmupLinearSchedule correctly.\n"
          ]
        },
        {
          "output_type": "stream",
          "name": "stdout",
          "text": [
            "Percent: [------------------------->    ] 86% || batch_time: 0.0591 || batch_loss: 0.1282 || avg_batch_loss: 0.2723 || batch_acc: 1.0000 || avg_batch_acc: 1.0000 "
          ]
        },
        {
          "output_type": "stream",
          "name": "stderr",
          "text": [
            "Training beyond specified 't_total'. Learning rate multiplier set to 0.0. Please set 't_total' of WarmupLinearSchedule correctly.\n"
          ]
        },
        {
          "output_type": "stream",
          "name": "stdout",
          "text": [
            "Percent: [------------------------->    ] 86% || batch_time: 0.0475 || batch_loss: 0.0230 || avg_batch_loss: 0.2725 || batch_acc: 1.0000 || avg_batch_acc: 1.0000 "
          ]
        },
        {
          "output_type": "stream",
          "name": "stderr",
          "text": [
            "Training beyond specified 't_total'. Learning rate multiplier set to 0.0. Please set 't_total' of WarmupLinearSchedule correctly.\n"
          ]
        },
        {
          "output_type": "stream",
          "name": "stdout",
          "text": [
            "Percent: [------------------------->    ] 86% || batch_time: 0.0505 || batch_loss: 0.0272 || avg_batch_loss: 0.2721 || batch_acc: 1.0000 || avg_batch_acc: 1.0000 "
          ]
        },
        {
          "output_type": "stream",
          "name": "stderr",
          "text": [
            "Training beyond specified 't_total'. Learning rate multiplier set to 0.0. Please set 't_total' of WarmupLinearSchedule correctly.\n"
          ]
        },
        {
          "output_type": "stream",
          "name": "stdout",
          "text": [
            "Percent: [------------------------->    ] 87% || batch_time: 0.0521 || batch_loss: 0.1173 || avg_batch_loss: 0.2720 || batch_acc: 1.0000 || avg_batch_acc: 1.0000 "
          ]
        },
        {
          "output_type": "stream",
          "name": "stderr",
          "text": [
            "Training beyond specified 't_total'. Learning rate multiplier set to 0.0. Please set 't_total' of WarmupLinearSchedule correctly.\n"
          ]
        },
        {
          "output_type": "stream",
          "name": "stdout",
          "text": [
            "Percent: [------------------------->    ] 87% || batch_time: 0.0496 || batch_loss: 0.1074 || avg_batch_loss: 0.2717 || batch_acc: 1.0000 || avg_batch_acc: 1.0000 "
          ]
        },
        {
          "output_type": "stream",
          "name": "stderr",
          "text": [
            "Training beyond specified 't_total'. Learning rate multiplier set to 0.0. Please set 't_total' of WarmupLinearSchedule correctly.\n"
          ]
        },
        {
          "output_type": "stream",
          "name": "stdout",
          "text": [
            "Percent: [------------------------->    ] 87% || batch_time: 0.0508 || batch_loss: 0.0172 || avg_batch_loss: 0.2716 || batch_acc: 1.0000 || avg_batch_acc: 1.0000 "
          ]
        },
        {
          "output_type": "stream",
          "name": "stderr",
          "text": [
            "Training beyond specified 't_total'. Learning rate multiplier set to 0.0. Please set 't_total' of WarmupLinearSchedule correctly.\n"
          ]
        },
        {
          "output_type": "stream",
          "name": "stdout",
          "text": [
            "Percent: [------------------------->    ] 87% || batch_time: 0.0511 || batch_loss: 0.5781 || avg_batch_loss: 0.2716 || batch_acc: 1.0000 || avg_batch_acc: 1.0000 "
          ]
        },
        {
          "output_type": "stream",
          "name": "stderr",
          "text": [
            "Training beyond specified 't_total'. Learning rate multiplier set to 0.0. Please set 't_total' of WarmupLinearSchedule correctly.\n"
          ]
        },
        {
          "output_type": "stream",
          "name": "stdout",
          "text": [
            "Percent: [------------------------->    ] 88% || batch_time: 0.0493 || batch_loss: 0.1585 || avg_batch_loss: 0.2714 || batch_acc: 1.0000 || avg_batch_acc: 1.0000 "
          ]
        },
        {
          "output_type": "stream",
          "name": "stderr",
          "text": [
            "Training beyond specified 't_total'. Learning rate multiplier set to 0.0. Please set 't_total' of WarmupLinearSchedule correctly.\n"
          ]
        },
        {
          "output_type": "stream",
          "name": "stdout",
          "text": [
            "Percent: [------------------------->    ] 88% || batch_time: 0.0524 || batch_loss: 0.7967 || avg_batch_loss: 0.2718 || batch_acc: 1.0000 || avg_batch_acc: 1.0000 "
          ]
        },
        {
          "output_type": "stream",
          "name": "stderr",
          "text": [
            "Training beyond specified 't_total'. Learning rate multiplier set to 0.0. Please set 't_total' of WarmupLinearSchedule correctly.\n"
          ]
        },
        {
          "output_type": "stream",
          "name": "stdout",
          "text": [
            "Percent: [------------------------->    ] 88% || batch_time: 0.0474 || batch_loss: 0.2055 || avg_batch_loss: 0.2717 || batch_acc: 1.0000 || avg_batch_acc: 1.0000 "
          ]
        },
        {
          "output_type": "stream",
          "name": "stderr",
          "text": [
            "Training beyond specified 't_total'. Learning rate multiplier set to 0.0. Please set 't_total' of WarmupLinearSchedule correctly.\n"
          ]
        },
        {
          "output_type": "stream",
          "name": "stdout",
          "text": [
            "Percent: [------------------------->    ] 88% || batch_time: 0.0490 || batch_loss: 0.3654 || avg_batch_loss: 0.2716 || batch_acc: 1.0000 || avg_batch_acc: 1.0000 "
          ]
        },
        {
          "output_type": "stream",
          "name": "stderr",
          "text": [
            "Training beyond specified 't_total'. Learning rate multiplier set to 0.0. Please set 't_total' of WarmupLinearSchedule correctly.\n"
          ]
        },
        {
          "output_type": "stream",
          "name": "stdout",
          "text": [
            "Percent: [-------------------------->   ] 88% || batch_time: 0.0585 || batch_loss: 0.5802 || avg_batch_loss: 0.2719 || batch_acc: 1.0000 || avg_batch_acc: 1.0000 "
          ]
        },
        {
          "output_type": "stream",
          "name": "stderr",
          "text": [
            "Training beyond specified 't_total'. Learning rate multiplier set to 0.0. Please set 't_total' of WarmupLinearSchedule correctly.\n"
          ]
        },
        {
          "output_type": "stream",
          "name": "stdout",
          "text": [
            "Percent: [-------------------------->   ] 89% || batch_time: 0.0504 || batch_loss: 0.0467 || avg_batch_loss: 0.2716 || batch_acc: 1.0000 || avg_batch_acc: 1.0000 "
          ]
        },
        {
          "output_type": "stream",
          "name": "stderr",
          "text": [
            "Training beyond specified 't_total'. Learning rate multiplier set to 0.0. Please set 't_total' of WarmupLinearSchedule correctly.\n"
          ]
        },
        {
          "output_type": "stream",
          "name": "stdout",
          "text": [
            "Percent: [-------------------------->   ] 89% || batch_time: 0.0537 || batch_loss: 0.0483 || avg_batch_loss: 0.2714 || batch_acc: 1.0000 || avg_batch_acc: 1.0000 "
          ]
        },
        {
          "output_type": "stream",
          "name": "stderr",
          "text": [
            "Training beyond specified 't_total'. Learning rate multiplier set to 0.0. Please set 't_total' of WarmupLinearSchedule correctly.\n"
          ]
        },
        {
          "output_type": "stream",
          "name": "stdout",
          "text": [
            "Percent: [-------------------------->   ] 89% || batch_time: 0.0484 || batch_loss: 0.4346 || avg_batch_loss: 0.2712 || batch_acc: 1.0000 || avg_batch_acc: 1.0000 "
          ]
        },
        {
          "output_type": "stream",
          "name": "stderr",
          "text": [
            "Training beyond specified 't_total'. Learning rate multiplier set to 0.0. Please set 't_total' of WarmupLinearSchedule correctly.\n"
          ]
        },
        {
          "output_type": "stream",
          "name": "stdout",
          "text": [
            "Percent: [-------------------------->   ] 89% || batch_time: 0.0516 || batch_loss: 0.0257 || avg_batch_loss: 0.2712 || batch_acc: 1.0000 || avg_batch_acc: 1.0000 "
          ]
        },
        {
          "output_type": "stream",
          "name": "stderr",
          "text": [
            "Training beyond specified 't_total'. Learning rate multiplier set to 0.0. Please set 't_total' of WarmupLinearSchedule correctly.\n"
          ]
        },
        {
          "output_type": "stream",
          "name": "stdout",
          "text": [
            "Percent: [-------------------------->   ] 90% || batch_time: 0.0501 || batch_loss: 0.1002 || avg_batch_loss: 0.2709 || batch_acc: 1.0000 || avg_batch_acc: 1.0000 "
          ]
        },
        {
          "output_type": "stream",
          "name": "stderr",
          "text": [
            "Training beyond specified 't_total'. Learning rate multiplier set to 0.0. Please set 't_total' of WarmupLinearSchedule correctly.\n"
          ]
        },
        {
          "output_type": "stream",
          "name": "stdout",
          "text": [
            "Percent: [-------------------------->   ] 90% || batch_time: 0.0499 || batch_loss: 0.3113 || avg_batch_loss: 0.2710 || batch_acc: 1.0000 || avg_batch_acc: 1.0000 "
          ]
        },
        {
          "output_type": "stream",
          "name": "stderr",
          "text": [
            "Training beyond specified 't_total'. Learning rate multiplier set to 0.0. Please set 't_total' of WarmupLinearSchedule correctly.\n"
          ]
        },
        {
          "output_type": "stream",
          "name": "stdout",
          "text": [
            "Percent: [-------------------------->   ] 90% || batch_time: 0.0485 || batch_loss: 0.0879 || avg_batch_loss: 0.2712 || batch_acc: 1.0000 || avg_batch_acc: 1.0000 "
          ]
        },
        {
          "output_type": "stream",
          "name": "stderr",
          "text": [
            "Training beyond specified 't_total'. Learning rate multiplier set to 0.0. Please set 't_total' of WarmupLinearSchedule correctly.\n"
          ]
        },
        {
          "output_type": "stream",
          "name": "stdout",
          "text": [
            "Percent: [-------------------------->   ] 90% || batch_time: 0.0530 || batch_loss: 0.3936 || avg_batch_loss: 0.2709 || batch_acc: 1.0000 || avg_batch_acc: 1.0000 "
          ]
        },
        {
          "output_type": "stream",
          "name": "stderr",
          "text": [
            "Training beyond specified 't_total'. Learning rate multiplier set to 0.0. Please set 't_total' of WarmupLinearSchedule correctly.\n"
          ]
        },
        {
          "output_type": "stream",
          "name": "stdout",
          "text": [
            "Percent: [-------------------------->   ] 90% || batch_time: 0.0525 || batch_loss: 0.4694 || avg_batch_loss: 0.2709 || batch_acc: 1.0000 || avg_batch_acc: 1.0000 "
          ]
        },
        {
          "output_type": "stream",
          "name": "stderr",
          "text": [
            "Training beyond specified 't_total'. Learning rate multiplier set to 0.0. Please set 't_total' of WarmupLinearSchedule correctly.\n"
          ]
        },
        {
          "output_type": "stream",
          "name": "stdout",
          "text": [
            "Percent: [-------------------------->   ] 91% || batch_time: 0.0482 || batch_loss: 0.0678 || avg_batch_loss: 0.2712 || batch_acc: 1.0000 || avg_batch_acc: 1.0000 "
          ]
        },
        {
          "output_type": "stream",
          "name": "stderr",
          "text": [
            "Training beyond specified 't_total'. Learning rate multiplier set to 0.0. Please set 't_total' of WarmupLinearSchedule correctly.\n"
          ]
        },
        {
          "output_type": "stream",
          "name": "stdout",
          "text": [
            "Percent: [-------------------------->   ] 91% || batch_time: 0.0500 || batch_loss: 0.0961 || avg_batch_loss: 0.2707 || batch_acc: 1.0000 || avg_batch_acc: 1.0000 "
          ]
        },
        {
          "output_type": "stream",
          "name": "stderr",
          "text": [
            "Training beyond specified 't_total'. Learning rate multiplier set to 0.0. Please set 't_total' of WarmupLinearSchedule correctly.\n"
          ]
        },
        {
          "output_type": "stream",
          "name": "stdout",
          "text": [
            "Percent: [-------------------------->   ] 91% || batch_time: 0.0487 || batch_loss: 0.1029 || avg_batch_loss: 0.2705 || batch_acc: 1.0000 || avg_batch_acc: 1.0000 "
          ]
        },
        {
          "output_type": "stream",
          "name": "stderr",
          "text": [
            "Training beyond specified 't_total'. Learning rate multiplier set to 0.0. Please set 't_total' of WarmupLinearSchedule correctly.\n"
          ]
        },
        {
          "output_type": "stream",
          "name": "stdout",
          "text": [
            "Percent: [-------------------------->   ] 91% || batch_time: 0.0524 || batch_loss: 0.7919 || avg_batch_loss: 0.2709 || batch_acc: 1.0000 || avg_batch_acc: 1.0000 "
          ]
        },
        {
          "output_type": "stream",
          "name": "stderr",
          "text": [
            "Training beyond specified 't_total'. Learning rate multiplier set to 0.0. Please set 't_total' of WarmupLinearSchedule correctly.\n"
          ]
        },
        {
          "output_type": "stream",
          "name": "stdout",
          "text": [
            "Percent: [-------------------------->   ] 92% || batch_time: 0.0512 || batch_loss: 0.0146 || avg_batch_loss: 0.2707 || batch_acc: 1.0000 || avg_batch_acc: 1.0000 "
          ]
        },
        {
          "output_type": "stream",
          "name": "stderr",
          "text": [
            "Training beyond specified 't_total'. Learning rate multiplier set to 0.0. Please set 't_total' of WarmupLinearSchedule correctly.\n"
          ]
        },
        {
          "output_type": "stream",
          "name": "stdout",
          "text": [
            "Percent: [--------------------------->  ] 92% || batch_time: 0.0460 || batch_loss: 0.0318 || avg_batch_loss: 0.2704 || batch_acc: 1.0000 || avg_batch_acc: 1.0000 "
          ]
        },
        {
          "output_type": "stream",
          "name": "stderr",
          "text": [
            "Training beyond specified 't_total'. Learning rate multiplier set to 0.0. Please set 't_total' of WarmupLinearSchedule correctly.\n"
          ]
        },
        {
          "output_type": "stream",
          "name": "stdout",
          "text": [
            "Percent: [--------------------------->  ] 92% || batch_time: 0.0578 || batch_loss: 0.7088 || avg_batch_loss: 0.2704 || batch_acc: 1.0000 || avg_batch_acc: 1.0000 "
          ]
        },
        {
          "output_type": "stream",
          "name": "stderr",
          "text": [
            "Training beyond specified 't_total'. Learning rate multiplier set to 0.0. Please set 't_total' of WarmupLinearSchedule correctly.\n"
          ]
        },
        {
          "output_type": "stream",
          "name": "stdout",
          "text": [
            "Percent: [--------------------------->  ] 92% || batch_time: 0.0465 || batch_loss: 0.1372 || avg_batch_loss: 0.2704 || batch_acc: 1.0000 || avg_batch_acc: 1.0000 "
          ]
        },
        {
          "output_type": "stream",
          "name": "stderr",
          "text": [
            "Training beyond specified 't_total'. Learning rate multiplier set to 0.0. Please set 't_total' of WarmupLinearSchedule correctly.\n"
          ]
        },
        {
          "output_type": "stream",
          "name": "stdout",
          "text": [
            "Percent: [--------------------------->  ] 92% || batch_time: 0.0485 || batch_loss: 0.4217 || avg_batch_loss: 0.2701 || batch_acc: 1.0000 || avg_batch_acc: 1.0000 "
          ]
        },
        {
          "output_type": "stream",
          "name": "stderr",
          "text": [
            "Training beyond specified 't_total'. Learning rate multiplier set to 0.0. Please set 't_total' of WarmupLinearSchedule correctly.\n"
          ]
        },
        {
          "output_type": "stream",
          "name": "stdout",
          "text": [
            "Percent: [--------------------------->  ] 93% || batch_time: 0.0512 || batch_loss: 0.1563 || avg_batch_loss: 0.2702 || batch_acc: 1.0000 || avg_batch_acc: 1.0000 "
          ]
        },
        {
          "output_type": "stream",
          "name": "stderr",
          "text": [
            "Training beyond specified 't_total'. Learning rate multiplier set to 0.0. Please set 't_total' of WarmupLinearSchedule correctly.\n"
          ]
        },
        {
          "output_type": "stream",
          "name": "stdout",
          "text": [
            "Percent: [--------------------------->  ] 93% || batch_time: 0.0482 || batch_loss: 0.3048 || avg_batch_loss: 0.2706 || batch_acc: 1.0000 || avg_batch_acc: 1.0000 "
          ]
        },
        {
          "output_type": "stream",
          "name": "stderr",
          "text": [
            "Training beyond specified 't_total'. Learning rate multiplier set to 0.0. Please set 't_total' of WarmupLinearSchedule correctly.\n"
          ]
        },
        {
          "output_type": "stream",
          "name": "stdout",
          "text": [
            "Percent: [--------------------------->  ] 93% || batch_time: 0.0600 || batch_loss: 0.1953 || avg_batch_loss: 0.2704 || batch_acc: 1.0000 || avg_batch_acc: 1.0000 "
          ]
        },
        {
          "output_type": "stream",
          "name": "stderr",
          "text": [
            "Training beyond specified 't_total'. Learning rate multiplier set to 0.0. Please set 't_total' of WarmupLinearSchedule correctly.\n"
          ]
        },
        {
          "output_type": "stream",
          "name": "stdout",
          "text": [
            "Percent: [--------------------------->  ] 93% || batch_time: 0.0493 || batch_loss: 0.3958 || avg_batch_loss: 0.2703 || batch_acc: 1.0000 || avg_batch_acc: 1.0000 "
          ]
        },
        {
          "output_type": "stream",
          "name": "stderr",
          "text": [
            "Training beyond specified 't_total'. Learning rate multiplier set to 0.0. Please set 't_total' of WarmupLinearSchedule correctly.\n"
          ]
        },
        {
          "output_type": "stream",
          "name": "stdout",
          "text": [
            "Percent: [--------------------------->  ] 94% || batch_time: 0.0553 || batch_loss: 0.0112 || avg_batch_loss: 0.2698 || batch_acc: 1.0000 || avg_batch_acc: 1.0000 "
          ]
        },
        {
          "output_type": "stream",
          "name": "stderr",
          "text": [
            "Training beyond specified 't_total'. Learning rate multiplier set to 0.0. Please set 't_total' of WarmupLinearSchedule correctly.\n"
          ]
        },
        {
          "output_type": "stream",
          "name": "stdout",
          "text": [
            "Percent: [--------------------------->  ] 94% || batch_time: 0.0488 || batch_loss: 0.2271 || avg_batch_loss: 0.2696 || batch_acc: 1.0000 || avg_batch_acc: 1.0000 "
          ]
        },
        {
          "output_type": "stream",
          "name": "stderr",
          "text": [
            "Training beyond specified 't_total'. Learning rate multiplier set to 0.0. Please set 't_total' of WarmupLinearSchedule correctly.\n"
          ]
        },
        {
          "output_type": "stream",
          "name": "stdout",
          "text": [
            "Percent: [--------------------------->  ] 94% || batch_time: 0.0484 || batch_loss: 0.5558 || avg_batch_loss: 0.2695 || batch_acc: 1.0000 || avg_batch_acc: 1.0000 "
          ]
        },
        {
          "output_type": "stream",
          "name": "stderr",
          "text": [
            "Training beyond specified 't_total'. Learning rate multiplier set to 0.0. Please set 't_total' of WarmupLinearSchedule correctly.\n"
          ]
        },
        {
          "output_type": "stream",
          "name": "stdout",
          "text": [
            "Percent: [--------------------------->  ] 94% || batch_time: 0.0468 || batch_loss: 0.0325 || avg_batch_loss: 0.2693 || batch_acc: 1.0000 || avg_batch_acc: 1.0000 "
          ]
        },
        {
          "output_type": "stream",
          "name": "stderr",
          "text": [
            "Training beyond specified 't_total'. Learning rate multiplier set to 0.0. Please set 't_total' of WarmupLinearSchedule correctly.\n"
          ]
        },
        {
          "output_type": "stream",
          "name": "stdout",
          "text": [
            "Percent: [--------------------------->  ] 94% || batch_time: 0.0502 || batch_loss: 0.1610 || avg_batch_loss: 0.2691 || batch_acc: 1.0000 || avg_batch_acc: 1.0000 "
          ]
        },
        {
          "output_type": "stream",
          "name": "stderr",
          "text": [
            "Training beyond specified 't_total'. Learning rate multiplier set to 0.0. Please set 't_total' of WarmupLinearSchedule correctly.\n"
          ]
        },
        {
          "output_type": "stream",
          "name": "stdout",
          "text": [
            "Percent: [--------------------------->  ] 95% || batch_time: 0.0522 || batch_loss: 1.6313 || avg_batch_loss: 0.2698 || batch_acc: 1.0000 || avg_batch_acc: 1.0000 "
          ]
        },
        {
          "output_type": "stream",
          "name": "stderr",
          "text": [
            "Training beyond specified 't_total'. Learning rate multiplier set to 0.0. Please set 't_total' of WarmupLinearSchedule correctly.\n"
          ]
        },
        {
          "output_type": "stream",
          "name": "stdout",
          "text": [
            "Percent: [--------------------------->  ] 95% || batch_time: 0.0474 || batch_loss: 0.2933 || avg_batch_loss: 0.2696 || batch_acc: 1.0000 || avg_batch_acc: 1.0000 "
          ]
        },
        {
          "output_type": "stream",
          "name": "stderr",
          "text": [
            "Training beyond specified 't_total'. Learning rate multiplier set to 0.0. Please set 't_total' of WarmupLinearSchedule correctly.\n"
          ]
        },
        {
          "output_type": "stream",
          "name": "stdout",
          "text": [
            "Percent: [----------------------------> ] 95% || batch_time: 0.0516 || batch_loss: 0.0673 || avg_batch_loss: 0.2693 || batch_acc: 1.0000 || avg_batch_acc: 1.0000 "
          ]
        },
        {
          "output_type": "stream",
          "name": "stderr",
          "text": [
            "Training beyond specified 't_total'. Learning rate multiplier set to 0.0. Please set 't_total' of WarmupLinearSchedule correctly.\n"
          ]
        },
        {
          "output_type": "stream",
          "name": "stdout",
          "text": [
            "Percent: [----------------------------> ] 95% || batch_time: 0.0528 || batch_loss: 0.3533 || avg_batch_loss: 0.2694 || batch_acc: 1.0000 || avg_batch_acc: 1.0000 "
          ]
        },
        {
          "output_type": "stream",
          "name": "stderr",
          "text": [
            "Training beyond specified 't_total'. Learning rate multiplier set to 0.0. Please set 't_total' of WarmupLinearSchedule correctly.\n"
          ]
        },
        {
          "output_type": "stream",
          "name": "stdout",
          "text": [
            "Percent: [----------------------------> ] 96% || batch_time: 0.0559 || batch_loss: 0.1572 || avg_batch_loss: 0.2697 || batch_acc: 1.0000 || avg_batch_acc: 1.0000 "
          ]
        },
        {
          "output_type": "stream",
          "name": "stderr",
          "text": [
            "Training beyond specified 't_total'. Learning rate multiplier set to 0.0. Please set 't_total' of WarmupLinearSchedule correctly.\n"
          ]
        },
        {
          "output_type": "stream",
          "name": "stdout",
          "text": [
            "Percent: [----------------------------> ] 96% || batch_time: 0.0569 || batch_loss: 0.0975 || avg_batch_loss: 0.2696 || batch_acc: 1.0000 || avg_batch_acc: 1.0000 "
          ]
        },
        {
          "output_type": "stream",
          "name": "stderr",
          "text": [
            "Training beyond specified 't_total'. Learning rate multiplier set to 0.0. Please set 't_total' of WarmupLinearSchedule correctly.\n"
          ]
        },
        {
          "output_type": "stream",
          "name": "stdout",
          "text": [
            "Percent: [----------------------------> ] 96% || batch_time: 0.0508 || batch_loss: 0.2149 || avg_batch_loss: 0.2695 || batch_acc: 1.0000 || avg_batch_acc: 1.0000 "
          ]
        },
        {
          "output_type": "stream",
          "name": "stderr",
          "text": [
            "Training beyond specified 't_total'. Learning rate multiplier set to 0.0. Please set 't_total' of WarmupLinearSchedule correctly.\n"
          ]
        },
        {
          "output_type": "stream",
          "name": "stdout",
          "text": [
            "Percent: [----------------------------> ] 96% || batch_time: 0.0505 || batch_loss: 0.1738 || avg_batch_loss: 0.2698 || batch_acc: 1.0000 || avg_batch_acc: 1.0000 "
          ]
        },
        {
          "output_type": "stream",
          "name": "stderr",
          "text": [
            "Training beyond specified 't_total'. Learning rate multiplier set to 0.0. Please set 't_total' of WarmupLinearSchedule correctly.\n"
          ]
        },
        {
          "output_type": "stream",
          "name": "stdout",
          "text": [
            "Percent: [----------------------------> ] 96% || batch_time: 0.0472 || batch_loss: 0.3287 || avg_batch_loss: 0.2701 || batch_acc: 1.0000 || avg_batch_acc: 1.0000 "
          ]
        },
        {
          "output_type": "stream",
          "name": "stderr",
          "text": [
            "Training beyond specified 't_total'. Learning rate multiplier set to 0.0. Please set 't_total' of WarmupLinearSchedule correctly.\n"
          ]
        },
        {
          "output_type": "stream",
          "name": "stdout",
          "text": [
            "Percent: [----------------------------> ] 97% || batch_time: 0.0503 || batch_loss: 0.0372 || avg_batch_loss: 0.2700 || batch_acc: 1.0000 || avg_batch_acc: 1.0000 "
          ]
        },
        {
          "output_type": "stream",
          "name": "stderr",
          "text": [
            "Training beyond specified 't_total'. Learning rate multiplier set to 0.0. Please set 't_total' of WarmupLinearSchedule correctly.\n"
          ]
        },
        {
          "output_type": "stream",
          "name": "stdout",
          "text": [
            "Percent: [----------------------------> ] 97% || batch_time: 0.0454 || batch_loss: 0.0179 || avg_batch_loss: 0.2696 || batch_acc: 1.0000 || avg_batch_acc: 1.0000 "
          ]
        },
        {
          "output_type": "stream",
          "name": "stderr",
          "text": [
            "Training beyond specified 't_total'. Learning rate multiplier set to 0.0. Please set 't_total' of WarmupLinearSchedule correctly.\n"
          ]
        },
        {
          "output_type": "stream",
          "name": "stdout",
          "text": [
            "Percent: [----------------------------> ] 97% || batch_time: 0.0530 || batch_loss: 0.0062 || avg_batch_loss: 0.2693 || batch_acc: 1.0000 || avg_batch_acc: 1.0000 "
          ]
        },
        {
          "output_type": "stream",
          "name": "stderr",
          "text": [
            "Training beyond specified 't_total'. Learning rate multiplier set to 0.0. Please set 't_total' of WarmupLinearSchedule correctly.\n"
          ]
        },
        {
          "output_type": "stream",
          "name": "stdout",
          "text": [
            "Percent: [----------------------------> ] 97% || batch_time: 0.0461 || batch_loss: 0.1958 || avg_batch_loss: 0.2690 || batch_acc: 1.0000 || avg_batch_acc: 1.0000 "
          ]
        },
        {
          "output_type": "stream",
          "name": "stderr",
          "text": [
            "Training beyond specified 't_total'. Learning rate multiplier set to 0.0. Please set 't_total' of WarmupLinearSchedule correctly.\n"
          ]
        },
        {
          "output_type": "stream",
          "name": "stdout",
          "text": [
            "Percent: [----------------------------> ] 98% || batch_time: 0.0541 || batch_loss: 0.0390 || avg_batch_loss: 0.2687 || batch_acc: 1.0000 || avg_batch_acc: 1.0000 "
          ]
        },
        {
          "output_type": "stream",
          "name": "stderr",
          "text": [
            "Training beyond specified 't_total'. Learning rate multiplier set to 0.0. Please set 't_total' of WarmupLinearSchedule correctly.\n"
          ]
        },
        {
          "output_type": "stream",
          "name": "stdout",
          "text": [
            "Percent: [----------------------------> ] 98% || batch_time: 0.0505 || batch_loss: 0.1546 || avg_batch_loss: 0.2691 || batch_acc: 1.0000 || avg_batch_acc: 1.0000 "
          ]
        },
        {
          "output_type": "stream",
          "name": "stderr",
          "text": [
            "Training beyond specified 't_total'. Learning rate multiplier set to 0.0. Please set 't_total' of WarmupLinearSchedule correctly.\n"
          ]
        },
        {
          "output_type": "stream",
          "name": "stdout",
          "text": [
            "Percent: [----------------------------> ] 98% || batch_time: 0.0502 || batch_loss: 0.3560 || avg_batch_loss: 0.2691 || batch_acc: 1.0000 || avg_batch_acc: 1.0000 "
          ]
        },
        {
          "output_type": "stream",
          "name": "stderr",
          "text": [
            "Training beyond specified 't_total'. Learning rate multiplier set to 0.0. Please set 't_total' of WarmupLinearSchedule correctly.\n"
          ]
        },
        {
          "output_type": "stream",
          "name": "stdout",
          "text": [
            "Percent: [----------------------------> ] 98% || batch_time: 0.0467 || batch_loss: 0.0430 || avg_batch_loss: 0.2692 || batch_acc: 1.0000 || avg_batch_acc: 1.0000 "
          ]
        },
        {
          "output_type": "stream",
          "name": "stderr",
          "text": [
            "Training beyond specified 't_total'. Learning rate multiplier set to 0.0. Please set 't_total' of WarmupLinearSchedule correctly.\n"
          ]
        },
        {
          "output_type": "stream",
          "name": "stdout",
          "text": [
            "Percent: [----------------------------->] 98% || batch_time: 0.0499 || batch_loss: 0.0296 || avg_batch_loss: 0.2690 || batch_acc: 1.0000 || avg_batch_acc: 1.0000 "
          ]
        },
        {
          "output_type": "stream",
          "name": "stderr",
          "text": [
            "Training beyond specified 't_total'. Learning rate multiplier set to 0.0. Please set 't_total' of WarmupLinearSchedule correctly.\n"
          ]
        },
        {
          "output_type": "stream",
          "name": "stdout",
          "text": [
            "Percent: [----------------------------->] 99% || batch_time: 0.0480 || batch_loss: 0.0988 || avg_batch_loss: 0.2687 || batch_acc: 1.0000 || avg_batch_acc: 1.0000 "
          ]
        },
        {
          "output_type": "stream",
          "name": "stderr",
          "text": [
            "Training beyond specified 't_total'. Learning rate multiplier set to 0.0. Please set 't_total' of WarmupLinearSchedule correctly.\n"
          ]
        },
        {
          "output_type": "stream",
          "name": "stdout",
          "text": [
            "Percent: [----------------------------->] 99% || batch_time: 0.0538 || batch_loss: 0.4688 || avg_batch_loss: 0.2688 || batch_acc: 1.0000 || avg_batch_acc: 1.0000 "
          ]
        },
        {
          "output_type": "stream",
          "name": "stderr",
          "text": [
            "Training beyond specified 't_total'. Learning rate multiplier set to 0.0. Please set 't_total' of WarmupLinearSchedule correctly.\n"
          ]
        },
        {
          "output_type": "stream",
          "name": "stdout",
          "text": [
            "Percent: [----------------------------->] 99% || batch_time: 0.0472 || batch_loss: 0.3812 || avg_batch_loss: 0.2686 || batch_acc: 1.0000 || avg_batch_acc: 1.0000 "
          ]
        },
        {
          "output_type": "stream",
          "name": "stderr",
          "text": [
            "Training beyond specified 't_total'. Learning rate multiplier set to 0.0. Please set 't_total' of WarmupLinearSchedule correctly.\n"
          ]
        },
        {
          "output_type": "stream",
          "name": "stdout",
          "text": [
            "Percent: [----------------------------->] 99% || batch_time: 0.0493 || batch_loss: 0.2493 || avg_batch_loss: 0.2685 || batch_acc: 1.0000 || avg_batch_acc: 1.0000 "
          ]
        },
        {
          "output_type": "stream",
          "name": "stderr",
          "text": [
            "Training beyond specified 't_total'. Learning rate multiplier set to 0.0. Please set 't_total' of WarmupLinearSchedule correctly.\n"
          ]
        },
        {
          "output_type": "stream",
          "name": "stdout",
          "text": [
            "Percent: [----------------------------->] 100% || batch_time: 0.0526 || batch_loss: 0.4770 || avg_batch_loss: 0.2684 || batch_acc: 1.0000 || avg_batch_acc: 1.0000 "
          ]
        },
        {
          "output_type": "stream",
          "name": "stderr",
          "text": [
            "Training beyond specified 't_total'. Learning rate multiplier set to 0.0. Please set 't_total' of WarmupLinearSchedule correctly.\n"
          ]
        },
        {
          "output_type": "stream",
          "name": "stdout",
          "text": [
            "Percent: [----------------------------->] 100% || batch_time: 0.0481 || batch_loss: 0.0378 || avg_batch_loss: 0.2682 || batch_acc: 1.0000 || avg_batch_acc: 1.0000 "
          ]
        },
        {
          "output_type": "stream",
          "name": "stderr",
          "text": [
            "Training beyond specified 't_total'. Learning rate multiplier set to 0.0. Please set 't_total' of WarmupLinearSchedule correctly.\n"
          ]
        },
        {
          "output_type": "stream",
          "name": "stdout",
          "text": [
            "Percent: [----------------------------->] 100% || batch_time: 0.0457 || batch_loss: 0.1164 || avg_batch_loss: 0.2683 || batch_acc: 1.0000 || avg_batch_acc: 1.0000 "
          ]
        },
        {
          "output_type": "stream",
          "name": "stderr",
          "text": [
            "Training beyond specified 't_total'. Learning rate multiplier set to 0.0. Please set 't_total' of WarmupLinearSchedule correctly.\n"
          ]
        },
        {
          "output_type": "stream",
          "name": "stdout",
          "text": [
            "Percent: [----------------------------->] 100% || batch_time: 0.2080 || batch_loss: 0.0084 || avg_batch_loss: 0.2681 || batch_acc: 1.0000 || avg_batch_acc: 1.0000 \n",
            "Epoch 2 train_loss: 0.2681383881750133\n",
            "valid_data size: 7226\n",
            "Percent: [----------------------------->] 100% || batch_time: 0.0323 || batch_loss: 1.5854 || avg_batch_loss: 1.1795 || batch_acc: 0.6154 || avg_batch_acc: 0.7676 \n",
            "Epoch 2 valid_loss: 1.1795121548713836\n",
            "validation accuracy improved from 173.4792 to 173.4792\n",
            "Model saved at /content/neuspell/neuspell/../data/checkpoints/subwordbert-probwordnoise/new_models/bert-base-cased/pytorch_model.bin in epoch 2\n",
            "Model and logs saved at /content/neuspell/neuspell/../data/checkpoints/subwordbert-probwordnoise/new_models/bert-base-cased\n"
          ]
        }
      ]
    },
    {
      "cell_type": "code",
      "source": [
        "#Here we evaluated our model on sample data\n",
        "checker = BertChecker()\n",
        "checker.from_pretrained(\n",
        "    ckpt_path = '/content/neuspell/data/checkpoints/subwordbert-probwordnoise/new_models/bert-base-cased/',\n",
        "   vocab_path='/content/neuspell/data/checkpoints/subwordbert-probwordnoise/new_models/bert-base-cased/vocab.pkl'  # \"<folder where the model is saved>\"\n",
        ")\n",
        "checker.evaluate(clean_file='sample_clean.txt', corrupt_file='sample_corrupt.txt', data_dir='/content/neuspell/data/traintest')"
      ],
      "metadata": {
        "colab": {
          "base_uri": "https://localhost:8080/"
        },
        "id": "3xaCKBai1zgp",
        "outputId": "a5c95bf3-7a30-4d55-edb7-634d3fe7c6dc"
      },
      "execution_count": null,
      "outputs": [
        {
          "output_type": "stream",
          "name": "stdout",
          "text": [
            "loading vocab from path:/content/neuspell/neuspell/../data/checkpoints/subwordbert-probwordnoise/vocab.pkl\n",
            "initializing model\n",
            "Number of parameters in the model: 185211810\n",
            "Loading model params from checkpoint dir: /content/neuspell/neuspell/../data/checkpoints/subwordbert-probwordnoise\n",
            "/content/neuspell/data/traintest sample_clean.txt sample_corrupt.txt\n"
          ]
        },
        {
          "output_type": "stream",
          "name": "stderr",
          "text": [
            "41it [00:00, 121531.07it/s]\n",
            "41it [00:00, 408471.41it/s]"
          ]
        },
        {
          "output_type": "stream",
          "name": "stdout",
          "text": [
            "loaded tuples of (corr,incorr) examples from /content/neuspell/data/traintest\n",
            "###############################################\n",
            "data size: 41\n"
          ]
        },
        {
          "output_type": "stream",
          "name": "stderr",
          "text": [
            "\n",
            "3it [00:00,  7.42it/s]"
          ]
        },
        {
          "output_type": "stream",
          "name": "stdout",
          "text": [
            "\n",
            "Epoch None valid_loss: 0.08198523273070653\n",
            "total inference time for this data is: 0.604773 secs\n",
            "###############################################\n",
            "\n",
            "\n",
            "total token count: 819\n",
            "_corr2corr:763, _corr2incorr:5, _incorr2corr:42, _incorr2incorr:9\n",
            "accuracy is 0.9829059829059829\n",
            "word correction rate is 0.8235294117647058\n",
            "###############################################\n"
          ]
        },
        {
          "output_type": "stream",
          "name": "stderr",
          "text": [
            "\n"
          ]
        }
      ]
    },
    {
      "cell_type": "markdown",
      "source": [
        "# classification report and samples"
      ],
      "metadata": {
        "id": "mWTHG89hPg1v"
      }
    },
    {
      "cell_type": "code",
      "source": [
        "count= 819\n",
        "_corr2corr=763\n",
        "_corr2incorr=5\n",
        "_incorr2corr=42\n",
        "_incorr2incorr=9\n",
        "\n",
        "\n",
        "acc = (_corr2corr +  _incorr2corr)/ count\n",
        "pr = _corr2corr / (_corr2corr + _incorr2corr)\n",
        "re = _corr2corr / (_corr2corr + _incorr2incorr)\n",
        "f1 = 2 * _corr2corr / (2 * _corr2corr + _incorr2corr + _incorr2incorr)\n",
        "print(\"accuracy: \",acc)\n",
        "print(\"F1-score: \",f1)"
      ],
      "metadata": {
        "colab": {
          "base_uri": "https://localhost:8080/"
        },
        "id": "JReamk7KPoze",
        "outputId": "2babadeb-8d93-4b02-b1f4-9cf27edccb36"
      },
      "execution_count": null,
      "outputs": [
        {
          "output_type": "stream",
          "name": "stdout",
          "text": [
            "0.9829059829059829\n",
            "0.9478260869565217\n",
            "0.9883419689119171\n",
            "0.9676601141407736\n"
          ]
        }
      ]
    },
    {
      "cell_type": "code",
      "source": [
        "sample1 = \"I do nt kno hw to wreti\"\n",
        "sample2 = \"I did mi bestie\"\n",
        "sample3 = \"god news I di the taskk\""
      ],
      "metadata": {
        "id": "tTYuKIZYIAHk"
      },
      "execution_count": null,
      "outputs": []
    },
    {
      "cell_type": "code",
      "source": [
        "\"\"\" spell correction \"\"\"\n",
        "\n",
        "checker.correct(sample1)"
      ],
      "metadata": {
        "colab": {
          "base_uri": "https://localhost:8080/",
          "height": 35
        },
        "id": "ITPdccYdPGZn",
        "outputId": "4f49e71b-4d73-453e-a21e-d8d8786ea3d3"
      },
      "execution_count": null,
      "outputs": [
        {
          "output_type": "execute_result",
          "data": {
            "application/vnd.google.colaboratory.intrinsic+json": {
              "type": "string"
            },
            "text/plain": [
              "'I do not know how to write'"
            ]
          },
          "metadata": {},
          "execution_count": 32
        }
      ]
    },
    {
      "cell_type": "code",
      "source": [
        "checker.correct(sample2)"
      ],
      "metadata": {
        "colab": {
          "base_uri": "https://localhost:8080/",
          "height": 35
        },
        "id": "u4TO9052PMLM",
        "outputId": "a152b3a1-ba98-4d54-bfbb-20d29f5c415c"
      },
      "execution_count": null,
      "outputs": [
        {
          "output_type": "execute_result",
          "data": {
            "application/vnd.google.colaboratory.intrinsic+json": {
              "type": "string"
            },
            "text/plain": [
              "'I did my best'"
            ]
          },
          "metadata": {},
          "execution_count": 33
        }
      ]
    },
    {
      "cell_type": "code",
      "source": [
        "checker.correct(sample3)"
      ],
      "metadata": {
        "colab": {
          "base_uri": "https://localhost:8080/",
          "height": 35
        },
        "id": "6v3IOLwYPZ0b",
        "outputId": "79ab80fb-fd4a-40d2-8cfb-2d5f2b9eeb59"
      },
      "execution_count": null,
      "outputs": [
        {
          "output_type": "execute_result",
          "data": {
            "application/vnd.google.colaboratory.intrinsic+json": {
              "type": "string"
            },
            "text/plain": [
              "'good news I did the task'"
            ]
          },
          "metadata": {},
          "execution_count": 34
        }
      ]
    },
    {
      "cell_type": "code",
      "source": [
        ""
      ],
      "metadata": {
        "id": "VVDAs43lPcef"
      },
      "execution_count": null,
      "outputs": []
    }
  ]
}