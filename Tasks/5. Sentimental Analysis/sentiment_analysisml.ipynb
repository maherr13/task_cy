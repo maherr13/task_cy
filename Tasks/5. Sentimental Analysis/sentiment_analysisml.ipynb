{
  "nbformat": 4,
  "nbformat_minor": 0,
  "metadata": {
    "colab": {
      "name": "sentiment analysis.ipynb",
      "provenance": []
    },
    "kernelspec": {
      "name": "python3",
      "display_name": "Python 3"
    },
    "language_info": {
      "name": "python"
    }
  },
  "cells": [
    {
      "cell_type": "markdown",
      "source": [
        "#BaseLine"
      ],
      "metadata": {
        "id": "4sfT2tiBLhSn"
      }
    },
    {
      "cell_type": "code",
      "source": [
        "import numpy as np \n",
        "import pandas as pd \n",
        "from sklearn.metrics import accuracy_score\n",
        "from sklearn.metrics import f1_score\n",
        "from sklearn.ensemble import RandomForestClassifier\n",
        "from sklearn.feature_extraction.text import TfidfVectorizer\n",
        "from sklearn.feature_extraction.text import CountVectorizer\n",
        "from sklearn.linear_model import SGDClassifier\n",
        "from sklearn.naive_bayes import MultinomialNB, BernoulliNB\n",
        "from sklearn.neighbors import KNeighborsClassifier\n",
        "from sklearn.pipeline import Pipeline\n",
        "from sklearn.svm import LinearSVC\n",
        "from sklearn.svm import SVC\n",
        "from sklearn.tree import DecisionTreeClassifier\n",
        "import random\n",
        "from sklearn.model_selection import cross_validate, cross_val_predict, cross_val_score\n",
        "from sklearn import metrics"
      ],
      "metadata": {
        "id": "E7gkXj3bJgeI"
      },
      "execution_count": 58,
      "outputs": []
    },
    {
      "cell_type": "code",
      "source": [
        "!gdown --id 1ewF8bx1KBLZTTeKWg4v5hzpo-cfHdy1O -O /content/CY_data.txt"
      ],
      "metadata": {
        "id": "2DTPG-EAQmoz",
        "colab": {
          "base_uri": "https://localhost:8080/"
        },
        "outputId": "9d0071e9-a019-41ab-ecb2-f769492d4bdc"
      },
      "execution_count": 59,
      "outputs": [
        {
          "output_type": "stream",
          "name": "stdout",
          "text": [
            "Downloading...\n",
            "From: https://drive.google.com/uc?id=1ewF8bx1KBLZTTeKWg4v5hzpo-cfHdy1O\n",
            "To: /content/CY_data.txt\n",
            "\r  0% 0.00/345k [00:00<?, ?B/s]\r100% 345k/345k [00:00<00:00, 61.5MB/s]\n"
          ]
        }
      ]
    },
    {
      "cell_type": "code",
      "source": [
        "df_cy = pd.read_csv(\"/content/CY_data.txt\")"
      ],
      "metadata": {
        "id": "rbzvCxIFLwxF"
      },
      "execution_count": 60,
      "outputs": []
    },
    {
      "cell_type": "code",
      "source": [
        "from sklearn.model_selection import train_test_split\n",
        "train, test = train_test_split(df_cy, test_size=0.2, stratify=df_cy['class'])"
      ],
      "metadata": {
        "id": "UQzRMySWMBf0"
      },
      "execution_count": 61,
      "outputs": []
    },
    {
      "cell_type": "markdown",
      "source": [
        "This Function will run the passed model and do 10 folds cross val for the following models:\n",
        "\n",
        "1.LinearSVC\n",
        "\n",
        "2.MultinomialNB\n",
        "\n",
        "3.BernoulliNB\n",
        "\n",
        "4.SGDClassifier \n",
        "\n",
        "5.DecisionTreeClassifier\n",
        "\n",
        "6.RandomForestClassifier\n",
        "\n",
        "7.KNeighborsClassifier"
      ],
      "metadata": {
        "id": "peZJkB1JNTiW"
      }
    },
    {
      "cell_type": "markdown",
      "source": [
        "We will use tf-idf to process our data with analyzer : \"word\", and n gram \"1\""
      ],
      "metadata": {
        "id": "EicYHS1XRHE0"
      }
    },
    {
      "cell_type": "markdown",
      "source": [
        ""
      ],
      "metadata": {
        "id": "sb-lby1BRWuL"
      }
    },
    {
      "cell_type": "code",
      "source": [
        "def run_models(my_classifier, name, analyzer = \"word\", ngram = 1):\n",
        "    x_train = train['tweet']\n",
        "    y_train = train['class']\n",
        "    x_test = test['tweet']\n",
        "    y_test = test['class']\n",
        "    print('classifier:', my_classifier.__class__.__name__)\n",
        "    print('------------------------------------')\n",
        "\n",
        "\n",
        "\n",
        "\n",
        "    vectorizer = TfidfVectorizer(min_df=0.00001, max_df=0.99,\n",
        "                                 analyzer=analyzer, lowercase=False,\n",
        "                                 ngram_range=(1, ngram))\n",
        "\n",
        "    X = vectorizer.fit_transform(x_train)\n",
        "    xtest = vectorizer.transform(x_test)\n",
        "\n",
        "    my_classifier.fit(X,y_train)\n",
        "    \n",
        "    scores = cross_validate(my_classifier, X, y_train, cv=10,\n",
        "                      scoring=('accuracy', 'f1_weighted')\n",
        "                      )\n",
        "    \n",
        "    y_train_pred = my_classifier.predict(X)\n",
        "    print(f\"The results accuracy on the training data {accuracy_score(y_train_pred, y_train)}\")\n",
        "    print(f\"The Cross validation Accuracy is {scores['test_accuracy'].mean()}, The F1-score is {scores['test_f1_weighted'].mean()}\")\n",
        "    print(\"The Results on test data\")\n",
        "    y_predicted = my_classifier.predict(xtest)\n",
        "    print(\"accuracy: \")\n",
        "    print(accuracy_score(y_test, y_predicted))\n",
        "    print(\"f1_score: \")\n",
        "    print(f1_score(y_test, y_predicted, average=\"weighted\"))\n"
      ],
      "metadata": {
        "id": "p09kFa-eMmI2"
      },
      "execution_count": 62,
      "outputs": []
    },
    {
      "cell_type": "code",
      "source": [
        "classifiers = [LinearSVC(), MultinomialNB(),\n",
        "               BernoulliNB(), SGDClassifier(), DecisionTreeClassifier(max_depth=4),\n",
        "               RandomForestClassifier(max_depth=5, n_estimators=10, max_features=1),\n",
        "               KNeighborsClassifier(3)\n",
        "               ]\n",
        "\n",
        "for model in classifiers:\n",
        "    alg_name = model.__class__.__name__\n",
        "    run_models(model, alg_name, analyzer= \"word\", ngram=1)"
      ],
      "metadata": {
        "colab": {
          "base_uri": "https://localhost:8080/"
        },
        "id": "6ZJdToDeMmGg",
        "outputId": "d6ecf6c1-32ea-4a14-a05b-2988471739df"
      },
      "execution_count": 63,
      "outputs": [
        {
          "output_type": "stream",
          "name": "stdout",
          "text": [
            "classifier: LinearSVC\n",
            "------------------------------------\n",
            "The results accuracy on the training data 1.0\n",
            "The Cross validation Accuracy is 0.5673993358239934, The F1-score is 0.5545092145774995\n",
            "The Results on test data\n",
            "accuracy: \n",
            "0.5545454545454546\n",
            "f1_score: \n",
            "0.5522760691964762\n",
            "classifier: MultinomialNB\n",
            "------------------------------------\n",
            "The results accuracy on the training data 0.9371584699453552\n",
            "The Cross validation Accuracy is 0.5637463677874637, The F1-score is 0.508884438528554\n",
            "The Results on test data\n",
            "accuracy: \n",
            "0.5927272727272728\n",
            "f1_score: \n",
            "0.5485148311605621\n",
            "classifier: BernoulliNB\n",
            "------------------------------------\n",
            "The results accuracy on the training data 0.8292349726775956\n",
            "The Cross validation Accuracy is 0.52730801162308, The F1-score is 0.4617566768565672\n",
            "The Results on test data\n",
            "accuracy: \n",
            "0.5236363636363637\n",
            "f1_score: \n",
            "0.44947261789122256\n",
            "classifier: SGDClassifier\n",
            "------------------------------------\n",
            "The results accuracy on the training data 1.0\n",
            "The Cross validation Accuracy is 0.5478123702781237, The F1-score is 0.5387524366096548\n",
            "The Results on test data\n",
            "accuracy: \n",
            "0.5472727272727272\n",
            "f1_score: \n",
            "0.5449693296846548\n",
            "classifier: DecisionTreeClassifier\n",
            "------------------------------------\n",
            "The results accuracy on the training data 0.45309653916211295\n",
            "The Cross validation Accuracy is 0.4339663760896637, The F1-score is 0.3648447781277891\n",
            "The Results on test data\n",
            "accuracy: \n",
            "0.44545454545454544\n",
            "f1_score: \n",
            "0.3804443852091261\n",
            "classifier: RandomForestClassifier\n",
            "------------------------------------\n",
            "The results accuracy on the training data 0.38843351548269583\n",
            "The Cross validation Accuracy is 0.3861477791614778, The F1-score is 0.2241862309979017\n",
            "The Results on test data\n",
            "accuracy: \n",
            "0.38545454545454544\n",
            "f1_score: \n",
            "0.22180092381097408\n",
            "classifier: KNeighborsClassifier\n",
            "------------------------------------\n",
            "The results accuracy on the training data 0.7235883424408015\n",
            "The Cross validation Accuracy is 0.5154586965545869, The F1-score is 0.5053812692729067\n",
            "The Results on test data\n",
            "accuracy: \n",
            "0.5236363636363637\n",
            "f1_score: \n",
            "0.5149682382588269\n"
          ]
        }
      ]
    },
    {
      "cell_type": "markdown",
      "source": [
        "#Here we got our baseline result and we will move try to improve, best model was LinearSVC and we will keep using it.\n",
        "\n",
        "##accuracy = 0.5872\n",
        "##f1-score = 0.5325\n",
        "\n"
      ],
      "metadata": {
        "id": "J5FUU-6_SfD7"
      }
    },
    {
      "cell_type": "markdown",
      "source": [
        "seems like we got a poor accuracy on test and dev set and very high accuracy on training data --> which means we have overfit, and its more likely beceause of we are out-of-words\n",
        "\n",
        "we can solve than buy using char n-gram instead of words"
      ],
      "metadata": {
        "id": "Zsb2jxBKN1zs"
      }
    },
    {
      "cell_type": "code",
      "source": [
        "#Here we changed our analyzer to \"char\" and increased the ngram \n",
        "print(\"model : LinearSVC\")\n",
        "\n",
        "run_models(LinearSVC(), alg_name, analyzer= \"char\", ngram=6)"
      ],
      "metadata": {
        "colab": {
          "base_uri": "https://localhost:8080/"
        },
        "id": "YNQwHtPmMmEP",
        "outputId": "d3ac195b-8a37-4f2d-f6df-9fc40520610e"
      },
      "execution_count": 64,
      "outputs": [
        {
          "output_type": "stream",
          "name": "stdout",
          "text": [
            "model : LinearSVC\n",
            "classifier: LinearSVC\n",
            "------------------------------------\n",
            "The results accuracy on the training data 0.9990892531876139\n",
            "The Cross validation Accuracy is 0.6170298879202989, The F1-score is 0.6033680124246437\n",
            "The Results on test data\n",
            "accuracy: \n",
            "0.6418181818181818\n",
            "f1_score: \n",
            "0.6389297975534348\n"
          ]
        }
      ]
    },
    {
      "cell_type": "markdown",
      "source": [
        "#After trail and error we reached the \n",
        " \n",
        "#accuracy 0.6272  \n",
        "#f1 score of 0.61675\n",
        "\n",
        "lets Try do propressing to our data"
      ],
      "metadata": {
        "id": "HlJ7xVZxWyor"
      }
    },
    {
      "cell_type": "code",
      "source": [
        "!pip install pyarabic emoji \n",
        "!pip install pystemmer\n",
        "!pip install optuna==2.3.0\n",
        "!pip install transformers==4.2.1"
      ],
      "metadata": {
        "colab": {
          "base_uri": "https://localhost:8080/"
        },
        "id": "9HWeqx2QYncq",
        "outputId": "9febc6de-21aa-4365-8403-00bd1105bb23"
      },
      "execution_count": 65,
      "outputs": [
        {
          "output_type": "stream",
          "name": "stdout",
          "text": [
            "Requirement already satisfied: pyarabic in /usr/local/lib/python3.7/dist-packages (0.6.14)\n",
            "Requirement already satisfied: emoji in /usr/local/lib/python3.7/dist-packages (1.7.0)\n",
            "Requirement already satisfied: six>=1.14.0 in /usr/local/lib/python3.7/dist-packages (from pyarabic) (1.15.0)\n",
            "Requirement already satisfied: pystemmer in /usr/local/lib/python3.7/dist-packages (2.0.1)\n",
            "Requirement already satisfied: optuna==2.3.0 in /usr/local/lib/python3.7/dist-packages (2.3.0)\n",
            "Requirement already satisfied: sqlalchemy>=1.1.0 in /usr/local/lib/python3.7/dist-packages (from optuna==2.3.0) (1.4.31)\n",
            "Requirement already satisfied: cliff in /usr/local/lib/python3.7/dist-packages (from optuna==2.3.0) (3.10.1)\n",
            "Requirement already satisfied: scipy!=1.4.0 in /usr/local/lib/python3.7/dist-packages (from optuna==2.3.0) (1.4.1)\n",
            "Requirement already satisfied: joblib in /usr/local/lib/python3.7/dist-packages (from optuna==2.3.0) (1.1.0)\n",
            "Requirement already satisfied: colorlog in /usr/local/lib/python3.7/dist-packages (from optuna==2.3.0) (6.6.0)\n",
            "Requirement already satisfied: numpy in /usr/local/lib/python3.7/dist-packages (from optuna==2.3.0) (1.21.5)\n",
            "Requirement already satisfied: packaging>=20.0 in /usr/local/lib/python3.7/dist-packages (from optuna==2.3.0) (21.3)\n",
            "Requirement already satisfied: tqdm in /usr/local/lib/python3.7/dist-packages (from optuna==2.3.0) (4.63.0)\n",
            "Requirement already satisfied: alembic in /usr/local/lib/python3.7/dist-packages (from optuna==2.3.0) (1.7.6)\n",
            "Requirement already satisfied: cmaes>=0.6.0 in /usr/local/lib/python3.7/dist-packages (from optuna==2.3.0) (0.8.2)\n",
            "Requirement already satisfied: pyparsing!=3.0.5,>=2.0.2 in /usr/local/lib/python3.7/dist-packages (from packaging>=20.0->optuna==2.3.0) (3.0.7)\n",
            "Requirement already satisfied: greenlet!=0.4.17 in /usr/local/lib/python3.7/dist-packages (from sqlalchemy>=1.1.0->optuna==2.3.0) (1.1.2)\n",
            "Requirement already satisfied: importlib-metadata in /usr/local/lib/python3.7/dist-packages (from sqlalchemy>=1.1.0->optuna==2.3.0) (4.11.2)\n",
            "Requirement already satisfied: importlib-resources in /usr/local/lib/python3.7/dist-packages (from alembic->optuna==2.3.0) (5.4.0)\n",
            "Requirement already satisfied: Mako in /usr/local/lib/python3.7/dist-packages (from alembic->optuna==2.3.0) (1.1.6)\n",
            "Requirement already satisfied: autopage>=0.4.0 in /usr/local/lib/python3.7/dist-packages (from cliff->optuna==2.3.0) (0.5.0)\n",
            "Requirement already satisfied: stevedore>=2.0.1 in /usr/local/lib/python3.7/dist-packages (from cliff->optuna==2.3.0) (3.5.0)\n",
            "Requirement already satisfied: PrettyTable>=0.7.2 in /usr/local/lib/python3.7/dist-packages (from cliff->optuna==2.3.0) (3.1.1)\n",
            "Requirement already satisfied: cmd2>=1.0.0 in /usr/local/lib/python3.7/dist-packages (from cliff->optuna==2.3.0) (2.4.0)\n",
            "Requirement already satisfied: PyYAML>=3.12 in /usr/local/lib/python3.7/dist-packages (from cliff->optuna==2.3.0) (3.13)\n",
            "Requirement already satisfied: pbr!=2.1.0,>=2.0.0 in /usr/local/lib/python3.7/dist-packages (from cliff->optuna==2.3.0) (5.8.1)\n",
            "Requirement already satisfied: wcwidth>=0.1.7 in /usr/local/lib/python3.7/dist-packages (from cmd2>=1.0.0->cliff->optuna==2.3.0) (0.2.5)\n",
            "Requirement already satisfied: typing-extensions in /usr/local/lib/python3.7/dist-packages (from cmd2>=1.0.0->cliff->optuna==2.3.0) (3.10.0.2)\n",
            "Requirement already satisfied: attrs>=16.3.0 in /usr/local/lib/python3.7/dist-packages (from cmd2>=1.0.0->cliff->optuna==2.3.0) (21.4.0)\n",
            "Requirement already satisfied: pyperclip>=1.6 in /usr/local/lib/python3.7/dist-packages (from cmd2>=1.0.0->cliff->optuna==2.3.0) (1.8.2)\n",
            "Requirement already satisfied: zipp>=0.5 in /usr/local/lib/python3.7/dist-packages (from importlib-metadata->sqlalchemy>=1.1.0->optuna==2.3.0) (3.7.0)\n",
            "Requirement already satisfied: MarkupSafe>=0.9.2 in /usr/local/lib/python3.7/dist-packages (from Mako->alembic->optuna==2.3.0) (2.0.1)\n",
            "Requirement already satisfied: transformers==4.2.1 in /usr/local/lib/python3.7/dist-packages (4.2.1)\n",
            "Requirement already satisfied: packaging in /usr/local/lib/python3.7/dist-packages (from transformers==4.2.1) (21.3)\n",
            "Requirement already satisfied: tqdm>=4.27 in /usr/local/lib/python3.7/dist-packages (from transformers==4.2.1) (4.63.0)\n",
            "Requirement already satisfied: sacremoses in /usr/local/lib/python3.7/dist-packages (from transformers==4.2.1) (0.0.47)\n",
            "Requirement already satisfied: requests in /usr/local/lib/python3.7/dist-packages (from transformers==4.2.1) (2.23.0)\n",
            "Requirement already satisfied: regex!=2019.12.17 in /usr/local/lib/python3.7/dist-packages (from transformers==4.2.1) (2019.12.20)\n",
            "Requirement already satisfied: filelock in /usr/local/lib/python3.7/dist-packages (from transformers==4.2.1) (3.6.0)\n",
            "Requirement already satisfied: tokenizers==0.9.4 in /usr/local/lib/python3.7/dist-packages (from transformers==4.2.1) (0.9.4)\n",
            "Requirement already satisfied: numpy in /usr/local/lib/python3.7/dist-packages (from transformers==4.2.1) (1.21.5)\n",
            "Requirement already satisfied: importlib-metadata in /usr/local/lib/python3.7/dist-packages (from transformers==4.2.1) (4.11.2)\n",
            "Requirement already satisfied: zipp>=0.5 in /usr/local/lib/python3.7/dist-packages (from importlib-metadata->transformers==4.2.1) (3.7.0)\n",
            "Requirement already satisfied: typing-extensions>=3.6.4 in /usr/local/lib/python3.7/dist-packages (from importlib-metadata->transformers==4.2.1) (3.10.0.2)\n",
            "Requirement already satisfied: pyparsing!=3.0.5,>=2.0.2 in /usr/local/lib/python3.7/dist-packages (from packaging->transformers==4.2.1) (3.0.7)\n",
            "Requirement already satisfied: urllib3!=1.25.0,!=1.25.1,<1.26,>=1.21.1 in /usr/local/lib/python3.7/dist-packages (from requests->transformers==4.2.1) (1.24.3)\n",
            "Requirement already satisfied: certifi>=2017.4.17 in /usr/local/lib/python3.7/dist-packages (from requests->transformers==4.2.1) (2021.10.8)\n",
            "Requirement already satisfied: chardet<4,>=3.0.2 in /usr/local/lib/python3.7/dist-packages (from requests->transformers==4.2.1) (3.0.4)\n",
            "Requirement already satisfied: idna<3,>=2.5 in /usr/local/lib/python3.7/dist-packages (from requests->transformers==4.2.1) (2.10)\n",
            "Requirement already satisfied: click in /usr/local/lib/python3.7/dist-packages (from sacremoses->transformers==4.2.1) (7.1.2)\n",
            "Requirement already satisfied: six in /usr/local/lib/python3.7/dist-packages (from sacremoses->transformers==4.2.1) (1.15.0)\n",
            "Requirement already satisfied: joblib in /usr/local/lib/python3.7/dist-packages (from sacremoses->transformers==4.2.1) (1.1.0)\n"
          ]
        }
      ]
    },
    {
      "cell_type": "code",
      "source": [
        "import numpy as np\n",
        "import pandas as pd\n",
        "import pyarabic.araby as ar\n",
        "import re , emoji, Stemmer, functools, operator, string\n",
        "import torch , optuna, gc, random, os\n",
        "from sklearn.metrics import classification_report, accuracy_score, f1_score, confusion_matrix, precision_score , recall_score\n",
        "from sklearn.utils import resample\n",
        "from nltk.corpus import stopwords\n",
        "from nltk import word_tokenize\n",
        "import nltk\n",
        "import re\n",
        "\n",
        "\n",
        "nltk.download(\"stopwords\")\n",
        "nltk.download(\"punkt\")\n"
      ],
      "metadata": {
        "colab": {
          "base_uri": "https://localhost:8080/"
        },
        "id": "T024c5SVMmBt",
        "outputId": "3767b204-de5a-4016-ed10-292418a54e1d"
      },
      "execution_count": 66,
      "outputs": [
        {
          "output_type": "stream",
          "name": "stdout",
          "text": [
            "[nltk_data] Downloading package stopwords to /root/nltk_data...\n",
            "[nltk_data]   Package stopwords is already up-to-date!\n",
            "[nltk_data] Downloading package punkt to /root/nltk_data...\n",
            "[nltk_data]   Package punkt is already up-to-date!\n"
          ]
        },
        {
          "output_type": "execute_result",
          "data": {
            "text/plain": [
              "True"
            ]
          },
          "metadata": {},
          "execution_count": 66
        }
      ]
    },
    {
      "cell_type": "code",
      "source": [
        "\n",
        "stopwords = stopwords.words(\"arabic\")\n",
        "\n",
        "def remove_stopwords(text):\n",
        "  text_tokens = word_tokenize(text)\n",
        "\n",
        "  tokens_without_sw = [word for word in text_tokens if not word in stopwords]\n",
        "\n",
        "  return \" \".join(tokens_without_sw)\n",
        "\n",
        "def no_english(text):\n",
        "\ttext = re.sub(\"[a-zA-Z]+\", \"\",text)\n",
        "\treturn text"
      ],
      "metadata": {
        "id": "cJa5Z6IwYami"
      },
      "execution_count": 67,
      "outputs": []
    },
    {
      "cell_type": "code",
      "source": [
        "st =  Stemmer.Stemmer('arabic')\n",
        "def data_cleaning (text):\n",
        "  text = re.sub(r'^https?:\\/\\/.*[\\r\\n]*', '', text, flags=re.MULTILINE) #Removing links Https\n",
        "  text = re.sub(r'^http?:\\/\\/.*[\\r\\n]*', '', text, flags=re.MULTILINE) #removing Http links\n",
        "  text = re.sub(r\"http\\S+\", \"\", text) #removing links\n",
        "  text = re.sub(r\"https\\S+\", \"\", text) #removing links\n",
        "  text = re.sub(r'\\s+', ' ', text) # removing more than space to on space\n",
        "  text = re.sub(\"(\\s\\d+)\",\"\",text)  #removing digits\n",
        "  text = re.sub(r\"$\\d+\\W+|\\b\\d+\\b|\\W+\\d+$\", \"\", text)\n",
        "  text = re.sub(\"\\d+\", \" \", text) #removing digits\n",
        "  text = ar.strip_tashkeel(text) #removing Tshkeel\n",
        "  text = ar.strip_tatweel(text) \n",
        "  text = text.replace(\"#\", \" \");  #removing #\n",
        "  text = text.replace(\"@\", \" \"); #removing @\n",
        "  text = text.replace(\"_\", \" \"); #removing _\n",
        "  translator = str.maketrans('', '', string.punctuation)\n",
        "  text = text.translate(translator)\n",
        "  em = text \n",
        "  em_split_emoji = emoji.get_emoji_regexp().split(em)\n",
        "  em_split_whitespace = [substr.split() for substr in em_split_emoji]\n",
        "  em_split = functools.reduce(operator.concat, em_split_whitespace) #processing emojis\n",
        "  text = \" \".join(em_split)\n",
        "  text = re.sub(r'(.)\\1+', r'\\1', text)\n",
        "  text_stem = \" \".join([st.stemWord(i) for i in text.split()])\n",
        "  text = text +\" \"+ text_stem\n",
        "  text = text.replace(\"آ\", \"ا\")\n",
        "  text = text.replace(\"إ\", \"ا\")\n",
        "  text = text.replace(\"أ\", \"ا\")\n",
        "  text = text.replace(\"ؤ\", \"و\")\n",
        "  text = text.replace(\"ئ\", \"ي\")\n",
        "  text = no_english(text) #remocing remaining english words\n",
        "  text = remove_stopwords(text) #removing stopwords\n",
        "  return text"
      ],
      "metadata": {
        "id": "3iFqpSDAMl_u"
      },
      "execution_count": 68,
      "outputs": []
    },
    {
      "cell_type": "code",
      "source": [
        "# Cleaning Training Data \n",
        "train['tweet'] = train['tweet'].apply(lambda x:   data_cleaning(x))\n",
        "\n",
        "train.columns = ['tweet','class']\n",
        "\n",
        "train['tweet'].head(20)"
      ],
      "metadata": {
        "colab": {
          "base_uri": "https://localhost:8080/"
        },
        "id": "ur7G7HXXMl9B",
        "outputId": "39193a63-8a52-4a03-b403-ab6e1477349c"
      },
      "execution_count": 69,
      "outputs": [
        {
          "output_type": "stream",
          "name": "stderr",
          "text": [
            "/usr/local/lib/python3.7/dist-packages/ipykernel_launcher.py:19: DeprecationWarning: 'emoji.get_emoji_regexp()' is deprecated and will be removed in version 2.0.0. If you want to remove emoji from a string, consider the method emoji.replace_emoji(str, replace='').\n",
            "To hide this warning, pin/downgrade the package to 'emoji~=1.6.3'\n"
          ]
        },
        {
          "output_type": "execute_result",
          "data": {
            "text/plain": [
              "1792    فانظروا تسلكون بالتدقيق كجهلاء كحكماء فانظر تس...\n",
              "1785         ويسعدكم اجمعين امين يارب يسعد اجمع امين يارب\n",
              "759     بقيت بحس ان الايموشن دا قليل الادب او بيدي ايح...\n",
              "2324    دا ميمنعش انى بعشق ال فى اسكندرية دا ميمنعش ان...\n",
              "51       دا الدين عرف الحر مذلة مر دا دين عرف الحر مذل مر\n",
              "137     سنه وانتى طيبه يامديره واحه الاسلام وربنا ىزيد...\n",
              "1506    اه باين واله توضيح هعمل بنصيحتك حاضر شوفت بسمع...\n",
              "1451    بارك اله فيكم اخي شمالي … ربنا يستجيب دعاءكم ي...\n",
              "4                                     انا هنتحر انا هنتحر\n",
              "888     الهم اغفر ولجميع امة المسلمين واشفي مرضانا ومر...\n",
              "2440       مادة بتنفهم بندرس ليش هيه ماد تنف ندرس ليش هيه\n",
              "49      جيل الايباد بمناسبة الامتحانات مامته بتقولوا ذ...\n",
              "698     اما نظم العدالة الاجتماعية فتبعث الاطمينان وال...\n",
              "1243    قيادات الاخوان يعلمون انهم مدانون الجرايم يحاك...\n",
              "35      تياس اذا حرمك اله تحب تحزن اذا انجبرت التعايش ...\n",
              "1808    طلب حسام حسن اداره الاتحاد السكندري التعاقد ال...\n",
              "837     اذا بتنحاز تماما لهم، نحاز فيهن فلسطين وحر بلد...\n",
              "551     انجزوا بقى يارب محمد يارب انجز بقي يارب محمد يارب\n",
              "929     ابدا التصوف الحق العمل بطاعة اله العلم الاسلام...\n",
              "1267                       طول بالك تستعجل طول بال استعجل\n",
              "1323                        مش انا الي بخسر مش انا ال خسر\n",
              "2522                                             روعة روع\n",
              "1871                 مفيش اعاده النهارده مفيش اعاد نهارده\n",
              "480         ال ده اختراع الرايع اله ال ده اختراع رايع اله\n",
              "558     طب انتي شايفه اي حاجه غلط حصلت طب انت شايف اي ...\n",
              "2346    كنت اقول ان عندي شي يذكر سنة لكنها عرفتني جمعت...\n",
              "2461    ياريت كلنا نهتم نرتوت لمنتج ميدو اى تويت تخص ر...\n",
              "1423    حدیث العیون یفوق جمال حدیث السان الف مرھ حدیث ...\n",
              "2602    النصر لكل الفلسطينين الهزيمة لكل الاسراييلين ن...\n",
              "171     السنة ملهاش دعوة بنجاحك وفشلك والحقيقة انك فاش...\n",
              "519     منت الوسط الرياضي روح استقيل منت وسط رياض روح ...\n",
              "212                          سنه وليبيا بخير سنه ليبي خير\n",
              "2140    وامريكا اس الفساد فى الارض نساها امريك اس فساد...\n",
              "189                         وتعيش جيش بلادى تعيش جيش لادي\n",
              "1782                     حول قوة الا باله حول قوة الا بال\n",
              "557     اهبل انتبتلعب عداد عمرك عبهادي انا برده منور ا...\n",
              "1826    بحس بامان يملانى بنطق حروف اسمك ساعتها بموت تر...\n",
              "770                                   اليالي غرتك يال غرت\n",
              "2435    فهو يبحث الحب بالفطرة الامتنان لسه بقول ليك ال...\n",
              "662                                              غبيه غبي\n",
              "1087    اي حاجه حلوه عينك اكرهيها فورا ✋ اي حاج حلو اك...\n",
              "2285    لاسف انا املك نوعية الاصدقاء المهتمين بسماع مش...\n",
              "2129    عندك حق دكتور بجاحتهم محدش اعتذر المفروض ساهم ...\n",
              "619     وناس مكنتش توقع انهم مكن يقفوا جنبك مكنتش توقع...\n",
              "164     القرضاوي مهاجما قطر يحتفلون بالمولد النبوي ويح...\n",
              "1602    تحلو مرارة عيش رضاك ♥ مولاي تحلو مرار عيش رضا ...\n",
              "2059    علمتني الحياه ان احاول استباق الاحداث وان اتعا...\n",
              "792     النملة اصغر البرغوت؟ التمر حنة القملة السمسمة؟...\n",
              "703     احنا محدش يعلة علينابس كدة وصلتشكرا احنا محدش ...\n",
              "600     ثواني كدة عشان افهم ايه الي جميله زي هندسه ،ان...\n",
              "Name: tweet, dtype: object"
            ]
          },
          "metadata": {},
          "execution_count": 69
        }
      ]
    },
    {
      "cell_type": "code",
      "source": [
        "#Cleaning the test data\n",
        "test['tweet'] = test['tweet'].apply(lambda x:   data_cleaning(x))\n",
        "\n",
        "test.columns = ['tweet','class']\n",
        "\n",
        "test['tweet'].head(20)"
      ],
      "metadata": {
        "colab": {
          "base_uri": "https://localhost:8080/"
        },
        "id": "lGSKDHICMl6G",
        "outputId": "c33943d7-432e-4e05-e6ae-2f44b4a5e4cd"
      },
      "execution_count": 70,
      "outputs": [
        {
          "output_type": "stream",
          "name": "stderr",
          "text": [
            "/usr/local/lib/python3.7/dist-packages/ipykernel_launcher.py:19: DeprecationWarning: 'emoji.get_emoji_regexp()' is deprecated and will be removed in version 2.0.0. If you want to remove emoji from a string, consider the method emoji.replace_emoji(str, replace='').\n",
            "To hide this warning, pin/downgrade the package to 'emoji~=1.6.3'\n"
          ]
        },
        {
          "output_type": "execute_result",
          "data": {
            "text/plain": [
              "2087                         صبح علي جيرانك مثﻻ صبح جيران\n",
              "818     ان حد ميت يوحشك تفضل تفتكر مواقف ليه معاك تضحك...\n",
              "226                                   يخليه فحالة يخل حال\n",
              "352                         كسم مدريد ياعم كسم مدريد ياعم\n",
              "367             الصبر لسه ساكت ويلي سكاته لسه ساك ويل سكا\n",
              "907     الهم اغنا بحلالك حرامك وبفضلك عمن سواك الهم اغ...\n",
              "2688    جزء الامبراطورية البريطانية مكتوب بشكل رييسي ب...\n",
              "175            الثانوية دى بتنمى الغباء ثانو دي تنمي غباء\n",
              "2735    عقباليك تكبد قابينة ونفرحو بيكم عقبال تكبد علي...\n",
              "1414    اتخصي جراحه عشان اشغلكفي المستشفي بتاعتي اتخص ...\n",
              "143     وان يرزقك خدمتها علي اكمل وجه ويكتب اله الثواب...\n",
              "2680    نريد ان نعرف او يقولو موازنة مجلس النواب البنا...\n",
              "2626    بفرح حد بحبه يفرح اكتر فرحته شخصيا فرح حد بحب ...\n",
              "19      السكينة لباسه والبر شعاره والتقوى ضميره والحكم...\n",
              "2089    معالي النقيب العام سامح عاشور نقيب المحامين ور...\n",
              "383     ريتك معايا تطوفي وسط البشر والزحام وتشوفي حيرت...\n",
              "1251    بحبكم كلكم قرايبي، ابشروا قدها مدام جيجي بحب ك...\n",
              "2471    الاهتمام حلو واله بسيط اوى اهتمام حلو وال حتي ...\n",
              "815     حرام الظلم التحكيمي الفاجر ده حرام ظلم تحكيم ف...\n",
              "1244    توصل بالسلامة ياقبطان مصر شرفتنا باخلاقك يافار...\n",
              "451     حاسة ابنى فى امتحان ثانوية حاس ابني امتح ثانو عام\n",
              "214     محاسب يحاول الانتحار بالقاء نفسه امام المترو ل...\n",
              "751     معاكي حق كمدافع بيقطع كرات كويس معاك حق كمدافع...\n",
              "159     اول تصريح السبسي يطلب تفويضا الشعب لمواجهة اره...\n",
              "1485    اسامه فقيه اله يوفقك ويرزقك تحتسب اسام فقي اله...\n",
              "2417    السنين بتفوت وانا واقف مكانى السن تفو وانا واق...\n",
              "686                                  ازاي اسماء ازا اسماء\n",
              "1004    الخير علي اوسخ حكام العالم كله خير اوسخ حكام ع...\n",
              "32      يملك الاخلاق والادب يسكن القلوب الى الادب يمل ...\n",
              "531     عندابن ماجه قالﷺ جرعة اعظم اجرا اله جرعة غيظ ك...\n",
              "2405    الهم اليلة المباركه يسر امورنا واحفظ بلادنا وا...\n",
              "2321    اله يمسي خاطرك بالسعاده يامسعد قلبي بحلو السوا...\n",
              "730               اله يخرب بيتك يامرسي اله يخرب بيت يامرس\n",
              "1462    ويسعدك يارب وان شاء اله تكون سنه سعيده وعلي اح...\n",
              "2344    ناس مجرد مفتكرها بكون سعيد عمرو دياب ناس مجرد ...\n",
              "1873               دايما معاه روحنا فداه دايم معا روح فدا\n",
              "1855    تسريبات تخلو الفبركات حاولوا ان يطمسوا او يدعو...\n",
              "1238    دام ذكر حرف الدال بدل بدي ، فانو الجوع اقصى مر...\n",
              "250     التصوير الاخراج الماتش بتاع الاهلي زفت اوي تصو...\n",
              "491          جعفر ماله رشيق كده ليه جعفر مال رشيق كده ليه\n",
              "728     رسمت احلام عشت ايام غنيت الهوى انغام رسم احلام...\n",
              "2445    الان المسيح يسوع انتم كنتم قبلا بعيدين صرتم قر...\n",
              "1574    انا سايبه الموب وفاتحه لاب دلوقتى فكره انا ساي...\n",
              "794     الحقيقه بدت الخيال عدوي واذكا ماقفيت ناداني تع...\n",
              "854     هاتولي رقم دعاء حالا لازم تاخدوا نصيبكوا هاتول...\n",
              "1946             تعالى زوبرى شرموطه تعالي علي زوبري شرموط\n",
              "1605    روحت الاهلي محمد ابراهيم ابقي سلم علي اينو صبر...\n",
              "2094        خرابي الضحك مرتضى الطاولة خراب ضحك مرتضي طاول\n",
              "2100                                   انا سعيدة انا سعيد\n",
              "709     واية يعني تروح متجيش؟ وايه يعني هواها مفيش يعن...\n",
              "Name: tweet, dtype: object"
            ]
          },
          "metadata": {},
          "execution_count": 70
        }
      ]
    },
    {
      "cell_type": "code",
      "source": [
        "#Lets run the model\n",
        "run_models(LinearSVC(), alg_name, analyzer= \"char\", ngram=6)"
      ],
      "metadata": {
        "colab": {
          "base_uri": "https://localhost:8080/"
        },
        "id": "rQ1T2P4TMl3s",
        "outputId": "ccf639b9-f96c-479f-8714-fc775ef65d37"
      },
      "execution_count": 71,
      "outputs": [
        {
          "output_type": "stream",
          "name": "stdout",
          "text": [
            "classifier: LinearSVC\n",
            "------------------------------------\n",
            "The results accuracy on the training data 0.9986338797814208\n",
            "The Cross validation Accuracy is 0.6029202988792031, The F1-score is 0.5900329808462488\n",
            "The Results on test data\n",
            "accuracy: \n",
            "0.6381818181818182\n",
            "f1_score: \n",
            "0.6288644509612252\n"
          ]
        }
      ]
    },
    {
      "cell_type": "markdown",
      "source": [
        "we got no improvments, lets try adding more data"
      ],
      "metadata": {
        "id": "Keo2-8qFbpMy"
      }
    },
    {
      "cell_type": "markdown",
      "source": [
        "## ASTD dataset"
      ],
      "metadata": {
        "id": "dBF0EtJHdYjD"
      }
    },
    {
      "cell_type": "code",
      "source": [
        "!git clone https://github.com/mahmoudnabil/ASTD.git"
      ],
      "metadata": {
        "colab": {
          "base_uri": "https://localhost:8080/"
        },
        "id": "_hMzGTH1Axzr",
        "outputId": "171c3a7c-3dba-4b35-c30d-a9fa504d7455"
      },
      "execution_count": 72,
      "outputs": [
        {
          "output_type": "stream",
          "name": "stdout",
          "text": [
            "fatal: destination path 'ASTD' already exists and is not an empty directory.\n"
          ]
        }
      ]
    },
    {
      "cell_type": "markdown",
      "source": [
        "##ArSaS dataset"
      ],
      "metadata": {
        "id": "mGjhRUFgdcYZ"
      }
    },
    {
      "cell_type": "code",
      "source": [
        "!gdown --id 1MwPiwrWp2gHWpsrUTAUcheTQiniFbBv9 -O /content/ASTD/data/ArSAS.txt"
      ],
      "metadata": {
        "colab": {
          "base_uri": "https://localhost:8080/"
        },
        "id": "6c5NEYqsAzzy",
        "outputId": "e466a988-d025-48db-f234-a6167865f281"
      },
      "execution_count": 73,
      "outputs": [
        {
          "output_type": "stream",
          "name": "stdout",
          "text": [
            "Downloading...\n",
            "From: https://drive.google.com/uc?id=1MwPiwrWp2gHWpsrUTAUcheTQiniFbBv9\n",
            "To: /content/ASTD/data/ArSAS.txt\n",
            "100% 5.78M/5.78M [00:00<00:00, 53.6MB/s]\n"
          ]
        }
      ]
    },
    {
      "cell_type": "code",
      "source": [
        "df_ArSAS = pd.read_csv(\"/content/ASTD/data/ArSAS.txt\", sep=\"\\t\")"
      ],
      "metadata": {
        "id": "m9bAV5RIDfca"
      },
      "execution_count": 74,
      "outputs": []
    },
    {
      "cell_type": "code",
      "source": [
        "df_ArSAS = df_ArSAS[['Tweet_text', 'Sentiment_label']]"
      ],
      "metadata": {
        "id": "LNoJ6zAGDq_y"
      },
      "execution_count": 75,
      "outputs": []
    },
    {
      "cell_type": "code",
      "source": [
        "df_ArSAS.Sentiment_label.value_counts()"
      ],
      "metadata": {
        "colab": {
          "base_uri": "https://localhost:8080/"
        },
        "id": "sY5uGHJNDq7c",
        "outputId": "b5c8a46d-0a6b-4c81-f319-8c681000905f"
      },
      "execution_count": 76,
      "outputs": [
        {
          "output_type": "execute_result",
          "data": {
            "text/plain": [
              "Negative    7384\n",
              "Neutral     6894\n",
              "Positive    4400\n",
              "Mixed       1219\n",
              "Name: Sentiment_label, dtype: int64"
            ]
          },
          "metadata": {},
          "execution_count": 76
        }
      ]
    },
    {
      "cell_type": "code",
      "source": [
        "#dropping mixed label\n",
        "df_ArSAS.drop(df_ArSAS[df_ArSAS.Sentiment_label == 'Mixed'].index, inplace=True)"
      ],
      "metadata": {
        "id": "xhKNB0NjPnLH"
      },
      "execution_count": 77,
      "outputs": []
    },
    {
      "cell_type": "code",
      "source": [
        "#checking the dataframe labels\n",
        "df_ArSAS.Sentiment_label.value_counts()"
      ],
      "metadata": {
        "colab": {
          "base_uri": "https://localhost:8080/"
        },
        "id": "sCXkvy-YPzQX",
        "outputId": "fbeaa3dd-2e69-407b-d82f-46498c73b432"
      },
      "execution_count": 78,
      "outputs": [
        {
          "output_type": "execute_result",
          "data": {
            "text/plain": [
              "Negative    7384\n",
              "Neutral     6894\n",
              "Positive    4400\n",
              "Name: Sentiment_label, dtype: int64"
            ]
          },
          "metadata": {},
          "execution_count": 78
        }
      ]
    },
    {
      "cell_type": "code",
      "source": [
        "df_tweets = pd.read_csv(\"/content/ASTD/data/Tweets.txt\", sep=\"\\t\", on_bad_lines='skip', header=None)"
      ],
      "metadata": {
        "id": "7oAiw5-8FRQr"
      },
      "execution_count": 79,
      "outputs": []
    },
    {
      "cell_type": "code",
      "source": [
        "df_tweets"
      ],
      "metadata": {
        "colab": {
          "base_uri": "https://localhost:8080/",
          "height": 423
        },
        "id": "nNCTd7IfGVVy",
        "outputId": "af0b2e00-f141-434f-d7b0-65587cc2f699"
      },
      "execution_count": 80,
      "outputs": [
        {
          "output_type": "execute_result",
          "data": {
            "text/html": [
              "\n",
              "  <div id=\"df-e226f13f-9ce9-40f0-ad01-5c0df41a9b8c\">\n",
              "    <div class=\"colab-df-container\">\n",
              "      <div>\n",
              "<style scoped>\n",
              "    .dataframe tbody tr th:only-of-type {\n",
              "        vertical-align: middle;\n",
              "    }\n",
              "\n",
              "    .dataframe tbody tr th {\n",
              "        vertical-align: top;\n",
              "    }\n",
              "\n",
              "    .dataframe thead th {\n",
              "        text-align: right;\n",
              "    }\n",
              "</style>\n",
              "<table border=\"1\" class=\"dataframe\">\n",
              "  <thead>\n",
              "    <tr style=\"text-align: right;\">\n",
              "      <th></th>\n",
              "      <th>0</th>\n",
              "      <th>1</th>\n",
              "    </tr>\n",
              "  </thead>\n",
              "  <tbody>\n",
              "    <tr>\n",
              "      <th>0</th>\n",
              "      <td>بعد استقالة رئيس #المحكمة_الدستورية ننتظر استق...</td>\n",
              "      <td>OBJ</td>\n",
              "    </tr>\n",
              "    <tr>\n",
              "      <th>1</th>\n",
              "      <td>أهنئ الدكتور أحمد جمال الدين، القيادي بحزب مصر...</td>\n",
              "      <td>POS</td>\n",
              "    </tr>\n",
              "    <tr>\n",
              "      <th>2</th>\n",
              "      <td>البرادعي يستقوى بامريكا مرةاخرى و يرسل عصام ال...</td>\n",
              "      <td>NEG</td>\n",
              "    </tr>\n",
              "    <tr>\n",
              "      <th>3</th>\n",
              "      <td>#الحرية_والعدالة | شاهد الآن: #ليلة_الاتحادية ...</td>\n",
              "      <td>OBJ</td>\n",
              "    </tr>\n",
              "    <tr>\n",
              "      <th>4</th>\n",
              "      <td>الوالدة لو اقولها بخاطري حشيشة تضحك بس من اقول...</td>\n",
              "      <td>NEUTRAL</td>\n",
              "    </tr>\n",
              "    <tr>\n",
              "      <th>...</th>\n",
              "      <td>...</td>\n",
              "      <td>...</td>\n",
              "    </tr>\n",
              "    <tr>\n",
              "      <th>9689</th>\n",
              "      <td>والغاز مش مدعوم يا إنسان؟ وماذا عن الأسمنت وال...</td>\n",
              "      <td>NEG</td>\n",
              "    </tr>\n",
              "    <tr>\n",
              "      <th>9690</th>\n",
              "      <td>اغلاق كل الساحات والميادين الكبرى لمنع صلاة ال...</td>\n",
              "      <td>NEG</td>\n",
              "    </tr>\n",
              "    <tr>\n",
              "      <th>9691</th>\n",
              "      <td>#الشروق \"الداخلية\": 400 ألف مواطن تقدموا لأداء...</td>\n",
              "      <td>OBJ</td>\n",
              "    </tr>\n",
              "    <tr>\n",
              "      <th>9692</th>\n",
              "      <td>#هتحبك_لو صحتها من النوم علشان تقولها بحبك ;)</td>\n",
              "      <td>POS</td>\n",
              "    </tr>\n",
              "    <tr>\n",
              "      <th>9693</th>\n",
              "      <td>كل شى كتبته غلط كل شى حسبته غلط فى #الامتحانات</td>\n",
              "      <td>NEG</td>\n",
              "    </tr>\n",
              "  </tbody>\n",
              "</table>\n",
              "<p>9694 rows × 2 columns</p>\n",
              "</div>\n",
              "      <button class=\"colab-df-convert\" onclick=\"convertToInteractive('df-e226f13f-9ce9-40f0-ad01-5c0df41a9b8c')\"\n",
              "              title=\"Convert this dataframe to an interactive table.\"\n",
              "              style=\"display:none;\">\n",
              "        \n",
              "  <svg xmlns=\"http://www.w3.org/2000/svg\" height=\"24px\"viewBox=\"0 0 24 24\"\n",
              "       width=\"24px\">\n",
              "    <path d=\"M0 0h24v24H0V0z\" fill=\"none\"/>\n",
              "    <path d=\"M18.56 5.44l.94 2.06.94-2.06 2.06-.94-2.06-.94-.94-2.06-.94 2.06-2.06.94zm-11 1L8.5 8.5l.94-2.06 2.06-.94-2.06-.94L8.5 2.5l-.94 2.06-2.06.94zm10 10l.94 2.06.94-2.06 2.06-.94-2.06-.94-.94-2.06-.94 2.06-2.06.94z\"/><path d=\"M17.41 7.96l-1.37-1.37c-.4-.4-.92-.59-1.43-.59-.52 0-1.04.2-1.43.59L10.3 9.45l-7.72 7.72c-.78.78-.78 2.05 0 2.83L4 21.41c.39.39.9.59 1.41.59.51 0 1.02-.2 1.41-.59l7.78-7.78 2.81-2.81c.8-.78.8-2.07 0-2.86zM5.41 20L4 18.59l7.72-7.72 1.47 1.35L5.41 20z\"/>\n",
              "  </svg>\n",
              "      </button>\n",
              "      \n",
              "  <style>\n",
              "    .colab-df-container {\n",
              "      display:flex;\n",
              "      flex-wrap:wrap;\n",
              "      gap: 12px;\n",
              "    }\n",
              "\n",
              "    .colab-df-convert {\n",
              "      background-color: #E8F0FE;\n",
              "      border: none;\n",
              "      border-radius: 50%;\n",
              "      cursor: pointer;\n",
              "      display: none;\n",
              "      fill: #1967D2;\n",
              "      height: 32px;\n",
              "      padding: 0 0 0 0;\n",
              "      width: 32px;\n",
              "    }\n",
              "\n",
              "    .colab-df-convert:hover {\n",
              "      background-color: #E2EBFA;\n",
              "      box-shadow: 0px 1px 2px rgba(60, 64, 67, 0.3), 0px 1px 3px 1px rgba(60, 64, 67, 0.15);\n",
              "      fill: #174EA6;\n",
              "    }\n",
              "\n",
              "    [theme=dark] .colab-df-convert {\n",
              "      background-color: #3B4455;\n",
              "      fill: #D2E3FC;\n",
              "    }\n",
              "\n",
              "    [theme=dark] .colab-df-convert:hover {\n",
              "      background-color: #434B5C;\n",
              "      box-shadow: 0px 1px 3px 1px rgba(0, 0, 0, 0.15);\n",
              "      filter: drop-shadow(0px 1px 2px rgba(0, 0, 0, 0.3));\n",
              "      fill: #FFFFFF;\n",
              "    }\n",
              "  </style>\n",
              "\n",
              "      <script>\n",
              "        const buttonEl =\n",
              "          document.querySelector('#df-e226f13f-9ce9-40f0-ad01-5c0df41a9b8c button.colab-df-convert');\n",
              "        buttonEl.style.display =\n",
              "          google.colab.kernel.accessAllowed ? 'block' : 'none';\n",
              "\n",
              "        async function convertToInteractive(key) {\n",
              "          const element = document.querySelector('#df-e226f13f-9ce9-40f0-ad01-5c0df41a9b8c');\n",
              "          const dataTable =\n",
              "            await google.colab.kernel.invokeFunction('convertToInteractive',\n",
              "                                                     [key], {});\n",
              "          if (!dataTable) return;\n",
              "\n",
              "          const docLinkHtml = 'Like what you see? Visit the ' +\n",
              "            '<a target=\"_blank\" href=https://colab.research.google.com/notebooks/data_table.ipynb>data table notebook</a>'\n",
              "            + ' to learn more about interactive tables.';\n",
              "          element.innerHTML = '';\n",
              "          dataTable['output_type'] = 'display_data';\n",
              "          await google.colab.output.renderOutput(dataTable, element);\n",
              "          const docLink = document.createElement('div');\n",
              "          docLink.innerHTML = docLinkHtml;\n",
              "          element.appendChild(docLink);\n",
              "        }\n",
              "      </script>\n",
              "    </div>\n",
              "  </div>\n",
              "  "
            ],
            "text/plain": [
              "                                                      0        1\n",
              "0     بعد استقالة رئيس #المحكمة_الدستورية ننتظر استق...      OBJ\n",
              "1     أهنئ الدكتور أحمد جمال الدين، القيادي بحزب مصر...      POS\n",
              "2     البرادعي يستقوى بامريكا مرةاخرى و يرسل عصام ال...      NEG\n",
              "3     #الحرية_والعدالة | شاهد الآن: #ليلة_الاتحادية ...      OBJ\n",
              "4     الوالدة لو اقولها بخاطري حشيشة تضحك بس من اقول...  NEUTRAL\n",
              "...                                                 ...      ...\n",
              "9689  والغاز مش مدعوم يا إنسان؟ وماذا عن الأسمنت وال...      NEG\n",
              "9690  اغلاق كل الساحات والميادين الكبرى لمنع صلاة ال...      NEG\n",
              "9691  #الشروق \"الداخلية\": 400 ألف مواطن تقدموا لأداء...      OBJ\n",
              "9692      #هتحبك_لو صحتها من النوم علشان تقولها بحبك ;)      POS\n",
              "9693     كل شى كتبته غلط كل شى حسبته غلط فى #الامتحانات      NEG\n",
              "\n",
              "[9694 rows x 2 columns]"
            ]
          },
          "metadata": {},
          "execution_count": 80
        }
      ]
    },
    {
      "cell_type": "code",
      "source": [
        "#dropping OBJ label\n",
        "df_tweets.drop(df_tweets[df_tweets[1] == 'OBJ'].index, inplace=True)"
      ],
      "metadata": {
        "id": "nOq3WaZ3QClf"
      },
      "execution_count": 81,
      "outputs": []
    },
    {
      "cell_type": "code",
      "source": [
        "df_tweets[1].value_counts()"
      ],
      "metadata": {
        "colab": {
          "base_uri": "https://localhost:8080/"
        },
        "id": "jWarKT66Gf-K",
        "outputId": "eddfee2f-556d-4844-fb28-68e046921a7e"
      },
      "execution_count": 82,
      "outputs": [
        {
          "output_type": "execute_result",
          "data": {
            "text/plain": [
              "NEG        1642\n",
              "NEUTRAL     805\n",
              "POS         777\n",
              "Name: 1, dtype: int64"
            ]
          },
          "metadata": {},
          "execution_count": 82
        }
      ]
    },
    {
      "cell_type": "code",
      "source": [
        "#changing labels name\n",
        "cols = [\"tweet\", \"class\"]\n",
        "df_tweets.columns = cols\n",
        "df_ArSAS.columns = cols"
      ],
      "metadata": {
        "id": "ztxTLMXAQNLv"
      },
      "execution_count": 83,
      "outputs": []
    },
    {
      "cell_type": "code",
      "source": [
        "df_ArSAS"
      ],
      "metadata": {
        "colab": {
          "base_uri": "https://localhost:8080/",
          "height": 423
        },
        "id": "A2jHQQKCS-6A",
        "outputId": "cc5209a7-4a7e-4843-be21-beb497583046"
      },
      "execution_count": 84,
      "outputs": [
        {
          "output_type": "execute_result",
          "data": {
            "text/html": [
              "\n",
              "  <div id=\"df-822d3cff-0767-4934-99ba-cf907e57486f\">\n",
              "    <div class=\"colab-df-container\">\n",
              "      <div>\n",
              "<style scoped>\n",
              "    .dataframe tbody tr th:only-of-type {\n",
              "        vertical-align: middle;\n",
              "    }\n",
              "\n",
              "    .dataframe tbody tr th {\n",
              "        vertical-align: top;\n",
              "    }\n",
              "\n",
              "    .dataframe thead th {\n",
              "        text-align: right;\n",
              "    }\n",
              "</style>\n",
              "<table border=\"1\" class=\"dataframe\">\n",
              "  <thead>\n",
              "    <tr style=\"text-align: right;\">\n",
              "      <th></th>\n",
              "      <th>tweet</th>\n",
              "      <th>class</th>\n",
              "    </tr>\n",
              "  </thead>\n",
              "  <tbody>\n",
              "    <tr>\n",
              "      <th>0</th>\n",
              "      <td>المباراة القـادمة #غانا x #مصر الجولة الأخيرة ...</td>\n",
              "      <td>Positive</td>\n",
              "    </tr>\n",
              "    <tr>\n",
              "      <th>1</th>\n",
              "      <td>هل هذه هي سياسة خارجيه لدوله تحترم نفسها والآخ...</td>\n",
              "      <td>Negative</td>\n",
              "    </tr>\n",
              "    <tr>\n",
              "      <th>2</th>\n",
              "      <td>وزير خارجية فرنسا عن منتدى شباب العالم: شعرت ب...</td>\n",
              "      <td>Positive</td>\n",
              "    </tr>\n",
              "    <tr>\n",
              "      <th>3</th>\n",
              "      <td>ومع السيسي و بشار و ايران و بن زايد و والا خلي...</td>\n",
              "      <td>Negative</td>\n",
              "    </tr>\n",
              "    <tr>\n",
              "      <th>4</th>\n",
              "      <td>أهداف مباراة غانا 0 مصر 1 تصفيات كأس العالم 20...</td>\n",
              "      <td>Neutral</td>\n",
              "    </tr>\n",
              "    <tr>\n",
              "      <th>...</th>\n",
              "      <td>...</td>\n",
              "      <td>...</td>\n",
              "    </tr>\n",
              "    <tr>\n",
              "      <th>19892</th>\n",
              "      <td>ملخص مباراة نيجيريا vs الجزائر تصفيات كأس 🏆 ال...</td>\n",
              "      <td>Neutral</td>\n",
              "    </tr>\n",
              "    <tr>\n",
              "      <th>19893</th>\n",
              "      <td>ايطاليا في السان سيرو لعبت 42 مباراة 🇮🇹 31 فوز...</td>\n",
              "      <td>Positive</td>\n",
              "    </tr>\n",
              "    <tr>\n",
              "      <th>19894</th>\n",
              "      <td>المُلحق المؤهل لكأس العالم 🇪🇺أوروبا🇪🇺 مباراة ا...</td>\n",
              "      <td>Neutral</td>\n",
              "    </tr>\n",
              "    <tr>\n",
              "      <th>19895</th>\n",
              "      <td>رسائل وتوصيات منتدى شباب العالم .. د. عبدالله ...</td>\n",
              "      <td>Neutral</td>\n",
              "    </tr>\n",
              "    <tr>\n",
              "      <th>19896</th>\n",
              "      <td>لماذا الحكومات لم تحاسبهم؟ ربما تحريضهم للشباب...</td>\n",
              "      <td>Negative</td>\n",
              "    </tr>\n",
              "  </tbody>\n",
              "</table>\n",
              "<p>18678 rows × 2 columns</p>\n",
              "</div>\n",
              "      <button class=\"colab-df-convert\" onclick=\"convertToInteractive('df-822d3cff-0767-4934-99ba-cf907e57486f')\"\n",
              "              title=\"Convert this dataframe to an interactive table.\"\n",
              "              style=\"display:none;\">\n",
              "        \n",
              "  <svg xmlns=\"http://www.w3.org/2000/svg\" height=\"24px\"viewBox=\"0 0 24 24\"\n",
              "       width=\"24px\">\n",
              "    <path d=\"M0 0h24v24H0V0z\" fill=\"none\"/>\n",
              "    <path d=\"M18.56 5.44l.94 2.06.94-2.06 2.06-.94-2.06-.94-.94-2.06-.94 2.06-2.06.94zm-11 1L8.5 8.5l.94-2.06 2.06-.94-2.06-.94L8.5 2.5l-.94 2.06-2.06.94zm10 10l.94 2.06.94-2.06 2.06-.94-2.06-.94-.94-2.06-.94 2.06-2.06.94z\"/><path d=\"M17.41 7.96l-1.37-1.37c-.4-.4-.92-.59-1.43-.59-.52 0-1.04.2-1.43.59L10.3 9.45l-7.72 7.72c-.78.78-.78 2.05 0 2.83L4 21.41c.39.39.9.59 1.41.59.51 0 1.02-.2 1.41-.59l7.78-7.78 2.81-2.81c.8-.78.8-2.07 0-2.86zM5.41 20L4 18.59l7.72-7.72 1.47 1.35L5.41 20z\"/>\n",
              "  </svg>\n",
              "      </button>\n",
              "      \n",
              "  <style>\n",
              "    .colab-df-container {\n",
              "      display:flex;\n",
              "      flex-wrap:wrap;\n",
              "      gap: 12px;\n",
              "    }\n",
              "\n",
              "    .colab-df-convert {\n",
              "      background-color: #E8F0FE;\n",
              "      border: none;\n",
              "      border-radius: 50%;\n",
              "      cursor: pointer;\n",
              "      display: none;\n",
              "      fill: #1967D2;\n",
              "      height: 32px;\n",
              "      padding: 0 0 0 0;\n",
              "      width: 32px;\n",
              "    }\n",
              "\n",
              "    .colab-df-convert:hover {\n",
              "      background-color: #E2EBFA;\n",
              "      box-shadow: 0px 1px 2px rgba(60, 64, 67, 0.3), 0px 1px 3px 1px rgba(60, 64, 67, 0.15);\n",
              "      fill: #174EA6;\n",
              "    }\n",
              "\n",
              "    [theme=dark] .colab-df-convert {\n",
              "      background-color: #3B4455;\n",
              "      fill: #D2E3FC;\n",
              "    }\n",
              "\n",
              "    [theme=dark] .colab-df-convert:hover {\n",
              "      background-color: #434B5C;\n",
              "      box-shadow: 0px 1px 3px 1px rgba(0, 0, 0, 0.15);\n",
              "      filter: drop-shadow(0px 1px 2px rgba(0, 0, 0, 0.3));\n",
              "      fill: #FFFFFF;\n",
              "    }\n",
              "  </style>\n",
              "\n",
              "      <script>\n",
              "        const buttonEl =\n",
              "          document.querySelector('#df-822d3cff-0767-4934-99ba-cf907e57486f button.colab-df-convert');\n",
              "        buttonEl.style.display =\n",
              "          google.colab.kernel.accessAllowed ? 'block' : 'none';\n",
              "\n",
              "        async function convertToInteractive(key) {\n",
              "          const element = document.querySelector('#df-822d3cff-0767-4934-99ba-cf907e57486f');\n",
              "          const dataTable =\n",
              "            await google.colab.kernel.invokeFunction('convertToInteractive',\n",
              "                                                     [key], {});\n",
              "          if (!dataTable) return;\n",
              "\n",
              "          const docLinkHtml = 'Like what you see? Visit the ' +\n",
              "            '<a target=\"_blank\" href=https://colab.research.google.com/notebooks/data_table.ipynb>data table notebook</a>'\n",
              "            + ' to learn more about interactive tables.';\n",
              "          element.innerHTML = '';\n",
              "          dataTable['output_type'] = 'display_data';\n",
              "          await google.colab.output.renderOutput(dataTable, element);\n",
              "          const docLink = document.createElement('div');\n",
              "          docLink.innerHTML = docLinkHtml;\n",
              "          element.appendChild(docLink);\n",
              "        }\n",
              "      </script>\n",
              "    </div>\n",
              "  </div>\n",
              "  "
            ],
            "text/plain": [
              "                                                   tweet     class\n",
              "0      المباراة القـادمة #غانا x #مصر الجولة الأخيرة ...  Positive\n",
              "1      هل هذه هي سياسة خارجيه لدوله تحترم نفسها والآخ...  Negative\n",
              "2      وزير خارجية فرنسا عن منتدى شباب العالم: شعرت ب...  Positive\n",
              "3      ومع السيسي و بشار و ايران و بن زايد و والا خلي...  Negative\n",
              "4      أهداف مباراة غانا 0 مصر 1 تصفيات كأس العالم 20...   Neutral\n",
              "...                                                  ...       ...\n",
              "19892  ملخص مباراة نيجيريا vs الجزائر تصفيات كأس 🏆 ال...   Neutral\n",
              "19893  ايطاليا في السان سيرو لعبت 42 مباراة 🇮🇹 31 فوز...  Positive\n",
              "19894  المُلحق المؤهل لكأس العالم 🇪🇺أوروبا🇪🇺 مباراة ا...   Neutral\n",
              "19895  رسائل وتوصيات منتدى شباب العالم .. د. عبدالله ...   Neutral\n",
              "19896  لماذا الحكومات لم تحاسبهم؟ ربما تحريضهم للشباب...  Negative\n",
              "\n",
              "[18678 rows x 2 columns]"
            ]
          },
          "metadata": {},
          "execution_count": 84
        }
      ]
    },
    {
      "cell_type": "code",
      "source": [
        "#unifying the labels\n",
        "values_ArSAS = {'Negative' : 'neg', 'Positive' : 'pos', 'Neutral' : 'neu'}\n",
        "values_tweets = {'NEG' : 'neg', 'POS' : 'pos', 'NEUTRAL' : 'neu'}"
      ],
      "metadata": {
        "id": "m7eS9r0KT_OA"
      },
      "execution_count": 85,
      "outputs": []
    },
    {
      "cell_type": "code",
      "source": [
        "df_tweets[\"class\"] = df_tweets[\"class\"].map(values_tweets)\n",
        "df_ArSAS[\"class\"] = df_ArSAS[\"class\"].map(values_ArSAS)"
      ],
      "metadata": {
        "id": "uBiMWjUlRXVG"
      },
      "execution_count": 86,
      "outputs": []
    },
    {
      "cell_type": "code",
      "source": [
        "df_tweets"
      ],
      "metadata": {
        "colab": {
          "base_uri": "https://localhost:8080/",
          "height": 423
        },
        "id": "N2fNuN8VTWlu",
        "outputId": "060ff01c-e17b-40b5-c1d6-6cec99c8e151"
      },
      "execution_count": 87,
      "outputs": [
        {
          "output_type": "execute_result",
          "data": {
            "text/html": [
              "\n",
              "  <div id=\"df-a38c2fab-f419-43ee-a423-d5c4944f8ec4\">\n",
              "    <div class=\"colab-df-container\">\n",
              "      <div>\n",
              "<style scoped>\n",
              "    .dataframe tbody tr th:only-of-type {\n",
              "        vertical-align: middle;\n",
              "    }\n",
              "\n",
              "    .dataframe tbody tr th {\n",
              "        vertical-align: top;\n",
              "    }\n",
              "\n",
              "    .dataframe thead th {\n",
              "        text-align: right;\n",
              "    }\n",
              "</style>\n",
              "<table border=\"1\" class=\"dataframe\">\n",
              "  <thead>\n",
              "    <tr style=\"text-align: right;\">\n",
              "      <th></th>\n",
              "      <th>tweet</th>\n",
              "      <th>class</th>\n",
              "    </tr>\n",
              "  </thead>\n",
              "  <tbody>\n",
              "    <tr>\n",
              "      <th>1</th>\n",
              "      <td>أهنئ الدكتور أحمد جمال الدين، القيادي بحزب مصر...</td>\n",
              "      <td>pos</td>\n",
              "    </tr>\n",
              "    <tr>\n",
              "      <th>2</th>\n",
              "      <td>البرادعي يستقوى بامريكا مرةاخرى و يرسل عصام ال...</td>\n",
              "      <td>neg</td>\n",
              "    </tr>\n",
              "    <tr>\n",
              "      <th>4</th>\n",
              "      <td>الوالدة لو اقولها بخاطري حشيشة تضحك بس من اقول...</td>\n",
              "      <td>neu</td>\n",
              "    </tr>\n",
              "    <tr>\n",
              "      <th>5</th>\n",
              "      <td>#انتخبوا_العرص #انتخبوا_البرص #مرسى_رئيسى #اين...</td>\n",
              "      <td>neu</td>\n",
              "    </tr>\n",
              "    <tr>\n",
              "      <th>6</th>\n",
              "      <td>امير عيد هو اللي فعلا يتقال عليه ستريكر صريح #...</td>\n",
              "      <td>pos</td>\n",
              "    </tr>\n",
              "    <tr>\n",
              "      <th>...</th>\n",
              "      <td>...</td>\n",
              "      <td>...</td>\n",
              "    </tr>\n",
              "    <tr>\n",
              "      <th>9688</th>\n",
              "      <td>مرسى لم يعد رئيسًا لخروجه على الشرعية وقراراته...</td>\n",
              "      <td>neg</td>\n",
              "    </tr>\n",
              "    <tr>\n",
              "      <th>9689</th>\n",
              "      <td>والغاز مش مدعوم يا إنسان؟ وماذا عن الأسمنت وال...</td>\n",
              "      <td>neg</td>\n",
              "    </tr>\n",
              "    <tr>\n",
              "      <th>9690</th>\n",
              "      <td>اغلاق كل الساحات والميادين الكبرى لمنع صلاة ال...</td>\n",
              "      <td>neg</td>\n",
              "    </tr>\n",
              "    <tr>\n",
              "      <th>9692</th>\n",
              "      <td>#هتحبك_لو صحتها من النوم علشان تقولها بحبك ;)</td>\n",
              "      <td>pos</td>\n",
              "    </tr>\n",
              "    <tr>\n",
              "      <th>9693</th>\n",
              "      <td>كل شى كتبته غلط كل شى حسبته غلط فى #الامتحانات</td>\n",
              "      <td>neg</td>\n",
              "    </tr>\n",
              "  </tbody>\n",
              "</table>\n",
              "<p>3224 rows × 2 columns</p>\n",
              "</div>\n",
              "      <button class=\"colab-df-convert\" onclick=\"convertToInteractive('df-a38c2fab-f419-43ee-a423-d5c4944f8ec4')\"\n",
              "              title=\"Convert this dataframe to an interactive table.\"\n",
              "              style=\"display:none;\">\n",
              "        \n",
              "  <svg xmlns=\"http://www.w3.org/2000/svg\" height=\"24px\"viewBox=\"0 0 24 24\"\n",
              "       width=\"24px\">\n",
              "    <path d=\"M0 0h24v24H0V0z\" fill=\"none\"/>\n",
              "    <path d=\"M18.56 5.44l.94 2.06.94-2.06 2.06-.94-2.06-.94-.94-2.06-.94 2.06-2.06.94zm-11 1L8.5 8.5l.94-2.06 2.06-.94-2.06-.94L8.5 2.5l-.94 2.06-2.06.94zm10 10l.94 2.06.94-2.06 2.06-.94-2.06-.94-.94-2.06-.94 2.06-2.06.94z\"/><path d=\"M17.41 7.96l-1.37-1.37c-.4-.4-.92-.59-1.43-.59-.52 0-1.04.2-1.43.59L10.3 9.45l-7.72 7.72c-.78.78-.78 2.05 0 2.83L4 21.41c.39.39.9.59 1.41.59.51 0 1.02-.2 1.41-.59l7.78-7.78 2.81-2.81c.8-.78.8-2.07 0-2.86zM5.41 20L4 18.59l7.72-7.72 1.47 1.35L5.41 20z\"/>\n",
              "  </svg>\n",
              "      </button>\n",
              "      \n",
              "  <style>\n",
              "    .colab-df-container {\n",
              "      display:flex;\n",
              "      flex-wrap:wrap;\n",
              "      gap: 12px;\n",
              "    }\n",
              "\n",
              "    .colab-df-convert {\n",
              "      background-color: #E8F0FE;\n",
              "      border: none;\n",
              "      border-radius: 50%;\n",
              "      cursor: pointer;\n",
              "      display: none;\n",
              "      fill: #1967D2;\n",
              "      height: 32px;\n",
              "      padding: 0 0 0 0;\n",
              "      width: 32px;\n",
              "    }\n",
              "\n",
              "    .colab-df-convert:hover {\n",
              "      background-color: #E2EBFA;\n",
              "      box-shadow: 0px 1px 2px rgba(60, 64, 67, 0.3), 0px 1px 3px 1px rgba(60, 64, 67, 0.15);\n",
              "      fill: #174EA6;\n",
              "    }\n",
              "\n",
              "    [theme=dark] .colab-df-convert {\n",
              "      background-color: #3B4455;\n",
              "      fill: #D2E3FC;\n",
              "    }\n",
              "\n",
              "    [theme=dark] .colab-df-convert:hover {\n",
              "      background-color: #434B5C;\n",
              "      box-shadow: 0px 1px 3px 1px rgba(0, 0, 0, 0.15);\n",
              "      filter: drop-shadow(0px 1px 2px rgba(0, 0, 0, 0.3));\n",
              "      fill: #FFFFFF;\n",
              "    }\n",
              "  </style>\n",
              "\n",
              "      <script>\n",
              "        const buttonEl =\n",
              "          document.querySelector('#df-a38c2fab-f419-43ee-a423-d5c4944f8ec4 button.colab-df-convert');\n",
              "        buttonEl.style.display =\n",
              "          google.colab.kernel.accessAllowed ? 'block' : 'none';\n",
              "\n",
              "        async function convertToInteractive(key) {\n",
              "          const element = document.querySelector('#df-a38c2fab-f419-43ee-a423-d5c4944f8ec4');\n",
              "          const dataTable =\n",
              "            await google.colab.kernel.invokeFunction('convertToInteractive',\n",
              "                                                     [key], {});\n",
              "          if (!dataTable) return;\n",
              "\n",
              "          const docLinkHtml = 'Like what you see? Visit the ' +\n",
              "            '<a target=\"_blank\" href=https://colab.research.google.com/notebooks/data_table.ipynb>data table notebook</a>'\n",
              "            + ' to learn more about interactive tables.';\n",
              "          element.innerHTML = '';\n",
              "          dataTable['output_type'] = 'display_data';\n",
              "          await google.colab.output.renderOutput(dataTable, element);\n",
              "          const docLink = document.createElement('div');\n",
              "          docLink.innerHTML = docLinkHtml;\n",
              "          element.appendChild(docLink);\n",
              "        }\n",
              "      </script>\n",
              "    </div>\n",
              "  </div>\n",
              "  "
            ],
            "text/plain": [
              "                                                  tweet class\n",
              "1     أهنئ الدكتور أحمد جمال الدين، القيادي بحزب مصر...   pos\n",
              "2     البرادعي يستقوى بامريكا مرةاخرى و يرسل عصام ال...   neg\n",
              "4     الوالدة لو اقولها بخاطري حشيشة تضحك بس من اقول...   neu\n",
              "5     #انتخبوا_العرص #انتخبوا_البرص #مرسى_رئيسى #اين...   neu\n",
              "6     امير عيد هو اللي فعلا يتقال عليه ستريكر صريح #...   pos\n",
              "...                                                 ...   ...\n",
              "9688  مرسى لم يعد رئيسًا لخروجه على الشرعية وقراراته...   neg\n",
              "9689  والغاز مش مدعوم يا إنسان؟ وماذا عن الأسمنت وال...   neg\n",
              "9690  اغلاق كل الساحات والميادين الكبرى لمنع صلاة ال...   neg\n",
              "9692      #هتحبك_لو صحتها من النوم علشان تقولها بحبك ;)   pos\n",
              "9693     كل شى كتبته غلط كل شى حسبته غلط فى #الامتحانات   neg\n",
              "\n",
              "[3224 rows x 2 columns]"
            ]
          },
          "metadata": {},
          "execution_count": 87
        }
      ]
    },
    {
      "cell_type": "code",
      "source": [
        "df_ArSAS"
      ],
      "metadata": {
        "colab": {
          "base_uri": "https://localhost:8080/",
          "height": 423
        },
        "id": "CZsfrq29UzE1",
        "outputId": "ee0417b8-9b7e-4fb8-d5a7-3cb373e4f2d3"
      },
      "execution_count": 88,
      "outputs": [
        {
          "output_type": "execute_result",
          "data": {
            "text/html": [
              "\n",
              "  <div id=\"df-91c7b0b9-a421-4990-bfbc-d1f2402f5179\">\n",
              "    <div class=\"colab-df-container\">\n",
              "      <div>\n",
              "<style scoped>\n",
              "    .dataframe tbody tr th:only-of-type {\n",
              "        vertical-align: middle;\n",
              "    }\n",
              "\n",
              "    .dataframe tbody tr th {\n",
              "        vertical-align: top;\n",
              "    }\n",
              "\n",
              "    .dataframe thead th {\n",
              "        text-align: right;\n",
              "    }\n",
              "</style>\n",
              "<table border=\"1\" class=\"dataframe\">\n",
              "  <thead>\n",
              "    <tr style=\"text-align: right;\">\n",
              "      <th></th>\n",
              "      <th>tweet</th>\n",
              "      <th>class</th>\n",
              "    </tr>\n",
              "  </thead>\n",
              "  <tbody>\n",
              "    <tr>\n",
              "      <th>0</th>\n",
              "      <td>المباراة القـادمة #غانا x #مصر الجولة الأخيرة ...</td>\n",
              "      <td>pos</td>\n",
              "    </tr>\n",
              "    <tr>\n",
              "      <th>1</th>\n",
              "      <td>هل هذه هي سياسة خارجيه لدوله تحترم نفسها والآخ...</td>\n",
              "      <td>neg</td>\n",
              "    </tr>\n",
              "    <tr>\n",
              "      <th>2</th>\n",
              "      <td>وزير خارجية فرنسا عن منتدى شباب العالم: شعرت ب...</td>\n",
              "      <td>pos</td>\n",
              "    </tr>\n",
              "    <tr>\n",
              "      <th>3</th>\n",
              "      <td>ومع السيسي و بشار و ايران و بن زايد و والا خلي...</td>\n",
              "      <td>neg</td>\n",
              "    </tr>\n",
              "    <tr>\n",
              "      <th>4</th>\n",
              "      <td>أهداف مباراة غانا 0 مصر 1 تصفيات كأس العالم 20...</td>\n",
              "      <td>neu</td>\n",
              "    </tr>\n",
              "    <tr>\n",
              "      <th>...</th>\n",
              "      <td>...</td>\n",
              "      <td>...</td>\n",
              "    </tr>\n",
              "    <tr>\n",
              "      <th>19892</th>\n",
              "      <td>ملخص مباراة نيجيريا vs الجزائر تصفيات كأس 🏆 ال...</td>\n",
              "      <td>neu</td>\n",
              "    </tr>\n",
              "    <tr>\n",
              "      <th>19893</th>\n",
              "      <td>ايطاليا في السان سيرو لعبت 42 مباراة 🇮🇹 31 فوز...</td>\n",
              "      <td>pos</td>\n",
              "    </tr>\n",
              "    <tr>\n",
              "      <th>19894</th>\n",
              "      <td>المُلحق المؤهل لكأس العالم 🇪🇺أوروبا🇪🇺 مباراة ا...</td>\n",
              "      <td>neu</td>\n",
              "    </tr>\n",
              "    <tr>\n",
              "      <th>19895</th>\n",
              "      <td>رسائل وتوصيات منتدى شباب العالم .. د. عبدالله ...</td>\n",
              "      <td>neu</td>\n",
              "    </tr>\n",
              "    <tr>\n",
              "      <th>19896</th>\n",
              "      <td>لماذا الحكومات لم تحاسبهم؟ ربما تحريضهم للشباب...</td>\n",
              "      <td>neg</td>\n",
              "    </tr>\n",
              "  </tbody>\n",
              "</table>\n",
              "<p>18678 rows × 2 columns</p>\n",
              "</div>\n",
              "      <button class=\"colab-df-convert\" onclick=\"convertToInteractive('df-91c7b0b9-a421-4990-bfbc-d1f2402f5179')\"\n",
              "              title=\"Convert this dataframe to an interactive table.\"\n",
              "              style=\"display:none;\">\n",
              "        \n",
              "  <svg xmlns=\"http://www.w3.org/2000/svg\" height=\"24px\"viewBox=\"0 0 24 24\"\n",
              "       width=\"24px\">\n",
              "    <path d=\"M0 0h24v24H0V0z\" fill=\"none\"/>\n",
              "    <path d=\"M18.56 5.44l.94 2.06.94-2.06 2.06-.94-2.06-.94-.94-2.06-.94 2.06-2.06.94zm-11 1L8.5 8.5l.94-2.06 2.06-.94-2.06-.94L8.5 2.5l-.94 2.06-2.06.94zm10 10l.94 2.06.94-2.06 2.06-.94-2.06-.94-.94-2.06-.94 2.06-2.06.94z\"/><path d=\"M17.41 7.96l-1.37-1.37c-.4-.4-.92-.59-1.43-.59-.52 0-1.04.2-1.43.59L10.3 9.45l-7.72 7.72c-.78.78-.78 2.05 0 2.83L4 21.41c.39.39.9.59 1.41.59.51 0 1.02-.2 1.41-.59l7.78-7.78 2.81-2.81c.8-.78.8-2.07 0-2.86zM5.41 20L4 18.59l7.72-7.72 1.47 1.35L5.41 20z\"/>\n",
              "  </svg>\n",
              "      </button>\n",
              "      \n",
              "  <style>\n",
              "    .colab-df-container {\n",
              "      display:flex;\n",
              "      flex-wrap:wrap;\n",
              "      gap: 12px;\n",
              "    }\n",
              "\n",
              "    .colab-df-convert {\n",
              "      background-color: #E8F0FE;\n",
              "      border: none;\n",
              "      border-radius: 50%;\n",
              "      cursor: pointer;\n",
              "      display: none;\n",
              "      fill: #1967D2;\n",
              "      height: 32px;\n",
              "      padding: 0 0 0 0;\n",
              "      width: 32px;\n",
              "    }\n",
              "\n",
              "    .colab-df-convert:hover {\n",
              "      background-color: #E2EBFA;\n",
              "      box-shadow: 0px 1px 2px rgba(60, 64, 67, 0.3), 0px 1px 3px 1px rgba(60, 64, 67, 0.15);\n",
              "      fill: #174EA6;\n",
              "    }\n",
              "\n",
              "    [theme=dark] .colab-df-convert {\n",
              "      background-color: #3B4455;\n",
              "      fill: #D2E3FC;\n",
              "    }\n",
              "\n",
              "    [theme=dark] .colab-df-convert:hover {\n",
              "      background-color: #434B5C;\n",
              "      box-shadow: 0px 1px 3px 1px rgba(0, 0, 0, 0.15);\n",
              "      filter: drop-shadow(0px 1px 2px rgba(0, 0, 0, 0.3));\n",
              "      fill: #FFFFFF;\n",
              "    }\n",
              "  </style>\n",
              "\n",
              "      <script>\n",
              "        const buttonEl =\n",
              "          document.querySelector('#df-91c7b0b9-a421-4990-bfbc-d1f2402f5179 button.colab-df-convert');\n",
              "        buttonEl.style.display =\n",
              "          google.colab.kernel.accessAllowed ? 'block' : 'none';\n",
              "\n",
              "        async function convertToInteractive(key) {\n",
              "          const element = document.querySelector('#df-91c7b0b9-a421-4990-bfbc-d1f2402f5179');\n",
              "          const dataTable =\n",
              "            await google.colab.kernel.invokeFunction('convertToInteractive',\n",
              "                                                     [key], {});\n",
              "          if (!dataTable) return;\n",
              "\n",
              "          const docLinkHtml = 'Like what you see? Visit the ' +\n",
              "            '<a target=\"_blank\" href=https://colab.research.google.com/notebooks/data_table.ipynb>data table notebook</a>'\n",
              "            + ' to learn more about interactive tables.';\n",
              "          element.innerHTML = '';\n",
              "          dataTable['output_type'] = 'display_data';\n",
              "          await google.colab.output.renderOutput(dataTable, element);\n",
              "          const docLink = document.createElement('div');\n",
              "          docLink.innerHTML = docLinkHtml;\n",
              "          element.appendChild(docLink);\n",
              "        }\n",
              "      </script>\n",
              "    </div>\n",
              "  </div>\n",
              "  "
            ],
            "text/plain": [
              "                                                   tweet class\n",
              "0      المباراة القـادمة #غانا x #مصر الجولة الأخيرة ...   pos\n",
              "1      هل هذه هي سياسة خارجيه لدوله تحترم نفسها والآخ...   neg\n",
              "2      وزير خارجية فرنسا عن منتدى شباب العالم: شعرت ب...   pos\n",
              "3      ومع السيسي و بشار و ايران و بن زايد و والا خلي...   neg\n",
              "4      أهداف مباراة غانا 0 مصر 1 تصفيات كأس العالم 20...   neu\n",
              "...                                                  ...   ...\n",
              "19892  ملخص مباراة نيجيريا vs الجزائر تصفيات كأس 🏆 ال...   neu\n",
              "19893  ايطاليا في السان سيرو لعبت 42 مباراة 🇮🇹 31 فوز...   pos\n",
              "19894  المُلحق المؤهل لكأس العالم 🇪🇺أوروبا🇪🇺 مباراة ا...   neu\n",
              "19895  رسائل وتوصيات منتدى شباب العالم .. د. عبدالله ...   neu\n",
              "19896  لماذا الحكومات لم تحاسبهم؟ ربما تحريضهم للشباب...   neg\n",
              "\n",
              "[18678 rows x 2 columns]"
            ]
          },
          "metadata": {},
          "execution_count": 88
        }
      ]
    },
    {
      "cell_type": "code",
      "source": [
        "df_cy"
      ],
      "metadata": {
        "colab": {
          "base_uri": "https://localhost:8080/",
          "height": 423
        },
        "id": "5k7PptsFZaEm",
        "outputId": "ece5aa4e-35fd-45f7-d1bb-d9c1a69a142d"
      },
      "execution_count": 89,
      "outputs": [
        {
          "output_type": "execute_result",
          "data": {
            "text/html": [
              "\n",
              "  <div id=\"df-d0fed1a7-8f75-4506-9512-35ec98d4e9cd\">\n",
              "    <div class=\"colab-df-container\">\n",
              "      <div>\n",
              "<style scoped>\n",
              "    .dataframe tbody tr th:only-of-type {\n",
              "        vertical-align: middle;\n",
              "    }\n",
              "\n",
              "    .dataframe tbody tr th {\n",
              "        vertical-align: top;\n",
              "    }\n",
              "\n",
              "    .dataframe thead th {\n",
              "        text-align: right;\n",
              "    }\n",
              "</style>\n",
              "<table border=\"1\" class=\"dataframe\">\n",
              "  <thead>\n",
              "    <tr style=\"text-align: right;\">\n",
              "      <th></th>\n",
              "      <th>tweet</th>\n",
              "      <th>class</th>\n",
              "    </tr>\n",
              "  </thead>\n",
              "  <tbody>\n",
              "    <tr>\n",
              "      <th>0</th>\n",
              "      <td>' فينو الاهبل ابن الاهبل '</td>\n",
              "      <td>neg</td>\n",
              "    </tr>\n",
              "    <tr>\n",
              "      <th>1</th>\n",
              "      <td>' على المصرييييين وجمالهم ربنا يحميهم #MinaAtt...</td>\n",
              "      <td>pos</td>\n",
              "    </tr>\n",
              "    <tr>\n",
              "      <th>2</th>\n",
              "      <td>' @Kholoudkewan  دول كتير اوى ودمهم خفيف العما...</td>\n",
              "      <td>pos</td>\n",
              "    </tr>\n",
              "    <tr>\n",
              "      <th>3</th>\n",
              "      <td>' انا بعد كده  خلى اللى يوعنى   بحاجه همضى على...</td>\n",
              "      <td>neg</td>\n",
              "    </tr>\n",
              "    <tr>\n",
              "      <th>4</th>\n",
              "      <td>' انا هنتحر '</td>\n",
              "      <td>neg</td>\n",
              "    </tr>\n",
              "    <tr>\n",
              "      <th>...</th>\n",
              "      <td>...</td>\n",
              "      <td>...</td>\n",
              "    </tr>\n",
              "    <tr>\n",
              "      <th>2741</th>\n",
              "      <td>' @wasfa_N الجمال مبيحتاح اي مكياج لناعم وله خ...</td>\n",
              "      <td>neu</td>\n",
              "    </tr>\n",
              "    <tr>\n",
              "      <th>2742</th>\n",
              "      <td>' @TheMurexDor نتمني وجود الفنانة رنا سماحة اف...</td>\n",
              "      <td>neu</td>\n",
              "    </tr>\n",
              "    <tr>\n",
              "      <th>2743</th>\n",
              "      <td>' ولد الهدى فالكائنات ضياء .. وفم الزمان تبسم ...</td>\n",
              "      <td>pos</td>\n",
              "    </tr>\n",
              "    <tr>\n",
              "      <th>2744</th>\n",
              "      <td>' @mohamed71944156 @samarroshdy1 انت متناقض جد...</td>\n",
              "      <td>neg</td>\n",
              "    </tr>\n",
              "    <tr>\n",
              "      <th>2745</th>\n",
              "      <td>' منطقة السيدة زينب ليلة المولد @ مسجد السيدة ...</td>\n",
              "      <td>neu</td>\n",
              "    </tr>\n",
              "  </tbody>\n",
              "</table>\n",
              "<p>2746 rows × 2 columns</p>\n",
              "</div>\n",
              "      <button class=\"colab-df-convert\" onclick=\"convertToInteractive('df-d0fed1a7-8f75-4506-9512-35ec98d4e9cd')\"\n",
              "              title=\"Convert this dataframe to an interactive table.\"\n",
              "              style=\"display:none;\">\n",
              "        \n",
              "  <svg xmlns=\"http://www.w3.org/2000/svg\" height=\"24px\"viewBox=\"0 0 24 24\"\n",
              "       width=\"24px\">\n",
              "    <path d=\"M0 0h24v24H0V0z\" fill=\"none\"/>\n",
              "    <path d=\"M18.56 5.44l.94 2.06.94-2.06 2.06-.94-2.06-.94-.94-2.06-.94 2.06-2.06.94zm-11 1L8.5 8.5l.94-2.06 2.06-.94-2.06-.94L8.5 2.5l-.94 2.06-2.06.94zm10 10l.94 2.06.94-2.06 2.06-.94-2.06-.94-.94-2.06-.94 2.06-2.06.94z\"/><path d=\"M17.41 7.96l-1.37-1.37c-.4-.4-.92-.59-1.43-.59-.52 0-1.04.2-1.43.59L10.3 9.45l-7.72 7.72c-.78.78-.78 2.05 0 2.83L4 21.41c.39.39.9.59 1.41.59.51 0 1.02-.2 1.41-.59l7.78-7.78 2.81-2.81c.8-.78.8-2.07 0-2.86zM5.41 20L4 18.59l7.72-7.72 1.47 1.35L5.41 20z\"/>\n",
              "  </svg>\n",
              "      </button>\n",
              "      \n",
              "  <style>\n",
              "    .colab-df-container {\n",
              "      display:flex;\n",
              "      flex-wrap:wrap;\n",
              "      gap: 12px;\n",
              "    }\n",
              "\n",
              "    .colab-df-convert {\n",
              "      background-color: #E8F0FE;\n",
              "      border: none;\n",
              "      border-radius: 50%;\n",
              "      cursor: pointer;\n",
              "      display: none;\n",
              "      fill: #1967D2;\n",
              "      height: 32px;\n",
              "      padding: 0 0 0 0;\n",
              "      width: 32px;\n",
              "    }\n",
              "\n",
              "    .colab-df-convert:hover {\n",
              "      background-color: #E2EBFA;\n",
              "      box-shadow: 0px 1px 2px rgba(60, 64, 67, 0.3), 0px 1px 3px 1px rgba(60, 64, 67, 0.15);\n",
              "      fill: #174EA6;\n",
              "    }\n",
              "\n",
              "    [theme=dark] .colab-df-convert {\n",
              "      background-color: #3B4455;\n",
              "      fill: #D2E3FC;\n",
              "    }\n",
              "\n",
              "    [theme=dark] .colab-df-convert:hover {\n",
              "      background-color: #434B5C;\n",
              "      box-shadow: 0px 1px 3px 1px rgba(0, 0, 0, 0.15);\n",
              "      filter: drop-shadow(0px 1px 2px rgba(0, 0, 0, 0.3));\n",
              "      fill: #FFFFFF;\n",
              "    }\n",
              "  </style>\n",
              "\n",
              "      <script>\n",
              "        const buttonEl =\n",
              "          document.querySelector('#df-d0fed1a7-8f75-4506-9512-35ec98d4e9cd button.colab-df-convert');\n",
              "        buttonEl.style.display =\n",
              "          google.colab.kernel.accessAllowed ? 'block' : 'none';\n",
              "\n",
              "        async function convertToInteractive(key) {\n",
              "          const element = document.querySelector('#df-d0fed1a7-8f75-4506-9512-35ec98d4e9cd');\n",
              "          const dataTable =\n",
              "            await google.colab.kernel.invokeFunction('convertToInteractive',\n",
              "                                                     [key], {});\n",
              "          if (!dataTable) return;\n",
              "\n",
              "          const docLinkHtml = 'Like what you see? Visit the ' +\n",
              "            '<a target=\"_blank\" href=https://colab.research.google.com/notebooks/data_table.ipynb>data table notebook</a>'\n",
              "            + ' to learn more about interactive tables.';\n",
              "          element.innerHTML = '';\n",
              "          dataTable['output_type'] = 'display_data';\n",
              "          await google.colab.output.renderOutput(dataTable, element);\n",
              "          const docLink = document.createElement('div');\n",
              "          docLink.innerHTML = docLinkHtml;\n",
              "          element.appendChild(docLink);\n",
              "        }\n",
              "      </script>\n",
              "    </div>\n",
              "  </div>\n",
              "  "
            ],
            "text/plain": [
              "                                                  tweet class\n",
              "0                            ' فينو الاهبل ابن الاهبل '   neg\n",
              "1     ' على المصرييييين وجمالهم ربنا يحميهم #MinaAtt...   pos\n",
              "2     ' @Kholoudkewan  دول كتير اوى ودمهم خفيف العما...   pos\n",
              "3     ' انا بعد كده  خلى اللى يوعنى   بحاجه همضى على...   neg\n",
              "4                                         ' انا هنتحر '   neg\n",
              "...                                                 ...   ...\n",
              "2741  ' @wasfa_N الجمال مبيحتاح اي مكياج لناعم وله خ...   neu\n",
              "2742  ' @TheMurexDor نتمني وجود الفنانة رنا سماحة اف...   neu\n",
              "2743  ' ولد الهدى فالكائنات ضياء .. وفم الزمان تبسم ...   pos\n",
              "2744  ' @mohamed71944156 @samarroshdy1 انت متناقض جد...   neg\n",
              "2745  ' منطقة السيدة زينب ليلة المولد @ مسجد السيدة ...   neu\n",
              "\n",
              "[2746 rows x 2 columns]"
            ]
          },
          "metadata": {},
          "execution_count": 89
        }
      ]
    },
    {
      "cell_type": "code",
      "source": [
        "df_cy, test = train_test_split(df_cy, test_size=0.3)"
      ],
      "metadata": {
        "id": "wF-DNtZlZdXV"
      },
      "execution_count": 90,
      "outputs": []
    },
    {
      "cell_type": "code",
      "source": [
        "train = pd.concat([df_cy,df_ArSAS, df_tweets], ignore_index=True)"
      ],
      "metadata": {
        "id": "RcrbZt40ZFTF"
      },
      "execution_count": 91,
      "outputs": []
    },
    {
      "cell_type": "code",
      "source": [
        "train['class'].value_counts()"
      ],
      "metadata": {
        "colab": {
          "base_uri": "https://localhost:8080/"
        },
        "id": "nEGLSe4zZRAt",
        "outputId": "b7f52a08-024e-46d2-aefd-79ad836e4e36"
      },
      "execution_count": 92,
      "outputs": [
        {
          "output_type": "execute_result",
          "data": {
            "text/plain": [
              "neg    9705\n",
              "neu    8215\n",
              "pos    5904\n",
              "Name: class, dtype: int64"
            ]
          },
          "metadata": {},
          "execution_count": 92
        }
      ]
    },
    {
      "cell_type": "code",
      "source": [
        "train['tweet'] = train['tweet'].apply(lambda x:   data_cleaning(x))\n",
        "\n",
        "train.columns = ['tweet','class']\n",
        "\n",
        "train['tweet'].head(20)"
      ],
      "metadata": {
        "colab": {
          "base_uri": "https://localhost:8080/"
        },
        "id": "tyCot4bCR_5D",
        "outputId": "05a6a3b7-67b7-40f9-e4c4-9b07f7a2e3fc"
      },
      "execution_count": 93,
      "outputs": [
        {
          "output_type": "stream",
          "name": "stderr",
          "text": [
            "/usr/local/lib/python3.7/dist-packages/ipykernel_launcher.py:19: DeprecationWarning: 'emoji.get_emoji_regexp()' is deprecated and will be removed in version 2.0.0. If you want to remove emoji from a string, consider the method emoji.replace_emoji(str, replace='').\n",
            "To hide this warning, pin/downgrade the package to 'emoji~=1.6.3'\n"
          ]
        },
        {
          "output_type": "execute_result",
          "data": {
            "text/plain": [
              "0     كاظم الساهر ﻓﺎﻛﻬﺔ ﺍﻟﺤﺐ ﺳﻴﺪﺗﻲﻛﻨﺖ ﺃﻫﻢ ﺍﻣﺮﺃﺓ ﻓﻲ ﺗ...\n",
              "1     همسكهم الاتنين اخبطهم حيطة نبدا نضيف همس اتن ا...\n",
              "2     الهم اشرح صدورنا بالقرءان الهم نور قبورنا بالق...\n",
              "3     الصراحه انا مش عارفه اتعاطف معاها هى دلعها انا...\n",
              "4                     اريد عمل اناسايق اريد عمل اناسايق\n",
              "5     اومال ضاكتورة ايه بقى حسرة مسم اومال ضاكتور اي...\n",
              "6     فحق الشرط لتستحق الوعد تنال المكافاة فحق شرط ل...\n",
              "7     اليلو دراجونز حضروا ماتش الاسماعيلة النهارده ؟...\n",
              "8                              اهم شي الطاعة اهم شء طاع\n",
              "9     متشعلق بضوافري اترك ايتها المعشوقة مزيكتي متشع...\n",
              "10    ربنا ينتقم ظالم معتقلي الاتحادية ربنا ينتقم ظا...\n",
              "11    انك تبلغ الدين شييا توقر الخلايق تحتقر احدا فا...\n",
              "12    عاملين ايه ياحلوين واحشني الصبح عندي امتحان بق...\n",
              "13                  الناس ام دم خفيف ♥ ناس ام دم خفيف ♥\n",
              "14    اة دة هدفك يعني القصة انك تعملي فتنة صح متخافي...\n",
              "15    شكرا اله لانك تقبلني بكل سويي وزلاتي تقصيري لا...\n",
              "16    ليها اسبابها ليا اسبابى لقدر اسباب نفسى اكمل ا...\n",
              "17                اهدنا الصراط المستقيم اهد صراط مستقيم\n",
              "18        مينا معاها ؟ شيرين يحيى مينا معا ؟ شيرين يحيي\n",
              "19    جمال حظي اني عرفتك ربي يسعد مساك جمال حظ ان عر...\n",
              "20    يسولي حسابي كيك ماسنجر بليز ناطره يسول حساب كي...\n",
              "21    ♥ ليله شتاء بجانبك احلم بيه الان ♥ ♥ ♥ ليل شتا...\n",
              "22    جماعة واله كبرنا الكلام السياسة جماع وال كبر ع...\n",
              "23    قال انا يوسف وهذا اخي اله علينا انه يتق ويصبر ...\n",
              "24                                     الخير جاي خير جا\n",
              "25    اه بلد الزبيرة واخدينها عوم والمنايك راكبين فل...\n",
              "26                 ابغى زياده لمتابعين ابغي زياد لمتابع\n",
              "27    انت برة غزة دحشك الضيعة الضايعة انت برة غزة دح...\n",
              "28    ﺍﻷ‌ﺷﻴﺎﺀ ﺍﻟﻤﺴﺘﻮﺩﻋﺔ ﻟﺮﺏ ﺍﻟﺴﻤﺎﺀ ، ﻻ‌ ﺗﺒﺘﺮ ﺃﺑﺪﺍ ” ...\n",
              "29    اسرار قلبي تكتم يفهموها الناس اسرار قلب تكتم ي...\n",
              "30    صحى تيليفونها مردش عليها كانت دموعه منعاه عشان...\n",
              "31                  حاضر دا انتي تامري حاضر دا انت تامر\n",
              "32    صاحب مصالح جارح مايسديش يشيل الازمة يجي الوقت ...\n",
              "33    اميلك اية الفيس بوك ياكابتن وانت حاليا بتلعب ف...\n",
              "34    يابنى انت وهوه خدوا بالكم فرق الاقتصاد القبلى ...\n",
              "35    اه واله بكره كده اوى بنات منفسنه اكرهينى متعمل...\n",
              "36    الهم اغسل قلوبنا اوجاعها ؛ وارزقنا فيض كرمك سع...\n",
              "37    انا فضلت متمسمره لدرجة دى انا مبحسش اساله طلعت...\n",
              "38    ظهر مومن بيشيش فى احدى كافيهات المهندسين ظهر م...\n",
              "39    الف مركبة مصفحة لقتال داعش الف مركب مصفح لقتال...\n",
              "40    الاخ الاهطل والاخت العبيطة الى بتقول الزمالكاو...\n",
              "41                             يسعدك ياغالى يسعد ياغالي\n",
              "42    بنهديك هالفيديو بمناسبة عيد ميﻻدك نهد هالفيد م...\n",
              "43                              حفظ اله ريس حفظ اله ريس\n",
              "44    وانتي طيبة دا حاجات كتير اتحقت الدعاء بحمد ربن...\n",
              "45    بكره البنات الى بتكلم زى الولاد عامله نفسها عب...\n",
              "46    ﻻ تنسون صلاة الفجر تصبحون خير مباركة ♡ تنسون ص...\n",
              "47                                  احا مين ؟ احا مين ؟\n",
              "48    اموت تحزنوا فانه مجرد وقت وتنسوني ، نسيتوني وا...\n",
              "49    احساس انك مش عارف تبعد ومش عارف تقرب دا احساس ...\n",
              "Name: tweet, dtype: object"
            ]
          },
          "metadata": {},
          "execution_count": 93
        }
      ]
    },
    {
      "cell_type": "code",
      "source": [
        "train['tweet']"
      ],
      "metadata": {
        "colab": {
          "base_uri": "https://localhost:8080/"
        },
        "id": "UeJo8Y6TR_1J",
        "outputId": "e32a4cf4-fb89-4b89-cac0-51ec4d70323c"
      },
      "execution_count": 94,
      "outputs": [
        {
          "output_type": "execute_result",
          "data": {
            "text/plain": [
              "0        كاظم الساهر ﻓﺎﻛﻬﺔ ﺍﻟﺤﺐ ﺳﻴﺪﺗﻲﻛﻨﺖ ﺃﻫﻢ ﺍﻣﺮﺃﺓ ﻓﻲ ﺗ...\n",
              "1        همسكهم الاتنين اخبطهم حيطة نبدا نضيف همس اتن ا...\n",
              "2        الهم اشرح صدورنا بالقرءان الهم نور قبورنا بالق...\n",
              "3        الصراحه انا مش عارفه اتعاطف معاها هى دلعها انا...\n",
              "4                        اريد عمل اناسايق اريد عمل اناسايق\n",
              "                               ...                        \n",
              "23819    مرسى يعد رييسا لخروجه الشرعية وقراراته ثورية م...\n",
              "23820    والغاز مش مدعوم انسان؟ وماذا الاسمنت والحديد و...\n",
              "23821    اغلاق الساحات والميادين الكبرى لمنع صلاة العيد...\n",
              "23822    هتحبك صحتها النوم علشان تقولها بحبك هتحب صحت ن...\n",
              "23823    شى كتبته غلط شى حسبته غلط فى الامتحانات شي كتب...\n",
              "Name: tweet, Length: 23824, dtype: object"
            ]
          },
          "metadata": {},
          "execution_count": 94
        }
      ]
    },
    {
      "cell_type": "code",
      "source": [
        "test['tweet'] = test['tweet'].apply(lambda x:   data_cleaning(x))\n",
        "\n",
        "test.columns = ['tweet','class']\n",
        "\n",
        "test['tweet'].head(20)"
      ],
      "metadata": {
        "colab": {
          "base_uri": "https://localhost:8080/"
        },
        "id": "YJja-MdBR_xL",
        "outputId": "28880030-f08f-40d7-ec04-2490fea7507c"
      },
      "execution_count": 95,
      "outputs": [
        {
          "output_type": "stream",
          "name": "stderr",
          "text": [
            "/usr/local/lib/python3.7/dist-packages/ipykernel_launcher.py:19: DeprecationWarning: 'emoji.get_emoji_regexp()' is deprecated and will be removed in version 2.0.0. If you want to remove emoji from a string, consider the method emoji.replace_emoji(str, replace='').\n",
            "To hide this warning, pin/downgrade the package to 'emoji~=1.6.3'\n"
          ]
        },
        {
          "output_type": "execute_result",
          "data": {
            "text/plain": [
              "394     خاليه انا الحب فلاتخدعكم كتاباتى احبت شخص وفقد...\n",
              "1537                        انتي اسمك ايه ؟ انت اسم ايه ؟\n",
              "1451    بارك اله فيكم اخي شمالي … ربنا يستجيب دعاءكم ي...\n",
              "1165    صباحك ويومك جميل انشاءلهمرسي لذوقك يوم جميل ان...\n",
              "548     ايه خايف يقول وانا مش هقول الى حاسه انا بيه اي...\n",
              "646     مش الاولتراس شباب جامعي انا معايا عربجية حرفيا...\n",
              "2485    اخر الزمن مراقب عرص بيقولى مجبتش معاك مسطرة لي...\n",
              "2321    اله يمسي خاطرك بالسعاده يامسعد قلبي بحلو السوا...\n",
              "2469    القرانيه واضحه وخاصه قوله جمعهم اذا شاء قدير ا...\n",
              "1661    ذكريات حياتك مينفعش تقال لحد مش عشان غلط ، عيب...\n",
              "1343                         ان معي ربي سيهدين ان رب سيهد\n",
              "687     علمتني الحياه ان يعيشون الارض ملايكة بشر يصيبو...\n",
              "481     الحمد مستنية الامتحانات تيجى عشان الاجازة بقى ...\n",
              "1835                         ماشي امر افندم ماش امر افندم\n",
              "2532    اوقات بيعدي يومك لحظات تبه نفسك تعملها وتعدها ...\n",
              "365     افضل الصور اﻻرسناليه فى هشتاق جديد الكل ينزل ا...\n",
              "220     واحلي تحيه لاولاد بلدي اجمد ناس المصرين وصحابه...\n",
              "1906    فى مشكله فى نظام الاندوريد منذو قليل يتقفل حسا...\n",
              "1911    الهم اقض حاجتنا التى ﻻ نستطيع صياغتها فى دعاء ...\n",
              "1790    فكرة الى بيكتب بايو جميل ورود وصورته حاطتها عي...\n",
              "2594    الجو حلو النهارده وخاصه السطوح فى شمس حلوه بجد...\n",
              "2631    منك ياكحيلان اجل مانلومهم يلغون النصر منك ياكح...\n",
              "363                             وبينا معاد ❤️ وبي معاد ❤️\n",
              "2703      يارب صلي الهادي نبينا ❤️ يارب صل علي هاد نبي ❤️\n",
              "2104    اه اله انا المفروض ادخل موسوعة جينيس عشان استح...\n",
              "2456    حفلة افتاح الفلم القرمى حد خالص حفل افتاح فلم ...\n",
              "826                تكلمي مدى العيون سلمي تكلم مدي الع سلم\n",
              "1990                                          مرحبا مرحبء\n",
              "1579                                    ابو صلاح ابو صلاح\n",
              "639     ماهو انا بطلت الي شيلته تعبني نيك ماهو انا بطل...\n",
              "975     الحق بالجهل الفضل شلق يكتب علمت شييا وغابت عنك...\n",
              "325     انا مازكرتش بجنيه النهارده اعا انا مازكرتش بجن...\n",
              "169     انقلاب اية ربنا يقلب مصرانكم ان شاء اله انقلاب...\n",
              "888     الهم اغفر ولجميع امة المسلمين واشفي مرضانا ومر...\n",
              "327                                              اوكي اوك\n",
              "50      انا انا اليه راجعون طب مكن لينك المكتب الحقوقى...\n",
              "867     ياجدعان المحاسبة دى بنت وسخة واله ياجدع محاسب ...\n",
              "1881               دا بيضربه بالشلوط حكم دا يضرب شلوط حكم\n",
              "1162    كت بتوجيهي اضل بال ساعات ادرس فيزيا او كيميا ا...\n",
              "2214    تشيرشي انتقاله لميلان، بيفضل انتر عشان مانشيني...\n",
              "2529    الواحد بقي مبضون الناس الي حوله حاجة بق مبضون ...\n",
              "378     الهم انا عبدك وانا عهدك وعدك استطعت ابوء بنعمت...\n",
              "1030    السعوديون بداوا فقدان اتزانهم العصبي فشل مخطهم...\n",
              "2346    كنت اقول ان عندي شي يذكر سنة لكنها عرفتني جمعت...\n",
              "1363    كﻻ فجر ليبيا تبيلهم الناتو الاخر كﻻ هكي معش ين...\n",
              "2737    صاحب تويتر بيوزع فولورز عليهم امتحانات فلو مي ...\n",
              "1621    يارب اعرف اغش الدعوة دى مابيجليش قلب ادعيها يا...\n",
              "1184    كونا زمان اعز اصاحب وعشنا حبايب كونا زمان اعز ...\n",
              "2144    حاجة بستفز الناسالىبتقولكلاموهمامشقده حاج ستفز...\n",
              "635     انا عايزه انجح مذاكر مكن ؟ رساله الى السيسي ان...\n",
              "Name: tweet, dtype: object"
            ]
          },
          "metadata": {},
          "execution_count": 95
        }
      ]
    },
    {
      "cell_type": "code",
      "source": [
        "run_models(LinearSVC(), alg_name, analyzer= \"char\", ngram=6)\n",
        "        "
      ],
      "metadata": {
        "colab": {
          "base_uri": "https://localhost:8080/"
        },
        "id": "hSaPZ4lpc6i8",
        "outputId": "74181e87-597d-451b-cfcd-d630a5739c70"
      },
      "execution_count": 96,
      "outputs": [
        {
          "output_type": "stream",
          "name": "stdout",
          "text": [
            "classifier: LinearSVC\n",
            "------------------------------------\n",
            "The results accuracy on the training data 0.9868200134318335\n",
            "The Cross validation Accuracy is 0.7413098589117642, The F1-score is 0.7313054773513221\n",
            "The Results on test data\n",
            "accuracy: \n",
            "0.6310679611650486\n",
            "f1_score: \n",
            "0.613162600978536\n"
          ]
        }
      ]
    },
    {
      "cell_type": "markdown",
      "source": [
        "It seems We reached an end to machine learning algorithm we will try get better results using Deep Learning"
      ],
      "metadata": {
        "id": "n1kmybGHd60T"
      }
    },
    {
      "cell_type": "markdown",
      "source": [
        "## Best results \n",
        "#accuracy 0.63\n",
        "#f1-score 0.62"
      ],
      "metadata": {
        "id": "gFAXWrwrf0da"
      }
    },
    {
      "cell_type": "markdown",
      "source": [
        "#AS the difference between the dev and the Test is very large that suggestes that, they have a different distribution so we will not use extral data in the DL approach.\n"
      ],
      "metadata": {
        "id": "spIHyeomnCPP"
      }
    }
  ]
}