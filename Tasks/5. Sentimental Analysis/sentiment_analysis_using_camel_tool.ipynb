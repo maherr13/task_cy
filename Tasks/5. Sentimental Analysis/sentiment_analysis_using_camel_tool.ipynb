{
  "nbformat": 4,
  "nbformat_minor": 0,
  "metadata": {
    "colab": {
      "name": "Untitled35.ipynb",
      "provenance": []
    },
    "kernelspec": {
      "name": "python3",
      "display_name": "Python 3"
    },
    "language_info": {
      "name": "python"
    }
  },
  "cells": [
    {
      "cell_type": "markdown",
      "source": [
        "#Our last trial will be by using a pretrained end point"
      ],
      "metadata": {
        "id": "UZ9xv9w0j6Qi"
      }
    },
    {
      "cell_type": "markdown",
      "source": [
        "## installing packages and dataset\n",
        "\n"
      ],
      "metadata": {
        "id": "j5XWW-FykGTb"
      }
    },
    {
      "cell_type": "code",
      "source": [
        "!pip install transformers"
      ],
      "metadata": {
        "colab": {
          "base_uri": "https://localhost:8080/"
        },
        "id": "o3gTrudWdWUT",
        "outputId": "8b180d9f-e671-4440-b048-516535b1fa82"
      },
      "execution_count": 31,
      "outputs": [
        {
          "output_type": "stream",
          "name": "stdout",
          "text": [
            "Requirement already satisfied: transformers in /usr/local/lib/python3.7/dist-packages (4.17.0)\n",
            "Requirement already satisfied: tokenizers!=0.11.3,>=0.11.1 in /usr/local/lib/python3.7/dist-packages (from transformers) (0.11.6)\n",
            "Requirement already satisfied: numpy>=1.17 in /usr/local/lib/python3.7/dist-packages (from transformers) (1.21.5)\n",
            "Requirement already satisfied: huggingface-hub<1.0,>=0.1.0 in /usr/local/lib/python3.7/dist-packages (from transformers) (0.4.0)\n",
            "Requirement already satisfied: tqdm>=4.27 in /usr/local/lib/python3.7/dist-packages (from transformers) (4.63.0)\n",
            "Requirement already satisfied: regex!=2019.12.17 in /usr/local/lib/python3.7/dist-packages (from transformers) (2019.12.20)\n",
            "Requirement already satisfied: sacremoses in /usr/local/lib/python3.7/dist-packages (from transformers) (0.0.47)\n",
            "Requirement already satisfied: filelock in /usr/local/lib/python3.7/dist-packages (from transformers) (3.6.0)\n",
            "Requirement already satisfied: pyyaml>=5.1 in /usr/local/lib/python3.7/dist-packages (from transformers) (6.0)\n",
            "Requirement already satisfied: packaging>=20.0 in /usr/local/lib/python3.7/dist-packages (from transformers) (21.3)\n",
            "Requirement already satisfied: importlib-metadata in /usr/local/lib/python3.7/dist-packages (from transformers) (4.11.2)\n",
            "Requirement already satisfied: requests in /usr/local/lib/python3.7/dist-packages (from transformers) (2.23.0)\n",
            "Requirement already satisfied: typing-extensions>=3.7.4.3 in /usr/local/lib/python3.7/dist-packages (from huggingface-hub<1.0,>=0.1.0->transformers) (3.10.0.2)\n",
            "Requirement already satisfied: pyparsing!=3.0.5,>=2.0.2 in /usr/local/lib/python3.7/dist-packages (from packaging>=20.0->transformers) (3.0.7)\n",
            "Requirement already satisfied: zipp>=0.5 in /usr/local/lib/python3.7/dist-packages (from importlib-metadata->transformers) (3.7.0)\n",
            "Requirement already satisfied: idna<3,>=2.5 in /usr/local/lib/python3.7/dist-packages (from requests->transformers) (2.10)\n",
            "Requirement already satisfied: chardet<4,>=3.0.2 in /usr/local/lib/python3.7/dist-packages (from requests->transformers) (3.0.4)\n",
            "Requirement already satisfied: urllib3!=1.25.0,!=1.25.1,<1.26,>=1.21.1 in /usr/local/lib/python3.7/dist-packages (from requests->transformers) (1.24.3)\n",
            "Requirement already satisfied: certifi>=2017.4.17 in /usr/local/lib/python3.7/dist-packages (from requests->transformers) (2021.10.8)\n",
            "Requirement already satisfied: click in /usr/local/lib/python3.7/dist-packages (from sacremoses->transformers) (7.1.2)\n",
            "Requirement already satisfied: six in /usr/local/lib/python3.7/dist-packages (from sacremoses->transformers) (1.15.0)\n",
            "Requirement already satisfied: joblib in /usr/local/lib/python3.7/dist-packages (from sacremoses->transformers) (1.1.0)\n"
          ]
        }
      ]
    },
    {
      "cell_type": "code",
      "source": [
        "#downlaod the dataset\n",
        "!gdown --id 1ewF8bx1KBLZTTeKWg4v5hzpo-cfHdy1O -O /content/CY_data.txt"
      ],
      "metadata": {
        "colab": {
          "base_uri": "https://localhost:8080/"
        },
        "id": "Cm_7VMHFdkyM",
        "outputId": "f7173c24-a909-47e1-f2da-011dcb426d2f"
      },
      "execution_count": 32,
      "outputs": [
        {
          "output_type": "stream",
          "name": "stdout",
          "text": [
            "Downloading...\n",
            "From: https://drive.google.com/uc?id=1ewF8bx1KBLZTTeKWg4v5hzpo-cfHdy1O\n",
            "To: /content/CY_data.txt\n",
            "\r  0% 0.00/345k [00:00<?, ?B/s]\r100% 345k/345k [00:00<00:00, 12.6MB/s]\n"
          ]
        }
      ]
    },
    {
      "cell_type": "code",
      "source": [
        "# creatig the dataframe\n",
        "import pandas as pd \n",
        "df = pd.read_csv(\"/content/CY_data.txt\")"
      ],
      "metadata": {
        "id": "Ztl6PCO9dwJ7"
      },
      "execution_count": 33,
      "outputs": []
    },
    {
      "cell_type": "markdown",
      "source": [
        "#Doing inference on our data and store it in list"
      ],
      "metadata": {
        "id": "8uUpowCrkbCx"
      }
    },
    {
      "cell_type": "code",
      "source": [
        "labels = []"
      ],
      "metadata": {
        "id": "clks1CzQeSHk"
      },
      "execution_count": 34,
      "outputs": []
    },
    {
      "cell_type": "code",
      "execution_count": 35,
      "metadata": {
        "id": "fFx67XA8dSfM"
      },
      "outputs": [],
      "source": [
        "# preparing the pipeline for the inference \n",
        "from transformers import pipeline\n",
        "sa = pipeline('text-classification', model='CAMeL-Lab/bert-base-arabic-camelbert-da-sentiment')\n",
        "\n",
        "for i in range(len(df)):\n",
        "  sentences = [df['tweet'][i]]\n",
        "  labels.append(sa(sentences)[0]['label'])\n"
      ]
    },
    {
      "cell_type": "code",
      "source": [
        "#maping values so that they can match\n",
        "dic = {'pos' : 'positive', 'neg' : 'negative', 'neu' : 'neutral'}\n",
        "\n",
        "df['class'] = df['class'].map(dic)"
      ],
      "metadata": {
        "id": "m7vvUsgog38r"
      },
      "execution_count": 36,
      "outputs": []
    },
    {
      "cell_type": "code",
      "source": [
        "df['class']"
      ],
      "metadata": {
        "colab": {
          "base_uri": "https://localhost:8080/"
        },
        "id": "vfRqc-h5hZMi",
        "outputId": "8d317ffb-188d-46bb-8dae-df0f6db4ca95"
      },
      "execution_count": 37,
      "outputs": [
        {
          "output_type": "execute_result",
          "data": {
            "text/plain": [
              "0       negative\n",
              "1       positive\n",
              "2       positive\n",
              "3       negative\n",
              "4       negative\n",
              "          ...   \n",
              "2741     neutral\n",
              "2742     neutral\n",
              "2743    positive\n",
              "2744    negative\n",
              "2745     neutral\n",
              "Name: class, Length: 2746, dtype: object"
            ]
          },
          "metadata": {},
          "execution_count": 37
        }
      ]
    },
    {
      "cell_type": "markdown",
      "source": [
        "#printing the results"
      ],
      "metadata": {
        "id": "TNsgtY9vmEZh"
      }
    },
    {
      "cell_type": "code",
      "source": [
        "from sklearn.metrics import classification_report, f1_score, accuracy_score\n",
        "import numpy as np"
      ],
      "metadata": {
        "id": "0Pwd8vXxdY8A"
      },
      "execution_count": 38,
      "outputs": []
    },
    {
      "cell_type": "code",
      "source": [
        "print(\"accuracy: \")\n",
        "accuracy_score(labels, df['class'])"
      ],
      "metadata": {
        "colab": {
          "base_uri": "https://localhost:8080/"
        },
        "id": "i2LU2Blphjv1",
        "outputId": "47b32f3f-20af-4877-d3f0-b56466341440"
      },
      "execution_count": 39,
      "outputs": [
        {
          "output_type": "stream",
          "name": "stdout",
          "text": [
            "accuracy: \n"
          ]
        },
        {
          "output_type": "execute_result",
          "data": {
            "text/plain": [
              "0.7061179898033503"
            ]
          },
          "metadata": {},
          "execution_count": 39
        }
      ]
    },
    {
      "cell_type": "code",
      "source": [
        "print(\"f1_score: \")\n",
        "f1_score(labels, df['class'], average='weighted')"
      ],
      "metadata": {
        "colab": {
          "base_uri": "https://localhost:8080/"
        },
        "id": "0zApV_dllogj",
        "outputId": "ba2e2b76-a359-4830-b464-09d2ee65689f"
      },
      "execution_count": 40,
      "outputs": [
        {
          "output_type": "stream",
          "name": "stdout",
          "text": [
            "f1_score: \n"
          ]
        },
        {
          "output_type": "execute_result",
          "data": {
            "text/plain": [
              "0.7112827647038775"
            ]
          },
          "metadata": {},
          "execution_count": 40
        }
      ]
    },
    {
      "cell_type": "markdown",
      "source": [
        "## As the max results we got was 72% from all of our notebooks we will check the dataset manually"
      ],
      "metadata": {
        "id": "bH15hYWQmL3h"
      }
    },
    {
      "cell_type": "code",
      "source": [
        ""
      ],
      "metadata": {
        "id": "yn7SedhLlqxJ"
      },
      "execution_count": 40,
      "outputs": []
    }
  ]
}